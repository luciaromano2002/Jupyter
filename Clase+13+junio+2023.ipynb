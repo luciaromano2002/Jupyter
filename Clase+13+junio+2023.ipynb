{
 "cells": [
  {
   "cell_type": "markdown",
   "id": "aa0105af",
   "metadata": {},
   "source": [
    "# Ejemplos de código día 13 de Julio de 2023"
   ]
  },
  {
   "cell_type": "code",
   "execution_count": 1,
   "id": "c3820a60",
   "metadata": {},
   "outputs": [
    {
     "data": {
      "text/plain": [
       "123"
      ]
     },
     "execution_count": 1,
     "metadata": {},
     "output_type": "execute_result"
    }
   ],
   "source": [
    "123 # literal de un número entero"
   ]
  },
  {
   "cell_type": "code",
   "execution_count": 2,
   "id": "8b4603bf",
   "metadata": {},
   "outputs": [
    {
     "data": {
      "text/plain": [
       "int"
      ]
     },
     "execution_count": 2,
     "metadata": {},
     "output_type": "execute_result"
    }
   ],
   "source": [
    "type(123)"
   ]
  },
  {
   "cell_type": "code",
   "execution_count": 3,
   "id": "55ee2849",
   "metadata": {},
   "outputs": [
    {
     "data": {
      "text/plain": [
       "1.25"
      ]
     },
     "execution_count": 3,
     "metadata": {},
     "output_type": "execute_result"
    }
   ],
   "source": [
    "1.25"
   ]
  },
  {
   "cell_type": "code",
   "execution_count": 4,
   "id": "1505adb7",
   "metadata": {},
   "outputs": [
    {
     "data": {
      "text/plain": [
       "float"
      ]
     },
     "execution_count": 4,
     "metadata": {},
     "output_type": "execute_result"
    }
   ],
   "source": [
    "type(1.25)"
   ]
  },
  {
   "cell_type": "code",
   "execution_count": 5,
   "id": "216a6d66",
   "metadata": {},
   "outputs": [
    {
     "data": {
      "text/plain": [
       "(1.2+3.5j)"
      ]
     },
     "execution_count": 5,
     "metadata": {},
     "output_type": "execute_result"
    }
   ],
   "source": [
    "1.2+3.5j"
   ]
  },
  {
   "cell_type": "code",
   "execution_count": 6,
   "id": "7d2e7b97",
   "metadata": {},
   "outputs": [
    {
     "data": {
      "text/plain": [
       "complex"
      ]
     },
     "execution_count": 6,
     "metadata": {},
     "output_type": "execute_result"
    }
   ],
   "source": [
    "type(1.2+3.5j)"
   ]
  },
  {
   "cell_type": "code",
   "execution_count": 7,
   "id": "a9bb7e83",
   "metadata": {},
   "outputs": [
    {
     "name": "stdout",
     "output_type": "stream",
     "text": [
      "1 2 3\n"
     ]
    }
   ],
   "source": [
    "print(1,2,3)"
   ]
  },
  {
   "cell_type": "code",
   "execution_count": 9,
   "id": "609ba985",
   "metadata": {},
   "outputs": [
    {
     "name": "stdout",
     "output_type": "stream",
     "text": [
      "Escribe un valor: 12\n"
     ]
    }
   ],
   "source": [
    "valor = input(\"Escribe un valor: \")"
   ]
  },
  {
   "cell_type": "code",
   "execution_count": 10,
   "id": "41a64d9f",
   "metadata": {},
   "outputs": [
    {
     "data": {
      "text/plain": [
       "'12'"
      ]
     },
     "execution_count": 10,
     "metadata": {},
     "output_type": "execute_result"
    }
   ],
   "source": [
    "valor"
   ]
  },
  {
   "cell_type": "code",
   "execution_count": 11,
   "id": "f0f9d3f4",
   "metadata": {},
   "outputs": [
    {
     "data": {
      "text/plain": [
       "str"
      ]
     },
     "execution_count": 11,
     "metadata": {},
     "output_type": "execute_result"
    }
   ],
   "source": [
    "type(valor)"
   ]
  },
  {
   "cell_type": "code",
   "execution_count": 13,
   "id": "27810087",
   "metadata": {},
   "outputs": [
    {
     "data": {
      "text/plain": [
       "12"
      ]
     },
     "execution_count": 13,
     "metadata": {},
     "output_type": "execute_result"
    }
   ],
   "source": [
    "int(valor)"
   ]
  },
  {
   "cell_type": "code",
   "execution_count": 14,
   "id": "54dd8c03",
   "metadata": {},
   "outputs": [
    {
     "data": {
      "text/plain": [
       "'4'"
      ]
     },
     "execution_count": 14,
     "metadata": {},
     "output_type": "execute_result"
    }
   ],
   "source": [
    "str(2+2)"
   ]
  },
  {
   "cell_type": "code",
   "execution_count": 16,
   "id": "d037d999",
   "metadata": {},
   "outputs": [
    {
     "data": {
      "text/plain": [
       "'hola12'"
      ]
     },
     "execution_count": 16,
     "metadata": {},
     "output_type": "execute_result"
    }
   ],
   "source": [
    "\"hola\" + str(valor)"
   ]
  },
  {
   "cell_type": "code",
   "execution_count": 17,
   "id": "8ddc2639",
   "metadata": {},
   "outputs": [
    {
     "data": {
      "text/plain": [
       "True"
      ]
     },
     "execution_count": 17,
     "metadata": {},
     "output_type": "execute_result"
    }
   ],
   "source": [
    "True"
   ]
  },
  {
   "cell_type": "code",
   "execution_count": 18,
   "id": "a87d6657",
   "metadata": {},
   "outputs": [
    {
     "data": {
      "text/plain": [
       "False"
      ]
     },
     "execution_count": 18,
     "metadata": {},
     "output_type": "execute_result"
    }
   ],
   "source": [
    "False"
   ]
  },
  {
   "cell_type": "code",
   "execution_count": 20,
   "id": "44ac57a7",
   "metadata": {},
   "outputs": [
    {
     "data": {
      "text/plain": [
       "bool"
      ]
     },
     "execution_count": 20,
     "metadata": {},
     "output_type": "execute_result"
    }
   ],
   "source": [
    "type(\"hola\" == 'hola')"
   ]
  },
  {
   "cell_type": "code",
   "execution_count": 24,
   "id": "ac7313a5",
   "metadata": {},
   "outputs": [
    {
     "name": "stdout",
     "output_type": "stream",
     "text": [
      "hola,HOLA\n"
     ]
    }
   ],
   "source": [
    "print(\"hola\", end=',')\n",
    "print(\"HOLA\")"
   ]
  },
  {
   "cell_type": "code",
   "execution_count": 33,
   "id": "e58eaf56",
   "metadata": {},
   "outputs": [
    {
     "name": "stdout",
     "output_type": "stream",
     "text": [
      "después del if\n"
     ]
    }
   ],
   "source": [
    "if int(valor) == 12:\n",
    "    pass\n",
    "print('después del if')"
   ]
  },
  {
   "cell_type": "code",
   "execution_count": 36,
   "id": "4020e9eb",
   "metadata": {},
   "outputs": [
    {
     "name": "stdout",
     "output_type": "stream",
     "text": [
      "Número: 4\n",
      "4 es par\n",
      "par\n"
     ]
    }
   ],
   "source": [
    "n = int(input(\"Número: \"))\n",
    "if (n % 2) == 0:\n",
    "    print(n,\"es par\")\n",
    "    print(\"par\")\n",
    "else:\n",
    "    print(n,\"es impar\")"
   ]
  },
  {
   "cell_type": "code",
   "execution_count": 37,
   "id": "2f5b90d0",
   "metadata": {},
   "outputs": [
    {
     "data": {
      "text/plain": [
       "5.0"
      ]
     },
     "execution_count": 37,
     "metadata": {},
     "output_type": "execute_result"
    }
   ],
   "source": [
    "25 ** 0.5"
   ]
  },
  {
   "cell_type": "code",
   "execution_count": 39,
   "id": "2a56b764",
   "metadata": {},
   "outputs": [],
   "source": [
    "a = 5"
   ]
  },
  {
   "cell_type": "code",
   "execution_count": 40,
   "id": "5fbe7b36",
   "metadata": {},
   "outputs": [
    {
     "data": {
      "text/plain": [
       "-5"
      ]
     },
     "execution_count": 40,
     "metadata": {},
     "output_type": "execute_result"
    }
   ],
   "source": [
    "-a"
   ]
  },
  {
   "cell_type": "code",
   "execution_count": 41,
   "id": "375fadaf",
   "metadata": {},
   "outputs": [
    {
     "data": {
      "text/plain": [
       "15"
      ]
     },
     "execution_count": 41,
     "metadata": {},
     "output_type": "execute_result"
    }
   ],
   "source": [
    "20-a"
   ]
  },
  {
   "cell_type": "code",
   "execution_count": 42,
   "id": "45531577",
   "metadata": {},
   "outputs": [],
   "source": [
    "a = None"
   ]
  },
  {
   "cell_type": "code",
   "execution_count": 43,
   "id": "b281b85a",
   "metadata": {},
   "outputs": [
    {
     "data": {
      "text/plain": [
       "NoneType"
      ]
     },
     "execution_count": 43,
     "metadata": {},
     "output_type": "execute_result"
    }
   ],
   "source": [
    "type(a)"
   ]
  },
  {
   "cell_type": "code",
   "execution_count": 45,
   "id": "3b0de768",
   "metadata": {},
   "outputs": [
    {
     "name": "stdout",
     "output_type": "stream",
     "text": [
      "hola\n"
     ]
    }
   ],
   "source": [
    "a = print(\"hola\")"
   ]
  },
  {
   "cell_type": "code",
   "execution_count": 46,
   "id": "33d36fa9",
   "metadata": {},
   "outputs": [
    {
     "name": "stdout",
     "output_type": "stream",
     "text": [
      "None\n"
     ]
    }
   ],
   "source": [
    "print(a)"
   ]
  },
  {
   "cell_type": "code",
   "execution_count": 47,
   "id": "d7dddea0",
   "metadata": {},
   "outputs": [],
   "source": [
    "a = \"gato\""
   ]
  },
  {
   "cell_type": "code",
   "execution_count": 50,
   "id": "ddc6d6f1",
   "metadata": {},
   "outputs": [
    {
     "data": {
      "text/plain": [
       "str"
      ]
     },
     "execution_count": 50,
     "metadata": {},
     "output_type": "execute_result"
    }
   ],
   "source": [
    "type(a[0])"
   ]
  },
  {
   "cell_type": "code",
   "execution_count": 51,
   "id": "a5647745",
   "metadata": {},
   "outputs": [
    {
     "data": {
      "text/plain": [
       "100"
      ]
     },
     "execution_count": 51,
     "metadata": {},
     "output_type": "execute_result"
    }
   ],
   "source": [
    "int(\"50\") + 50"
   ]
  },
  {
   "cell_type": "code",
   "execution_count": 53,
   "id": "2d7ddbec",
   "metadata": {},
   "outputs": [
    {
     "data": {
      "text/plain": [
       "'5050'"
      ]
     },
     "execution_count": 53,
     "metadata": {},
     "output_type": "execute_result"
    }
   ],
   "source": [
    "\"50\" + str(50)"
   ]
  },
  {
   "cell_type": "code",
   "execution_count": 54,
   "id": "54752958",
   "metadata": {},
   "outputs": [
    {
     "data": {
      "text/plain": [
       "'5050'"
      ]
     },
     "execution_count": 54,
     "metadata": {},
     "output_type": "execute_result"
    }
   ],
   "source": [
    "\"50\" + \"50\""
   ]
  },
  {
   "cell_type": "code",
   "execution_count": 56,
   "id": "46a45ae5",
   "metadata": {},
   "outputs": [
    {
     "data": {
      "text/plain": [
       "1000"
      ]
     },
     "execution_count": 56,
     "metadata": {},
     "output_type": "execute_result"
    }
   ],
   "source": [
    "int('1' + '0' + '0' + '0')"
   ]
  },
  {
   "cell_type": "code",
   "execution_count": 59,
   "id": "98a1613b",
   "metadata": {},
   "outputs": [
    {
     "name": "stdout",
     "output_type": "stream",
     "text": [
      "hola '5'\n"
     ]
    }
   ],
   "source": [
    "print(\"hola \\'5\\'\")"
   ]
  },
  {
   "cell_type": "code",
   "execution_count": 60,
   "id": "adaced20",
   "metadata": {},
   "outputs": [],
   "source": [
    "a = \"esto es una prueba\""
   ]
  },
  {
   "cell_type": "code",
   "execution_count": 63,
   "id": "928f1562",
   "metadata": {},
   "outputs": [
    {
     "data": {
      "text/plain": [
       "'es '"
      ]
     },
     "execution_count": 63,
     "metadata": {},
     "output_type": "execute_result"
    }
   ],
   "source": [
    "a[5:8]"
   ]
  },
  {
   "cell_type": "code",
   "execution_count": 64,
   "id": "80f9d569",
   "metadata": {},
   "outputs": [
    {
     "data": {
      "text/plain": [
       "'ESTO ES UNA PRUEBA'"
      ]
     },
     "execution_count": 64,
     "metadata": {},
     "output_type": "execute_result"
    }
   ],
   "source": [
    "a.upper()"
   ]
  },
  {
   "cell_type": "code",
   "execution_count": 71,
   "id": "6f311458",
   "metadata": {},
   "outputs": [
    {
     "name": "stdout",
     "output_type": "stream",
     "text": [
      "esto es una prueba\n"
     ]
    }
   ],
   "source": [
    "print(a)"
   ]
  },
  {
   "cell_type": "code",
   "execution_count": 72,
   "id": "5b0ce71e",
   "metadata": {},
   "outputs": [
    {
     "data": {
      "text/plain": [
       "'2'"
      ]
     },
     "execution_count": 72,
     "metadata": {},
     "output_type": "execute_result"
    }
   ],
   "source": [
    "b = '2'\n",
    "b.upper()"
   ]
  },
  {
   "cell_type": "code",
   "execution_count": 75,
   "id": "d3745218",
   "metadata": {},
   "outputs": [],
   "source": [
    "b = a.split()"
   ]
  },
  {
   "cell_type": "code",
   "execution_count": 76,
   "id": "d37b1945",
   "metadata": {},
   "outputs": [
    {
     "data": {
      "text/plain": [
       "['esto', 'es', 'una', 'prueba']"
      ]
     },
     "execution_count": 76,
     "metadata": {},
     "output_type": "execute_result"
    }
   ],
   "source": [
    "b"
   ]
  },
  {
   "cell_type": "code",
   "execution_count": 77,
   "id": "fdd538db",
   "metadata": {},
   "outputs": [
    {
     "data": {
      "text/plain": [
       "list"
      ]
     },
     "execution_count": 77,
     "metadata": {},
     "output_type": "execute_result"
    }
   ],
   "source": [
    "type(b)"
   ]
  },
  {
   "cell_type": "code",
   "execution_count": 78,
   "id": "706b73e3",
   "metadata": {},
   "outputs": [],
   "source": [
    "a = \"esto es, una prueba\""
   ]
  },
  {
   "cell_type": "code",
   "execution_count": 80,
   "id": "148f5bf9",
   "metadata": {},
   "outputs": [
    {
     "data": {
      "text/plain": [
       "['esto es', ' una prueba']"
      ]
     },
     "execution_count": 80,
     "metadata": {},
     "output_type": "execute_result"
    }
   ],
   "source": [
    "a.split(',') # llamar al método split sobre el objeto guardado en a usando argumento ','"
   ]
  },
  {
   "cell_type": "code",
   "execution_count": 81,
   "id": "23415f14",
   "metadata": {},
   "outputs": [
    {
     "name": "stdout",
     "output_type": "stream",
     "text": [
      "esto es, una prueba\n"
     ]
    }
   ],
   "source": [
    "print(a) # llamar a la función print usando a como argumento"
   ]
  },
  {
   "cell_type": "code",
   "execution_count": 86,
   "id": "34f20329",
   "metadata": {},
   "outputs": [
    {
     "data": {
      "text/plain": [
       "'esto es, una prueba'"
      ]
     },
     "execution_count": 86,
     "metadata": {},
     "output_type": "execute_result"
    }
   ],
   "source": [
    "a"
   ]
  },
  {
   "cell_type": "code",
   "execution_count": 88,
   "id": "c10f4ef6",
   "metadata": {},
   "outputs": [
    {
     "data": {
      "text/plain": [
       "True"
      ]
     },
     "execution_count": 88,
     "metadata": {},
     "output_type": "execute_result"
    }
   ],
   "source": [
    "'pru' in a"
   ]
  },
  {
   "cell_type": "code",
   "execution_count": 90,
   "id": "f37ca639",
   "metadata": {},
   "outputs": [
    {
     "ename": "ValueError",
     "evalue": "substring not found",
     "output_type": "error",
     "traceback": [
      "\u001b[1;31m---------------------------------------------------------------------------\u001b[0m",
      "\u001b[1;31mValueError\u001b[0m                                Traceback (most recent call last)",
      "Cell \u001b[1;32mIn[90], line 1\u001b[0m\n\u001b[1;32m----> 1\u001b[0m \u001b[43ma\u001b[49m\u001b[38;5;241;43m.\u001b[39;49m\u001b[43mindex\u001b[49m\u001b[43m(\u001b[49m\u001b[38;5;124;43m'\u001b[39;49m\u001b[38;5;124;43mdos\u001b[39;49m\u001b[38;5;124;43m'\u001b[39;49m\u001b[43m)\u001b[49m\n",
      "\u001b[1;31mValueError\u001b[0m: substring not found"
     ]
    }
   ],
   "source": [
    "a.index('dos')"
   ]
  },
  {
   "cell_type": "code",
   "execution_count": 91,
   "id": "61dbe49f",
   "metadata": {},
   "outputs": [
    {
     "data": {
      "text/plain": [
       "False"
      ]
     },
     "execution_count": 91,
     "metadata": {},
     "output_type": "execute_result"
    }
   ],
   "source": [
    "'dos' in a"
   ]
  },
  {
   "cell_type": "code",
   "execution_count": 92,
   "id": "ea06bc4e",
   "metadata": {},
   "outputs": [
    {
     "data": {
      "text/plain": [
       "True"
      ]
     },
     "execution_count": 92,
     "metadata": {},
     "output_type": "execute_result"
    }
   ],
   "source": [
    "not ('dos' in a)"
   ]
  },
  {
   "cell_type": "code",
   "execution_count": 93,
   "id": "c2452ba4",
   "metadata": {},
   "outputs": [
    {
     "data": {
      "text/plain": [
       "True"
      ]
     },
     "execution_count": 93,
     "metadata": {},
     "output_type": "execute_result"
    }
   ],
   "source": [
    "'dos' not in a"
   ]
  },
  {
   "cell_type": "code",
   "execution_count": 96,
   "id": "3ff3c671",
   "metadata": {},
   "outputs": [
    {
     "data": {
      "text/plain": [
       "'esto es, una prueba'"
      ]
     },
     "execution_count": 96,
     "metadata": {},
     "output_type": "execute_result"
    }
   ],
   "source": [
    "a"
   ]
  },
  {
   "cell_type": "code",
   "execution_count": 97,
   "id": "d6b31260",
   "metadata": {},
   "outputs": [
    {
     "data": {
      "text/plain": [
       "2"
      ]
     },
     "execution_count": 97,
     "metadata": {},
     "output_type": "execute_result"
    }
   ],
   "source": [
    "a.count('es')"
   ]
  },
  {
   "cell_type": "code",
   "execution_count": 98,
   "id": "401a9cb6",
   "metadata": {},
   "outputs": [
    {
     "data": {
      "text/plain": [
       "'e'"
      ]
     },
     "execution_count": 98,
     "metadata": {},
     "output_type": "execute_result"
    }
   ],
   "source": [
    "a[0]"
   ]
  },
  {
   "cell_type": "code",
   "execution_count": 101,
   "id": "03fa8b11",
   "metadata": {},
   "outputs": [
    {
     "data": {
      "text/plain": [
       "19"
      ]
     },
     "execution_count": 101,
     "metadata": {},
     "output_type": "execute_result"
    }
   ],
   "source": [
    "len(a)"
   ]
  },
  {
   "cell_type": "code",
   "execution_count": 102,
   "id": "0fbdda32",
   "metadata": {},
   "outputs": [
    {
     "data": {
      "text/plain": [
       "'a'"
      ]
     },
     "execution_count": 102,
     "metadata": {},
     "output_type": "execute_result"
    }
   ],
   "source": [
    "a[18]"
   ]
  },
  {
   "cell_type": "code",
   "execution_count": 104,
   "id": "a6167bcd",
   "metadata": {},
   "outputs": [
    {
     "data": {
      "text/plain": [
       "'a'"
      ]
     },
     "execution_count": 104,
     "metadata": {},
     "output_type": "execute_result"
    }
   ],
   "source": [
    "a[-1]"
   ]
  },
  {
   "cell_type": "code",
   "execution_count": 105,
   "id": "6c989cac",
   "metadata": {},
   "outputs": [
    {
     "data": {
      "text/plain": [
       "'e'"
      ]
     },
     "execution_count": 105,
     "metadata": {},
     "output_type": "execute_result"
    }
   ],
   "source": [
    "a[-19]"
   ]
  },
  {
   "cell_type": "code",
   "execution_count": 106,
   "id": "2322bd13",
   "metadata": {},
   "outputs": [
    {
     "ename": "IndexError",
     "evalue": "string index out of range",
     "output_type": "error",
     "traceback": [
      "\u001b[1;31m---------------------------------------------------------------------------\u001b[0m",
      "\u001b[1;31mIndexError\u001b[0m                                Traceback (most recent call last)",
      "Cell \u001b[1;32mIn[106], line 1\u001b[0m\n\u001b[1;32m----> 1\u001b[0m \u001b[43ma\u001b[49m\u001b[43m[\u001b[49m\u001b[38;5;241;43m-\u001b[39;49m\u001b[38;5;241;43m20\u001b[39;49m\u001b[43m]\u001b[49m\n",
      "\u001b[1;31mIndexError\u001b[0m: string index out of range"
     ]
    }
   ],
   "source": [
    "a[-20]"
   ]
  },
  {
   "cell_type": "code",
   "execution_count": 111,
   "id": "c367e440",
   "metadata": {},
   "outputs": [],
   "source": [
    "a=\"hello\"\n",
    "b='world'"
   ]
  },
  {
   "cell_type": "code",
   "execution_count": 112,
   "id": "87730e5b",
   "metadata": {},
   "outputs": [
    {
     "name": "stdout",
     "output_type": "stream",
     "text": [
      "helloworld\n"
     ]
    }
   ],
   "source": [
    "print(a+b)"
   ]
  },
  {
   "cell_type": "code",
   "execution_count": 113,
   "id": "c6fdb98d",
   "metadata": {},
   "outputs": [],
   "source": [
    "a=5\n",
    "b=7"
   ]
  },
  {
   "cell_type": "code",
   "execution_count": 114,
   "id": "a53e758b",
   "metadata": {},
   "outputs": [
    {
     "name": "stdout",
     "output_type": "stream",
     "text": [
      "12\n"
     ]
    }
   ],
   "source": [
    "print(a+b)"
   ]
  },
  {
   "cell_type": "code",
   "execution_count": 116,
   "id": "1c23edc0",
   "metadata": {},
   "outputs": [],
   "source": [
    "del a"
   ]
  },
  {
   "cell_type": "code",
   "execution_count": 117,
   "id": "5729cfe3",
   "metadata": {},
   "outputs": [
    {
     "ename": "NameError",
     "evalue": "name 'a' is not defined",
     "output_type": "error",
     "traceback": [
      "\u001b[1;31m---------------------------------------------------------------------------\u001b[0m",
      "\u001b[1;31mNameError\u001b[0m                                 Traceback (most recent call last)",
      "Cell \u001b[1;32mIn[117], line 1\u001b[0m\n\u001b[1;32m----> 1\u001b[0m \u001b[43ma\u001b[49m\n",
      "\u001b[1;31mNameError\u001b[0m: name 'a' is not defined"
     ]
    }
   ],
   "source": [
    "a"
   ]
  },
  {
   "cell_type": "code",
   "execution_count": 118,
   "id": "6215fe96",
   "metadata": {},
   "outputs": [],
   "source": [
    "a = 5"
   ]
  },
  {
   "cell_type": "code",
   "execution_count": 119,
   "id": "2eb12bc2",
   "metadata": {},
   "outputs": [
    {
     "data": {
      "text/plain": [
       "5"
      ]
     },
     "execution_count": 119,
     "metadata": {},
     "output_type": "execute_result"
    }
   ],
   "source": [
    "a"
   ]
  },
  {
   "cell_type": "code",
   "execution_count": 120,
   "id": "5c7e87e9",
   "metadata": {},
   "outputs": [],
   "source": [
    "a = a+1"
   ]
  },
  {
   "cell_type": "code",
   "execution_count": 122,
   "id": "8d49bd10",
   "metadata": {},
   "outputs": [
    {
     "data": {
      "text/plain": [
       "6"
      ]
     },
     "execution_count": 122,
     "metadata": {},
     "output_type": "execute_result"
    }
   ],
   "source": [
    "a"
   ]
  },
  {
   "cell_type": "code",
   "execution_count": 124,
   "id": "d3ae89c5",
   "metadata": {},
   "outputs": [],
   "source": [
    "x,y = 10,20"
   ]
  },
  {
   "cell_type": "code",
   "execution_count": 127,
   "id": "abeeca70",
   "metadata": {},
   "outputs": [
    {
     "data": {
      "text/plain": [
       "10"
      ]
     },
     "execution_count": 127,
     "metadata": {},
     "output_type": "execute_result"
    }
   ],
   "source": [
    "x"
   ]
  },
  {
   "cell_type": "code",
   "execution_count": 128,
   "id": "80ee94d8",
   "metadata": {},
   "outputs": [
    {
     "data": {
      "text/plain": [
       "20"
      ]
     },
     "execution_count": 128,
     "metadata": {},
     "output_type": "execute_result"
    }
   ],
   "source": [
    "y"
   ]
  },
  {
   "cell_type": "code",
   "execution_count": 129,
   "id": "b4070aad",
   "metadata": {},
   "outputs": [],
   "source": [
    "tmp = x # intercambiar los valores de x e y usando una variable auxiliar\n",
    "x = y\n",
    "y = tmp"
   ]
  },
  {
   "cell_type": "code",
   "execution_count": 130,
   "id": "4ac62129",
   "metadata": {},
   "outputs": [
    {
     "data": {
      "text/plain": [
       "(20, 10)"
      ]
     },
     "execution_count": 130,
     "metadata": {},
     "output_type": "execute_result"
    }
   ],
   "source": [
    "x,y"
   ]
  },
  {
   "cell_type": "code",
   "execution_count": 131,
   "id": "10cd0803",
   "metadata": {},
   "outputs": [],
   "source": [
    "x,y = y,x # hacer uso de la asignación simultánea para intercambiar las 2 variables"
   ]
  },
  {
   "cell_type": "code",
   "execution_count": 132,
   "id": "07d90cf5",
   "metadata": {},
   "outputs": [
    {
     "data": {
      "text/plain": [
       "(10, 20)"
      ]
     },
     "execution_count": 132,
     "metadata": {},
     "output_type": "execute_result"
    }
   ],
   "source": [
    "x,y"
   ]
  },
  {
   "cell_type": "code",
   "execution_count": 133,
   "id": "d5ab874d",
   "metadata": {},
   "outputs": [],
   "source": [
    "x = x+1"
   ]
  },
  {
   "cell_type": "code",
   "execution_count": 134,
   "id": "c5d54920",
   "metadata": {},
   "outputs": [],
   "source": [
    "x += 1 # abreviatura de x=x+1"
   ]
  },
  {
   "cell_type": "code",
   "execution_count": 135,
   "id": "87de136e",
   "metadata": {},
   "outputs": [],
   "source": [
    "x = x*2"
   ]
  },
  {
   "cell_type": "markdown",
   "id": "0584ac2b",
   "metadata": {},
   "source": [
    "# ejercicio slide 234 sobre teorema de Pitágoras"
   ]
  },
  {
   "cell_type": "code",
   "execution_count": 141,
   "id": "f261ec2b",
   "metadata": {},
   "outputs": [
    {
     "name": "stdout",
     "output_type": "stream",
     "text": [
      "a: 3\n",
      "b: 4\n",
      "la hipotenusa de un triángulo rectángulo de catetos 3.0 y 4.0 es 5.0\n",
      "la hipotenusa de un triángulo rectángulo de catetos 3.0 y 4.0 es 5.0\n"
     ]
    }
   ],
   "source": [
    "a = float(input('a: '))\n",
    "b = float(input('b: '))\n",
    "c = (a**2 + b**2)**0.5\n",
    "print('la hipotenusa de un triángulo rectángulo de catetos',a,'y',b,'es',c)\n",
    "print(f'la hipotenusa de un triángulo rectángulo de catetos {a} y {b} es {c}')"
   ]
  },
  {
   "cell_type": "markdown",
   "id": "e00d07a4",
   "metadata": {},
   "source": [
    "# ver si un año es bisiesto"
   ]
  },
  {
   "cell_type": "code",
   "execution_count": 147,
   "id": "25a73d6f",
   "metadata": {},
   "outputs": [
    {
     "name": "stdout",
     "output_type": "stream",
     "text": [
      "Año: 2000\n",
      "2000 es bisiesto\n"
     ]
    }
   ],
   "source": [
    "a = int(input(\"Año: \"))\n",
    "\n",
    "if (a % 4 == 0 and a % 100 != 0) or (a % 400 == 0):\n",
    "    print(a,\"es bisiesto\")\n",
    "else:\n",
    "    print(a,\"no es bisiesto\")"
   ]
  },
  {
   "cell_type": "code",
   "execution_count": 148,
   "id": "a5952f2d",
   "metadata": {},
   "outputs": [],
   "source": [
    "def divisible(a,b):\n",
    "    return a % b == 0"
   ]
  },
  {
   "cell_type": "code",
   "execution_count": 149,
   "id": "7be53c15",
   "metadata": {},
   "outputs": [
    {
     "data": {
      "text/plain": [
       "True"
      ]
     },
     "execution_count": 149,
     "metadata": {},
     "output_type": "execute_result"
    }
   ],
   "source": [
    "divisible(12,3)"
   ]
  },
  {
   "cell_type": "code",
   "execution_count": 150,
   "id": "d285fcfc",
   "metadata": {},
   "outputs": [
    {
     "data": {
      "text/plain": [
       "False"
      ]
     },
     "execution_count": 150,
     "metadata": {},
     "output_type": "execute_result"
    }
   ],
   "source": [
    "divisible(20,3)"
   ]
  },
  {
   "cell_type": "code",
   "execution_count": 153,
   "id": "71cb1f3a",
   "metadata": {},
   "outputs": [],
   "source": [
    "def bisiesto(a):\n",
    "    return (divisible(a,4) and not divisible(a,100)) or divisible(a,400)"
   ]
  },
  {
   "cell_type": "code",
   "execution_count": 154,
   "id": "e3f85998",
   "metadata": {},
   "outputs": [
    {
     "name": "stdout",
     "output_type": "stream",
     "text": [
      "Año: 1993\n",
      "1993 no es bisiesto\n"
     ]
    }
   ],
   "source": [
    "a = int(input(\"Año: \"))\n",
    "\n",
    "if bisiesto(a):\n",
    "    print(a,\"es bisiesto\")\n",
    "else:\n",
    "    print(a,\"no es bisiesto\")"
   ]
  },
  {
   "cell_type": "code",
   "execution_count": 156,
   "id": "d2145781",
   "metadata": {},
   "outputs": [
    {
     "name": "stdout",
     "output_type": "stream",
     "text": [
      "True\n",
      "False\n"
     ]
    }
   ],
   "source": [
    "print(bisiesto(2004))\n",
    "print(bisiesto(2005))"
   ]
  },
  {
   "cell_type": "code",
   "execution_count": 159,
   "id": "c1d3951a",
   "metadata": {},
   "outputs": [
    {
     "name": "stdout",
     "output_type": "stream",
     "text": [
      "rango válido\n"
     ]
    }
   ],
   "source": [
    "n = 150\n",
    "if 0 <= n <= 200: # python permite escribir así, en otros lenguajes (C,Java,...) no es válido\n",
    "    print(\"rango válido\")\n",
    "    \n",
    "if (0 <= n) and (n <= 200): # en python, java, etc. es válido\n",
    "    print(\"rango válido\")    "
   ]
  },
  {
   "cell_type": "markdown",
   "id": "5758cc4d",
   "metadata": {},
   "source": [
    "# ejercicio"
   ]
  },
  {
   "cell_type": "code",
   "execution_count": 161,
   "id": "a9136ad3",
   "metadata": {},
   "outputs": [
    {
     "name": "stdout",
     "output_type": "stream",
     "text": [
      "Nombre y nota, separado por una coma:María, 9.4\n"
     ]
    }
   ],
   "source": [
    "i = input('Nombre y nota, separado por una coma:')"
   ]
  },
  {
   "cell_type": "code",
   "execution_count": 164,
   "id": "128f3850",
   "metadata": {},
   "outputs": [],
   "source": [
    "i = i.split(',')"
   ]
  },
  {
   "cell_type": "code",
   "execution_count": 165,
   "id": "a4beddd2",
   "metadata": {},
   "outputs": [
    {
     "data": {
      "text/plain": [
       "['María', ' 9.4']"
      ]
     },
     "execution_count": 165,
     "metadata": {},
     "output_type": "execute_result"
    }
   ],
   "source": [
    "i"
   ]
  },
  {
   "cell_type": "code",
   "execution_count": 167,
   "id": "a86d9917",
   "metadata": {},
   "outputs": [],
   "source": [
    "nombre = i[0]"
   ]
  },
  {
   "cell_type": "code",
   "execution_count": 169,
   "id": "76d738c5",
   "metadata": {},
   "outputs": [],
   "source": [
    "nota = float(i[1])"
   ]
  },
  {
   "cell_type": "code",
   "execution_count": 170,
   "id": "b49d3de1",
   "metadata": {},
   "outputs": [
    {
     "data": {
      "text/plain": [
       "9.4"
      ]
     },
     "execution_count": 170,
     "metadata": {},
     "output_type": "execute_result"
    }
   ],
   "source": [
    "nota"
   ]
  },
  {
   "cell_type": "code",
   "execution_count": 174,
   "id": "26ab2a2f",
   "metadata": {},
   "outputs": [],
   "source": [
    "def numero_a_nota(nota): \n",
    "    if nota < 5:\n",
    "        resultado = 'suspenso'\n",
    "    elif nota < 7:\n",
    "        resultado = 'aprobado'\n",
    "    elif nota < 9:\n",
    "        resultado = 'notable'\n",
    "    elif nota != 10:\n",
    "        resultado = 'sobresaliente'\n",
    "    else:\n",
    "        resultado = 'MH'\n",
    "    return resultado"
   ]
  },
  {
   "cell_type": "code",
   "execution_count": 179,
   "id": "f5484fb2",
   "metadata": {},
   "outputs": [
    {
     "name": "stdout",
     "output_type": "stream",
     "text": [
      "Escribe el nombre: Juan\n",
      "¿Qué nota ha sacado Juan? 5.7\n",
      "Juan ha sacado aprobado\n"
     ]
    }
   ],
   "source": [
    "nombre = input(\"Escribe el nombre: \")\n",
    "# nota = float(input(\"¿Qué nota ha sacado \" + nombre + \"? \"))\n",
    "nota = float(input(f\"¿Qué nota ha sacado {nombre}? \"))\n",
    "\n",
    "print(nombre,\"ha sacado\",numero_a_nota(nota))"
   ]
  },
  {
   "cell_type": "code",
   "execution_count": 175,
   "id": "b28a7758",
   "metadata": {},
   "outputs": [
    {
     "data": {
      "text/plain": [
       "'sobresaliente'"
      ]
     },
     "execution_count": 175,
     "metadata": {},
     "output_type": "execute_result"
    }
   ],
   "source": [
    "numero_a_nota(9.2)"
   ]
  },
  {
   "cell_type": "markdown",
   "id": "22a3d8af",
   "metadata": {},
   "source": [
    "# Lotería"
   ]
  },
  {
   "cell_type": "code",
   "execution_count": 189,
   "id": "d2edde20",
   "metadata": {},
   "outputs": [
    {
     "name": "stdout",
     "output_type": "stream",
     "text": [
      "Escribe 3 dígitos separados por un espacio: 9 3 2\n",
      "Has ganado la lotería\n"
     ]
    }
   ],
   "source": [
    "# sin importar el orden\n",
    "digitos = input(\"Escribe 3 dígitos separados por un espacio: \").split()\n",
    "if '2' in digitos and '3' in digitos and '9' in digitos:\n",
    "    print(\"Has ganado la lotería\")"
   ]
  },
  {
   "cell_type": "code",
   "execution_count": 192,
   "id": "34033093",
   "metadata": {},
   "outputs": [
    {
     "name": "stdout",
     "output_type": "stream",
     "text": [
      "Escribe 3 dígitos separados por un espacio: 239\n",
      "No lo has separado por espacios ['239']\n",
      "['2', '3', '9']\n",
      "Has ganado la lotería\n"
     ]
    }
   ],
   "source": [
    "# el orden importa, ha de ser 2, 3, 9 en ese orden\n",
    "digitos = input(\"Escribe 3 dígitos separados por un espacio: \").split()\n",
    "if len(digitos) == 1:\n",
    "    print(\"No lo has separado por espacios\",digitos)\n",
    "    digitos = [digitos[0][0], digitos[0][1], digitos[0][2]]\n",
    "    print(digitos)\n",
    "if digitos == ['2','3','9']:\n",
    "    print(\"Has ganado la lotería\")"
   ]
  },
  {
   "cell_type": "code",
   "execution_count": 195,
   "id": "4490cab4",
   "metadata": {},
   "outputs": [
    {
     "name": "stdout",
     "output_type": "stream",
     "text": [
      "Escribe 3 dígitos (opcional separados por espacios): 239\n",
      "No lo has separado por espacios 239\n",
      "['2', '3', '9']\n",
      "Has ganado la lotería\n"
     ]
    }
   ],
   "source": [
    "# el orden importa, ha de ser 2, 3, 9 en ese orden\n",
    "digitos = input(\"Escribe 3 dígitos (opcional separados por espacios): \")\n",
    "if ' ' in digitos:\n",
    "    digitos = digitos.split()\n",
    "else:\n",
    "    print(\"No lo has separado por espacios\",digitos)\n",
    "    digitos = [digitos[0], digitos[1], digitos[2]]\n",
    "    print(digitos)\n",
    "if digitos == ['2','3','9']:\n",
    "    print(\"Has ganado la lotería\")"
   ]
  },
  {
   "cell_type": "markdown",
   "id": "83244d0e",
   "metadata": {},
   "source": [
    "# ejercicios"
   ]
  },
  {
   "cell_type": "code",
   "execution_count": 199,
   "id": "238e418e",
   "metadata": {},
   "outputs": [
    {
     "name": "stdout",
     "output_type": "stream",
     "text": [
      "Escribe el nombre: Lucía\n",
      "¿Qué nota ha sacado Lucía? -1\n",
      "Te has equivocado al introducir la nota\n",
      "¿Qué nota ha sacado Lucía? 12\n",
      "Te has equivocado al introducir la nota\n",
      "¿Qué nota ha sacado Lucía? -1\n",
      "Te has equivocado al introducir la nota\n",
      "¿Qué nota ha sacado Lucía? 12\n",
      "Te has equivocado al introducir la nota\n",
      "¿Qué nota ha sacado Lucía? 12\n",
      "Te has equivocado al introducir la nota\n",
      "¿Qué nota ha sacado Lucía? 12\n",
      "Te has equivocado al introducir la nota\n",
      "¿Qué nota ha sacado Lucía? 12\n",
      "Te has equivocado al introducir la nota\n",
      "¿Qué nota ha sacado Lucía? 9.3\n",
      "Lucía ha sacado sobresaliente\n"
     ]
    }
   ],
   "source": [
    "nombre = input(\"Escribe el nombre: \")\n",
    "# nota = float(input(\"¿Qué nota ha sacado \" + nombre + \"? \"))\n",
    "nota = float(input(f\"¿Qué nota ha sacado {nombre}? \"))\n",
    "while not (0 <= nota <= 10):\n",
    "    print(\"Te has equivocado al introducir la nota\")\n",
    "    nota = float(input(f\"¿Qué nota ha sacado {nombre}? \"))\n",
    "\n",
    "print(nombre,\"ha sacado\",numero_a_nota(nota))"
   ]
  },
  {
   "cell_type": "code",
   "execution_count": 200,
   "id": "f39c877e",
   "metadata": {},
   "outputs": [
    {
     "name": "stdout",
     "output_type": "stream",
     "text": [
      "Elije piedra, papel o tijera:Papel\n",
      "No es una opción válida\n"
     ]
    }
   ],
   "source": [
    "jug1 = input('Elije piedra, papel o tijera:')\n",
    "if jug1 not in ['piedra','papel','tijera']:\n",
    "    print(\"No es una opción válida\")"
   ]
  },
  {
   "cell_type": "code",
   "execution_count": 201,
   "id": "6b9d7239",
   "metadata": {},
   "outputs": [
    {
     "name": "stdout",
     "output_type": "stream",
     "text": [
      "Elije piedra, papel o tijera:pedra\n",
      "No es una opción válida\n",
      "Elije piedra, papel o tijera:pietra\n",
      "No es una opción válida\n",
      "Elije piedra, papel o tijera:Piedra\n",
      "No es una opción válida\n",
      "Elije piedra, papel o tijera:piedra\n"
     ]
    }
   ],
   "source": [
    "jug1 = input('Elije piedra, papel o tijera:')\n",
    "while jug1 not in ['piedra','papel','tijera']:\n",
    "    print(\"No es una opción válida\")\n",
    "    jug1 = input('Elije piedra, papel o tijera:')"
   ]
  },
  {
   "cell_type": "code",
   "execution_count": 206,
   "id": "3e1ff0b6",
   "metadata": {},
   "outputs": [],
   "source": [
    "def pedir(quien):\n",
    "    opcion = input(quien+': elije piedra, papel o tijera:')\n",
    "    while opcion not in ['piedra','papel','tijera']:\n",
    "        print(\"Opción incorrecta\")\n",
    "        opcion = input(quien+': elije piedra, papel o tijera:')\n",
    "    return opcion"
   ]
  },
  {
   "cell_type": "code",
   "execution_count": 207,
   "id": "7157a05b",
   "metadata": {},
   "outputs": [
    {
     "name": "stdout",
     "output_type": "stream",
     "text": [
      "Jugador 1: elije piedra, papel o tijera:piedraa\n",
      "Opción incorrecta\n",
      "Jugador 1: elije piedra, papel o tijera:jitera\n",
      "Opción incorrecta\n",
      "Jugador 1: elije piedra, papel o tijera:piedra\n",
      "Jugador 2: elije piedra, papel o tijera:paaapel\n",
      "Opción incorrecta\n",
      "Jugador 2: elije piedra, papel o tijera:papel\n",
      "Gana el jugador 2\n"
     ]
    }
   ],
   "source": [
    "jug1 = pedir('Jugador 1')\n",
    "jug2 = pedir('Jugador 2')\n",
    "if jug1 == jug2:\n",
    "    print(\"Empatan\")\n",
    "elif (jug1,jug2) in (('piedra','tijera'),\n",
    "                     ('tijera','papel'),\n",
    "                     ('papel','piedra')):\n",
    "    print(\"Gana el jugador 1\")\n",
    "else:\n",
    "    print(\"Gana el jugador 2\")"
   ]
  },
  {
   "cell_type": "code",
   "execution_count": 212,
   "id": "54fdb7eb",
   "metadata": {},
   "outputs": [
    {
     "name": "stdout",
     "output_type": "stream",
     "text": [
      "Introduce la edad: 25\n",
      "Adulto\n"
     ]
    }
   ],
   "source": [
    "edad = int(input('Introduce la edad: '))\n",
    "if 20 <= edad:\n",
    "    print(\"Adulto\")\n",
    "if 10 <= edad < 20:\n",
    "    print(\"Joven\")\n",
    "if edad < 10:\n",
    "    print(\"Niño\")"
   ]
  },
  {
   "cell_type": "code",
   "execution_count": 215,
   "id": "4acd61a2",
   "metadata": {},
   "outputs": [
    {
     "name": "stdout",
     "output_type": "stream",
     "text": [
      "Introduce la edad: 12\n",
      "Joven\n"
     ]
    }
   ],
   "source": [
    "edad = int(input('Introduce la edad: '))\n",
    "if 20 <= edad:\n",
    "    print(\"Adulto\")\n",
    "elif 10 <= edad:\n",
    "    print(\"Joven\")\n",
    "else:\n",
    "    print(\"Niño\")"
   ]
  },
  {
   "cell_type": "markdown",
   "id": "dd62ca90",
   "metadata": {},
   "source": [
    "# Random"
   ]
  },
  {
   "cell_type": "code",
   "execution_count": 216,
   "id": "429f1ba3",
   "metadata": {},
   "outputs": [],
   "source": [
    "import random"
   ]
  },
  {
   "cell_type": "code",
   "execution_count": 235,
   "id": "9df50d75",
   "metadata": {},
   "outputs": [
    {
     "name": "stdout",
     "output_type": "stream",
     "text": [
      "Elije entre Left, Middle, Right: Middle\n",
      "Offense failed\n"
     ]
    }
   ],
   "source": [
    "choices = ['Left','Middle','Right']\n",
    "computer_choice = random.choice(choices)\n",
    "user_choice = input('Elije entre ' +', '.join(choices)+\": \")\n",
    "if user_choice == computer_choice:\n",
    "    print(\"Offense failed\")\n",
    "else:\n",
    "    print(\"Congrats\")"
   ]
  },
  {
   "cell_type": "code",
   "execution_count": 227,
   "id": "218c44bd",
   "metadata": {},
   "outputs": [
    {
     "data": {
      "text/plain": [
       "['Left', 'Middle', 'Right']"
      ]
     },
     "execution_count": 227,
     "metadata": {},
     "output_type": "execute_result"
    }
   ],
   "source": [
    "choices"
   ]
  },
  {
   "cell_type": "code",
   "execution_count": 228,
   "id": "3733f5e1",
   "metadata": {},
   "outputs": [
    {
     "data": {
      "text/plain": [
       "list"
      ]
     },
     "execution_count": 228,
     "metadata": {},
     "output_type": "execute_result"
    }
   ],
   "source": [
    "type(choices)"
   ]
  },
  {
   "cell_type": "code",
   "execution_count": 229,
   "id": "3f9d6405",
   "metadata": {},
   "outputs": [
    {
     "data": {
      "text/plain": [
       "\"['Left', 'Middle', 'Right']\""
      ]
     },
     "execution_count": 229,
     "metadata": {},
     "output_type": "execute_result"
    }
   ],
   "source": [
    "str(choices)"
   ]
  },
  {
   "cell_type": "code",
   "execution_count": 230,
   "id": "9d49a8b3",
   "metadata": {},
   "outputs": [
    {
     "data": {
      "text/plain": [
       "['Left', 'Middle', 'Right']"
      ]
     },
     "execution_count": 230,
     "metadata": {},
     "output_type": "execute_result"
    }
   ],
   "source": [
    "\"Left Middle Right\".split()"
   ]
  },
  {
   "cell_type": "code",
   "execution_count": 231,
   "id": "ad2745a5",
   "metadata": {},
   "outputs": [
    {
     "data": {
      "text/plain": [
       "'Left, Middle, Right'"
      ]
     },
     "execution_count": 231,
     "metadata": {},
     "output_type": "execute_result"
    }
   ],
   "source": [
    "', '.join(choices)"
   ]
  },
  {
   "cell_type": "code",
   "execution_count": 232,
   "id": "d6ab7ff2",
   "metadata": {},
   "outputs": [
    {
     "data": {
      "text/plain": [
       "'Left Middle Right'"
      ]
     },
     "execution_count": 232,
     "metadata": {},
     "output_type": "execute_result"
    }
   ],
   "source": [
    "' '.join(choices)"
   ]
  },
  {
   "cell_type": "markdown",
   "id": "3a029ca3",
   "metadata": {},
   "source": [
    "# adivinar"
   ]
  },
  {
   "cell_type": "code",
   "execution_count": 252,
   "id": "e82069b0",
   "metadata": {},
   "outputs": [
    {
     "name": "stdout",
     "output_type": "stream",
     "text": [
      "17\n",
      "(1 intento) Escribe un número entre 1 y 100: 20\n",
      "El número secreto es menor\n",
      "(2 intento) Escribe un número entre 1 y 100: 17\n",
      "Enhorabuena, has acertado!\n"
     ]
    }
   ],
   "source": [
    "secreto = random.randint(1,100)\n",
    "intentos = 0\n",
    "gano = False\n",
    "while intentos < 3 and not gano:\n",
    "    intentos = intentos + 1\n",
    "    n = int(input(f\"({intentos} intento) Escribe un número entre 1 y 100: \"))\n",
    "    if n < secreto:\n",
    "        print(\"El número secreto es mayor\")\n",
    "    elif n > secreto:\n",
    "        print(\"El número secreto es menor\")\n",
    "    else:\n",
    "        print(\"Enhorabuena, has acertado!\")\n",
    "        gano = True\n",
    "if not gano:\n",
    "    print(\"Has perdido. El número era\",secreto)"
   ]
  },
  {
   "cell_type": "code",
   "execution_count": 241,
   "id": "27bf3ba2",
   "metadata": {},
   "outputs": [
    {
     "data": {
      "text/plain": [
       "63"
      ]
     },
     "execution_count": 241,
     "metadata": {},
     "output_type": "execute_result"
    }
   ],
   "source": [
    "secreto"
   ]
  },
  {
   "cell_type": "code",
   "execution_count": 244,
   "id": "b840819f",
   "metadata": {},
   "outputs": [
    {
     "data": {
      "text/plain": [
       "9"
      ]
     },
     "execution_count": 244,
     "metadata": {},
     "output_type": "execute_result"
    }
   ],
   "source": [
    "random.randint(1,100)"
   ]
  },
  {
   "cell_type": "code",
   "execution_count": null,
   "id": "f71d1544",
   "metadata": {},
   "outputs": [],
   "source": []
  }
 ],
 "metadata": {
  "kernelspec": {
   "display_name": "Python 3 (ipykernel)",
   "language": "python",
   "name": "python3"
  },
  "language_info": {
   "codemirror_mode": {
    "name": "ipython",
    "version": 3
   },
   "file_extension": ".py",
   "mimetype": "text/x-python",
   "name": "python",
   "nbconvert_exporter": "python",
   "pygments_lexer": "ipython3",
   "version": "3.10.11"
  }
 },
 "nbformat": 4,
 "nbformat_minor": 5
}
