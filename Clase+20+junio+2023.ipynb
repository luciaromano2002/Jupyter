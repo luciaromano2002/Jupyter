{
 "cells": [
  {
   "cell_type": "markdown",
   "id": "5671808f",
   "metadata": {},
   "source": [
    "#### Unidad 11"
   ]
  },
  {
   "cell_type": "code",
   "execution_count": 1,
   "id": "22cf6444",
   "metadata": {},
   "outputs": [],
   "source": [
    "lst = [1,2,3,4]"
   ]
  },
  {
   "cell_type": "code",
   "execution_count": 2,
   "id": "445c013f",
   "metadata": {},
   "outputs": [
    {
     "data": {
      "text/plain": [
       "1"
      ]
     },
     "execution_count": 2,
     "metadata": {},
     "output_type": "execute_result"
    }
   ],
   "source": [
    "lst[0]"
   ]
  },
  {
   "cell_type": "code",
   "execution_count": 10,
   "id": "0b40769b",
   "metadata": {},
   "outputs": [],
   "source": [
    "dic = {0:1, 1:2, 2:3, 2:4}"
   ]
  },
  {
   "cell_type": "code",
   "execution_count": 4,
   "id": "e4d26418",
   "metadata": {},
   "outputs": [
    {
     "data": {
      "text/plain": [
       "1"
      ]
     },
     "execution_count": 4,
     "metadata": {},
     "output_type": "execute_result"
    }
   ],
   "source": [
    "dic[0]"
   ]
  },
  {
   "cell_type": "code",
   "execution_count": 6,
   "id": "175f6cd1",
   "metadata": {},
   "outputs": [
    {
     "data": {
      "text/plain": [
       "[0, 1, 2]"
      ]
     },
     "execution_count": 6,
     "metadata": {},
     "output_type": "execute_result"
    }
   ],
   "source": [
    "list(dic.keys())"
   ]
  },
  {
   "cell_type": "code",
   "execution_count": 7,
   "id": "42332859",
   "metadata": {},
   "outputs": [
    {
     "data": {
      "text/plain": [
       "[0, 1, 2]"
      ]
     },
     "execution_count": 7,
     "metadata": {},
     "output_type": "execute_result"
    }
   ],
   "source": [
    "list(dic)"
   ]
  },
  {
   "cell_type": "code",
   "execution_count": 8,
   "id": "52810ba8",
   "metadata": {},
   "outputs": [
    {
     "data": {
      "text/plain": [
       "[1, 2, 3]"
      ]
     },
     "execution_count": 8,
     "metadata": {},
     "output_type": "execute_result"
    }
   ],
   "source": [
    "list(dic.values())"
   ]
  },
  {
   "cell_type": "code",
   "execution_count": 11,
   "id": "799cc471",
   "metadata": {},
   "outputs": [
    {
     "data": {
      "text/plain": [
       "[(0, 1), (1, 2), (2, 4)]"
      ]
     },
     "execution_count": 11,
     "metadata": {},
     "output_type": "execute_result"
    }
   ],
   "source": [
    "list(dic.items())"
   ]
  },
  {
   "cell_type": "code",
   "execution_count": 12,
   "id": "f022a31e",
   "metadata": {},
   "outputs": [
    {
     "data": {
      "text/plain": [
       "[1, 2, 3, 4]"
      ]
     },
     "execution_count": 12,
     "metadata": {},
     "output_type": "execute_result"
    }
   ],
   "source": [
    "lst"
   ]
  },
  {
   "cell_type": "code",
   "execution_count": 13,
   "id": "1864def7",
   "metadata": {},
   "outputs": [
    {
     "data": {
      "text/plain": [
       "1"
      ]
     },
     "execution_count": 13,
     "metadata": {},
     "output_type": "execute_result"
    }
   ],
   "source": [
    "lst.pop(0)"
   ]
  },
  {
   "cell_type": "code",
   "execution_count": 14,
   "id": "5657816b",
   "metadata": {},
   "outputs": [
    {
     "data": {
      "text/plain": [
       "[2, 3, 4]"
      ]
     },
     "execution_count": 14,
     "metadata": {},
     "output_type": "execute_result"
    }
   ],
   "source": [
    "lst"
   ]
  },
  {
   "cell_type": "code",
   "execution_count": 15,
   "id": "cfb4a7a1",
   "metadata": {},
   "outputs": [
    {
     "data": {
      "text/plain": [
       "{0: 1, 1: 2, 2: 4}"
      ]
     },
     "execution_count": 15,
     "metadata": {},
     "output_type": "execute_result"
    }
   ],
   "source": [
    "dic"
   ]
  },
  {
   "cell_type": "code",
   "execution_count": 16,
   "id": "0473c8e1",
   "metadata": {},
   "outputs": [
    {
     "data": {
      "text/plain": [
       "1"
      ]
     },
     "execution_count": 16,
     "metadata": {},
     "output_type": "execute_result"
    }
   ],
   "source": [
    "dic.pop(0)"
   ]
  },
  {
   "cell_type": "code",
   "execution_count": 17,
   "id": "52c1f074",
   "metadata": {},
   "outputs": [
    {
     "data": {
      "text/plain": [
       "{1: 2, 2: 4}"
      ]
     },
     "execution_count": 17,
     "metadata": {},
     "output_type": "execute_result"
    }
   ],
   "source": [
    "dic"
   ]
  },
  {
   "cell_type": "code",
   "execution_count": 18,
   "id": "f7ad7a98",
   "metadata": {},
   "outputs": [
    {
     "ename": "KeyError",
     "evalue": "0",
     "output_type": "error",
     "traceback": [
      "\u001b[1;31m---------------------------------------------------------------------------\u001b[0m",
      "\u001b[1;31mKeyError\u001b[0m                                  Traceback (most recent call last)",
      "Cell \u001b[1;32mIn[18], line 1\u001b[0m\n\u001b[1;32m----> 1\u001b[0m \u001b[43mdic\u001b[49m\u001b[38;5;241;43m.\u001b[39;49m\u001b[43mpop\u001b[49m\u001b[43m(\u001b[49m\u001b[38;5;241;43m0\u001b[39;49m\u001b[43m)\u001b[49m\n",
      "\u001b[1;31mKeyError\u001b[0m: 0"
     ]
    }
   ],
   "source": [
    "dic.pop(0)"
   ]
  },
  {
   "cell_type": "code",
   "execution_count": 19,
   "id": "b51ae65e",
   "metadata": {},
   "outputs": [
    {
     "data": {
      "text/plain": [
       "[2, 3, 4]"
      ]
     },
     "execution_count": 19,
     "metadata": {},
     "output_type": "execute_result"
    }
   ],
   "source": [
    "lst"
   ]
  },
  {
   "cell_type": "code",
   "execution_count": 20,
   "id": "7259df50",
   "metadata": {},
   "outputs": [
    {
     "data": {
      "text/plain": [
       "2"
      ]
     },
     "execution_count": 20,
     "metadata": {},
     "output_type": "execute_result"
    }
   ],
   "source": [
    "lst.pop(0)"
   ]
  },
  {
   "cell_type": "code",
   "execution_count": 21,
   "id": "31907fc4",
   "metadata": {},
   "outputs": [
    {
     "data": {
      "text/plain": [
       "3"
      ]
     },
     "execution_count": 21,
     "metadata": {},
     "output_type": "execute_result"
    }
   ],
   "source": [
    "lst.pop(-2)"
   ]
  },
  {
   "cell_type": "code",
   "execution_count": 22,
   "id": "1416835b",
   "metadata": {},
   "outputs": [
    {
     "data": {
      "text/plain": [
       "[4]"
      ]
     },
     "execution_count": 22,
     "metadata": {},
     "output_type": "execute_result"
    }
   ],
   "source": [
    "lst"
   ]
  },
  {
   "cell_type": "code",
   "execution_count": 23,
   "id": "fa377a12",
   "metadata": {},
   "outputs": [],
   "source": [
    "lst.extend([1,2,3])"
   ]
  },
  {
   "cell_type": "code",
   "execution_count": 24,
   "id": "0c414f06",
   "metadata": {},
   "outputs": [
    {
     "data": {
      "text/plain": [
       "[4, 1, 2, 3]"
      ]
     },
     "execution_count": 24,
     "metadata": {},
     "output_type": "execute_result"
    }
   ],
   "source": [
    "lst"
   ]
  },
  {
   "cell_type": "code",
   "execution_count": 26,
   "id": "70be0c00",
   "metadata": {},
   "outputs": [],
   "source": [
    "lst = [1,2,3] + lst"
   ]
  },
  {
   "cell_type": "code",
   "execution_count": 28,
   "id": "09780411",
   "metadata": {},
   "outputs": [],
   "source": [
    "del lst[2]"
   ]
  },
  {
   "cell_type": "code",
   "execution_count": 29,
   "id": "87e49263",
   "metadata": {},
   "outputs": [
    {
     "data": {
      "text/plain": [
       "[1, 2, 4, 1, 2, 3]"
      ]
     },
     "execution_count": 29,
     "metadata": {},
     "output_type": "execute_result"
    }
   ],
   "source": [
    "lst"
   ]
  },
  {
   "cell_type": "code",
   "execution_count": 30,
   "id": "90637a6f",
   "metadata": {},
   "outputs": [],
   "source": [
    "del lst[-1]"
   ]
  },
  {
   "cell_type": "code",
   "execution_count": 31,
   "id": "d5c57736",
   "metadata": {},
   "outputs": [
    {
     "data": {
      "text/plain": [
       "[1, 2, 4, 1, 2]"
      ]
     },
     "execution_count": 31,
     "metadata": {},
     "output_type": "execute_result"
    }
   ],
   "source": [
    "lst"
   ]
  },
  {
   "cell_type": "code",
   "execution_count": 34,
   "id": "4bd5d6f7",
   "metadata": {},
   "outputs": [],
   "source": [
    "dic['a']=\"Hola\""
   ]
  },
  {
   "cell_type": "code",
   "execution_count": 35,
   "id": "c21ecd9f",
   "metadata": {},
   "outputs": [
    {
     "data": {
      "text/plain": [
       "{1: 2, 2: 4, 'a': 'Hola'}"
      ]
     },
     "execution_count": 35,
     "metadata": {},
     "output_type": "execute_result"
    }
   ],
   "source": [
    "dic"
   ]
  },
  {
   "cell_type": "code",
   "execution_count": 36,
   "id": "f49fcd1c",
   "metadata": {},
   "outputs": [],
   "source": [
    "del dic['a']"
   ]
  },
  {
   "cell_type": "code",
   "execution_count": 37,
   "id": "426512b5",
   "metadata": {},
   "outputs": [
    {
     "data": {
      "text/plain": [
       "{1: 2, 2: 4}"
      ]
     },
     "execution_count": 37,
     "metadata": {},
     "output_type": "execute_result"
    }
   ],
   "source": [
    "dic"
   ]
  },
  {
   "cell_type": "code",
   "execution_count": 38,
   "id": "1fc5d96d",
   "metadata": {},
   "outputs": [],
   "source": [
    "dic.clear()"
   ]
  },
  {
   "cell_type": "code",
   "execution_count": 39,
   "id": "a08dca10",
   "metadata": {},
   "outputs": [
    {
     "data": {
      "text/plain": [
       "{}"
      ]
     },
     "execution_count": 39,
     "metadata": {},
     "output_type": "execute_result"
    }
   ],
   "source": [
    "dic"
   ]
  },
  {
   "cell_type": "code",
   "execution_count": 40,
   "id": "24596501",
   "metadata": {},
   "outputs": [],
   "source": [
    "lst.clear()"
   ]
  },
  {
   "cell_type": "code",
   "execution_count": 41,
   "id": "f135c562",
   "metadata": {},
   "outputs": [
    {
     "data": {
      "text/plain": [
       "[]"
      ]
     },
     "execution_count": 41,
     "metadata": {},
     "output_type": "execute_result"
    }
   ],
   "source": [
    "lst"
   ]
  },
  {
   "cell_type": "markdown",
   "id": "421c2ed0",
   "metadata": {},
   "source": [
    "#### Q1: p147. Diccionario de productos"
   ]
  },
  {
   "cell_type": "code",
   "execution_count": 42,
   "id": "643473d2",
   "metadata": {},
   "outputs": [],
   "source": [
    "fruits_dic = {\"apple\": 6000, \"melon\": 3000, \"banana\": 5000, \"orange\":4000}"
   ]
  },
  {
   "cell_type": "code",
   "execution_count": 44,
   "id": "b6731b95",
   "metadata": {},
   "outputs": [
    {
     "name": "stdout",
     "output_type": "stream",
     "text": [
      "dict_keys(['apple', 'melon', 'banana', 'orange'])\n"
     ]
    }
   ],
   "source": [
    "print(fruits_dic.keys())"
   ]
  },
  {
   "cell_type": "code",
   "execution_count": 45,
   "id": "672c8b9f",
   "metadata": {},
   "outputs": [
    {
     "name": "stdout",
     "output_type": "stream",
     "text": [
      "apple is in fruits_dic\n"
     ]
    }
   ],
   "source": [
    "if \"apple\" in fruits_dic:\n",
    "    print(\"apple is in fruits_dic\")"
   ]
  },
  {
   "cell_type": "code",
   "execution_count": 46,
   "id": "c005ffae",
   "metadata": {},
   "outputs": [
    {
     "name": "stdout",
     "output_type": "stream",
     "text": [
      "mango is not in fruits_dic\n"
     ]
    }
   ],
   "source": [
    "if \"mango\" not in fruits_dic:\n",
    "    print(\"mango is not in fruits_dic\")"
   ]
  },
  {
   "cell_type": "markdown",
   "id": "38e90fef",
   "metadata": {},
   "source": [
    "### Unidad 12"
   ]
  },
  {
   "cell_type": "code",
   "execution_count": 47,
   "id": "8cdfe2b7",
   "metadata": {},
   "outputs": [],
   "source": [
    "lst = [1,2,3]"
   ]
  },
  {
   "cell_type": "code",
   "execution_count": 48,
   "id": "6825b418",
   "metadata": {},
   "outputs": [],
   "source": [
    "tpl = tuple(lst)"
   ]
  },
  {
   "cell_type": "code",
   "execution_count": 49,
   "id": "dfdfcf38",
   "metadata": {},
   "outputs": [
    {
     "data": {
      "text/plain": [
       "([1, 2, 3], (1, 2, 3))"
      ]
     },
     "execution_count": 49,
     "metadata": {},
     "output_type": "execute_result"
    }
   ],
   "source": [
    "lst, tpl"
   ]
  },
  {
   "cell_type": "code",
   "execution_count": 50,
   "id": "ab0d551a",
   "metadata": {},
   "outputs": [
    {
     "data": {
      "text/plain": [
       "True"
      ]
     },
     "execution_count": 50,
     "metadata": {},
     "output_type": "execute_result"
    }
   ],
   "source": [
    "2 in lst"
   ]
  },
  {
   "cell_type": "code",
   "execution_count": 51,
   "id": "ec86beea",
   "metadata": {},
   "outputs": [
    {
     "data": {
      "text/plain": [
       "True"
      ]
     },
     "execution_count": 51,
     "metadata": {},
     "output_type": "execute_result"
    }
   ],
   "source": [
    "2 in tpl"
   ]
  },
  {
   "cell_type": "code",
   "execution_count": 53,
   "id": "195d5e50",
   "metadata": {},
   "outputs": [],
   "source": [
    "rng = range(3, 10, 2)"
   ]
  },
  {
   "cell_type": "code",
   "execution_count": 54,
   "id": "789bb23e",
   "metadata": {},
   "outputs": [
    {
     "data": {
      "text/plain": [
       "False"
      ]
     },
     "execution_count": 54,
     "metadata": {},
     "output_type": "execute_result"
    }
   ],
   "source": [
    "4 in rng"
   ]
  },
  {
   "cell_type": "code",
   "execution_count": 55,
   "id": "86908f71",
   "metadata": {},
   "outputs": [
    {
     "data": {
      "text/plain": [
       "True"
      ]
     },
     "execution_count": 55,
     "metadata": {},
     "output_type": "execute_result"
    }
   ],
   "source": [
    "5 in rng"
   ]
  },
  {
   "cell_type": "code",
   "execution_count": 56,
   "id": "caf0966c",
   "metadata": {},
   "outputs": [],
   "source": [
    "cad = \"Hola Mundo\""
   ]
  },
  {
   "cell_type": "code",
   "execution_count": 57,
   "id": "573abb8b",
   "metadata": {},
   "outputs": [
    {
     "data": {
      "text/plain": [
       "True"
      ]
     },
     "execution_count": 57,
     "metadata": {},
     "output_type": "execute_result"
    }
   ],
   "source": [
    "\" \" in cad"
   ]
  },
  {
   "cell_type": "code",
   "execution_count": 58,
   "id": "c10c1cd5",
   "metadata": {},
   "outputs": [
    {
     "data": {
      "text/plain": [
       "True"
      ]
     },
     "execution_count": 58,
     "metadata": {},
     "output_type": "execute_result"
    }
   ],
   "source": [
    "\" Mun\" in cad"
   ]
  },
  {
   "cell_type": "code",
   "execution_count": 59,
   "id": "92cd8340",
   "metadata": {},
   "outputs": [
    {
     "ename": "TypeError",
     "evalue": "'in <string>' requires string as left operand, not int",
     "output_type": "error",
     "traceback": [
      "\u001b[1;31m---------------------------------------------------------------------------\u001b[0m",
      "\u001b[1;31mTypeError\u001b[0m                                 Traceback (most recent call last)",
      "Cell \u001b[1;32mIn[59], line 1\u001b[0m\n\u001b[1;32m----> 1\u001b[0m \u001b[38;5;241;43m3\u001b[39;49m\u001b[43m \u001b[49m\u001b[38;5;129;43;01min\u001b[39;49;00m\u001b[43m \u001b[49m\u001b[43mcad\u001b[49m\n",
      "\u001b[1;31mTypeError\u001b[0m: 'in <string>' requires string as left operand, not int"
     ]
    }
   ],
   "source": [
    "3 in cad"
   ]
  },
  {
   "cell_type": "code",
   "execution_count": 60,
   "id": "5650e0de",
   "metadata": {},
   "outputs": [
    {
     "data": {
      "text/plain": [
       "False"
      ]
     },
     "execution_count": 60,
     "metadata": {},
     "output_type": "execute_result"
    }
   ],
   "source": [
    "\" Mun\" in lst"
   ]
  },
  {
   "cell_type": "code",
   "execution_count": 61,
   "id": "a6cbac41",
   "metadata": {},
   "outputs": [
    {
     "data": {
      "text/plain": [
       "False"
      ]
     },
     "execution_count": 61,
     "metadata": {},
     "output_type": "execute_result"
    }
   ],
   "source": [
    "\" Mun\" in rng"
   ]
  },
  {
   "cell_type": "code",
   "execution_count": 62,
   "id": "cd6933f4",
   "metadata": {},
   "outputs": [
    {
     "data": {
      "text/plain": [
       "[1, 2, 3, 1, 23]"
      ]
     },
     "execution_count": 62,
     "metadata": {},
     "output_type": "execute_result"
    }
   ],
   "source": [
    "lst + [1,23]"
   ]
  },
  {
   "cell_type": "code",
   "execution_count": 65,
   "id": "7a7ae76d",
   "metadata": {},
   "outputs": [
    {
     "data": {
      "text/plain": [
       "[1, 2, 3]"
      ]
     },
     "execution_count": 65,
     "metadata": {},
     "output_type": "execute_result"
    }
   ],
   "source": [
    "lst"
   ]
  },
  {
   "cell_type": "code",
   "execution_count": 63,
   "id": "25164623",
   "metadata": {},
   "outputs": [
    {
     "ename": "TypeError",
     "evalue": "can only concatenate list (not \"int\") to list",
     "output_type": "error",
     "traceback": [
      "\u001b[1;31m---------------------------------------------------------------------------\u001b[0m",
      "\u001b[1;31mTypeError\u001b[0m                                 Traceback (most recent call last)",
      "Cell \u001b[1;32mIn[63], line 1\u001b[0m\n\u001b[1;32m----> 1\u001b[0m \u001b[43mlst\u001b[49m\u001b[43m \u001b[49m\u001b[38;5;241;43m+\u001b[39;49m\u001b[43m \u001b[49m\u001b[38;5;241;43m1\u001b[39;49m\n",
      "\u001b[1;31mTypeError\u001b[0m: can only concatenate list (not \"int\") to list"
     ]
    }
   ],
   "source": [
    "lst + 1"
   ]
  },
  {
   "cell_type": "code",
   "execution_count": 64,
   "id": "221fee54",
   "metadata": {},
   "outputs": [
    {
     "data": {
      "text/plain": [
       "[1, 2, 3, 1]"
      ]
     },
     "execution_count": 64,
     "metadata": {},
     "output_type": "execute_result"
    }
   ],
   "source": [
    "lst + [1]"
   ]
  },
  {
   "cell_type": "code",
   "execution_count": 66,
   "id": "483a70d4",
   "metadata": {},
   "outputs": [
    {
     "ename": "TypeError",
     "evalue": "unsupported operand type(s) for +: 'range' and 'range'",
     "output_type": "error",
     "traceback": [
      "\u001b[1;31m---------------------------------------------------------------------------\u001b[0m",
      "\u001b[1;31mTypeError\u001b[0m                                 Traceback (most recent call last)",
      "Cell \u001b[1;32mIn[66], line 1\u001b[0m\n\u001b[1;32m----> 1\u001b[0m \u001b[38;5;28;43mrange\u001b[39;49m\u001b[43m(\u001b[49m\u001b[38;5;241;43m2\u001b[39;49m\u001b[43m,\u001b[49m\u001b[38;5;241;43m10\u001b[39;49m\u001b[43m)\u001b[49m\u001b[43m \u001b[49m\u001b[38;5;241;43m+\u001b[39;49m\u001b[43m \u001b[49m\u001b[38;5;28;43mrange\u001b[39;49m\u001b[43m(\u001b[49m\u001b[38;5;241;43m0\u001b[39;49m\u001b[43m,\u001b[49m\u001b[43m \u001b[49m\u001b[38;5;241;43m10\u001b[39;49m\u001b[43m)\u001b[49m\n",
      "\u001b[1;31mTypeError\u001b[0m: unsupported operand type(s) for +: 'range' and 'range'"
     ]
    }
   ],
   "source": [
    "range(2,10) + range(0, 10)"
   ]
  },
  {
   "cell_type": "code",
   "execution_count": 67,
   "id": "562f3553",
   "metadata": {},
   "outputs": [
    {
     "data": {
      "text/plain": [
       "[2, 3, 4, 5, 6, 7, 8, 9, 0, 1, 2, 3, 4, 5, 6, 7, 8, 9]"
      ]
     },
     "execution_count": 67,
     "metadata": {},
     "output_type": "execute_result"
    }
   ],
   "source": [
    "list(range(2,10)) + list(range(0, 10))"
   ]
  },
  {
   "cell_type": "code",
   "execution_count": 69,
   "id": "0ca10947",
   "metadata": {},
   "outputs": [
    {
     "data": {
      "text/plain": [
       "'* * * * * * * * * * '"
      ]
     },
     "execution_count": 69,
     "metadata": {},
     "output_type": "execute_result"
    }
   ],
   "source": [
    "\"* \" * 10"
   ]
  },
  {
   "cell_type": "code",
   "execution_count": 70,
   "id": "5ef35c74",
   "metadata": {},
   "outputs": [
    {
     "data": {
      "text/plain": [
       "(1, 2, 3, 1, 2, 3, 1, 2, 3, 1, 2, 3, 1, 2, 3)"
      ]
     },
     "execution_count": 70,
     "metadata": {},
     "output_type": "execute_result"
    }
   ],
   "source": [
    "(1,2,3) * 5"
   ]
  },
  {
   "cell_type": "code",
   "execution_count": 72,
   "id": "586fa94f",
   "metadata": {},
   "outputs": [
    {
     "data": {
      "text/plain": [
       "[10, 8, 6, 4, 2, 0, 10, 8, 6, 4, 2, 0, 10, 8, 6, 4, 2, 0]"
      ]
     },
     "execution_count": 72,
     "metadata": {},
     "output_type": "execute_result"
    }
   ],
   "source": [
    "list(range(10, -1, -2)) * 3"
   ]
  },
  {
   "cell_type": "code",
   "execution_count": 73,
   "id": "f1840b21",
   "metadata": {},
   "outputs": [
    {
     "ename": "TypeError",
     "evalue": "can't multiply sequence by non-int of type 'list'",
     "output_type": "error",
     "traceback": [
      "\u001b[1;31m---------------------------------------------------------------------------\u001b[0m",
      "\u001b[1;31mTypeError\u001b[0m                                 Traceback (most recent call last)",
      "Cell \u001b[1;32mIn[73], line 1\u001b[0m\n\u001b[1;32m----> 1\u001b[0m \u001b[43m[\u001b[49m\u001b[38;5;241;43m1\u001b[39;49m\u001b[43m,\u001b[49m\u001b[38;5;241;43m2\u001b[39;49m\u001b[43m,\u001b[49m\u001b[38;5;241;43m3\u001b[39;49m\u001b[43m]\u001b[49m\u001b[43m \u001b[49m\u001b[38;5;241;43m*\u001b[39;49m\u001b[43m \u001b[49m\u001b[43m[\u001b[49m\u001b[38;5;241;43m4\u001b[39;49m\u001b[43m,\u001b[49m\u001b[38;5;241;43m5\u001b[39;49m\u001b[43m,\u001b[49m\u001b[38;5;241;43m6\u001b[39;49m\u001b[43m]\u001b[49m\n",
      "\u001b[1;31mTypeError\u001b[0m: can't multiply sequence by non-int of type 'list'"
     ]
    }
   ],
   "source": [
    "[1,2,3] * [4,5,6]"
   ]
  },
  {
   "cell_type": "code",
   "execution_count": 75,
   "id": "6645b1f1",
   "metadata": {},
   "outputs": [],
   "source": [
    "lst.append(3)"
   ]
  },
  {
   "cell_type": "code",
   "execution_count": 76,
   "id": "f3ebbf3b",
   "metadata": {},
   "outputs": [
    {
     "data": {
      "text/plain": [
       "[1, 2, 3, 3]"
      ]
     },
     "execution_count": 76,
     "metadata": {},
     "output_type": "execute_result"
    }
   ],
   "source": [
    "lst"
   ]
  },
  {
   "cell_type": "code",
   "execution_count": 77,
   "id": "0c7a1fc4",
   "metadata": {},
   "outputs": [],
   "source": [
    "lst.insert(1, 2)"
   ]
  },
  {
   "cell_type": "code",
   "execution_count": 79,
   "id": "b050a4b5",
   "metadata": {},
   "outputs": [],
   "source": [
    "lst.insert(1, -2)"
   ]
  },
  {
   "cell_type": "code",
   "execution_count": 80,
   "id": "80a27967",
   "metadata": {},
   "outputs": [
    {
     "data": {
      "text/plain": [
       "[1, -2, 2, 2, 3, 3]"
      ]
     },
     "execution_count": 80,
     "metadata": {},
     "output_type": "execute_result"
    }
   ],
   "source": [
    "lst"
   ]
  },
  {
   "cell_type": "code",
   "execution_count": 82,
   "id": "3a2ff66d",
   "metadata": {},
   "outputs": [
    {
     "data": {
      "text/plain": [
       "2"
      ]
     },
     "execution_count": 82,
     "metadata": {},
     "output_type": "execute_result"
    }
   ],
   "source": [
    "lst.count(2)"
   ]
  },
  {
   "cell_type": "code",
   "execution_count": 83,
   "id": "17679559",
   "metadata": {},
   "outputs": [
    {
     "data": {
      "text/plain": [
       "0"
      ]
     },
     "execution_count": 83,
     "metadata": {},
     "output_type": "execute_result"
    }
   ],
   "source": [
    "lst.count(5)"
   ]
  },
  {
   "cell_type": "code",
   "execution_count": 84,
   "id": "c625ff16",
   "metadata": {},
   "outputs": [],
   "source": [
    "rng = range(5, 8)"
   ]
  },
  {
   "cell_type": "code",
   "execution_count": 85,
   "id": "52afae77",
   "metadata": {},
   "outputs": [
    {
     "data": {
      "text/plain": [
       "6"
      ]
     },
     "execution_count": 85,
     "metadata": {},
     "output_type": "execute_result"
    }
   ],
   "source": [
    "rng[1]"
   ]
  },
  {
   "cell_type": "code",
   "execution_count": 88,
   "id": "9920edea",
   "metadata": {},
   "outputs": [
    {
     "data": {
      "text/plain": [
       "[5]"
      ]
     },
     "execution_count": 88,
     "metadata": {},
     "output_type": "execute_result"
    }
   ],
   "source": [
    "list(rng[:2:2])"
   ]
  },
  {
   "cell_type": "code",
   "execution_count": 89,
   "id": "0666e669",
   "metadata": {},
   "outputs": [],
   "source": [
    "nations = [\"Korea\", \"China\", \"Russia\", \"Malaysia\"]"
   ]
  },
  {
   "cell_type": "code",
   "execution_count": 90,
   "id": "1000fdaa",
   "metadata": {},
   "outputs": [
    {
     "data": {
      "text/plain": [
       "'Malaysia'"
      ]
     },
     "execution_count": 90,
     "metadata": {},
     "output_type": "execute_result"
    }
   ],
   "source": [
    "nations[len(nations)-1]"
   ]
  },
  {
   "cell_type": "code",
   "execution_count": 91,
   "id": "05f3aefa",
   "metadata": {},
   "outputs": [
    {
     "data": {
      "text/plain": [
       "'Malaysia'"
      ]
     },
     "execution_count": 91,
     "metadata": {},
     "output_type": "execute_result"
    }
   ],
   "source": [
    "nations[-1]"
   ]
  },
  {
   "cell_type": "code",
   "execution_count": 92,
   "id": "bfe769b0",
   "metadata": {},
   "outputs": [
    {
     "data": {
      "text/plain": [
       "97"
      ]
     },
     "execution_count": 92,
     "metadata": {},
     "output_type": "execute_result"
    }
   ],
   "source": [
    "ord(\"a\")"
   ]
  },
  {
   "cell_type": "code",
   "execution_count": 93,
   "id": "7531c0dc",
   "metadata": {},
   "outputs": [
    {
     "data": {
      "text/plain": [
       "65"
      ]
     },
     "execution_count": 93,
     "metadata": {},
     "output_type": "execute_result"
    }
   ],
   "source": [
    "ord(\"A\")"
   ]
  },
  {
   "cell_type": "code",
   "execution_count": 94,
   "id": "2548142e",
   "metadata": {},
   "outputs": [
    {
     "data": {
      "text/plain": [
       "False"
      ]
     },
     "execution_count": 94,
     "metadata": {},
     "output_type": "execute_result"
    }
   ],
   "source": [
    "\"a\" < \"A\""
   ]
  },
  {
   "cell_type": "code",
   "execution_count": 95,
   "id": "3818a423",
   "metadata": {},
   "outputs": [
    {
     "data": {
      "text/plain": [
       "False"
      ]
     },
     "execution_count": 95,
     "metadata": {},
     "output_type": "execute_result"
    }
   ],
   "source": [
    "ord(\"a\") < ord(\"A\")"
   ]
  },
  {
   "cell_type": "code",
   "execution_count": 96,
   "id": "69ec697f",
   "metadata": {},
   "outputs": [],
   "source": [
    "t1 = 'a', 'b', 'c'"
   ]
  },
  {
   "cell_type": "code",
   "execution_count": 97,
   "id": "0e4d4152",
   "metadata": {},
   "outputs": [],
   "source": [
    "t2 = ('a', 'b', 'c')"
   ]
  },
  {
   "cell_type": "code",
   "execution_count": 98,
   "id": "02ab4292",
   "metadata": {},
   "outputs": [],
   "source": [
    "t3 = ('d', 'e')"
   ]
  },
  {
   "cell_type": "markdown",
   "id": "9cf58e38",
   "metadata": {},
   "source": [
    "#### Q1: p192. Operadores"
   ]
  },
  {
   "cell_type": "code",
   "execution_count": 99,
   "id": "d222bd7c",
   "metadata": {},
   "outputs": [
    {
     "name": "stdout",
     "output_type": "stream",
     "text": [
      "True\n"
     ]
    }
   ],
   "source": [
    "print(t1 == t2)"
   ]
  },
  {
   "cell_type": "code",
   "execution_count": 100,
   "id": "0dd1eaff",
   "metadata": {},
   "outputs": [],
   "source": [
    "a, b = 2, 3"
   ]
  },
  {
   "cell_type": "code",
   "execution_count": 101,
   "id": "b802e725",
   "metadata": {},
   "outputs": [
    {
     "name": "stdout",
     "output_type": "stream",
     "text": [
      "False\n"
     ]
    }
   ],
   "source": [
    "print(t1 > t3)"
   ]
  },
  {
   "cell_type": "code",
   "execution_count": 102,
   "id": "749f1f9b",
   "metadata": {},
   "outputs": [
    {
     "data": {
      "text/plain": [
       "True"
      ]
     },
     "execution_count": 102,
     "metadata": {},
     "output_type": "execute_result"
    }
   ],
   "source": [
    "t1 < t3"
   ]
  },
  {
   "cell_type": "code",
   "execution_count": 103,
   "id": "1a176a63",
   "metadata": {},
   "outputs": [
    {
     "data": {
      "text/plain": [
       "('a', 'b', 'c', 'd', 'e')"
      ]
     },
     "execution_count": 103,
     "metadata": {},
     "output_type": "execute_result"
    }
   ],
   "source": [
    "t2 + t3"
   ]
  },
  {
   "cell_type": "code",
   "execution_count": 104,
   "id": "25191e14",
   "metadata": {},
   "outputs": [
    {
     "data": {
      "text/plain": [
       "[('a', 'b', 'c', 'd', 'e')]"
      ]
     },
     "execution_count": 104,
     "metadata": {},
     "output_type": "execute_result"
    }
   ],
   "source": [
    "[t2 + t3]"
   ]
  },
  {
   "cell_type": "code",
   "execution_count": 105,
   "id": "00b17764",
   "metadata": {},
   "outputs": [
    {
     "data": {
      "text/plain": [
       "('a', 'b', 'c')"
      ]
     },
     "execution_count": 105,
     "metadata": {},
     "output_type": "execute_result"
    }
   ],
   "source": [
    "t1"
   ]
  },
  {
   "cell_type": "code",
   "execution_count": 107,
   "id": "28cecead",
   "metadata": {},
   "outputs": [
    {
     "name": "stdout",
     "output_type": "stream",
     "text": [
      "a\n",
      "b\n",
      "c\n"
     ]
    }
   ],
   "source": [
    "for v in ('a', 'b', 'c'):\n",
    "    print(v)"
   ]
  },
  {
   "cell_type": "code",
   "execution_count": 108,
   "id": "2c48a580",
   "metadata": {},
   "outputs": [
    {
     "name": "stdout",
     "output_type": "stream",
     "text": [
      "a\n",
      "b\n",
      "c\n"
     ]
    }
   ],
   "source": [
    "tpl = ('a', 'b', 'c')\n",
    "\n",
    "for i in range(len(tpl)):\n",
    "    print(tpl[i])"
   ]
  },
  {
   "cell_type": "code",
   "execution_count": 109,
   "id": "e357298c",
   "metadata": {},
   "outputs": [
    {
     "data": {
      "text/plain": [
       "('100', '200')"
      ]
     },
     "execution_count": 109,
     "metadata": {},
     "output_type": "execute_result"
    }
   ],
   "source": [
    "(\"100\", \"200\")"
   ]
  },
  {
   "cell_type": "code",
   "execution_count": 110,
   "id": "e60d42ef",
   "metadata": {},
   "outputs": [
    {
     "data": {
      "text/plain": [
       "(100, 200)"
      ]
     },
     "execution_count": 110,
     "metadata": {},
     "output_type": "execute_result"
    }
   ],
   "source": [
    "(100, 200)"
   ]
  },
  {
   "cell_type": "code",
   "execution_count": 111,
   "id": "70da28fb",
   "metadata": {},
   "outputs": [],
   "source": [
    "dic = {\"codigo\": 25}"
   ]
  },
  {
   "cell_type": "code",
   "execution_count": 112,
   "id": "f565efa9",
   "metadata": {},
   "outputs": [
    {
     "data": {
      "text/plain": [
       "{'codigo': 25}"
      ]
     },
     "execution_count": 112,
     "metadata": {},
     "output_type": "execute_result"
    }
   ],
   "source": [
    "dic"
   ]
  },
  {
   "cell_type": "code",
   "execution_count": 113,
   "id": "6814db69",
   "metadata": {},
   "outputs": [],
   "source": [
    "dic[\"codigo\"] = 24"
   ]
  },
  {
   "cell_type": "code",
   "execution_count": 114,
   "id": "4d6534c1",
   "metadata": {},
   "outputs": [
    {
     "data": {
      "text/plain": [
       "{'codigo': 24}"
      ]
     },
     "execution_count": 114,
     "metadata": {},
     "output_type": "execute_result"
    }
   ],
   "source": [
    "dic"
   ]
  },
  {
   "cell_type": "code",
   "execution_count": 115,
   "id": "1829f737",
   "metadata": {},
   "outputs": [],
   "source": [
    "dic[\"telefono\"] = 1245"
   ]
  },
  {
   "cell_type": "code",
   "execution_count": 116,
   "id": "b181f67e",
   "metadata": {},
   "outputs": [
    {
     "data": {
      "text/plain": [
       "{'codigo': 24, 'telefono': 1245}"
      ]
     },
     "execution_count": 116,
     "metadata": {},
     "output_type": "execute_result"
    }
   ],
   "source": [
    "dic"
   ]
  },
  {
   "cell_type": "code",
   "execution_count": 117,
   "id": "c848dcce",
   "metadata": {},
   "outputs": [],
   "source": [
    "del dic[\"telefono\"]"
   ]
  },
  {
   "cell_type": "markdown",
   "id": "13cc5e64",
   "metadata": {},
   "source": [
    "#### Q2: p193. Ventas"
   ]
  },
  {
   "cell_type": "code",
   "execution_count": 124,
   "id": "1b31f318",
   "metadata": {},
   "outputs": [
    {
     "name": "stdout",
     "output_type": "stream",
     "text": [
      "In 3 days has been reduced the sales\n"
     ]
    }
   ],
   "source": [
    "sales_records = (100, 121, 120, 130, 140, 120, 122, 123, 190, 125)\n",
    "\n",
    "decrease = 0\n",
    "\n",
    "for i in range(1, len(sales_records)):\n",
    "    if sales_records[i] < sales_records[i-1]:\n",
    "        decrease += 1\n",
    "        \n",
    "print(f\"In {decrease} days has been reduced the sales\")"
   ]
  },
  {
   "cell_type": "code",
   "execution_count": 125,
   "id": "cd1a21bb",
   "metadata": {},
   "outputs": [
    {
     "name": "stdout",
     "output_type": "stream",
     "text": [
      "In 3 days has been reduced the sales\n"
     ]
    }
   ],
   "source": [
    "sales_records = (100, 121, 120, 130, 140, 120, 122, 123, 190, 125)\n",
    "\n",
    "decrease = 0\n",
    "last = sales_records[0]\n",
    "\n",
    "for v in sales_records[1:]:\n",
    "    if v < last:\n",
    "        decrease += 1\n",
    "\n",
    "    last = v\n",
    "        \n",
    "print(f\"In {decrease} days has been reduced the sales\")"
   ]
  },
  {
   "cell_type": "code",
   "execution_count": 126,
   "id": "f4e63ff7",
   "metadata": {},
   "outputs": [
    {
     "data": {
      "text/plain": [
       "(1,)"
      ]
     },
     "execution_count": 126,
     "metadata": {},
     "output_type": "execute_result"
    }
   ],
   "source": [
    "(1, )"
   ]
  },
  {
   "cell_type": "code",
   "execution_count": 129,
   "id": "adedb4f4",
   "metadata": {},
   "outputs": [
    {
     "data": {
      "text/plain": [
       "1"
      ]
     },
     "execution_count": 129,
     "metadata": {},
     "output_type": "execute_result"
    }
   ],
   "source": [
    "(1)"
   ]
  },
  {
   "cell_type": "code",
   "execution_count": 128,
   "id": "ac6d8566",
   "metadata": {},
   "outputs": [
    {
     "data": {
      "text/plain": [
       "tuple"
      ]
     },
     "execution_count": 128,
     "metadata": {},
     "output_type": "execute_result"
    }
   ],
   "source": [
    "type(())"
   ]
  },
  {
   "cell_type": "code",
   "execution_count": 130,
   "id": "8f64357a",
   "metadata": {},
   "outputs": [],
   "source": [
    "a = 1\n",
    "b = 2"
   ]
  },
  {
   "cell_type": "code",
   "execution_count": 131,
   "id": "9e1d723e",
   "metadata": {},
   "outputs": [],
   "source": [
    "aux = b\n",
    "b = a\n",
    "a = aux"
   ]
  },
  {
   "cell_type": "code",
   "execution_count": 132,
   "id": "6bc635eb",
   "metadata": {},
   "outputs": [],
   "source": [
    "a, b = b, a"
   ]
  },
  {
   "cell_type": "code",
   "execution_count": 133,
   "id": "2fd52e7e",
   "metadata": {},
   "outputs": [
    {
     "data": {
      "text/plain": [
       "(1, 2)"
      ]
     },
     "execution_count": 133,
     "metadata": {},
     "output_type": "execute_result"
    }
   ],
   "source": [
    "a, b"
   ]
  },
  {
   "cell_type": "markdown",
   "id": "9b0179db",
   "metadata": {},
   "source": [
    "#### Q2: p208. Eliminar vacios"
   ]
  },
  {
   "cell_type": "code",
   "execution_count": 134,
   "id": "0eb2e862",
   "metadata": {},
   "outputs": [],
   "source": [
    "tpls = [(), (1,), [], 'abc', (), (), (1,), ('a',), ('a', 'b'), ((),), '']"
   ]
  },
  {
   "cell_type": "code",
   "execution_count": 136,
   "id": "c3a403d3",
   "metadata": {},
   "outputs": [
    {
     "data": {
      "text/plain": [
       "[(1,), 'abc', (1,), ('a',), ('a', 'b'), ((),)]"
      ]
     },
     "execution_count": 136,
     "metadata": {},
     "output_type": "execute_result"
    }
   ],
   "source": [
    "new_tpls = []\n",
    "\n",
    "for val in tpls:\n",
    "    if len(val) > 0:\n",
    "        new_tpls.append(val)\n",
    "        \n",
    "new_tpls"
   ]
  },
  {
   "cell_type": "markdown",
   "id": "05ac2ea3",
   "metadata": {},
   "source": [
    "#### Unidad 13"
   ]
  },
  {
   "cell_type": "code",
   "execution_count": 137,
   "id": "e895af7e",
   "metadata": {},
   "outputs": [],
   "source": [
    "bd_lst = [[1,2,3], [4,5,6], [7,8,9]]"
   ]
  },
  {
   "cell_type": "code",
   "execution_count": 139,
   "id": "b03c598f",
   "metadata": {},
   "outputs": [
    {
     "data": {
      "text/plain": [
       "[7, 8, 9]"
      ]
     },
     "execution_count": 139,
     "metadata": {},
     "output_type": "execute_result"
    }
   ],
   "source": [
    "bd_lst[2]"
   ]
  },
  {
   "cell_type": "code",
   "execution_count": 138,
   "id": "a525aefa",
   "metadata": {},
   "outputs": [
    {
     "data": {
      "text/plain": [
       "8"
      ]
     },
     "execution_count": 138,
     "metadata": {},
     "output_type": "execute_result"
    }
   ],
   "source": [
    "bd_lst[2][1]"
   ]
  },
  {
   "cell_type": "code",
   "execution_count": 140,
   "id": "1fb85a9a",
   "metadata": {},
   "outputs": [],
   "source": [
    "bd_lst[2][1] = 500"
   ]
  },
  {
   "cell_type": "code",
   "execution_count": 141,
   "id": "7d952c31",
   "metadata": {},
   "outputs": [
    {
     "data": {
      "text/plain": [
       "[[1, 2, 3], [4, 5, 6], [7, 500, 9]]"
      ]
     },
     "execution_count": 141,
     "metadata": {},
     "output_type": "execute_result"
    }
   ],
   "source": [
    "bd_lst"
   ]
  },
  {
   "cell_type": "code",
   "execution_count": 142,
   "id": "af114909",
   "metadata": {},
   "outputs": [
    {
     "name": "stdout",
     "output_type": "stream",
     "text": [
      "[1, 2, 3]\n",
      "[4, 5, 6]\n",
      "[7, 500, 9]\n"
     ]
    }
   ],
   "source": [
    "for row in bd_lst:\n",
    "    print(row)"
   ]
  },
  {
   "cell_type": "code",
   "execution_count": 143,
   "id": "1a3e598d",
   "metadata": {},
   "outputs": [
    {
     "name": "stdout",
     "output_type": "stream",
     "text": [
      "500\n"
     ]
    }
   ],
   "source": [
    "for col in bd_lst:\n",
    "    for v in col:\n",
    "        if v > 10:\n",
    "            print(v)"
   ]
  },
  {
   "cell_type": "code",
   "execution_count": 144,
   "id": "06ef541b",
   "metadata": {},
   "outputs": [
    {
     "name": "stdout",
     "output_type": "stream",
     "text": [
      "2 1\n"
     ]
    }
   ],
   "source": [
    "for i in range(len(bd_lst)):\n",
    "    col = bd_lst[i]\n",
    "    \n",
    "    for j in range(len(col)):\n",
    "        v = bd_lst[i][j]\n",
    "        \n",
    "        if v > 10:\n",
    "            print(i, j)"
   ]
  },
  {
   "cell_type": "code",
   "execution_count": 146,
   "id": "b826d477",
   "metadata": {},
   "outputs": [
    {
     "name": "stdout",
     "output_type": "stream",
     "text": [
      "2 1\n"
     ]
    }
   ],
   "source": [
    "for i, col in enumerate(bd_lst):\n",
    "    for j, v in enumerate(col):\n",
    "        if v > 10:\n",
    "            print(i, j)"
   ]
  },
  {
   "cell_type": "code",
   "execution_count": 145,
   "id": "eeb3ccfe",
   "metadata": {},
   "outputs": [
    {
     "data": {
      "text/plain": [
       "[(0, 1), (1, 2), (2, 3)]"
      ]
     },
     "execution_count": 145,
     "metadata": {},
     "output_type": "execute_result"
    }
   ],
   "source": [
    "list(enumerate([1,2,3]))"
   ]
  },
  {
   "cell_type": "code",
   "execution_count": 147,
   "id": "4e913cc1",
   "metadata": {},
   "outputs": [],
   "source": [
    "a = [1,2,3]\n",
    "b = a"
   ]
  },
  {
   "cell_type": "code",
   "execution_count": 148,
   "id": "2f7227bf",
   "metadata": {},
   "outputs": [],
   "source": [
    "b.append(4)"
   ]
  },
  {
   "cell_type": "code",
   "execution_count": 149,
   "id": "dfa48cf4",
   "metadata": {},
   "outputs": [
    {
     "data": {
      "text/plain": [
       "[1, 2, 3, 4]"
      ]
     },
     "execution_count": 149,
     "metadata": {},
     "output_type": "execute_result"
    }
   ],
   "source": [
    "b"
   ]
  },
  {
   "cell_type": "code",
   "execution_count": 150,
   "id": "7080b080",
   "metadata": {},
   "outputs": [
    {
     "data": {
      "text/plain": [
       "[1, 2, 3, 4]"
      ]
     },
     "execution_count": 150,
     "metadata": {},
     "output_type": "execute_result"
    }
   ],
   "source": [
    "a"
   ]
  },
  {
   "cell_type": "code",
   "execution_count": 151,
   "id": "e43fe0da",
   "metadata": {},
   "outputs": [],
   "source": [
    "b = a.copy()"
   ]
  },
  {
   "cell_type": "code",
   "execution_count": 152,
   "id": "2552b4c2",
   "metadata": {},
   "outputs": [
    {
     "data": {
      "text/plain": [
       "[1, 2, 3, 4]"
      ]
     },
     "execution_count": 152,
     "metadata": {},
     "output_type": "execute_result"
    }
   ],
   "source": [
    "b"
   ]
  },
  {
   "cell_type": "code",
   "execution_count": 153,
   "id": "ce3505dc",
   "metadata": {},
   "outputs": [],
   "source": [
    "b.append(5)"
   ]
  },
  {
   "cell_type": "code",
   "execution_count": 154,
   "id": "fdf6c052",
   "metadata": {},
   "outputs": [
    {
     "data": {
      "text/plain": [
       "[1, 2, 3, 4, 5]"
      ]
     },
     "execution_count": 154,
     "metadata": {},
     "output_type": "execute_result"
    }
   ],
   "source": [
    "b"
   ]
  },
  {
   "cell_type": "code",
   "execution_count": 155,
   "id": "8af76286",
   "metadata": {},
   "outputs": [
    {
     "data": {
      "text/plain": [
       "[1, 2, 3, 4]"
      ]
     },
     "execution_count": 155,
     "metadata": {},
     "output_type": "execute_result"
    }
   ],
   "source": [
    "a"
   ]
  },
  {
   "cell_type": "code",
   "execution_count": 156,
   "id": "f53b974c",
   "metadata": {},
   "outputs": [],
   "source": [
    "lofl1 = [[1,2,3],[4,5,6],[7,8,9]]"
   ]
  },
  {
   "cell_type": "code",
   "execution_count": 157,
   "id": "593d5f25",
   "metadata": {},
   "outputs": [],
   "source": [
    "lofl2 = []\n",
    "\n",
    "for col in lofl1:\n",
    "    lofl2.append(col.copy())"
   ]
  },
  {
   "cell_type": "code",
   "execution_count": 158,
   "id": "a12f3eb3",
   "metadata": {},
   "outputs": [],
   "source": [
    "lofl2[2][1] = 100"
   ]
  },
  {
   "cell_type": "code",
   "execution_count": 159,
   "id": "d3130d1a",
   "metadata": {},
   "outputs": [
    {
     "data": {
      "text/plain": [
       "([[1, 2, 3], [4, 5, 6], [7, 8, 9]], [[1, 2, 3], [4, 5, 6], [7, 100, 9]])"
      ]
     },
     "execution_count": 159,
     "metadata": {},
     "output_type": "execute_result"
    }
   ],
   "source": [
    "lofl1, lofl2"
   ]
  },
  {
   "cell_type": "code",
   "execution_count": 160,
   "id": "4cd7e05f",
   "metadata": {},
   "outputs": [],
   "source": [
    "import copy\n",
    "\n",
    "lofl3 = copy.deepcopy(lofl1)"
   ]
  },
  {
   "cell_type": "code",
   "execution_count": 161,
   "id": "9ebc992f",
   "metadata": {},
   "outputs": [],
   "source": [
    "lofl3[2][1] = -100"
   ]
  },
  {
   "cell_type": "code",
   "execution_count": 162,
   "id": "000d7af7",
   "metadata": {},
   "outputs": [
    {
     "data": {
      "text/plain": [
       "([[1, 2, 3], [4, 5, 6], [7, 8, 9]],\n",
       " [[1, 2, 3], [4, 5, 6], [7, 100, 9]],\n",
       " [[1, 2, 3], [4, 5, 6], [7, -100, 9]])"
      ]
     },
     "execution_count": 162,
     "metadata": {},
     "output_type": "execute_result"
    }
   ],
   "source": [
    "lofl1, lofl2, lofl3"
   ]
  },
  {
   "cell_type": "markdown",
   "id": "bb639bf1",
   "metadata": {},
   "source": [
    "Q2: p245. Imprimir matriz"
   ]
  },
  {
   "cell_type": "code",
   "execution_count": 164,
   "id": "fb3a19f6",
   "metadata": {},
   "outputs": [],
   "source": [
    "bd_lst = [[1, 2, 3, 4], [5, 6, 7, 8], [9, 10, 11, 12], [13, 14, 15, 16]]"
   ]
  },
  {
   "cell_type": "code",
   "execution_count": 166,
   "id": "b354dd91",
   "metadata": {},
   "outputs": [
    {
     "name": "stdout",
     "output_type": "stream",
     "text": [
      " 1  2  3  4 \n",
      " 5  6  7  8 \n",
      " 9 10 11 12 \n",
      "13 14 15 16 \n"
     ]
    }
   ],
   "source": [
    "for row in bd_lst:\n",
    "    for v in row:\n",
    "        print(f\"{v:>2}\", end=\" \")\n",
    "    print('')"
   ]
  },
  {
   "cell_type": "code",
   "execution_count": 169,
   "id": "1eb2e483",
   "metadata": {},
   "outputs": [],
   "source": [
    "bd_lst2 = []\n",
    "\n",
    "for v1 in range(1, 17, 4):\n",
    "    bd_lst2.append([])\n",
    "    \n",
    "    for v2 in range(v1, v1+4):\n",
    "        bd_lst2[-1].append(v2)"
   ]
  },
  {
   "cell_type": "code",
   "execution_count": 170,
   "id": "d5706142",
   "metadata": {},
   "outputs": [
    {
     "data": {
      "text/plain": [
       "[[1, 2, 3, 4], [5, 6, 7, 8], [9, 10, 11, 12], [13, 14, 15, 16]]"
      ]
     },
     "execution_count": 170,
     "metadata": {},
     "output_type": "execute_result"
    }
   ],
   "source": [
    "bd_lst2"
   ]
  },
  {
   "cell_type": "code",
   "execution_count": 171,
   "id": "fb68e857",
   "metadata": {},
   "outputs": [
    {
     "data": {
      "text/plain": [
       "[[1, 2, 3, 4], [5, 6, 7, 8], [9, 10, 11, 12], [13, 14, 15, 16]]"
      ]
     },
     "execution_count": 171,
     "metadata": {},
     "output_type": "execute_result"
    }
   ],
   "source": [
    "[[v2 for v2 in range(v1, v1+4)] for v1 in range(1, 17, 4)]"
   ]
  },
  {
   "cell_type": "code",
   "execution_count": 174,
   "id": "683a48b8",
   "metadata": {},
   "outputs": [
    {
     "data": {
      "text/plain": [
       "[[0, 0, 0], [0, 0, 0], [0, 0, 0]]"
      ]
     },
     "execution_count": 174,
     "metadata": {},
     "output_type": "execute_result"
    }
   ],
   "source": [
    "[[0]*3 for i in range(3)]"
   ]
  }
 ],
 "metadata": {
  "kernelspec": {
   "display_name": "Python 3 (ipykernel)",
   "language": "python",
   "name": "python3"
  },
  "language_info": {
   "codemirror_mode": {
    "name": "ipython",
    "version": 3
   },
   "file_extension": ".py",
   "mimetype": "text/x-python",
   "name": "python",
   "nbconvert_exporter": "python",
   "pygments_lexer": "ipython3",
   "version": "3.10.11"
  }
 },
 "nbformat": 4,
 "nbformat_minor": 5
}
