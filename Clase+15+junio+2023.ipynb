{
 "cells": [
  {
   "cell_type": "markdown",
   "id": "775d774c",
   "metadata": {},
   "source": [
    "# Clase 15 junio 2023"
   ]
  },
  {
   "cell_type": "markdown",
   "id": "6af416ca",
   "metadata": {},
   "source": [
    "### Ejercicio 1\n",
    "\n",
    "Haz un programa que pida un entero al usuario y diga si es múltiplo de 5 o no lo es"
   ]
  },
  {
   "cell_type": "code",
   "execution_count": 2,
   "id": "18aa35ca",
   "metadata": {},
   "outputs": [
    {
     "name": "stdout",
     "output_type": "stream",
     "text": [
      "Escribe un número entero: 12\n",
      "No es múltiplo de 5\n"
     ]
    }
   ],
   "source": [
    "numero = int(input('Escribe un número entero: '))\n",
    "if numero % 5 == 0:\n",
    "    print(\"Es múltiplo de 5\")\n",
    "else:\n",
    "    print(\"No es múltiplo de 5\")"
   ]
  },
  {
   "cell_type": "markdown",
   "id": "f9ae6f81",
   "metadata": {},
   "source": [
    "### Ejercicio 2\n",
    "\n",
    "Haz un programa que pida un entero al usuario y repita la lectura si hace falta hasta que el número sea múltiplo de 5"
   ]
  },
  {
   "cell_type": "code",
   "execution_count": 3,
   "id": "17d5a8ef",
   "metadata": {},
   "outputs": [
    {
     "name": "stdout",
     "output_type": "stream",
     "text": [
      "Escribe un número entero: 12\n",
      "Escribe un número entero: 14\n",
      "Escribe un número entero: 20\n",
      "El valor 20 ha sido aceptado\n"
     ]
    }
   ],
   "source": [
    "propiedad = False\n",
    "while not propiedad:\n",
    "    numero = int(input('Escribe un número entero: '))\n",
    "    propiedad = numero % 5 == 0\n",
    "print(\"El valor\",numero,\"ha sido aceptado\")"
   ]
  },
  {
   "cell_type": "code",
   "execution_count": 4,
   "id": "0aeaa389",
   "metadata": {},
   "outputs": [
    {
     "name": "stdout",
     "output_type": "stream",
     "text": [
      "Escribe un número entero: 12\n",
      "Te has equivocado, vuelve a introducirlo: 14\n",
      "Te has equivocado, vuelve a introducirlo: 20\n",
      "El valor 20 ha sido aceptado\n"
     ]
    }
   ],
   "source": [
    "numero = int(input('Escribe un número entero: '))\n",
    "while  numero % 5 != 0:\n",
    "    numero = int(input('Te has equivocado, vuelve a introducirlo: '))\n",
    "print(\"El valor\",numero,\"ha sido aceptado\")"
   ]
  },
  {
   "cell_type": "markdown",
   "id": "ae0a7a7c",
   "metadata": {},
   "source": [
    "### Ejercicio 3\n",
    "\n",
    "Haz un programa que lea un entero y muestre la suma de todos sus dígitos. Esto se puede hacer al menos de 2 maneras:\n",
    "\n",
    "- con el número como cadena recorriendo los caracteres\n",
    "- (preferible) sacando el dígito menos significativo y quitándolo (dividir entre 10)"
   ]
  },
  {
   "cell_type": "code",
   "execution_count": 6,
   "id": "62f04584",
   "metadata": {},
   "outputs": [
    {
     "name": "stdout",
     "output_type": "stream",
     "text": [
      "La suma de los digitos de 12345 es 15\n"
     ]
    }
   ],
   "source": [
    "# pasando a cadena:\n",
    "\n",
    "numero = 12345\n",
    "\n",
    "suma = 0\n",
    "for digito in str(numero):\n",
    "    suma += int(digito)\n",
    "print(f'La suma de los digitos de {numero} es {suma}')"
   ]
  },
  {
   "cell_type": "code",
   "execution_count": 9,
   "id": "3083ec14",
   "metadata": {},
   "outputs": [
    {
     "name": "stdout",
     "output_type": "stream",
     "text": [
      "La suma de los digitos es 15\n"
     ]
    }
   ],
   "source": [
    "# sin pasar a cadena:\n",
    "\n",
    "numero = 12345\n",
    "suma = 0\n",
    "while numero >= 10:\n",
    "    suma += numero % 10\n",
    "    numero = numero // 10\n",
    "suma += numero # si pones >0 en el while no hace falta esta última línea\n",
    "\n",
    "print(f'La suma de los digitos es {suma}')"
   ]
  },
  {
   "cell_type": "markdown",
   "id": "c4717f8d",
   "metadata": {},
   "source": [
    "### Ejercicio 4\n",
    "\n",
    "Haz un programa que lea un número entero y diga si es primo (solamente divisible entre él mismo y la unidad)"
   ]
  },
  {
   "cell_type": "code",
   "execution_count": 13,
   "id": "e3385344",
   "metadata": {},
   "outputs": [
    {
     "name": "stdout",
     "output_type": "stream",
     "text": [
      "Escribe un entero positivo: 11\n",
      "es primo\n"
     ]
    }
   ],
   "source": [
    "numero = int(input('Escribe un entero positivo: '))\n",
    "esPrimo = True\n",
    "i = 2\n",
    "while esPrimo and i<numero:\n",
    "    if numero % i == 0:\n",
    "        esPrimo = False\n",
    "    i += 1\n",
    "print(\"es\", \"primo\" if esPrimo else \"compuesto\")\n"
   ]
  },
  {
   "cell_type": "markdown",
   "id": "f68082fd",
   "metadata": {},
   "source": [
    "### Ejercicio 5\n",
    "\n",
    "Haz un programa que muestre todos los primos hasta el 100"
   ]
  },
  {
   "cell_type": "code",
   "execution_count": 15,
   "id": "29ab9215",
   "metadata": {},
   "outputs": [
    {
     "name": "stdout",
     "output_type": "stream",
     "text": [
      "1 2 3 5 7 11 13 17 19 23 29 31 37 41 43 47 53 59 61 67 71 73 79 83 89 97 "
     ]
    }
   ],
   "source": [
    "# sin funciones\n",
    "\n",
    "for numero in range(1,101):\n",
    "    esPrimo = True\n",
    "    i = 2\n",
    "    while esPrimo and i<numero:\n",
    "        if numero % i == 0:\n",
    "            esPrimo = False\n",
    "        i += 1\n",
    "    if esPrimo:\n",
    "        print(numero,end=\" \")"
   ]
  },
  {
   "cell_type": "code",
   "execution_count": 17,
   "id": "6da10299",
   "metadata": {},
   "outputs": [
    {
     "name": "stdout",
     "output_type": "stream",
     "text": [
      "1 2 3 5 7 11 13 17 19 23 29 31 37 41 43 47 53 59 61 67 71 73 79 83 89 97 "
     ]
    }
   ],
   "source": [
    "# sin funciones, con un for\n",
    "\n",
    "# sin funciones\n",
    "\n",
    "for numero in range(1,101):\n",
    "    esPrimo = True\n",
    "    for i in range(2,numero):\n",
    "        if numero % i == 0:\n",
    "            esPrimo = False\n",
    "            break\n",
    "    if esPrimo:\n",
    "        print(numero,end=\" \")"
   ]
  },
  {
   "cell_type": "code",
   "execution_count": 19,
   "id": "c682ed4f",
   "metadata": {},
   "outputs": [],
   "source": [
    "def esPrimo(numero):\n",
    "    for i in range(2,numero):\n",
    "        if numero % i == 0:\n",
    "            return False\n",
    "    return True"
   ]
  },
  {
   "cell_type": "code",
   "execution_count": 20,
   "id": "372b2e16",
   "metadata": {},
   "outputs": [
    {
     "name": "stdout",
     "output_type": "stream",
     "text": [
      "1 2 3 5 7 11 13 17 19 23 29 31 37 41 43 47 53 59 61 67 71 73 79 83 89 97 "
     ]
    }
   ],
   "source": [
    "for numero in range(1,101):\n",
    "    if esPrimo(numero):\n",
    "        print(numero,end=' ')"
   ]
  },
  {
   "cell_type": "markdown",
   "id": "1523931e",
   "metadata": {},
   "source": [
    "### Ejercicio 6\n",
    "\n",
    "Haz un programa que pida un valor n y muestre los n primeros primos"
   ]
  },
  {
   "cell_type": "code",
   "execution_count": 23,
   "id": "f6f12dd7",
   "metadata": {},
   "outputs": [
    {
     "name": "stdout",
     "output_type": "stream",
     "text": [
      "Introduce n: 100\n",
      "1 2 3 5 7 11 13 17 19 23 29 31 37 41 43 47 53 59 61 67 71 73 79 83 89 97 101 103 107 109 113 127 131 137 139 149 151 157 163 167 173 179 181 191 193 197 199 211 223 227 229 233 239 241 251 257 263 269 271 277 281 283 293 307 311 313 317 331 337 347 349 353 359 367 373 379 383 389 397 401 409 419 421 431 433 439 443 449 457 461 463 467 479 487 491 499 503 509 521 523 "
     ]
    }
   ],
   "source": [
    "n = int(input('Introduce n: '))\n",
    "i = 1 # recorre los naturales 1,2,3,...\n",
    "contador = 0\n",
    "while contador < n:\n",
    "    if esPrimo(i):\n",
    "        print(i,end=' ')\n",
    "        contador += 1\n",
    "    i += 1"
   ]
  },
  {
   "cell_type": "markdown",
   "id": "134061c0",
   "metadata": {},
   "source": [
    "### Ejercicio 7\n",
    "\n",
    "Pedir al usuario 4 números y mostrar la media aritmética de todos.\n",
    "\n",
    "> **Nota:** usar `for`"
   ]
  },
  {
   "cell_type": "code",
   "execution_count": 25,
   "id": "4df16f39",
   "metadata": {},
   "outputs": [
    {
     "name": "stdout",
     "output_type": "stream",
     "text": [
      "Escribe el 1-ésimo número: 10\n",
      "Escribe el 2-ésimo número: 20\n",
      "Escribe el 3-ésimo número: 30\n",
      "Escribe el 4-ésimo número: 40\n"
     ]
    }
   ],
   "source": [
    "cantidad = 4\n",
    "suma = 0\n",
    "for i in range(cantidad):\n",
    "    n = float(input(f'Escribe el {i+1}-ésimo número: '))\n",
    "    suma += n # o bien suma = suma + n\n",
    "media = suma/cantidad\n",
    "print(\"La media es\", media)"
   ]
  },
  {
   "cell_type": "markdown",
   "id": "ccd8f1df",
   "metadata": {},
   "source": [
    "## Repaso de algunos conceptos del capítulo 1"
   ]
  },
  {
   "cell_type": "code",
   "execution_count": 32,
   "id": "94ed58d1",
   "metadata": {},
   "outputs": [],
   "source": [
    "# comentarios como cadenas\n",
    "\n",
    "def cuadrado(n):\n",
    "    \"\"\"\n",
    "    Dado un número n, esta función devuelve n al cuadrado\n",
    "    \"\"\"\n",
    "    return n*n"
   ]
  },
  {
   "cell_type": "code",
   "execution_count": 33,
   "id": "22b6f9da",
   "metadata": {},
   "outputs": [
    {
     "data": {
      "text/plain": [
       "25"
      ]
     },
     "execution_count": 33,
     "metadata": {},
     "output_type": "execute_result"
    }
   ],
   "source": [
    "cuadrado(5)"
   ]
  },
  {
   "cell_type": "code",
   "execution_count": 34,
   "id": "be169c19",
   "metadata": {},
   "outputs": [
    {
     "name": "stdout",
     "output_type": "stream",
     "text": [
      "Help on function cuadrado in module __main__:\n",
      "\n",
      "cuadrado(n)\n",
      "    Dado un número n, esta función devuelve n al cuadrado\n",
      "\n"
     ]
    }
   ],
   "source": [
    "help(cuadrado)"
   ]
  },
  {
   "cell_type": "code",
   "execution_count": 35,
   "id": "80f39f38",
   "metadata": {},
   "outputs": [
    {
     "data": {
      "text/plain": [
       "'--------------------------------------------------'"
      ]
     },
     "execution_count": 35,
     "metadata": {},
     "output_type": "execute_result"
    }
   ],
   "source": [
    "\"-\"*50"
   ]
  },
  {
   "cell_type": "code",
   "execution_count": 37,
   "id": "595e08f4",
   "metadata": {},
   "outputs": [
    {
     "name": "stdout",
     "output_type": "stream",
     "text": [
      "Dame un número: doce\n",
      "No es un valor válido\n"
     ]
    }
   ],
   "source": [
    "try:\n",
    "    numero = int(input('Dame un número: '))\n",
    "except:\n",
    "    print(\"No es un valor válido\")"
   ]
  },
  {
   "cell_type": "code",
   "execution_count": 52,
   "id": "d2a304a3",
   "metadata": {},
   "outputs": [
    {
     "data": {
      "text/plain": [
       "False"
      ]
     },
     "execution_count": 52,
     "metadata": {},
     "output_type": "execute_result"
    }
   ],
   "source": [
    "bool(0)"
   ]
  },
  {
   "cell_type": "code",
   "execution_count": 53,
   "id": "8414dd84",
   "metadata": {},
   "outputs": [
    {
     "data": {
      "text/plain": [
       "True"
      ]
     },
     "execution_count": 53,
     "metadata": {},
     "output_type": "execute_result"
    }
   ],
   "source": [
    "bool(5)"
   ]
  },
  {
   "cell_type": "code",
   "execution_count": 56,
   "id": "23be0f9f",
   "metadata": {},
   "outputs": [
    {
     "name": "stdout",
     "output_type": "stream",
     "text": [
      "cierto\n"
     ]
    }
   ],
   "source": [
    "if [1,12,3]:\n",
    "    print(\"cierto\")\n",
    "else:\n",
    "    print(\"falso\")"
   ]
  },
  {
   "cell_type": "markdown",
   "id": "43210f1a",
   "metadata": {},
   "source": [
    "Concepto de truthy y falsy:\n",
    "    \n",
    "Para python son False:\n",
    "\n",
    "- Lista vacía (tupla vacía, dict vacío,...)\n",
    "- El 0\n",
    "- None\n",
    "\n"
   ]
  },
  {
   "cell_type": "code",
   "execution_count": 57,
   "id": "efde9acb",
   "metadata": {},
   "outputs": [
    {
     "data": {
      "text/plain": [
       "False"
      ]
     },
     "execution_count": 57,
     "metadata": {},
     "output_type": "execute_result"
    }
   ],
   "source": [
    "bool({})"
   ]
  },
  {
   "cell_type": "code",
   "execution_count": 58,
   "id": "3c9e4f69",
   "metadata": {},
   "outputs": [
    {
     "data": {
      "text/plain": [
       "False"
      ]
     },
     "execution_count": 58,
     "metadata": {},
     "output_type": "execute_result"
    }
   ],
   "source": [
    "bool(None)"
   ]
  },
  {
   "cell_type": "code",
   "execution_count": 61,
   "id": "181f8a8a",
   "metadata": {},
   "outputs": [],
   "source": [
    "def positivo(n):\n",
    "    print(\"hola, estoy ejecutando la funcion con n=\",n)\n",
    "    return n>0"
   ]
  },
  {
   "cell_type": "code",
   "execution_count": 62,
   "id": "c0637634",
   "metadata": {},
   "outputs": [
    {
     "name": "stdout",
     "output_type": "stream",
     "text": [
      "hola, estoy ejecutando la funcion con n= 5\n",
      "hola, estoy ejecutando la funcion con n= 10\n"
     ]
    },
    {
     "data": {
      "text/plain": [
       "True"
      ]
     },
     "execution_count": 62,
     "metadata": {},
     "output_type": "execute_result"
    }
   ],
   "source": [
    "positivo(5) and positivo(10)"
   ]
  },
  {
   "cell_type": "code",
   "execution_count": 63,
   "id": "b9677218",
   "metadata": {},
   "outputs": [
    {
     "name": "stdout",
     "output_type": "stream",
     "text": [
      "hola, estoy ejecutando la funcion con n= -5\n"
     ]
    },
    {
     "data": {
      "text/plain": [
       "False"
      ]
     },
     "execution_count": 63,
     "metadata": {},
     "output_type": "execute_result"
    }
   ],
   "source": [
    "positivo(-5) and positivo(10)"
   ]
  },
  {
   "cell_type": "code",
   "execution_count": 64,
   "id": "e0e4b1ea",
   "metadata": {},
   "outputs": [
    {
     "name": "stdout",
     "output_type": "stream",
     "text": [
      "hola, estoy ejecutando la funcion con n= 5\n"
     ]
    },
    {
     "data": {
      "text/plain": [
       "True"
      ]
     },
     "execution_count": 64,
     "metadata": {},
     "output_type": "execute_result"
    }
   ],
   "source": [
    "positivo(5) or positivo(-10)"
   ]
  },
  {
   "cell_type": "code",
   "execution_count": 65,
   "id": "6204544d",
   "metadata": {},
   "outputs": [
    {
     "data": {
      "text/plain": [
       "10"
      ]
     },
     "execution_count": 65,
     "metadata": {},
     "output_type": "execute_result"
    }
   ],
   "source": [
    "5 and 10"
   ]
  },
  {
   "cell_type": "code",
   "execution_count": 66,
   "id": "d3c3481e",
   "metadata": {},
   "outputs": [
    {
     "data": {
      "text/plain": [
       "0"
      ]
     },
     "execution_count": 66,
     "metadata": {},
     "output_type": "execute_result"
    }
   ],
   "source": [
    "0 and 10"
   ]
  },
  {
   "cell_type": "code",
   "execution_count": 67,
   "id": "112f7727",
   "metadata": {},
   "outputs": [
    {
     "data": {
      "text/plain": [
       "[]"
      ]
     },
     "execution_count": 67,
     "metadata": {},
     "output_type": "execute_result"
    }
   ],
   "source": [
    "[] and \"hola\""
   ]
  },
  {
   "cell_type": "code",
   "execution_count": 68,
   "id": "debc448a",
   "metadata": {},
   "outputs": [
    {
     "data": {
      "text/plain": [
       "'hola'"
      ]
     },
     "execution_count": 68,
     "metadata": {},
     "output_type": "execute_result"
    }
   ],
   "source": [
    "[] or \"hola\""
   ]
  },
  {
   "cell_type": "code",
   "execution_count": 69,
   "id": "ba2ca648",
   "metadata": {},
   "outputs": [
    {
     "data": {
      "text/plain": [
       "'hola'"
      ]
     },
     "execution_count": 69,
     "metadata": {},
     "output_type": "execute_result"
    }
   ],
   "source": [
    "\"hola\" or \"adios\""
   ]
  },
  {
   "cell_type": "code",
   "execution_count": 70,
   "id": "e8ef05f7",
   "metadata": {},
   "outputs": [
    {
     "data": {
      "text/plain": [
       "True"
      ]
     },
     "execution_count": 70,
     "metadata": {},
     "output_type": "execute_result"
    }
   ],
   "source": [
    "not []"
   ]
  },
  {
   "cell_type": "code",
   "execution_count": 71,
   "id": "a3645ce0",
   "metadata": {},
   "outputs": [
    {
     "data": {
      "text/plain": [
       "False"
      ]
     },
     "execution_count": 71,
     "metadata": {},
     "output_type": "execute_result"
    }
   ],
   "source": [
    "not [1,2,3]"
   ]
  },
  {
   "cell_type": "code",
   "execution_count": 72,
   "id": "8ddc9a4a",
   "metadata": {},
   "outputs": [
    {
     "data": {
      "text/plain": [
       "True"
      ]
     },
     "execution_count": 72,
     "metadata": {},
     "output_type": "execute_result"
    }
   ],
   "source": [
    "bool(\"hola\")"
   ]
  },
  {
   "cell_type": "code",
   "execution_count": 73,
   "id": "acc145fe",
   "metadata": {},
   "outputs": [
    {
     "data": {
      "text/plain": [
       "False"
      ]
     },
     "execution_count": 73,
     "metadata": {},
     "output_type": "execute_result"
    }
   ],
   "source": [
    "bool(\"\")"
   ]
  },
  {
   "cell_type": "code",
   "execution_count": 75,
   "id": "181c0ce1",
   "metadata": {},
   "outputs": [
    {
     "name": "stdout",
     "output_type": "stream",
     "text": [
      "¿cómo te llamas? Juan\n",
      "hola Juan\n"
     ]
    }
   ],
   "source": [
    "nombre = input(\"¿cómo te llamas? \")\n",
    "if nombre:\n",
    "    print(\"hola\",nombre)\n",
    "else:\n",
    "    print(\"cadena vacía\")"
   ]
  },
  {
   "cell_type": "code",
   "execution_count": 79,
   "id": "e9e8db8d",
   "metadata": {},
   "outputs": [
    {
     "name": "stdout",
     "output_type": "stream",
     "text": [
      "1\n",
      "2\n",
      "3\n"
     ]
    }
   ],
   "source": [
    "a,b,c = [1,2,3]\n",
    "print(a)\n",
    "print(b)\n",
    "print(c)"
   ]
  },
  {
   "cell_type": "code",
   "execution_count": 81,
   "id": "4f18fa86",
   "metadata": {},
   "outputs": [
    {
     "name": "stdout",
     "output_type": "stream",
     "text": [
      "1\n",
      "2\n",
      "[3, 4, 5]\n"
     ]
    }
   ],
   "source": [
    "# No hace falta saberlo:\n",
    "a,b,*resto = [1,2,3,4,5]\n",
    "print(a)\n",
    "print(b)\n",
    "print(resto)"
   ]
  },
  {
   "cell_type": "code",
   "execution_count": 82,
   "id": "ec605a7c",
   "metadata": {},
   "outputs": [],
   "source": [
    "a = 1,2,3"
   ]
  },
  {
   "cell_type": "code",
   "execution_count": 83,
   "id": "2a0e4795",
   "metadata": {},
   "outputs": [
    {
     "data": {
      "text/plain": [
       "(1, 2, 3)"
      ]
     },
     "execution_count": 83,
     "metadata": {},
     "output_type": "execute_result"
    }
   ],
   "source": [
    "a"
   ]
  },
  {
   "cell_type": "code",
   "execution_count": 84,
   "id": "b452d72a",
   "metadata": {},
   "outputs": [
    {
     "data": {
      "text/plain": [
       "tuple"
      ]
     },
     "execution_count": 84,
     "metadata": {},
     "output_type": "execute_result"
    }
   ],
   "source": [
    "type(a)"
   ]
  },
  {
   "cell_type": "markdown",
   "id": "6d302aa0",
   "metadata": {},
   "source": [
    "### Ejercicio\n",
    "\n",
    "Pedir los valores $a$,$b$,$c$ de $ax^2 + bx + c = 0$ y sacar las raices\n",
    "\n",
    "Casos:\n",
    "\n",
    "Si $a=0$ tenemos $bx+c=0$\n",
    "Si $a=0, b=0$ tenemos $c=0$"
   ]
  },
  {
   "cell_type": "code",
   "execution_count": 89,
   "id": "4769883a",
   "metadata": {},
   "outputs": [
    {
     "name": "stdout",
     "output_type": "stream",
     "text": [
      "Escribe a,b,c separados por espacio: 0 0 0 \n",
      "Infinitas soluciones\n"
     ]
    }
   ],
   "source": [
    "a, b, c = input(\"Escribe a,b,c separados por espacio: \").split()\n",
    "a, b, c = float(a), float(b), float(c)\n",
    "\n",
    "if a == 0:\n",
    "    # primer grado bx+c=0\n",
    "    if b==0: # c=0\n",
    "        if c==0:\n",
    "            print(\"Infinitas soluciones\")\n",
    "        else:\n",
    "            print(\"No tiene solución\")\n",
    "    else:\n",
    "        print(\"x =\", -c/b)\n",
    "else:\n",
    "    # segundo grado\n",
    "    pass"
   ]
  },
  {
   "cell_type": "code",
   "execution_count": 90,
   "id": "bc21efbd",
   "metadata": {},
   "outputs": [
    {
     "name": "stdout",
     "output_type": "stream",
     "text": [
      "h\n",
      "o\n",
      "l\n",
      "a\n"
     ]
    }
   ],
   "source": [
    "for letra in \"hola\":\n",
    "    print(letra)"
   ]
  },
  {
   "cell_type": "code",
   "execution_count": 91,
   "id": "738ae968",
   "metadata": {},
   "outputs": [
    {
     "data": {
      "text/plain": [
       "['h', 'o', 'l', 'a']"
      ]
     },
     "execution_count": 91,
     "metadata": {},
     "output_type": "execute_result"
    }
   ],
   "source": [
    "list(\"hola\")"
   ]
  },
  {
   "cell_type": "code",
   "execution_count": 92,
   "id": "bc559063",
   "metadata": {},
   "outputs": [
    {
     "data": {
      "text/plain": [
       "[1, 4, 7, 10, 13, 16, 19]"
      ]
     },
     "execution_count": 92,
     "metadata": {},
     "output_type": "execute_result"
    }
   ],
   "source": [
    "list(range(1,20,3))"
   ]
  },
  {
   "cell_type": "code",
   "execution_count": 95,
   "id": "ee7e0e23",
   "metadata": {},
   "outputs": [
    {
     "data": {
      "text/plain": [
       "range(1, 200000000000000, 3)"
      ]
     },
     "execution_count": 95,
     "metadata": {},
     "output_type": "execute_result"
    }
   ],
   "source": [
    "range(1,200_000_000_000_000,3)"
   ]
  },
  {
   "cell_type": "code",
   "execution_count": 96,
   "id": "58cccbf2",
   "metadata": {},
   "outputs": [],
   "source": [
    "lista = [10,12,30,15]"
   ]
  },
  {
   "cell_type": "code",
   "execution_count": 97,
   "id": "ac4d9c44",
   "metadata": {},
   "outputs": [
    {
     "data": {
      "text/plain": [
       "67"
      ]
     },
     "execution_count": 97,
     "metadata": {},
     "output_type": "execute_result"
    }
   ],
   "source": [
    "sum(lista)"
   ]
  },
  {
   "cell_type": "code",
   "execution_count": 98,
   "id": "bf64cd06",
   "metadata": {},
   "outputs": [
    {
     "data": {
      "text/plain": [
       "45"
      ]
     },
     "execution_count": 98,
     "metadata": {},
     "output_type": "execute_result"
    }
   ],
   "source": [
    "sum(range(10))"
   ]
  },
  {
   "cell_type": "code",
   "execution_count": 99,
   "id": "e7be26c1",
   "metadata": {},
   "outputs": [],
   "source": [
    "c = \"hola esto es una prueba\""
   ]
  },
  {
   "cell_type": "code",
   "execution_count": 100,
   "id": "ea2ee108",
   "metadata": {},
   "outputs": [
    {
     "data": {
      "text/plain": [
       "'e'"
      ]
     },
     "execution_count": 100,
     "metadata": {},
     "output_type": "execute_result"
    }
   ],
   "source": [
    "c[5]"
   ]
  },
  {
   "cell_type": "code",
   "execution_count": 101,
   "id": "0c948dbc",
   "metadata": {},
   "outputs": [
    {
     "data": {
      "text/plain": [
       "'esto '"
      ]
     },
     "execution_count": 101,
     "metadata": {},
     "output_type": "execute_result"
    }
   ],
   "source": [
    "c[5:10]"
   ]
  },
  {
   "cell_type": "code",
   "execution_count": 102,
   "id": "e67b2753",
   "metadata": {},
   "outputs": [
    {
     "data": {
      "text/plain": [
       "' otse'"
      ]
     },
     "execution_count": 102,
     "metadata": {},
     "output_type": "execute_result"
    }
   ],
   "source": [
    "c[9:4:-1]"
   ]
  },
  {
   "cell_type": "code",
   "execution_count": 103,
   "id": "fa0f8346",
   "metadata": {},
   "outputs": [
    {
     "data": {
      "text/plain": [
       "'abeurp anu se otse aloh'"
      ]
     },
     "execution_count": 103,
     "metadata": {},
     "output_type": "execute_result"
    }
   ],
   "source": [
    "c[::-1]"
   ]
  },
  {
   "cell_type": "code",
   "execution_count": 116,
   "id": "88af9ce7",
   "metadata": {},
   "outputs": [],
   "source": [
    "def es_palindromo(cadena):\n",
    "    cadena = cadena.replace(' ','').replace(',','').lower()\n",
    "    return cadena == cadena[::-1]"
   ]
  },
  {
   "cell_type": "code",
   "execution_count": 117,
   "id": "ee44c991",
   "metadata": {},
   "outputs": [
    {
     "data": {
      "text/plain": [
       "True"
      ]
     },
     "execution_count": 117,
     "metadata": {},
     "output_type": "execute_result"
    }
   ],
   "source": [
    "es_palindromo(\"radar\")"
   ]
  },
  {
   "cell_type": "code",
   "execution_count": 118,
   "id": "a18f52f2",
   "metadata": {},
   "outputs": [
    {
     "data": {
      "text/plain": [
       "True"
      ]
     },
     "execution_count": 118,
     "metadata": {},
     "output_type": "execute_result"
    }
   ],
   "source": [
    "prueba = 'Dabale arroz a la zorra el abad'\n",
    "prueba2 = 'A man, a plan, a canal, Panama'\n",
    "es_palindromo(prueba2)"
   ]
  },
  {
   "cell_type": "code",
   "execution_count": 110,
   "id": "c5959526",
   "metadata": {},
   "outputs": [
    {
     "data": {
      "text/plain": [
       "'dabale arroz a la zorra el abad'"
      ]
     },
     "execution_count": 110,
     "metadata": {},
     "output_type": "execute_result"
    }
   ],
   "source": [
    "prueba.lower()"
   ]
  },
  {
   "cell_type": "code",
   "execution_count": 112,
   "id": "0e075707",
   "metadata": {},
   "outputs": [
    {
     "data": {
      "text/plain": [
       "'dabalearrozalazorraelabad'"
      ]
     },
     "execution_count": 112,
     "metadata": {},
     "output_type": "execute_result"
    }
   ],
   "source": [
    "prueba.replace(' ','').lower()"
   ]
  },
  {
   "cell_type": "code",
   "execution_count": 124,
   "id": "506b555e",
   "metadata": {},
   "outputs": [
    {
     "data": {
      "text/plain": [
       "'el número es: \"  123.46\"'"
      ]
     },
     "execution_count": 124,
     "metadata": {},
     "output_type": "execute_result"
    }
   ],
   "source": [
    "n = 123.45678\n",
    "f'el número es: \"{n:8.2f}\"'"
   ]
  },
  {
   "cell_type": "code",
   "execution_count": 134,
   "id": "b0b9ea3e",
   "metadata": {},
   "outputs": [
    {
     "name": "stdout",
     "output_type": "stream",
     "text": [
      "el número es: \"     123\"\n",
      "el número es: \"00000123\"\n",
      "el número es: \"123     \"\n"
     ]
    }
   ],
   "source": [
    "n = 123\n",
    "print(f'el número es: \"{n:8}\"')\n",
    "print(f'el número es: \"{n:08}\"')\n",
    "print(f'el número es: \"{n:<8}\"')"
   ]
  },
  {
   "cell_type": "code",
   "execution_count": 137,
   "id": "3fbd7fc8",
   "metadata": {},
   "outputs": [
    {
     "name": "stdout",
     "output_type": "stream",
     "text": [
      "es: \"    casa\"\n",
      "es: \"casa    \"\n"
     ]
    }
   ],
   "source": [
    "n = \"casa\"\n",
    "print(f'es: \"{n:>8}\"')\n",
    "print(f'es: \"{n:<8}\"')"
   ]
  },
  {
   "cell_type": "code",
   "execution_count": 138,
   "id": "6f805f57",
   "metadata": {},
   "outputs": [
    {
     "name": "stdout",
     "output_type": "stream",
     "text": [
      "1\n",
      "2\n",
      "4\n",
      "8\n",
      "16\n",
      "32\n",
      "64\n",
      "128\n",
      "256\n",
      "512\n"
     ]
    }
   ],
   "source": [
    "# ejemplo while: todas las potencias de 2 menores a 1000\n",
    "i = 1\n",
    "while i<1000:\n",
    "    print(i)\n",
    "    i = i*2"
   ]
  },
  {
   "cell_type": "code",
   "execution_count": 142,
   "id": "919031d4",
   "metadata": {},
   "outputs": [
    {
     "data": {
      "text/plain": [
       "False"
      ]
     },
     "execution_count": 142,
     "metadata": {},
     "output_type": "execute_result"
    }
   ],
   "source": [
    "[1,3,2] == [1,2,3]"
   ]
  },
  {
   "cell_type": "code",
   "execution_count": 143,
   "id": "b3ce6760",
   "metadata": {},
   "outputs": [],
   "source": [
    "import random"
   ]
  },
  {
   "cell_type": "code",
   "execution_count": 144,
   "id": "072d7e3a",
   "metadata": {},
   "outputs": [
    {
     "data": {
      "text/plain": [
       "'a'"
      ]
     },
     "execution_count": 144,
     "metadata": {},
     "output_type": "execute_result"
    }
   ],
   "source": [
    "random.choice(\"hola\")"
   ]
  },
  {
   "cell_type": "code",
   "execution_count": 149,
   "id": "f53ed4d0",
   "metadata": {},
   "outputs": [],
   "source": [
    "from random import choice as elije"
   ]
  },
  {
   "cell_type": "code",
   "execution_count": 150,
   "id": "7570ab55",
   "metadata": {},
   "outputs": [
    {
     "data": {
      "text/plain": [
       "3"
      ]
     },
     "execution_count": 150,
     "metadata": {},
     "output_type": "execute_result"
    }
   ],
   "source": [
    "elije([1,3,5])"
   ]
  },
  {
   "cell_type": "code",
   "execution_count": 147,
   "id": "1acb25c4",
   "metadata": {},
   "outputs": [],
   "source": [
    "import random as aleatorio"
   ]
  },
  {
   "cell_type": "code",
   "execution_count": 148,
   "id": "f9e4876f",
   "metadata": {},
   "outputs": [
    {
     "data": {
      "text/plain": [
       "40"
      ]
     },
     "execution_count": 148,
     "metadata": {},
     "output_type": "execute_result"
    }
   ],
   "source": [
    "aleatorio.choice([10,20,40])"
   ]
  },
  {
   "cell_type": "code",
   "execution_count": 163,
   "id": "834d3705",
   "metadata": {},
   "outputs": [
    {
     "name": "stdout",
     "output_type": "stream",
     "text": [
      "Dime: hola no tengo claro qué frase escribir aquí\n",
      "Yoda dice: frase aquí escribir tengo qué claro no hola\n"
     ]
    }
   ],
   "source": [
    "frase = input(\"Dime: \")\n",
    "reordenada = frase.split()\n",
    "random.shuffle(reordenada)\n",
    "reordenada = ' '.join(reordenada)\n",
    "print('Yoda dice:',reordenada)"
   ]
  },
  {
   "cell_type": "code",
   "execution_count": 153,
   "id": "80d8b6df",
   "metadata": {},
   "outputs": [],
   "source": [
    "lista = [10,4,1]"
   ]
  },
  {
   "cell_type": "code",
   "execution_count": 154,
   "id": "c74cdf22",
   "metadata": {},
   "outputs": [
    {
     "data": {
      "text/plain": [
       "[10, 4, 1]"
      ]
     },
     "execution_count": 154,
     "metadata": {},
     "output_type": "execute_result"
    }
   ],
   "source": [
    "lista"
   ]
  },
  {
   "cell_type": "code",
   "execution_count": 155,
   "id": "6aabd4af",
   "metadata": {},
   "outputs": [],
   "source": [
    "a = lista.sort()"
   ]
  },
  {
   "cell_type": "code",
   "execution_count": 157,
   "id": "1cfe709a",
   "metadata": {},
   "outputs": [
    {
     "name": "stdout",
     "output_type": "stream",
     "text": [
      "None\n"
     ]
    }
   ],
   "source": [
    "print(a)"
   ]
  },
  {
   "cell_type": "code",
   "execution_count": 158,
   "id": "c46ff3a2",
   "metadata": {},
   "outputs": [
    {
     "data": {
      "text/plain": [
       "[1, 4, 10]"
      ]
     },
     "execution_count": 158,
     "metadata": {},
     "output_type": "execute_result"
    }
   ],
   "source": [
    "lista"
   ]
  },
  {
   "cell_type": "code",
   "execution_count": 159,
   "id": "d9407b21",
   "metadata": {},
   "outputs": [],
   "source": [
    "random.shuffle(lista)"
   ]
  },
  {
   "cell_type": "code",
   "execution_count": 160,
   "id": "ce72de30",
   "metadata": {},
   "outputs": [
    {
     "data": {
      "text/plain": [
       "[4, 10, 1]"
      ]
     },
     "execution_count": 160,
     "metadata": {},
     "output_type": "execute_result"
    }
   ],
   "source": [
    "lista"
   ]
  },
  {
   "cell_type": "code",
   "execution_count": 168,
   "id": "0471ca92",
   "metadata": {},
   "outputs": [
    {
     "name": "stdout",
     "output_type": "stream",
     "text": [
      "bucle exterior 0\n",
      "\tbucle interior 0\n",
      "\tbucle interior 1\n",
      "\tbucle interior 2\n",
      "bucle exterior 1\n",
      "\tbucle interior 0\n",
      "\tbucle interior 1\n",
      "\tbucle interior 2\n",
      "bucle exterior 2\n",
      "\tbucle interior 0\n",
      "\tbucle interior 1\n",
      "\tbucle interior 2\n",
      "bucle exterior 3\n",
      "\tbucle interior 0\n",
      "\tbucle interior 1\n",
      "\tbucle interior 2\n",
      "bucle exterior 4\n",
      "\tbucle interior 0\n",
      "\tbucle interior 1\n",
      "\tbucle interior 2\n"
     ]
    }
   ],
   "source": [
    "for i in range(5):\n",
    "    print('bucle exterior',i)\n",
    "    for j in range(5):\n",
    "        print('\\tbucle interior',j)\n",
    "        if j==2:\n",
    "            break"
   ]
  },
  {
   "cell_type": "markdown",
   "id": "4babddeb",
   "metadata": {},
   "source": [
    "## Ahorcado"
   ]
  },
  {
   "cell_type": "code",
   "execution_count": 190,
   "id": "6b6f068e",
   "metadata": {},
   "outputs": [
    {
     "name": "stdout",
     "output_type": "stream",
     "text": [
      "(0 fallos) Palabra *****. Letra:a\n",
      "(1 fallos) Palabra *****. Letra:e\n",
      "(1 fallos) Palabra *e***. Letra:p\n",
      "(1 fallos) Palabra pe***. Letra:u\n",
      "(2 fallos) Palabra pe***. Letra:o\n",
      "(2 fallos) Palabra pe**o. Letra:r\n",
      "Enhorabuena\n"
     ]
    }
   ],
   "source": [
    "vocabulario = ['casa','gato','perro','lapiz']\n",
    "a_adivinar = random.choice(vocabulario)\n",
    "a_mostrar = '*' * len(a_adivinar)\n",
    "intentos = 0 # contador\n",
    "max_intentos = 5\n",
    "\n",
    "while intentos < max_intentos and '*' in a_mostrar:\n",
    "    # una jugada\n",
    "    letra = input(f'({intentos} fallos) Palabra {a_mostrar}. Letra:')\n",
    "    if letra not in a_mostrar and letra in a_adivinar:\n",
    "        # sustituir asteriscos en las posiciones que toque\n",
    "        lista = list(a_mostrar) # convertimos a lista pq str no admite cambiar elementos\n",
    "        for i in range(len(a_adivinar)):\n",
    "            if a_adivinar[i] == letra:\n",
    "                lista[i] = letra\n",
    "        a_mostrar = ''.join(lista) # la convertimos de vuelta a cadena\n",
    "    else:\n",
    "        intentos += 1\n",
    "    \n",
    "if '*' in a_mostrar:\n",
    "    print('No lo has conseguido :(')\n",
    "else:\n",
    "    print('Enhorabuena')"
   ]
  },
  {
   "cell_type": "code",
   "execution_count": 173,
   "id": "7b3370f5",
   "metadata": {},
   "outputs": [
    {
     "data": {
      "text/plain": [
       "True"
      ]
     },
     "execution_count": 173,
     "metadata": {},
     "output_type": "execute_result"
    }
   ],
   "source": [
    "'*' in 'ca*a'"
   ]
  },
  {
   "cell_type": "code",
   "execution_count": 180,
   "id": "9a4f745b",
   "metadata": {},
   "outputs": [
    {
     "name": "stdout",
     "output_type": "stream",
     "text": [
      "0 p *\n",
      "1 e *\n",
      "2 r *\n",
      "3 r *\n",
      "4 o *\n"
     ]
    }
   ],
   "source": [
    "for i in range(len(a_adivinar)):\n",
    "    print(i,a_adivinar[i],a_mostrar[i])"
   ]
  },
  {
   "cell_type": "code",
   "execution_count": 182,
   "id": "775a0ba6",
   "metadata": {},
   "outputs": [
    {
     "data": {
      "text/plain": [
       "'perro'"
      ]
     },
     "execution_count": 182,
     "metadata": {},
     "output_type": "execute_result"
    }
   ],
   "source": [
    "a_adivinar"
   ]
  },
  {
   "cell_type": "code",
   "execution_count": 184,
   "id": "61255ca9",
   "metadata": {},
   "outputs": [],
   "source": [
    "lista= list(a_adivinar)"
   ]
  },
  {
   "cell_type": "code",
   "execution_count": 185,
   "id": "0d9b5ccb",
   "metadata": {},
   "outputs": [],
   "source": [
    "lista[0] = 'x'"
   ]
  },
  {
   "cell_type": "code",
   "execution_count": 186,
   "id": "6341a170",
   "metadata": {},
   "outputs": [
    {
     "data": {
      "text/plain": [
       "['x', 'e', 'r', 'r', 'o']"
      ]
     },
     "execution_count": 186,
     "metadata": {},
     "output_type": "execute_result"
    }
   ],
   "source": [
    "lista"
   ]
  },
  {
   "cell_type": "code",
   "execution_count": 187,
   "id": "aeb3e2da",
   "metadata": {},
   "outputs": [
    {
     "data": {
      "text/plain": [
       "\"['x', 'e', 'r', 'r', 'o']\""
      ]
     },
     "execution_count": 187,
     "metadata": {},
     "output_type": "execute_result"
    }
   ],
   "source": [
    "str(lista)"
   ]
  },
  {
   "cell_type": "code",
   "execution_count": 188,
   "id": "b502e431",
   "metadata": {},
   "outputs": [
    {
     "data": {
      "text/plain": [
       "'xerro'"
      ]
     },
     "execution_count": 188,
     "metadata": {},
     "output_type": "execute_result"
    }
   ],
   "source": [
    "''.join(lista)"
   ]
  },
  {
   "cell_type": "code",
   "execution_count": null,
   "id": "ef9183fb",
   "metadata": {},
   "outputs": [],
   "source": [
    "'c***'"
   ]
  }
 ],
 "metadata": {
  "kernelspec": {
   "display_name": "Python 3 (ipykernel)",
   "language": "python",
   "name": "python3"
  },
  "language_info": {
   "codemirror_mode": {
    "name": "ipython",
    "version": 3
   },
   "file_extension": ".py",
   "mimetype": "text/x-python",
   "name": "python",
   "nbconvert_exporter": "python",
   "pygments_lexer": "ipython3",
   "version": "3.10.11"
  }
 },
 "nbformat": 4,
 "nbformat_minor": 5
}
