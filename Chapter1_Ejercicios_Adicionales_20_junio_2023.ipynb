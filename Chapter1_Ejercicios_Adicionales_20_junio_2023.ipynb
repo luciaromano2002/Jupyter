{
 "cells": [
  {
   "attachments": {},
   "cell_type": "markdown",
   "metadata": {},
   "source": [
    "Given _a_ and _b_. Print \"makes 10!\" if one of them is 10 or if their sum is 10.\n",
    "Examples\n",
    "\n",
    "```python\n",
    "    a=9, b=10; prints \"makes 10!\"\n",
    "\n",
    "    a=9, b=9; prints \"10 not found\"\n",
    "\n",
    "    a=3, b=7; prints \"makes 10!\"\n",
    "```"
   ]
  },
  {
   "cell_type": "code",
   "execution_count": null,
   "metadata": {},
   "outputs": [],
   "source": []
  },
  {
   "attachments": {},
   "cell_type": "markdown",
   "metadata": {},
   "source": [
    "I'd like to calculate how long on average I've lived in the same house.\n",
    "\n",
    "Given a person's age and the number of times they've moved house as moves, return the average number of years that they've spent living in the same house.\n",
    "Examples\n",
    "\n",
    "```python\n",
    "    age=30, moves=1; prints 15\n",
    "\n",
    "    age=15, moves=2; prints 5\n",
    "\n",
    "    age=80, moves=0; prints 80\n",
    "```\n",
    "\n"
   ]
  },
  {
   "cell_type": "code",
   "execution_count": null,
   "metadata": {},
   "outputs": [],
   "source": []
  },
  {
   "attachments": {},
   "cell_type": "markdown",
   "metadata": {},
   "source": [
    "A vehicle needs 10 times the amount of fuel than the distance it travels. However, it must always carry a minimum of 100 fuel before setting off.\n",
    "\n",
    "Print the amount of fuel it needs, given the distance.\n",
    "Examples\n",
    "\n",
    "```python\n",
    "    distance=15; prints 150\n",
    "\n",
    "    distance=23.5; prints 235\n",
    "\n",
    "    distance=3; prints 100\n",
    "```\n",
    "\n",
    "Notes\n",
    "\n",
    "- Distance will be a number greater than zero.\n",
    "- Print 100 if the calculated fuel turns out to be less than 100."
   ]
  },
  {
   "cell_type": "code",
   "execution_count": null,
   "metadata": {},
   "outputs": [],
   "source": []
  },
  {
   "attachments": {},
   "cell_type": "markdown",
   "metadata": {},
   "source": [
    "Given a character _x_ and a _message_, we want to print the message without the characters that are lower in ASCII than _x_. Examples:\n",
    "\n",
    "```python\n",
    "    x = ' ', message='Hello World'; prints \"Hello World\"\n",
    "    x = 'A', message='Hello World'; prints \"HelloWorld\"\n",
    "    x = 'f', message='Hello World'; prints \"lloorl\"\n",
    "```\n",
    "\n",
    "Notes\n",
    "\n",
    "- Iterate throw the message with a loop\n",
    "- Use comparison operators for comparing two characters"
   ]
  },
  {
   "cell_type": "code",
   "execution_count": null,
   "metadata": {},
   "outputs": [],
   "source": []
  },
  {
   "attachments": {},
   "cell_type": "markdown",
   "metadata": {},
   "source": [
    "You are given 2 out of 3 angles in a triangle, in degrees.\n",
    "\n",
    "Write a code that classifies the missing angle as either \"acute\", \"right\", or \"obtuse\" based on its degrees.\n",
    "\n",
    "- An acute angle is less than 90 degrees.\n",
    "- A right angle is exactly 90 degrees.\n",
    "- An obtuse angle is greater than 90 degrees (but less than 180 degrees).\n",
    "\n",
    "For example: \n",
    "\n",
    "```python\n",
    "   angle1=11, angle2=20; prints \"obtuse\", since the missing angle would be 149 degrees, which makes it obtuse.\n",
    "```\n",
    "\n",
    "Notes\n",
    "\n",
    "- The sum of angles of any triangle is always 180 degrees."
   ]
  },
  {
   "cell_type": "code",
   "execution_count": null,
   "metadata": {},
   "outputs": [],
   "source": []
  }
 ],
 "metadata": {
  "language_info": {
   "name": "python"
  },
  "orig_nbformat": 4
 },
 "nbformat": 4,
 "nbformat_minor": 2
}
