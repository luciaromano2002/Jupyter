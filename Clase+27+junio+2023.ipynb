{
 "cells": [
  {
   "cell_type": "markdown",
   "id": "b735585c",
   "metadata": {},
   "source": [
    "# Clase 27 junio 2023"
   ]
  },
  {
   "cell_type": "markdown",
   "id": "2b81b610",
   "metadata": {},
   "source": [
    "## Ejercicio 9 quizz\n",
    "\n",
    "Three-digit Armstrong numbers\n",
    "\n",
    "Nº entre 100 y 999 tal que la suma del cubo de cada dígito es igual al propio número"
   ]
  },
  {
   "cell_type": "code",
   "execution_count": 2,
   "id": "76dbf3db",
   "metadata": {},
   "outputs": [
    {
     "name": "stdout",
     "output_type": "stream",
     "text": [
      "Three-digit Armstrong numbers: 153 370 371 407\n"
     ]
    }
   ],
   "source": [
    "# convirtiendo el nº dígito a dígito desde cadena\n",
    "lista = []\n",
    "for n in range(100,1000):\n",
    "    s = 0\n",
    "    for d in str(n):\n",
    "        s += int(d)**3\n",
    "    if s == n:\n",
    "        lista.append(n)\n",
    "print('Three-digit Armstrong numbers:', ' '.join(str(n) for n in lista))"
   ]
  },
  {
   "cell_type": "code",
   "execution_count": 3,
   "id": "9c5dca53",
   "metadata": {},
   "outputs": [
    {
     "name": "stdout",
     "output_type": "stream",
     "text": [
      "Three-digit Armstrong numbers: 153 370 371 407\n"
     ]
    }
   ],
   "source": [
    "lista = []\n",
    "for n in range(100,1000):\n",
    "    s = (n % 10)**3 + ((n//10) % 10)**3 + (n//100)**3\n",
    "    if s == n:\n",
    "        lista.append(n)\n",
    "print('Three-digit Armstrong numbers:', ' '.join(str(n) for n in lista))"
   ]
  },
  {
   "cell_type": "code",
   "execution_count": 4,
   "id": "a5d459e6",
   "metadata": {},
   "outputs": [
    {
     "name": "stdout",
     "output_type": "stream",
     "text": [
      "Three-digit Armstrong numbers: 153 370 371 407\n"
     ]
    }
   ],
   "source": [
    "lista = []\n",
    "for d1 in range(1,10):\n",
    "    for d2 in range(10):\n",
    "        for d3 in range(10):\n",
    "            s = d1**3 + d2**3 + d3**3\n",
    "            n = d1*100 + d2*10 + d3\n",
    "            if s == n:\n",
    "                lista.append(n)\n",
    "print('Three-digit Armstrong numbers:', ' '.join(str(n) for n in lista))"
   ]
  },
  {
   "cell_type": "code",
   "execution_count": 5,
   "id": "5d32023a",
   "metadata": {},
   "outputs": [],
   "source": [
    "def notaCategorica(n):\n",
    "    '''\n",
    "    Recibe un valor numérico n entre 0 y 10\n",
    "    Devuelve la nota en formato categórico\n",
    "    '''\n",
    "    if n<5:\n",
    "        return 'suspenso'\n",
    "    elif n<7:\n",
    "        return 'aprobado'\n",
    "    elif n<9:\n",
    "        return 'notable'\n",
    "    elif n<10:\n",
    "        return 'sobresaliente'\n",
    "    else:\n",
    "        return 'MH'"
   ]
  },
  {
   "cell_type": "code",
   "execution_count": 6,
   "id": "9c4eabbb",
   "metadata": {},
   "outputs": [
    {
     "data": {
      "text/plain": [
       "'notable'"
      ]
     },
     "execution_count": 6,
     "metadata": {},
     "output_type": "execute_result"
    }
   ],
   "source": [
    "notaCategorica(7.8)"
   ]
  },
  {
   "cell_type": "code",
   "execution_count": null,
   "id": "7f3825f5",
   "metadata": {},
   "outputs": [],
   "source": [
    "def notaCategorica(n):\n",
    "    '''\n",
    "    Recibe un valor numérico n entre 0 y 10\n",
    "    Devuelve la nota en formato categórico\n",
    "    '''\n",
    "    tipo = None # no haría falta\n",
    "    if n<5:\n",
    "        tipo = 'suspenso'\n",
    "    elif n<7:\n",
    "        tipo = 'aprobado'\n",
    "    elif n<9:\n",
    "        tipo = 'notable'\n",
    "    elif n<10:\n",
    "        tipo = 'sobresaliente'\n",
    "    else:\n",
    "        tipo = 'MH'\n",
    "    return tipo"
   ]
  },
  {
   "cell_type": "code",
   "execution_count": null,
   "id": "b8cdb313",
   "metadata": {},
   "outputs": [],
   "source": [
    "def notaCategorica(n):\n",
    "    '''\n",
    "    Recibe un valor numérico n entre 0 y 10\n",
    "    Devuelve la nota en formato categórico\n",
    "    '''\n",
    "    if n<5:\n",
    "        return 'suspenso'\n",
    "    if n<7:\n",
    "        return 'aprobado'\n",
    "    if n<9:\n",
    "        return 'notable'\n",
    "    if n<10:\n",
    "        return 'sobresaliente'\n",
    "    return 'MH'"
   ]
  },
  {
   "cell_type": "code",
   "execution_count": 7,
   "id": "3b90ae79",
   "metadata": {},
   "outputs": [],
   "source": [
    "def f(x):\n",
    "    return x*2\n",
    "    print(\"imposible llegar aquí\")"
   ]
  },
  {
   "cell_type": "code",
   "execution_count": 8,
   "id": "332bcf7b",
   "metadata": {},
   "outputs": [
    {
     "data": {
      "text/plain": [
       "4"
      ]
     },
     "execution_count": 8,
     "metadata": {},
     "output_type": "execute_result"
    }
   ],
   "source": [
    "f(2)"
   ]
  },
  {
   "cell_type": "code",
   "execution_count": 13,
   "id": "8fa54803",
   "metadata": {},
   "outputs": [],
   "source": [
    "def g(x):\n",
    "    print('x=',x)\n",
    "    return"
   ]
  },
  {
   "cell_type": "code",
   "execution_count": 14,
   "id": "2226070d",
   "metadata": {},
   "outputs": [
    {
     "name": "stdout",
     "output_type": "stream",
     "text": [
      "x= 5\n"
     ]
    }
   ],
   "source": [
    "v = g(5)"
   ]
  },
  {
   "cell_type": "code",
   "execution_count": 15,
   "id": "1e5a3803",
   "metadata": {},
   "outputs": [
    {
     "name": "stdout",
     "output_type": "stream",
     "text": [
      "None\n"
     ]
    }
   ],
   "source": [
    "print(v)"
   ]
  },
  {
   "cell_type": "markdown",
   "id": "5a1303c0",
   "metadata": {},
   "source": [
    "### Variables locales"
   ]
  },
  {
   "cell_type": "code",
   "execution_count": 16,
   "id": "0d004281",
   "metadata": {},
   "outputs": [],
   "source": [
    "def print_sum(a,b):\n",
    "    result = a+b\n",
    "    print(f'{a} + {b} = {result}')"
   ]
  },
  {
   "cell_type": "code",
   "execution_count": 17,
   "id": "2b7097be",
   "metadata": {},
   "outputs": [
    {
     "name": "stdout",
     "output_type": "stream",
     "text": [
      "3 + 5 = 8\n"
     ]
    }
   ],
   "source": [
    "print_sum(3,5)"
   ]
  },
  {
   "cell_type": "code",
   "execution_count": 18,
   "id": "d2ad0898",
   "metadata": {},
   "outputs": [
    {
     "ename": "NameError",
     "evalue": "name 'result' is not defined",
     "output_type": "error",
     "traceback": [
      "\u001b[1;31m---------------------------------------------------------------------------\u001b[0m",
      "\u001b[1;31mNameError\u001b[0m                                 Traceback (most recent call last)",
      "Cell \u001b[1;32mIn[18], line 1\u001b[0m\n\u001b[1;32m----> 1\u001b[0m \u001b[43mresult\u001b[49m\n",
      "\u001b[1;31mNameError\u001b[0m: name 'result' is not defined"
     ]
    }
   ],
   "source": [
    "result"
   ]
  },
  {
   "cell_type": "code",
   "execution_count": 19,
   "id": "729f8d05",
   "metadata": {},
   "outputs": [],
   "source": [
    "result = 2000"
   ]
  },
  {
   "cell_type": "code",
   "execution_count": 20,
   "id": "6f05fe5c",
   "metadata": {},
   "outputs": [
    {
     "name": "stdout",
     "output_type": "stream",
     "text": [
      "5 + 3 = 8\n"
     ]
    }
   ],
   "source": [
    "print_sum(5,3)"
   ]
  },
  {
   "cell_type": "code",
   "execution_count": 21,
   "id": "86fbdb26",
   "metadata": {},
   "outputs": [
    {
     "data": {
      "text/plain": [
       "2000"
      ]
     },
     "execution_count": 21,
     "metadata": {},
     "output_type": "execute_result"
    }
   ],
   "source": [
    "result"
   ]
  },
  {
   "cell_type": "markdown",
   "id": "19013991",
   "metadata": {},
   "source": [
    "### Argumentos variables, con valor por defecto, etc."
   ]
  },
  {
   "cell_type": "code",
   "execution_count": 27,
   "id": "3979822a",
   "metadata": {},
   "outputs": [],
   "source": [
    "def f(a,b=1,c=4):\n",
    "    print(a,b,c)"
   ]
  },
  {
   "cell_type": "code",
   "execution_count": 28,
   "id": "bbdc9b60",
   "metadata": {},
   "outputs": [
    {
     "name": "stdout",
     "output_type": "stream",
     "text": [
      "2 3 4\n"
     ]
    }
   ],
   "source": [
    "f(2,3)"
   ]
  },
  {
   "cell_type": "code",
   "execution_count": 29,
   "id": "034740e5",
   "metadata": {},
   "outputs": [
    {
     "name": "stdout",
     "output_type": "stream",
     "text": [
      "2 3 7\n"
     ]
    }
   ],
   "source": [
    "f(2,3,7)"
   ]
  },
  {
   "cell_type": "code",
   "execution_count": 34,
   "id": "7bdc3663",
   "metadata": {},
   "outputs": [
    {
     "name": "stdout",
     "output_type": "stream",
     "text": [
      "2 1 9\n"
     ]
    }
   ],
   "source": [
    "f(2,c=9) # 2 es un parámetro POSICIONAL, 9 es nombrado"
   ]
  },
  {
   "cell_type": "code",
   "execution_count": 35,
   "id": "d4c460b4",
   "metadata": {},
   "outputs": [
    {
     "name": "stdout",
     "output_type": "stream",
     "text": [
      "100 12 9\n"
     ]
    }
   ],
   "source": [
    "f(c=9,b=12,a=100)"
   ]
  },
  {
   "cell_type": "code",
   "execution_count": 36,
   "id": "6be53a1e",
   "metadata": {},
   "outputs": [
    {
     "ename": "SyntaxError",
     "evalue": "non-default argument follows default argument (3117473447.py, line 1)",
     "output_type": "error",
     "traceback": [
      "\u001b[1;36m  Cell \u001b[1;32mIn[36], line 1\u001b[1;36m\u001b[0m\n\u001b[1;33m    def g(a=5,b,c): # ERROR los parámetros con valor por defecto han de estar al final\u001b[0m\n\u001b[1;37m              ^\u001b[0m\n\u001b[1;31mSyntaxError\u001b[0m\u001b[1;31m:\u001b[0m non-default argument follows default argument\n"
     ]
    }
   ],
   "source": [
    "def g(a=5,b,c): # ERROR los parámetros con valor por defecto han de estar al final\n",
    "    print(a,b,c)"
   ]
  },
  {
   "cell_type": "code",
   "execution_count": 40,
   "id": "f1e1502f",
   "metadata": {},
   "outputs": [],
   "source": [
    "def h(x,y,*z): # observad el \"*\" precediendo z\n",
    "    print(x,y)\n",
    "    print(type(z),len(z),z)"
   ]
  },
  {
   "cell_type": "code",
   "execution_count": 41,
   "id": "d524599e",
   "metadata": {},
   "outputs": [
    {
     "name": "stdout",
     "output_type": "stream",
     "text": [
      "5 7\n",
      "<class 'tuple'> 0 ()\n"
     ]
    }
   ],
   "source": [
    "h(5,7)"
   ]
  },
  {
   "cell_type": "code",
   "execution_count": 42,
   "id": "b0d7aa2d",
   "metadata": {},
   "outputs": [
    {
     "name": "stdout",
     "output_type": "stream",
     "text": [
      "5 7\n",
      "<class 'tuple'> 3 (1, 2, 3)\n"
     ]
    }
   ],
   "source": [
    "h(5,7,1,2,3)"
   ]
  },
  {
   "cell_type": "code",
   "execution_count": 45,
   "id": "8de57ee3",
   "metadata": {},
   "outputs": [],
   "source": [
    "def tnirp(*args):\n",
    "    for i in range(len(args)-1,-1,-1):\n",
    "        print(args[i],end=' ')\n",
    "    print()"
   ]
  },
  {
   "cell_type": "code",
   "execution_count": 46,
   "id": "29bb2138",
   "metadata": {},
   "outputs": [
    {
     "name": "stdout",
     "output_type": "stream",
     "text": [
      "tres dos uno \n"
     ]
    }
   ],
   "source": [
    "tnirp('uno','dos','tres')"
   ]
  },
  {
   "cell_type": "code",
   "execution_count": 47,
   "id": "e9f90c15",
   "metadata": {},
   "outputs": [],
   "source": [
    "def f(x=2,y=3,*z): # hay parámetros posicionales con valor por defecto y luego *z\n",
    "    print(x,y,z)"
   ]
  },
  {
   "cell_type": "code",
   "execution_count": 48,
   "id": "32468fd1",
   "metadata": {},
   "outputs": [
    {
     "name": "stdout",
     "output_type": "stream",
     "text": [
      "2 3 ()\n"
     ]
    }
   ],
   "source": [
    "f()"
   ]
  },
  {
   "cell_type": "code",
   "execution_count": 49,
   "id": "08608f8a",
   "metadata": {},
   "outputs": [
    {
     "name": "stdout",
     "output_type": "stream",
     "text": [
      "5 3 ()\n"
     ]
    }
   ],
   "source": [
    "f(5)"
   ]
  },
  {
   "cell_type": "code",
   "execution_count": 50,
   "id": "dd7b1688",
   "metadata": {},
   "outputs": [
    {
     "name": "stdout",
     "output_type": "stream",
     "text": [
      "5 7 ()\n"
     ]
    }
   ],
   "source": [
    "f(5,7)"
   ]
  },
  {
   "cell_type": "code",
   "execution_count": 51,
   "id": "b0022e02",
   "metadata": {},
   "outputs": [
    {
     "name": "stdout",
     "output_type": "stream",
     "text": [
      "5 7 (9,)\n"
     ]
    }
   ],
   "source": [
    "f(5,7,9)"
   ]
  },
  {
   "cell_type": "code",
   "execution_count": 56,
   "id": "8468c2e3",
   "metadata": {},
   "outputs": [
    {
     "ename": "TypeError",
     "evalue": "f() got multiple values for argument 'x'",
     "output_type": "error",
     "traceback": [
      "\u001b[1;31m---------------------------------------------------------------------------\u001b[0m",
      "\u001b[1;31mTypeError\u001b[0m                                 Traceback (most recent call last)",
      "Cell \u001b[1;32mIn[56], line 1\u001b[0m\n\u001b[1;32m----> 1\u001b[0m \u001b[43mf\u001b[49m\u001b[43m(\u001b[49m\u001b[38;5;241;43m5\u001b[39;49m\u001b[43m,\u001b[49m\u001b[43my\u001b[49m\u001b[38;5;241;43m=\u001b[39;49m\u001b[38;5;241;43m10\u001b[39;49m\u001b[43m,\u001b[49m\u001b[43mx\u001b[49m\u001b[38;5;241;43m=\u001b[39;49m\u001b[38;5;241;43m3\u001b[39;49m\u001b[43m)\u001b[49m\n",
      "\u001b[1;31mTypeError\u001b[0m: f() got multiple values for argument 'x'"
     ]
    }
   ],
   "source": [
    "f(5,y=10,x=3)"
   ]
  },
  {
   "cell_type": "code",
   "execution_count": 59,
   "id": "6e423143",
   "metadata": {},
   "outputs": [],
   "source": [
    "def f(x,y):\n",
    "    return x+y, x*y # devuelve una tupla aunque no escriba entre paréntesis"
   ]
  },
  {
   "cell_type": "code",
   "execution_count": 60,
   "id": "6c984c1f",
   "metadata": {},
   "outputs": [
    {
     "data": {
      "text/plain": [
       "tuple"
      ]
     },
     "execution_count": 60,
     "metadata": {},
     "output_type": "execute_result"
    }
   ],
   "source": [
    "type(f(2,3))"
   ]
  },
  {
   "cell_type": "code",
   "execution_count": 61,
   "id": "c072a592",
   "metadata": {},
   "outputs": [
    {
     "data": {
      "text/plain": [
       "(5, 6)"
      ]
     },
     "execution_count": 61,
     "metadata": {},
     "output_type": "execute_result"
    }
   ],
   "source": [
    "f(2,3)"
   ]
  },
  {
   "cell_type": "code",
   "execution_count": 65,
   "id": "b4684543",
   "metadata": {},
   "outputs": [
    {
     "name": "stdout",
     "output_type": "stream",
     "text": [
      "0 10\n",
      "1 20\n",
      "2 30\n"
     ]
    },
    {
     "data": {
      "text/plain": [
       "{(3, 4): 5}"
      ]
     },
     "execution_count": 65,
     "metadata": {},
     "output_type": "execute_result"
    }
   ],
   "source": [
    "# otros contextos donde python te permite usar tuplas sin paréntesis:\n",
    "x,y = 1,2\n",
    "x,y = y,x\n",
    "\n",
    "for i,v in enumerate([10,20,30]):\n",
    "    print(i,v)\n",
    "    \n",
    "d = {}\n",
    "d[3,4] = 5\n",
    "d"
   ]
  },
  {
   "cell_type": "markdown",
   "id": "f17707fb",
   "metadata": {},
   "source": [
    "## Paper code Q2 slide 53"
   ]
  },
  {
   "cell_type": "code",
   "execution_count": 73,
   "id": "4fcef499",
   "metadata": {},
   "outputs": [],
   "source": [
    "def max2(x,y):\n",
    "    if x > y:\n",
    "        return x\n",
    "    else:\n",
    "        return y"
   ]
  },
  {
   "cell_type": "code",
   "execution_count": 74,
   "id": "3bcf58a2",
   "metadata": {},
   "outputs": [],
   "source": [
    "def min2(x,y):\n",
    "    return x if x<y else y # para recordar que python tiene expresión condicional"
   ]
  },
  {
   "cell_type": "code",
   "execution_count": 75,
   "id": "0c1558e3",
   "metadata": {},
   "outputs": [
    {
     "data": {
      "text/plain": [
       "'The larger of 100 or 200 is : 200'"
      ]
     },
     "execution_count": 75,
     "metadata": {},
     "output_type": "execute_result"
    }
   ],
   "source": [
    "f'The larger of 100 or 200 is : {max2(100,200)}'"
   ]
  },
  {
   "cell_type": "code",
   "execution_count": 76,
   "id": "461b062a",
   "metadata": {},
   "outputs": [
    {
     "data": {
      "text/plain": [
       "'The smaller of 100 or 200 is : 100'"
      ]
     },
     "execution_count": 76,
     "metadata": {},
     "output_type": "execute_result"
    }
   ],
   "source": [
    "f'The smaller of 100 or 200 is : {min2(100,200)}'"
   ]
  },
  {
   "cell_type": "code",
   "execution_count": 80,
   "id": "2659bfab",
   "metadata": {},
   "outputs": [
    {
     "name": "stdout",
     "output_type": "stream",
     "text": [
      "1 mile = 1.61 kilometers\n",
      "2 mile = 3.22 kilometers\n",
      "3 mile = 4.83 kilometers\n",
      "4 mile = 6.44 kilometers\n",
      "5 mile = 8.05 kilometers\n"
     ]
    }
   ],
   "source": [
    "def mile2km(m):\n",
    "    return 1.61*m\n",
    "\n",
    "def mile2km(m): # con variable local\n",
    "    km = 1.61*m\n",
    "    return km\n",
    "\n",
    "for m in range(1,5+1):\n",
    "    km = mile2km(m) # la variable km no tiene que ver con la de arriba\n",
    "    print(f'{m} mile = {km} kilometers')"
   ]
  },
  {
   "cell_type": "code",
   "execution_count": 81,
   "id": "f79b6b71",
   "metadata": {},
   "outputs": [
    {
     "data": {
      "text/plain": [
       "1"
      ]
     },
     "execution_count": 81,
     "metadata": {},
     "output_type": "execute_result"
    }
   ],
   "source": [
    "'...'.count('..') # cuenta nº subcadenas NO SOLAPADAS"
   ]
  },
  {
   "cell_type": "code",
   "execution_count": 82,
   "id": "6c88306b",
   "metadata": {},
   "outputs": [
    {
     "data": {
      "text/plain": [
       "65"
      ]
     },
     "execution_count": 82,
     "metadata": {},
     "output_type": "execute_result"
    }
   ],
   "source": [
    "ord('A')"
   ]
  },
  {
   "cell_type": "code",
   "execution_count": 83,
   "id": "6ca7f5f6",
   "metadata": {},
   "outputs": [
    {
     "data": {
      "text/plain": [
       "'A'"
      ]
     },
     "execution_count": 83,
     "metadata": {},
     "output_type": "execute_result"
    }
   ],
   "source": [
    "chr(65)"
   ]
  },
  {
   "cell_type": "code",
   "execution_count": 84,
   "id": "474e1640",
   "metadata": {},
   "outputs": [
    {
     "data": {
      "text/plain": [
       "True"
      ]
     },
     "execution_count": 84,
     "metadata": {},
     "output_type": "execute_result"
    }
   ],
   "source": [
    "'z' > 'Z'"
   ]
  },
  {
   "cell_type": "code",
   "execution_count": 86,
   "id": "cf94fad2",
   "metadata": {},
   "outputs": [
    {
     "data": {
      "text/plain": [
       "(122, 90)"
      ]
     },
     "execution_count": 86,
     "metadata": {},
     "output_type": "execute_result"
    }
   ],
   "source": [
    "ord('z'),ord('Z')"
   ]
  },
  {
   "cell_type": "code",
   "execution_count": 87,
   "id": "d2e2a4ad",
   "metadata": {},
   "outputs": [
    {
     "data": {
      "text/plain": [
       "128540"
      ]
     },
     "execution_count": 87,
     "metadata": {},
     "output_type": "execute_result"
    }
   ],
   "source": [
    "ord('😜')"
   ]
  },
  {
   "cell_type": "code",
   "execution_count": 88,
   "id": "414f1064",
   "metadata": {},
   "outputs": [
    {
     "data": {
      "text/plain": [
       "'😜'"
      ]
     },
     "execution_count": 88,
     "metadata": {},
     "output_type": "execute_result"
    }
   ],
   "source": [
    "chr(128540)"
   ]
  },
  {
   "cell_type": "code",
   "execution_count": 89,
   "id": "7224024c",
   "metadata": {},
   "outputs": [
    {
     "data": {
      "text/plain": [
       "3"
      ]
     },
     "execution_count": 89,
     "metadata": {},
     "output_type": "execute_result"
    }
   ],
   "source": [
    "\"la casa\".count('a')"
   ]
  },
  {
   "cell_type": "code",
   "execution_count": 90,
   "id": "5091342f",
   "metadata": {},
   "outputs": [
    {
     "data": {
      "text/plain": [
       "2"
      ]
     },
     "execution_count": 90,
     "metadata": {},
     "output_type": "execute_result"
    }
   ],
   "source": [
    "['la','casa','la'].count('la')"
   ]
  },
  {
   "cell_type": "code",
   "execution_count": 91,
   "id": "435aeae0",
   "metadata": {},
   "outputs": [
    {
     "data": {
      "text/plain": [
       "0"
      ]
     },
     "execution_count": 91,
     "metadata": {},
     "output_type": "execute_result"
    }
   ],
   "source": [
    "['la','casa'].index('la')"
   ]
  },
  {
   "cell_type": "code",
   "execution_count": 92,
   "id": "daa7abdb",
   "metadata": {},
   "outputs": [
    {
     "data": {
      "text/plain": [
       "3"
      ]
     },
     "execution_count": 92,
     "metadata": {},
     "output_type": "execute_result"
    }
   ],
   "source": [
    "'la casa'.find('casa')"
   ]
  },
  {
   "cell_type": "code",
   "execution_count": 95,
   "id": "fe306bfa",
   "metadata": {},
   "outputs": [
    {
     "data": {
      "text/plain": [
       "'CASA'"
      ]
     },
     "execution_count": 95,
     "metadata": {},
     "output_type": "execute_result"
    }
   ],
   "source": [
    "a = 'casa'\n",
    "a.upper() # las cadenas python son inmutables, devuelve una nueva"
   ]
  },
  {
   "cell_type": "code",
   "execution_count": 96,
   "id": "c5d978f8",
   "metadata": {},
   "outputs": [
    {
     "data": {
      "text/plain": [
       "'casa'"
      ]
     },
     "execution_count": 96,
     "metadata": {},
     "output_type": "execute_result"
    }
   ],
   "source": [
    "a "
   ]
  },
  {
   "cell_type": "code",
   "execution_count": 97,
   "id": "29d499bc",
   "metadata": {},
   "outputs": [
    {
     "data": {
      "text/plain": [
       "True"
      ]
     },
     "execution_count": 97,
     "metadata": {},
     "output_type": "execute_result"
    }
   ],
   "source": [
    "'El Quijote'.istitle()"
   ]
  },
  {
   "cell_type": "code",
   "execution_count": 98,
   "id": "c97b1815",
   "metadata": {},
   "outputs": [
    {
     "data": {
      "text/plain": [
       "False"
      ]
     },
     "execution_count": 98,
     "metadata": {},
     "output_type": "execute_result"
    }
   ],
   "source": [
    "'El ingenioso hidalgo don Quijote'.istitle()"
   ]
  },
  {
   "cell_type": "code",
   "execution_count": 99,
   "id": "f945d283",
   "metadata": {},
   "outputs": [
    {
     "name": "stdout",
     "output_type": "stream",
     "text": [
      "30\n"
     ]
    }
   ],
   "source": [
    "# slide 67\n",
    "\n",
    "def print_sum():\n",
    "    result = a + b\n",
    "    print(result)\n",
    "    \n",
    "a = 10\n",
    "b = 20\n",
    "print_sum()"
   ]
  },
  {
   "cell_type": "code",
   "execution_count": 100,
   "id": "aa394a4d",
   "metadata": {},
   "outputs": [
    {
     "name": "stdout",
     "output_type": "stream",
     "text": [
      "a 10 b 20\n",
      "300\n",
      "a 10 b 20\n"
     ]
    }
   ],
   "source": [
    "def print_sum2():\n",
    "    a = 100\n",
    "    b = 200\n",
    "    result = a + b\n",
    "    print(result)\n",
    "    \n",
    "a = 10\n",
    "b = 20\n",
    "print('a',a,'b',b)\n",
    "print_sum2()\n",
    "print('a',a,'b',b) # las variables globales no cambian con la ejecución anterior"
   ]
  },
  {
   "cell_type": "code",
   "execution_count": 104,
   "id": "3ddda80b",
   "metadata": {},
   "outputs": [
    {
     "ename": "UnboundLocalError",
     "evalue": "local variable 'a' referenced before assignment",
     "output_type": "error",
     "traceback": [
      "\u001b[1;31m---------------------------------------------------------------------------\u001b[0m",
      "\u001b[1;31mUnboundLocalError\u001b[0m                         Traceback (most recent call last)",
      "Cell \u001b[1;32mIn[104], line 9\u001b[0m\n\u001b[0;32m      5\u001b[0m     result \u001b[38;5;241m=\u001b[39m a \u001b[38;5;241m+\u001b[39m b\n\u001b[0;32m      6\u001b[0m     \u001b[38;5;28mprint\u001b[39m(result)\n\u001b[1;32m----> 9\u001b[0m \u001b[43mprint_sum3\u001b[49m\u001b[43m(\u001b[49m\u001b[43m)\u001b[49m\n",
      "Cell \u001b[1;32mIn[104], line 2\u001b[0m, in \u001b[0;36mprint_sum3\u001b[1;34m()\u001b[0m\n\u001b[0;32m      1\u001b[0m \u001b[38;5;28;01mdef\u001b[39;00m \u001b[38;5;21mprint_sum3\u001b[39m():\n\u001b[1;32m----> 2\u001b[0m     \u001b[38;5;28mprint\u001b[39m(\u001b[38;5;124m'\u001b[39m\u001b[38;5;124ma\u001b[39m\u001b[38;5;124m'\u001b[39m,\u001b[43ma\u001b[49m,\u001b[38;5;124m'\u001b[39m\u001b[38;5;124mb\u001b[39m\u001b[38;5;124m'\u001b[39m,b)\n\u001b[0;32m      3\u001b[0m     a \u001b[38;5;241m=\u001b[39m \u001b[38;5;241m100\u001b[39m\n\u001b[0;32m      4\u001b[0m     b \u001b[38;5;241m=\u001b[39m \u001b[38;5;241m200\u001b[39m\n",
      "\u001b[1;31mUnboundLocalError\u001b[0m: local variable 'a' referenced before assignment"
     ]
    }
   ],
   "source": [
    "def print_sum3():\n",
    "    a = 100\n",
    "    b = 200\n",
    "    result = a + b\n",
    "    print(result)\n",
    "    \n",
    "\n",
    "print_sum3()"
   ]
  },
  {
   "cell_type": "code",
   "execution_count": 106,
   "id": "c70107c3",
   "metadata": {},
   "outputs": [
    {
     "name": "stdout",
     "output_type": "stream",
     "text": [
      "[1, 2, 3]\n",
      "[4, 5, 6]\n"
     ]
    }
   ],
   "source": [
    "lista = [1,2,3]\n",
    "\n",
    "def f(x):\n",
    "    x.clear()\n",
    "    x.extend([4,5,6])\n",
    "\n",
    "print(lista)\n",
    "f(lista)\n",
    "print(lista)"
   ]
  },
  {
   "cell_type": "code",
   "execution_count": 107,
   "id": "71136c62",
   "metadata": {},
   "outputs": [
    {
     "name": "stdout",
     "output_type": "stream",
     "text": [
      "[10, 20, 30]\n",
      "ahora soy una cadena\n"
     ]
    }
   ],
   "source": [
    "lista = [10,20,30]\n",
    "\n",
    "def f(x):\n",
    "    global lista\n",
    "    lista = \"ahora soy una cadena\"\n",
    "    \n",
    "print(lista)\n",
    "f(None)\n",
    "print(lista)"
   ]
  },
  {
   "cell_type": "code",
   "execution_count": 110,
   "id": "4f14719e",
   "metadata": {},
   "outputs": [
    {
     "name": "stdout",
     "output_type": "stream",
     "text": [
      "102400\n"
     ]
    }
   ],
   "source": [
    "# slide 74\n",
    "\n",
    "GLOBAL_VALUE = 1024\n",
    "\n",
    "def foo():\n",
    "    a = GLOBAL_VALUE * 100\n",
    "    print(a)\n",
    "\n",
    "foo()"
   ]
  },
  {
   "cell_type": "code",
   "execution_count": 111,
   "id": "6a2debc7",
   "metadata": {},
   "outputs": [
    {
     "name": "stdout",
     "output_type": "stream",
     "text": [
      "12345\n"
     ]
    }
   ],
   "source": [
    "def foo_malvado():\n",
    "    global GLOBAL_VALUE\n",
    "    GLOBAL_VALUE = 12345\n",
    "    \n",
    "foo_malvado()\n",
    "print(GLOBAL_VALUE)"
   ]
  },
  {
   "cell_type": "code",
   "execution_count": 112,
   "id": "e2712966",
   "metadata": {},
   "outputs": [
    {
     "data": {
      "text/plain": [
       "'HOLA'"
      ]
     },
     "execution_count": 112,
     "metadata": {},
     "output_type": "execute_result"
    }
   ],
   "source": [
    "\"hola\".upper() # método"
   ]
  },
  {
   "cell_type": "code",
   "execution_count": 113,
   "id": "8901a14b",
   "metadata": {},
   "outputs": [
    {
     "data": {
      "text/plain": [
       "4"
      ]
     },
     "execution_count": 113,
     "metadata": {},
     "output_type": "execute_result"
    }
   ],
   "source": [
    "len(\"hola\") # funcion"
   ]
  },
  {
   "cell_type": "code",
   "execution_count": 117,
   "id": "7e015b27",
   "metadata": {},
   "outputs": [
    {
     "data": {
      "text/plain": [
       "1776311201440"
      ]
     },
     "execution_count": 117,
     "metadata": {},
     "output_type": "execute_result"
    }
   ],
   "source": [
    "res = set()\n",
    "id(res)"
   ]
  },
  {
   "cell_type": "code",
   "execution_count": 118,
   "id": "dfb69369",
   "metadata": {},
   "outputs": [
    {
     "data": {
      "text/plain": [
       "1776309284064"
      ]
     },
     "execution_count": 118,
     "metadata": {},
     "output_type": "execute_result"
    }
   ],
   "source": [
    "res = res | {(3,2)}\n",
    "id(res)"
   ]
  },
  {
   "cell_type": "code",
   "execution_count": 137,
   "id": "6f47d3e6",
   "metadata": {},
   "outputs": [],
   "source": [
    "def f():\n",
    "    res = set()\n",
    "    for i in range(40000):\n",
    "        res = res | {i} # ESTO ES UNA BURRADA\n",
    "    return res"
   ]
  },
  {
   "cell_type": "code",
   "execution_count": 138,
   "id": "733603fb",
   "metadata": {},
   "outputs": [
    {
     "name": "stdout",
     "output_type": "stream",
     "text": [
      "CPU times: total: 18.1 s\n",
      "Wall time: 18.1 s\n"
     ]
    }
   ],
   "source": [
    "%time cjt = f()"
   ]
  },
  {
   "cell_type": "code",
   "execution_count": 139,
   "id": "6da34b5f",
   "metadata": {},
   "outputs": [],
   "source": [
    "def f_ok():\n",
    "    res = set()\n",
    "    for i in range(1000_000):\n",
    "        res.add(i)\n",
    "    return res"
   ]
  },
  {
   "cell_type": "code",
   "execution_count": 140,
   "id": "b174f793",
   "metadata": {},
   "outputs": [
    {
     "name": "stdout",
     "output_type": "stream",
     "text": [
      "CPU times: total: 109 ms\n",
      "Wall time: 116 ms\n"
     ]
    }
   ],
   "source": [
    "%time cjt2 = f_ok()"
   ]
  },
  {
   "cell_type": "code",
   "execution_count": 141,
   "id": "97a1e43a",
   "metadata": {},
   "outputs": [
    {
     "data": {
      "text/plain": [
       "{('circulo', 'azul'),\n",
       " ('circulo', 'rojo'),\n",
       " ('circulo', 'verde'),\n",
       " ('cuadrado', 'azul'),\n",
       " ('cuadrado', 'rojo'),\n",
       " ('cuadrado', 'verde'),\n",
       " ('triangulo', 'azul'),\n",
       " ('triangulo', 'rojo'),\n",
       " ('triangulo', 'verde')}"
      ]
     },
     "execution_count": 141,
     "metadata": {},
     "output_type": "execute_result"
    }
   ],
   "source": [
    "fig = {'cuadrado', 'triangulo', 'circulo'}\n",
    "color = {'rojo', 'verde', 'azul'}\n",
    "\n",
    "def product_set(cjtA, cjtB):\n",
    "    res = set()\n",
    "    for x in cjtA:\n",
    "        for y in cjtB:\n",
    "            res.add( (x,y) )\n",
    "    return res\n",
    "\n",
    "product_set(fig, color)"
   ]
  },
  {
   "cell_type": "code",
   "execution_count": 144,
   "id": "e40e86b8",
   "metadata": {},
   "outputs": [
    {
     "data": {
      "text/plain": [
       "[0, 1, 4, 9, 16, 25, 36, 49, 64, 81]"
      ]
     },
     "execution_count": 144,
     "metadata": {},
     "output_type": "execute_result"
    }
   ],
   "source": [
    "[x**2 for x in range(10)]"
   ]
  },
  {
   "cell_type": "code",
   "execution_count": 145,
   "id": "67a95628",
   "metadata": {},
   "outputs": [
    {
     "data": {
      "text/plain": [
       "{0, 1, 4, 9, 16, 25, 36, 49, 64, 81}"
      ]
     },
     "execution_count": 145,
     "metadata": {},
     "output_type": "execute_result"
    }
   ],
   "source": [
    "{x**2 for x in range(10)}"
   ]
  },
  {
   "cell_type": "code",
   "execution_count": 146,
   "id": "d613a91b",
   "metadata": {},
   "outputs": [
    {
     "data": {
      "text/plain": [
       "{('circulo', 'azul'),\n",
       " ('circulo', 'rojo'),\n",
       " ('circulo', 'verde'),\n",
       " ('cuadrado', 'azul'),\n",
       " ('cuadrado', 'rojo'),\n",
       " ('cuadrado', 'verde'),\n",
       " ('triangulo', 'azul'),\n",
       " ('triangulo', 'rojo'),\n",
       " ('triangulo', 'verde')}"
      ]
     },
     "execution_count": 146,
     "metadata": {},
     "output_type": "execute_result"
    }
   ],
   "source": [
    "{ (f,c) for f in fig for c in color }"
   ]
  },
  {
   "cell_type": "code",
   "execution_count": null,
   "id": "a912ee7c",
   "metadata": {},
   "outputs": [],
   "source": [
    "def product_set(cjt1, cjt2):\n",
    "    return { (x,y) for x in cjt1 for y in cjt2 }"
   ]
  },
  {
   "cell_type": "code",
   "execution_count": 147,
   "id": "811e052a",
   "metadata": {},
   "outputs": [
    {
     "data": {
      "text/plain": [
       "{0, 1, 4, 9, 16, 25, 36, 49, 64, 81}"
      ]
     },
     "execution_count": 147,
     "metadata": {},
     "output_type": "execute_result"
    }
   ],
   "source": [
    "{x**2 for x in range(10)}"
   ]
  },
  {
   "cell_type": "code",
   "execution_count": 148,
   "id": "15e83934",
   "metadata": {},
   "outputs": [
    {
     "data": {
      "text/plain": [
       "{0: 0, 1: 1, 2: 4, 3: 9, 4: 16, 5: 25, 6: 36, 7: 49, 8: 64, 9: 81}"
      ]
     },
     "execution_count": 148,
     "metadata": {},
     "output_type": "execute_result"
    }
   ],
   "source": [
    "{x:x**2 for x in range(10)}"
   ]
  },
  {
   "cell_type": "markdown",
   "id": "da48e0b1",
   "metadata": {},
   "source": [
    "## continuar sobre cómo es pasan parámetros a funciones"
   ]
  },
  {
   "cell_type": "code",
   "execution_count": 157,
   "id": "043ff285",
   "metadata": {},
   "outputs": [],
   "source": [
    "def imprimir(*args,sep=' ',end='\\n'):\n",
    "    print(args)\n",
    "    print('separador',repr(sep),'finalizador',repr(end))\n",
    "    "
   ]
  },
  {
   "cell_type": "code",
   "execution_count": 159,
   "id": "2b829671",
   "metadata": {},
   "outputs": [
    {
     "name": "stdout",
     "output_type": "stream",
     "text": [
      "('uno', 2, 'tres')\n",
      "separador '-' finalizador '\\n'\n"
     ]
    }
   ],
   "source": [
    "imprimir(\"uno\",2,\"tres\", sep='-')\n",
    " # sep y end solamente son accesibles como keyword arguments"
   ]
  },
  {
   "cell_type": "code",
   "execution_count": 163,
   "id": "7a4dc749",
   "metadata": {},
   "outputs": [
    {
     "data": {
      "text/plain": [
       "{'casa': 'blanca', 'coche': 'rojo'}"
      ]
     },
     "execution_count": 163,
     "metadata": {},
     "output_type": "execute_result"
    }
   ],
   "source": [
    "dict(casa='blanca',coche='rojo')"
   ]
  },
  {
   "cell_type": "code",
   "execution_count": 166,
   "id": "44123cd0",
   "metadata": {},
   "outputs": [],
   "source": [
    "def f(*x, **z):\n",
    "    print(x,z)"
   ]
  },
  {
   "cell_type": "code",
   "execution_count": 167,
   "id": "251cddf6",
   "metadata": {},
   "outputs": [
    {
     "name": "stdout",
     "output_type": "stream",
     "text": [
      "(1, 2, 3) {}\n"
     ]
    }
   ],
   "source": [
    "f(1,2,3)"
   ]
  },
  {
   "cell_type": "code",
   "execution_count": 168,
   "id": "f6695aea",
   "metadata": {},
   "outputs": [
    {
     "name": "stdout",
     "output_type": "stream",
     "text": [
      "(1, 2, 3) {'start': 12, 'end': 5}\n"
     ]
    }
   ],
   "source": [
    "f(1,2,3,start=12,end=5)"
   ]
  },
  {
   "cell_type": "code",
   "execution_count": 169,
   "id": "ee693853",
   "metadata": {},
   "outputs": [],
   "source": [
    "def f(a,b,*x, start=5,end=4,**z):\n",
    "    print(a,b,x,start,end,z)"
   ]
  },
  {
   "cell_type": "code",
   "execution_count": 170,
   "id": "8249482f",
   "metadata": {},
   "outputs": [
    {
     "name": "stdout",
     "output_type": "stream",
     "text": [
      "1 2 (3, 4, 5) 200 4 {'step': 5}\n"
     ]
    }
   ],
   "source": [
    "f(1,2,3,4,5,start=200,step=5)"
   ]
  },
  {
   "cell_type": "code",
   "execution_count": 171,
   "id": "9c855911",
   "metadata": {},
   "outputs": [
    {
     "data": {
      "text/plain": [
       "3"
      ]
     },
     "execution_count": 171,
     "metadata": {},
     "output_type": "execute_result"
    }
   ],
   "source": [
    "min(20,3,12)"
   ]
  },
  {
   "cell_type": "code",
   "execution_count": 172,
   "id": "39b15de0",
   "metadata": {},
   "outputs": [
    {
     "data": {
      "text/plain": [
       "1"
      ]
     },
     "execution_count": 172,
     "metadata": {},
     "output_type": "execute_result"
    }
   ],
   "source": [
    "min([1,2,3])"
   ]
  },
  {
   "cell_type": "code",
   "execution_count": 177,
   "id": "381f942b",
   "metadata": {},
   "outputs": [],
   "source": [
    "def minimo(*args):\n",
    "    print(args)\n",
    "    if len(args) == 1:\n",
    "        args = args[0]\n",
    "    elmenor = args[0]\n",
    "    for i in range(1,len(args)):\n",
    "        if args[i] < elmenor:\n",
    "            elmenor = args[i]\n",
    "    return elmenor"
   ]
  },
  {
   "cell_type": "code",
   "execution_count": 178,
   "id": "a807c809",
   "metadata": {},
   "outputs": [
    {
     "name": "stdout",
     "output_type": "stream",
     "text": [
      "(20, 5, 100, 4, 1000)\n"
     ]
    },
    {
     "data": {
      "text/plain": [
       "4"
      ]
     },
     "execution_count": 178,
     "metadata": {},
     "output_type": "execute_result"
    }
   ],
   "source": [
    "minimo(20,5,100,4,1000)"
   ]
  },
  {
   "cell_type": "code",
   "execution_count": 179,
   "id": "618eac7e",
   "metadata": {},
   "outputs": [
    {
     "name": "stdout",
     "output_type": "stream",
     "text": [
      "([20, 5, 100, 4, 1000],)\n"
     ]
    },
    {
     "data": {
      "text/plain": [
       "4"
      ]
     },
     "execution_count": 179,
     "metadata": {},
     "output_type": "execute_result"
    }
   ],
   "source": [
    "minimo([20,5,100,4,1000])"
   ]
  },
  {
   "cell_type": "code",
   "execution_count": null,
   "id": "8c68fe67",
   "metadata": {},
   "outputs": [],
   "source": []
  },
  {
   "cell_type": "code",
   "execution_count": null,
   "id": "eb91cfe8",
   "metadata": {},
   "outputs": [],
   "source": []
  }
 ],
 "metadata": {
  "kernelspec": {
   "display_name": "Python 3 (ipykernel)",
   "language": "python",
   "name": "python3"
  },
  "language_info": {
   "codemirror_mode": {
    "name": "ipython",
    "version": 3
   },
   "file_extension": ".py",
   "mimetype": "text/x-python",
   "name": "python",
   "nbconvert_exporter": "python",
   "pygments_lexer": "ipython3",
   "version": "3.10.11"
  }
 },
 "nbformat": 4,
 "nbformat_minor": 5
}
