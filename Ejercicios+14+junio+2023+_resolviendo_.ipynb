{
 "cells": [
  {
   "cell_type": "markdown",
   "id": "36c95416",
   "metadata": {},
   "source": [
    "# Ejercicios (14 junio 2023)"
   ]
  },
  {
   "cell_type": "markdown",
   "id": "09deda9f",
   "metadata": {},
   "source": [
    "### Ejercicio 1\n",
    "\n",
    "Haz un programa que pida el nombre y a continuación salude subrayando el nombre:\n",
    "\n",
    "```\n",
    "¿Cómo te llamas? María\n",
    "Hola María\n",
    "     *****\n",
    "```"
   ]
  },
  {
   "cell_type": "code",
   "execution_count": 3,
   "id": "a6a1d1d4",
   "metadata": {},
   "outputs": [
    {
     "name": "stdout",
     "output_type": "stream",
     "text": [
      "¿Cómo te llamas? María\n",
      "Hola María\n",
      "     *****\n"
     ]
    }
   ],
   "source": [
    "nombre = input('¿Cómo te llamas? ')\n",
    "print('Hola',nombre)\n",
    "print('    ','*' * len(nombre))"
   ]
  },
  {
   "cell_type": "code",
   "execution_count": 2,
   "id": "e376dee2",
   "metadata": {},
   "outputs": [
    {
     "data": {
      "text/plain": [
       "'**********'"
      ]
     },
     "execution_count": 2,
     "metadata": {},
     "output_type": "execute_result"
    }
   ],
   "source": [
    "'*' * 10"
   ]
  },
  {
   "cell_type": "markdown",
   "id": "fdeeeaa8",
   "metadata": {},
   "source": [
    "### Ejercicio 2\n",
    "\n",
    "Haz un programa que pregunta la fecha de nacimiento de una persona y diga si será mayor de edad para votar el 23 de julio de 2023.\n",
    "\n",
    "La fecha de nacimiento se dará en formato AAAA-MM-DD.\n",
    "\n",
    "Ejemplos:\n",
    "\n",
    "```\n",
    "Indroduce la fecha de nacimiento AAAA-MM-DD: 2010-01-01\n",
    "Demasiado joven para votar\n",
    "```\n",
    "\n",
    "```\n",
    "Indroduce la fecha de nacimiento AAAA-MM-DD: 2005-06-30\n",
    "Puede votar\n",
    "```\n",
    "\n",
    "Pistas:\n",
    "\n",
    "- se puede utilizar `cadena.split(separador)`\n",
    "- se puede crear una tupla con las cifras y al comparar tuplas se comparan en orden *lexicográfico*, ejemplos:"
   ]
  },
  {
   "cell_type": "code",
   "execution_count": 5,
   "id": "d6bd1a9e",
   "metadata": {},
   "outputs": [
    {
     "data": {
      "text/plain": [
       "['2012', '06', '15']"
      ]
     },
     "execution_count": 5,
     "metadata": {},
     "output_type": "execute_result"
    }
   ],
   "source": [
    "'2012-06-15'.split('-')"
   ]
  },
  {
   "cell_type": "code",
   "execution_count": 12,
   "id": "20620298",
   "metadata": {},
   "outputs": [
    {
     "data": {
      "text/plain": [
       "True"
      ]
     },
     "execution_count": 12,
     "metadata": {},
     "output_type": "execute_result"
    }
   ],
   "source": [
    "(2,2,1) <= (2,2,3)"
   ]
  },
  {
   "cell_type": "code",
   "execution_count": 13,
   "id": "46dbfb90",
   "metadata": {},
   "outputs": [
    {
     "data": {
      "text/plain": [
       "False"
      ]
     },
     "execution_count": 13,
     "metadata": {},
     "output_type": "execute_result"
    }
   ],
   "source": [
    "(2,2,1) <= (2,2,0)"
   ]
  },
  {
   "cell_type": "code",
   "execution_count": 14,
   "id": "6a3d6c85",
   "metadata": {},
   "outputs": [
    {
     "data": {
      "text/plain": [
       "False"
      ]
     },
     "execution_count": 14,
     "metadata": {},
     "output_type": "execute_result"
    }
   ],
   "source": [
    "(3,0,0) <= (2,10,10)"
   ]
  },
  {
   "cell_type": "code",
   "execution_count": 17,
   "id": "83b1f8fe",
   "metadata": {},
   "outputs": [
    {
     "name": "stdout",
     "output_type": "stream",
     "text": [
      "Indroduce la fecha de nacimiento AAAA-MM-DD: 2004-10-05\n",
      "Puede votar\n"
     ]
    }
   ],
   "source": [
    "fecha = input('Indroduce la fecha de nacimiento AAAA-MM-DD: ')\n",
    "fecha = fecha.split('-')\n",
    "año = int(fecha[0])\n",
    "mes = int(fecha[1])\n",
    "dia = int(fecha[2])\n",
    "fecha = (año, mes, dia)\n",
    "if fecha <= (2005,7,23):\n",
    "    print('Puede votar')\n",
    "else:\n",
    "    print('Demasiado joven para votar')"
   ]
  },
  {
   "cell_type": "code",
   "execution_count": 20,
   "id": "9822bcd2",
   "metadata": {},
   "outputs": [
    {
     "data": {
      "text/plain": [
       "['2004', '10', '05']"
      ]
     },
     "execution_count": 20,
     "metadata": {},
     "output_type": "execute_result"
    }
   ],
   "source": [
    "fecha = '2004-10-05'\n",
    "fecha = fecha.split('-')\n",
    "fecha"
   ]
  },
  {
   "cell_type": "code",
   "execution_count": 22,
   "id": "1ab45df4",
   "metadata": {},
   "outputs": [],
   "source": [
    "año, mes, dia = fecha # unboxing"
   ]
  },
  {
   "cell_type": "code",
   "execution_count": 23,
   "id": "ad01bfec",
   "metadata": {},
   "outputs": [
    {
     "data": {
      "text/plain": [
       "('2004', '10', '05')"
      ]
     },
     "execution_count": 23,
     "metadata": {},
     "output_type": "execute_result"
    }
   ],
   "source": [
    "año, mes, dia"
   ]
  },
  {
   "cell_type": "markdown",
   "id": "1811bb3b",
   "metadata": {},
   "source": [
    "### Ejercicio 3\n",
    "\n",
    "Haz un programa que pida la hora de entrada en un parking (HH:MM) y la hora de salida (HH:MM) suponiendo que son en el mismo día. Debe calcular el número de minutos transcurridos y el precio a pagar sabiendo que:\n",
    "\n",
    "- Si la hora de salida es anterior debe imprimir ERROR.\n",
    "- Una estancia de menos de 30 minutos es gratuita.\n",
    "- A partir de 30 minutos cuesta 0.50 la primera hora transcurrida y 0.02 el minuto lo que pase de esa hora."
   ]
  },
  {
   "cell_type": "code",
   "execution_count": 39,
   "id": "0905320d",
   "metadata": {},
   "outputs": [
    {
     "name": "stdout",
     "output_type": "stream",
     "text": [
      "Hora de entrada HH:MM? 10:50\n",
      "Hora de salida HH:MM? 11:05\n",
      "Duracion 15\n",
      "Hay que pagar 0.00 euros\n"
     ]
    }
   ],
   "source": [
    "entrada = input('Hora de entrada HH:MM? ')\n",
    "salida = input('Hora de salida HH:MM? ')\n",
    "\n",
    "h1,m1 = entrada.split(':')\n",
    "h1,m1 = int(h1),int(m1)\n",
    "\n",
    "h2,m2 = salida.split(':')\n",
    "h2,m2 = int(h2),int(m2)\n",
    "\n",
    "duracion = (h2-h1)*60 + m2 - m1\n",
    "# duracion = (h2*60+m2) - (h1*60+m1) # otra forma\n",
    "print('Duracion',duracion)\n",
    "if duracion < 0:\n",
    "    print(\"ERROR\")\n",
    "else:\n",
    "    if duracion < 30:\n",
    "        pvp = 0\n",
    "    else:\n",
    "        # alternativamente pvp = 0.50 + max(0,duracion-60)*0.02\n",
    "        pvp = 0.50\n",
    "        if duracion > 60:\n",
    "            pvp += (duracion-60)*0.02\n",
    "    print(f'Hay que pagar {pvp:.2f} euros')\n",
    "        "
   ]
  },
  {
   "cell_type": "code",
   "execution_count": 36,
   "id": "ace7e118",
   "metadata": {},
   "outputs": [
    {
     "data": {
      "text/plain": [
       "50"
      ]
     },
     "execution_count": 36,
     "metadata": {},
     "output_type": "execute_result"
    }
   ],
   "source": [
    "duracion"
   ]
  },
  {
   "cell_type": "code",
   "execution_count": 26,
   "id": "06b6e731",
   "metadata": {},
   "outputs": [
    {
     "data": {
      "text/plain": [
       "'15'"
      ]
     },
     "execution_count": 26,
     "metadata": {},
     "output_type": "execute_result"
    }
   ],
   "source": [
    "m1"
   ]
  },
  {
   "cell_type": "code",
   "execution_count": 27,
   "id": "31c2822d",
   "metadata": {},
   "outputs": [],
   "source": [
    "tupla = (1,2,3)\n",
    "lista = [1,2,3]"
   ]
  },
  {
   "cell_type": "code",
   "execution_count": 28,
   "id": "eacb74e3",
   "metadata": {},
   "outputs": [
    {
     "data": {
      "text/plain": [
       "3"
      ]
     },
     "execution_count": 28,
     "metadata": {},
     "output_type": "execute_result"
    }
   ],
   "source": [
    "len(tupla)"
   ]
  },
  {
   "cell_type": "code",
   "execution_count": 29,
   "id": "0f6ab1a1",
   "metadata": {},
   "outputs": [
    {
     "data": {
      "text/plain": [
       "3"
      ]
     },
     "execution_count": 29,
     "metadata": {},
     "output_type": "execute_result"
    }
   ],
   "source": [
    "len(lista)"
   ]
  },
  {
   "cell_type": "code",
   "execution_count": 32,
   "id": "fd07f2bb",
   "metadata": {},
   "outputs": [
    {
     "ename": "TypeError",
     "evalue": "'tuple' object does not support item assignment",
     "output_type": "error",
     "traceback": [
      "\u001b[1;31m---------------------------------------------------------------------------\u001b[0m",
      "\u001b[1;31mTypeError\u001b[0m                                 Traceback (most recent call last)",
      "Cell \u001b[1;32mIn[32], line 1\u001b[0m\n\u001b[1;32m----> 1\u001b[0m tupla[\u001b[38;5;241m0\u001b[39m] \u001b[38;5;241m=\u001b[39m \u001b[38;5;241m5\u001b[39m\n",
      "\u001b[1;31mTypeError\u001b[0m: 'tuple' object does not support item assignment"
     ]
    }
   ],
   "source": [
    "tupla[0] = 5"
   ]
  },
  {
   "cell_type": "code",
   "execution_count": 33,
   "id": "f2f51a89",
   "metadata": {},
   "outputs": [],
   "source": [
    "lista[0] = 5"
   ]
  },
  {
   "cell_type": "code",
   "execution_count": 34,
   "id": "81089f0a",
   "metadata": {},
   "outputs": [
    {
     "data": {
      "text/plain": [
       "[5, 2, 3]"
      ]
     },
     "execution_count": 34,
     "metadata": {},
     "output_type": "execute_result"
    }
   ],
   "source": [
    "lista"
   ]
  },
  {
   "cell_type": "markdown",
   "id": "eeb50046",
   "metadata": {},
   "source": [
    "### Ejercicio 4\n",
    "\n",
    "Dado un precio en euros, imprimirlo separando euros y céntimos"
   ]
  },
  {
   "cell_type": "code",
   "execution_count": 65,
   "id": "b01c4e78",
   "metadata": {},
   "outputs": [
    {
     "name": "stdout",
     "output_type": "stream",
     "text": [
      "Cantidad: 0.02\n",
      "2 centimos\n"
     ]
    }
   ],
   "source": [
    "cantidad = float(input('Cantidad: '))\n",
    "\n",
    "euros = int(cantidad) # round(cantidad,0), también cantidad//1\n",
    "centimos = int(round(100*(cantidad-euros),0))\n",
    "\n",
    "txt = ''\n",
    "if euros > 0:\n",
    "    txt = str(euros) + ' euro'\n",
    "    if euros != 1:\n",
    "        txt = txt+'s'\n",
    "    if centimos != 0:\n",
    "        txt = txt + ' con '\n",
    "if centimos != 0:\n",
    "    txt = txt + str(centimos) + ' centimo'\n",
    "    if centimos != 1:\n",
    "        txt = txt + 's'\n",
    "print(txt)"
   ]
  },
  {
   "cell_type": "code",
   "execution_count": 55,
   "id": "37ae42a3",
   "metadata": {},
   "outputs": [
    {
     "data": {
      "text/plain": [
       "15.1"
      ]
     },
     "execution_count": 55,
     "metadata": {},
     "output_type": "execute_result"
    }
   ],
   "source": [
    "cantidad = float(input('Cantidad: '))\n",
    "\n",
    "euros = int(cantidad) # round(cantidad,0), también cantidad//1\n",
    "centimos = int(round(100*(cantidad-euros),0))\n",
    "\n",
    "txt = ''\n",
    "if euros > 0:\n",
    "    # expresion condicional\n",
    "    # valor if condicion else otro_valor\n",
    "    txt = (str(euros) + (' euro' if euros==1 else ' euros') +\n",
    "          ' con ' if centimos!=0 else '')\n",
    "if centimos != 0:\n",
    "    txt = txt + str(centimos) + (' centimo' if centimos==1 else 'centimos')\n",
    "print(txt)"
   ]
  },
  {
   "cell_type": "code",
   "execution_count": 56,
   "id": "6814c667",
   "metadata": {},
   "outputs": [
    {
     "data": {
      "text/plain": [
       "0.09999999999999964"
      ]
     },
     "execution_count": 56,
     "metadata": {},
     "output_type": "execute_result"
    }
   ],
   "source": [
    "15.1 - 15"
   ]
  },
  {
   "cell_type": "code",
   "execution_count": 58,
   "id": "4970d3bd",
   "metadata": {},
   "outputs": [
    {
     "data": {
      "text/plain": [
       "0.09999999999999964"
      ]
     },
     "execution_count": 58,
     "metadata": {},
     "output_type": "execute_result"
    }
   ],
   "source": [
    "10.1 - 10"
   ]
  },
  {
   "cell_type": "code",
   "execution_count": 46,
   "id": "8bd5175c",
   "metadata": {},
   "outputs": [
    {
     "data": {
      "text/plain": [
       "15"
      ]
     },
     "execution_count": 46,
     "metadata": {},
     "output_type": "execute_result"
    }
   ],
   "source": [
    "int(cantidad)"
   ]
  },
  {
   "cell_type": "code",
   "execution_count": 49,
   "id": "86faedac",
   "metadata": {},
   "outputs": [
    {
     "data": {
      "text/plain": [
       "15.0"
      ]
     },
     "execution_count": 49,
     "metadata": {},
     "output_type": "execute_result"
    }
   ],
   "source": [
    "cantidad // 1"
   ]
  },
  {
   "cell_type": "markdown",
   "id": "b9307bcd",
   "metadata": {},
   "source": [
    "## Random"
   ]
  },
  {
   "cell_type": "code",
   "execution_count": 68,
   "id": "1b316080",
   "metadata": {},
   "outputs": [],
   "source": [
    "import random"
   ]
  },
  {
   "cell_type": "code",
   "execution_count": 90,
   "id": "6dd49c73",
   "metadata": {},
   "outputs": [
    {
     "data": {
      "text/plain": [
       "4"
      ]
     },
     "execution_count": 90,
     "metadata": {},
     "output_type": "execute_result"
    }
   ],
   "source": [
    "random.randint(1,4) # nº aleatorio entre 1 y 10 inclusive"
   ]
  },
  {
   "cell_type": "code",
   "execution_count": 92,
   "id": "b9f1043f",
   "metadata": {},
   "outputs": [
    {
     "data": {
      "text/plain": [
       "0"
      ]
     },
     "execution_count": 92,
     "metadata": {},
     "output_type": "execute_result"
    }
   ],
   "source": [
    "random.randrange(3) # nº aleatorio entre 0 y 2 (3 no incluido)"
   ]
  },
  {
   "cell_type": "code",
   "execution_count": null,
   "id": "00f853cc",
   "metadata": {},
   "outputs": [],
   "source": [
    "random.randrange(2,10) # nº aleatorio entre 2 y 9"
   ]
  },
  {
   "cell_type": "code",
   "execution_count": 93,
   "id": "f648866b",
   "metadata": {},
   "outputs": [
    {
     "data": {
      "text/plain": [
       "'cruz'"
      ]
     },
     "execution_count": 93,
     "metadata": {},
     "output_type": "execute_result"
    }
   ],
   "source": [
    "random.choice(['cara','cruz'])"
   ]
  },
  {
   "cell_type": "code",
   "execution_count": 94,
   "id": "56e8e1c3",
   "metadata": {},
   "outputs": [
    {
     "name": "stdout",
     "output_type": "stream",
     "text": [
      "uno\n",
      "dos\n",
      "tres\n"
     ]
    }
   ],
   "source": [
    "for x in ['uno','dos','tres']:\n",
    "    print(x)"
   ]
  },
  {
   "cell_type": "markdown",
   "id": "c30af748",
   "metadata": {},
   "source": [
    "Ejercicio:\n",
    "\n",
    "- pedir al usuario una frase\n",
    "- imprimir las palabras una debajo de la anterior\n",
    "    "
   ]
  },
  {
   "cell_type": "code",
   "execution_count": 97,
   "id": "48834fd3",
   "metadata": {},
   "outputs": [
    {
     "name": "stdout",
     "output_type": "stream",
     "text": [
      "Escribe una frase: esto es una prueba\n",
      "esto\n",
      "es\n",
      "una\n",
      "prueba\n"
     ]
    }
   ],
   "source": [
    "frase = input('Escribe una frase: ')\n",
    "for palabra in frase.split():\n",
    "    print(palabra)"
   ]
  },
  {
   "cell_type": "code",
   "execution_count": 100,
   "id": "2d66ebe0",
   "metadata": {},
   "outputs": [
    {
     "name": "stdout",
     "output_type": "stream",
     "text": [
      "h\n",
      "o\n",
      "l\n",
      "a\n"
     ]
    }
   ],
   "source": [
    "for letra in \"hola\":\n",
    "    print(letra)"
   ]
  },
  {
   "cell_type": "code",
   "execution_count": 101,
   "id": "2e660706",
   "metadata": {},
   "outputs": [
    {
     "name": "stdout",
     "output_type": "stream",
     "text": [
      "10\n",
      "11\n",
      "12\n",
      "13\n",
      "14\n",
      "15\n",
      "16\n",
      "17\n",
      "18\n",
      "19\n"
     ]
    }
   ],
   "source": [
    "for i in range(10,20):\n",
    "    print(i)"
   ]
  },
  {
   "cell_type": "code",
   "execution_count": 102,
   "id": "90127cd8",
   "metadata": {},
   "outputs": [
    {
     "name": "stdout",
     "output_type": "stream",
     "text": [
      "0\n",
      "1\n",
      "2\n",
      "3\n",
      "4\n"
     ]
    }
   ],
   "source": [
    "for i in range(5):\n",
    "    print(i)"
   ]
  },
  {
   "cell_type": "code",
   "execution_count": 106,
   "id": "be4561ea",
   "metadata": {},
   "outputs": [],
   "source": [
    "for i in range(1,11,-1):\n",
    "    print(i)"
   ]
  },
  {
   "cell_type": "code",
   "execution_count": 108,
   "id": "f3e00568",
   "metadata": {},
   "outputs": [
    {
     "name": "stdout",
     "output_type": "stream",
     "text": [
      "10\n",
      "9\n",
      "8\n",
      "7\n",
      "6\n",
      "5\n",
      "4\n",
      "3\n",
      "2\n",
      "1\n",
      "0\n"
     ]
    }
   ],
   "source": [
    "for i in range(10,-1,-1):\n",
    "    print(i)"
   ]
  },
  {
   "cell_type": "code",
   "execution_count": 114,
   "id": "f57e190c",
   "metadata": {},
   "outputs": [
    {
     "name": "stdout",
     "output_type": "stream",
     "text": [
      " 0 x 7 =  0\n",
      " 1 x 7 =  7\n",
      " 2 x 7 = 14\n",
      " 3 x 7 = 21\n",
      " 4 x 7 = 28\n",
      " 5 x 7 = 35\n",
      " 6 x 7 = 42\n",
      " 7 x 7 = 49\n",
      " 8 x 7 = 56\n",
      " 9 x 7 = 63\n",
      "10 x 7 = 70\n",
      "hola\n"
     ]
    }
   ],
   "source": [
    "n = 7\n",
    "for i in range(0,11):\n",
    "    print(f'{i:2} x {n} = {i*n:2}')\n",
    "print('hola')"
   ]
  },
  {
   "cell_type": "markdown",
   "id": "6f6efec1",
   "metadata": {},
   "source": [
    "### Ejercicio\n",
    "\n",
    "Pedir al usuario una frase e imprimir una por línea las palabras de la frase\n",
    "\n",
    "Pero ahora las palabras que terminen en vocal (aeiou) se imprimirán en mayúscula"
   ]
  },
  {
   "cell_type": "code",
   "execution_count": 120,
   "id": "0db674c3",
   "metadata": {},
   "outputs": [
    {
     "name": "stdout",
     "output_type": "stream",
     "text": [
      "Escribe una frase: esto es una prueba\n",
      "ESTO\n",
      "es\n",
      "UNA\n",
      "PRUEBA\n"
     ]
    }
   ],
   "source": [
    "frase = input('Escribe una frase: ')\n",
    "for palabra in frase.split():\n",
    "    if palabra[-1] in 'aeiou':\n",
    "        palabra = palabra.upper()\n",
    "    print(palabra)"
   ]
  },
  {
   "cell_type": "code",
   "execution_count": 116,
   "id": "92de7fb8",
   "metadata": {},
   "outputs": [],
   "source": [
    "palabra = \"teléfono\""
   ]
  },
  {
   "cell_type": "code",
   "execution_count": 118,
   "id": "08afc640",
   "metadata": {},
   "outputs": [
    {
     "data": {
      "text/plain": [
       "'o'"
      ]
     },
     "execution_count": 118,
     "metadata": {},
     "output_type": "execute_result"
    }
   ],
   "source": [
    "palabra[len(palabra)-1]"
   ]
  },
  {
   "cell_type": "code",
   "execution_count": 119,
   "id": "b02c9e89",
   "metadata": {},
   "outputs": [
    {
     "data": {
      "text/plain": [
       "'o'"
      ]
     },
     "execution_count": 119,
     "metadata": {},
     "output_type": "execute_result"
    }
   ],
   "source": [
    "palabra[-1]"
   ]
  },
  {
   "cell_type": "code",
   "execution_count": 121,
   "id": "515f4535",
   "metadata": {},
   "outputs": [
    {
     "name": "stdout",
     "output_type": "stream",
     "text": [
      "Escribe una frase: otras frases de prueba\n",
      "0 otras\n",
      "1 frases\n",
      "2 DE\n",
      "3 PRUEBA\n"
     ]
    }
   ],
   "source": [
    "frase = input('Escribe una frase: ')\n",
    "lista = frase.split()\n",
    "indice = 0\n",
    "for palabra in lista:\n",
    "    if palabra[-1] in 'aeiou':\n",
    "        palabra = palabra.upper()\n",
    "    print(indice, palabra)\n",
    "    indice = indice+1 # o también indice += 1"
   ]
  },
  {
   "cell_type": "code",
   "execution_count": null,
   "id": "1e517564",
   "metadata": {},
   "outputs": [],
   "source": [
    "frase = input('Escribe una frase: ')\n",
    "lista = frase.split()\n",
    "for indice in range(len(lista)):\n",
    "    palabra = lista[indice]\n",
    "    if palabra[-1] in 'aeiou':\n",
    "        palabra = palabra.upper()\n",
    "    print(indice, palabra)\n"
   ]
  },
  {
   "cell_type": "code",
   "execution_count": 122,
   "id": "dd142e4c",
   "metadata": {},
   "outputs": [
    {
     "name": "stdout",
     "output_type": "stream",
     "text": [
      "Escribe una frase: el gato está encima de la mesa\n",
      "0 el\n",
      "1 GATO\n",
      "2 está\n",
      "3 ENCIMA\n",
      "4 DE\n",
      "5 LA\n",
      "6 MESA\n"
     ]
    }
   ],
   "source": [
    "frase = input('Escribe una frase: ')\n",
    "lista = frase.split()\n",
    "for indice,palabra in enumerate(lista):\n",
    "    if palabra[-1] in 'aeiou':\n",
    "        palabra = palabra.upper()\n",
    "    print(indice, palabra)"
   ]
  },
  {
   "cell_type": "code",
   "execution_count": 135,
   "id": "2bdcb232",
   "metadata": {},
   "outputs": [
    {
     "name": "stdout",
     "output_type": "stream",
     "text": [
      "Ensalada, Lubina, Fruta\n",
      "Ensalada, Lubina, Flan\n",
      "Ensalada, Ternera, Fruta\n",
      "Ensalada, Ternera, Flan\n",
      "Ensalada, Lasaña espinacas, Fruta\n",
      "Ensalada, Lasaña espinacas, Flan\n",
      "Entremeses, Lubina, Fruta\n",
      "Entremeses, Lubina, Flan\n",
      "Entremeses, Ternera, Fruta\n",
      "Entremeses, Ternera, Flan\n",
      "Entremeses, Lasaña espinacas, Fruta\n",
      "Entremeses, Lasaña espinacas, Flan\n",
      "Gazpacho, Lubina, Fruta\n",
      "Gazpacho, Lubina, Flan\n",
      "Gazpacho, Ternera, Fruta\n",
      "Gazpacho, Ternera, Flan\n",
      "Gazpacho, Lasaña espinacas, Fruta\n",
      "Gazpacho, Lasaña espinacas, Flan\n",
      "Paella, Lubina, Fruta\n",
      "Paella, Lubina, Flan\n",
      "Paella, Ternera, Fruta\n",
      "Paella, Ternera, Flan\n",
      "Paella, Lasaña espinacas, Fruta\n",
      "Paella, Lasaña espinacas, Flan\n",
      "La sugerencia del Chef es:Entremeses, Lasaña espinacas, Fruta\n"
     ]
    }
   ],
   "source": [
    "primeros = ['Ensalada','Entremeses','Gazpacho','Paella']\n",
    "segundos = ['Lubina','Ternera','Lasaña espinacas']\n",
    "postres = ['Fruta','Flan']\n",
    "\n",
    "for primero in primeros:\n",
    "    for segundo in segundos:\n",
    "        for postre in postres:\n",
    "            print(primero,segundo,postre,sep=', ')\n",
    "            \n",
    "print('La sugerencia del Chef es:', end='')\n",
    "print(random.choice(primeros),\n",
    "      random.choice(segundos),\n",
    "      random.choice(postres), sep=', ')"
   ]
  },
  {
   "cell_type": "code",
   "execution_count": 145,
   "id": "eb6118c4",
   "metadata": {},
   "outputs": [
    {
     "name": "stdout",
     "output_type": "stream",
     "text": [
      "Ensalada, Lubina, Fruta (740 calorias)\n",
      "Ensalada, Lubina, Flan (780 calorias)\n",
      "Ensalada, Ternera, Fruta (840 calorias)\n",
      "Ensalada, Ternera, Flan (880 calorias)\n",
      "Ensalada, Lasaña espinacas, Fruta (890 calorias)\n",
      "Ensalada, Lasaña espinacas, Flan (930 calorias)\n",
      "Entremeses, Lubina, Fruta (1340 calorias)\n",
      "Entremeses, Lubina, Flan (1380 calorias)\n",
      "Entremeses, Ternera, Fruta (1440 calorias)\n",
      "Entremeses, Ternera, Flan (1480 calorias)\n",
      "Entremeses, Lasaña espinacas, Fruta (1490 calorias)\n",
      "Entremeses, Lasaña espinacas, Flan (1530 calorias)\n",
      "Gazpacho, Lubina, Fruta (790 calorias)\n",
      "Gazpacho, Lubina, Flan (830 calorias)\n",
      "Gazpacho, Ternera, Fruta (890 calorias)\n",
      "Gazpacho, Ternera, Flan (930 calorias)\n",
      "Gazpacho, Lasaña espinacas, Fruta (940 calorias)\n",
      "Gazpacho, Lasaña espinacas, Flan (980 calorias)\n",
      "Paella, Lubina, Fruta (1040 calorias)\n",
      "Paella, Lubina, Flan (1080 calorias)\n",
      "Paella, Ternera, Fruta (1140 calorias)\n",
      "Paella, Ternera, Flan (1180 calorias)\n",
      "Paella, Lasaña espinacas, Fruta (1190 calorias)\n",
      "Paella, Lasaña espinacas, Flan (1230 calorias)\n"
     ]
    }
   ],
   "source": [
    "primeros = [('Ensalada',200),\n",
    "            ('Entremeses',800),\n",
    "            ('Gazpacho',250),\n",
    "            ('Paella',500)]\n",
    "segundos = [('Lubina',350),\n",
    "            ('Ternera',450),\n",
    "            ('Lasaña espinacas',500)]\n",
    "postres = [('Fruta',190),\n",
    "           ('Flan',230)]\n",
    "\n",
    "for primero,cal1 in primeros:\n",
    "    for segundo,cal2 in segundos:\n",
    "        for postre,cal3 in postres:\n",
    "            calorias = cal1+cal2+cal3\n",
    "            print(primero,segundo,postre,sep=', ',end=' ')\n",
    "            print(f'({calorias} calorias)')\n",
    "            "
   ]
  },
  {
   "cell_type": "code",
   "execution_count": 139,
   "id": "2be28fb1",
   "metadata": {},
   "outputs": [],
   "source": [
    "a = ('Entremeses',800)"
   ]
  },
  {
   "cell_type": "code",
   "execution_count": 140,
   "id": "d716afe8",
   "metadata": {},
   "outputs": [
    {
     "data": {
      "text/plain": [
       "('Entremeses', 800)"
      ]
     },
     "execution_count": 140,
     "metadata": {},
     "output_type": "execute_result"
    }
   ],
   "source": [
    "a"
   ]
  },
  {
   "cell_type": "code",
   "execution_count": 141,
   "id": "f3caf089",
   "metadata": {},
   "outputs": [],
   "source": [
    "a,b = ('Entremeses',800)"
   ]
  },
  {
   "cell_type": "code",
   "execution_count": 149,
   "id": "d2599224",
   "metadata": {},
   "outputs": [],
   "source": [
    "lista = [1,2,3]"
   ]
  },
  {
   "cell_type": "code",
   "execution_count": 153,
   "id": "9af5a01e",
   "metadata": {},
   "outputs": [],
   "source": [
    "lista.append('hola')"
   ]
  },
  {
   "cell_type": "code",
   "execution_count": 154,
   "id": "36dfea0d",
   "metadata": {},
   "outputs": [
    {
     "data": {
      "text/plain": [
       "[1, 2, 3, 'hola', 'hola']"
      ]
     },
     "execution_count": 154,
     "metadata": {},
     "output_type": "execute_result"
    }
   ],
   "source": [
    "lista"
   ]
  },
  {
   "cell_type": "code",
   "execution_count": 147,
   "id": "23a46628",
   "metadata": {},
   "outputs": [
    {
     "name": "stdout",
     "output_type": "stream",
     "text": [
      "Ensalada, Lubina, Fruta (740 calorias)\n",
      "Ensalada, Lubina, Flan (780 calorias)\n",
      "Ensalada, Ternera, Fruta (840 calorias)\n",
      "Ensalada, Ternera, Flan (880 calorias)\n",
      "Ensalada, Lasaña espinacas, Fruta (890 calorias)\n",
      "Ensalada, Lasaña espinacas, Flan (930 calorias)\n",
      "Entremeses, Lubina, Fruta (1340 calorias)\n",
      "Entremeses, Lubina, Flan (1380 calorias)\n",
      "Entremeses, Ternera, Fruta (1440 calorias)\n",
      "Entremeses, Ternera, Flan (1480 calorias)\n",
      "Entremeses, Lasaña espinacas, Fruta (1490 calorias)\n",
      "Entremeses, Lasaña espinacas, Flan (1530 calorias)\n",
      "Gazpacho, Lubina, Fruta (790 calorias)\n",
      "Gazpacho, Lubina, Flan (830 calorias)\n",
      "Gazpacho, Ternera, Fruta (890 calorias)\n",
      "Gazpacho, Ternera, Flan (930 calorias)\n",
      "Gazpacho, Lasaña espinacas, Fruta (940 calorias)\n",
      "Gazpacho, Lasaña espinacas, Flan (980 calorias)\n",
      "Paella, Lubina, Fruta (1040 calorias)\n",
      "Paella, Lubina, Flan (1080 calorias)\n",
      "Paella, Ternera, Fruta (1140 calorias)\n",
      "Paella, Ternera, Flan (1180 calorias)\n",
      "Paella, Lasaña espinacas, Fruta (1190 calorias)\n",
      "Paella, Lasaña espinacas, Flan (1230 calorias)\n"
     ]
    }
   ],
   "source": [
    "primeros = [('Ensalada',200),\n",
    "            ('Entremeses',800),\n",
    "            ('Gazpacho',250),\n",
    "            ('Paella',500)]\n",
    "segundos = [('Lubina',350),\n",
    "            ('Ternera',450),\n",
    "            ('Lasaña espinacas',500)]\n",
    "postres = [('Fruta',190),\n",
    "           ('Flan',230)]\n",
    "\n",
    "combinaciones = []\n",
    "\n",
    "for primero,cal1 in primeros:\n",
    "    for segundo,cal2 in segundos:\n",
    "        for postre,cal3 in postres:\n",
    "            calorias = cal1+cal2+cal3\n",
    "            plato = f'{primero}, {segundo}, {postre} ({calorias} calorias)'\n",
    "            print(plato)\n",
    "            combinaciones.append((calorias,plato))\n",
    "            "
   ]
  },
  {
   "cell_type": "code",
   "execution_count": 156,
   "id": "b91745f3",
   "metadata": {},
   "outputs": [
    {
     "name": "stdout",
     "output_type": "stream",
     "text": [
      "Ensalada, Lubina, Fruta (740 calorias)\n",
      "Ensalada, Lubina, Flan (780 calorias)\n",
      "Gazpacho, Lubina, Fruta (790 calorias)\n",
      "Gazpacho, Lubina, Flan (830 calorias)\n",
      "Ensalada, Ternera, Fruta (840 calorias)\n",
      "Ensalada, Ternera, Flan (880 calorias)\n",
      "Ensalada, Lasaña espinacas, Fruta (890 calorias)\n",
      "Gazpacho, Ternera, Fruta (890 calorias)\n",
      "Ensalada, Lasaña espinacas, Flan (930 calorias)\n",
      "Gazpacho, Ternera, Flan (930 calorias)\n",
      "Gazpacho, Lasaña espinacas, Fruta (940 calorias)\n",
      "Gazpacho, Lasaña espinacas, Flan (980 calorias)\n",
      "Paella, Lubina, Fruta (1040 calorias)\n",
      "Paella, Lubina, Flan (1080 calorias)\n",
      "Paella, Ternera, Fruta (1140 calorias)\n",
      "Paella, Ternera, Flan (1180 calorias)\n",
      "Paella, Lasaña espinacas, Fruta (1190 calorias)\n",
      "Paella, Lasaña espinacas, Flan (1230 calorias)\n",
      "Entremeses, Lubina, Fruta (1340 calorias)\n",
      "Entremeses, Lubina, Flan (1380 calorias)\n",
      "Entremeses, Ternera, Fruta (1440 calorias)\n",
      "Entremeses, Ternera, Flan (1480 calorias)\n",
      "Entremeses, Lasaña espinacas, Fruta (1490 calorias)\n",
      "Entremeses, Lasaña espinacas, Flan (1530 calorias)\n"
     ]
    }
   ],
   "source": [
    "for calorias,plato in sorted(combinaciones):\n",
    "    print(plato)"
   ]
  },
  {
   "cell_type": "markdown",
   "id": "001425cf",
   "metadata": {},
   "source": [
    "## Sumatorio\n",
    "\n",
    "Calcular $\\sum_{i=1}^{10} i^3$"
   ]
  },
  {
   "cell_type": "code",
   "execution_count": 157,
   "id": "232b10fc",
   "metadata": {},
   "outputs": [
    {
     "name": "stdout",
     "output_type": "stream",
     "text": [
      "3025\n"
     ]
    }
   ],
   "source": [
    "s = 0 # donde voy a acumular la suma\n",
    "for i in range(1,11):\n",
    "    s = s + i**3 # s += i**3\n",
    "print(s)"
   ]
  },
  {
   "cell_type": "markdown",
   "id": "06cf9230",
   "metadata": {},
   "source": [
    "## Título\n",
    "\n",
    "- uno *cursiva*\n",
    "- dos **negrita**\n",
    "- tres $\\sqrt{x^3}$"
   ]
  },
  {
   "cell_type": "code",
   "execution_count": 204,
   "id": "1adfce47",
   "metadata": {},
   "outputs": [],
   "source": [
    "lista_compra = \"\"\"10 tomate\n",
    "5 atún\n",
    "12 aceite\n",
    "5 arroz\"\"\"\n",
    "\n"
   ]
  },
  {
   "cell_type": "code",
   "execution_count": 205,
   "id": "2d03098c",
   "metadata": {},
   "outputs": [
    {
     "name": "stdout",
     "output_type": "stream",
     "text": [
      "10 tomate\n",
      "5 atún\n",
      "12 aceite\n",
      "5 arroz\n"
     ]
    }
   ],
   "source": [
    "print(lista_compra)"
   ]
  },
  {
   "cell_type": "code",
   "execution_count": 206,
   "id": "f8ab389f",
   "metadata": {},
   "outputs": [],
   "source": [
    "precios = {'tomate':0.60, 'atún':1.20, 'arroz':1.1}"
   ]
  },
  {
   "cell_type": "code",
   "execution_count": 207,
   "id": "c4079142",
   "metadata": {},
   "outputs": [
    {
     "data": {
      "text/plain": [
       "3"
      ]
     },
     "execution_count": 207,
     "metadata": {},
     "output_type": "execute_result"
    }
   ],
   "source": [
    "len(precios)"
   ]
  },
  {
   "cell_type": "code",
   "execution_count": 208,
   "id": "eca2f607",
   "metadata": {},
   "outputs": [
    {
     "data": {
      "text/plain": [
       "{'tomate': 0.6, 'atún': 1.2, 'arroz': 1.1}"
      ]
     },
     "execution_count": 208,
     "metadata": {},
     "output_type": "execute_result"
    }
   ],
   "source": [
    "precios"
   ]
  },
  {
   "cell_type": "code",
   "execution_count": 209,
   "id": "8c1f35ca",
   "metadata": {},
   "outputs": [
    {
     "data": {
      "text/plain": [
       "0.6"
      ]
     },
     "execution_count": 209,
     "metadata": {},
     "output_type": "execute_result"
    }
   ],
   "source": [
    "precios['tomate']"
   ]
  },
  {
   "cell_type": "code",
   "execution_count": 210,
   "id": "36f260e1",
   "metadata": {},
   "outputs": [
    {
     "data": {
      "text/plain": [
       "True"
      ]
     },
     "execution_count": 210,
     "metadata": {},
     "output_type": "execute_result"
    }
   ],
   "source": [
    "'arroz' in precios"
   ]
  },
  {
   "cell_type": "code",
   "execution_count": 211,
   "id": "5923fe90",
   "metadata": {},
   "outputs": [
    {
     "data": {
      "text/plain": [
       "False"
      ]
     },
     "execution_count": 211,
     "metadata": {},
     "output_type": "execute_result"
    }
   ],
   "source": [
    "'vinagre' in precios"
   ]
  },
  {
   "cell_type": "code",
   "execution_count": 212,
   "id": "e9426cc1",
   "metadata": {},
   "outputs": [
    {
     "data": {
      "text/plain": [
       "['10 tomate', '5 atún', '12 aceite', '5 arroz']"
      ]
     },
     "execution_count": 212,
     "metadata": {},
     "output_type": "execute_result"
    }
   ],
   "source": [
    "lista_compra.split('\\n')"
   ]
  },
  {
   "cell_type": "code",
   "execution_count": 215,
   "id": "1055deee",
   "metadata": {},
   "outputs": [
    {
     "data": {
      "text/plain": [
       "'10 tomate\\n5 atún\\n12 aceite\\n5 arroz'"
      ]
     },
     "execution_count": 215,
     "metadata": {},
     "output_type": "execute_result"
    }
   ],
   "source": [
    "lista_compra"
   ]
  },
  {
   "cell_type": "code",
   "execution_count": 225,
   "id": "65c85e99",
   "metadata": {},
   "outputs": [
    {
     "name": "stdout",
     "output_type": "stream",
     "text": [
      "El producto aceite está descatalogado\n",
      "El ticket sube a 17.5 euros\n"
     ]
    }
   ],
   "source": [
    "pvp_total = 0\n",
    "for item in lista_compra.split('\\n'):\n",
    "    unidades,producto = item.split()\n",
    "    unidades = int(unidades)\n",
    "    if producto in precios:\n",
    "        pvp_total += unidades * precios[producto]\n",
    "    else:\n",
    "        print('El producto',producto,'está descatalogado')\n",
    "print('El ticket sube a',pvp_total,'euros')    "
   ]
  },
  {
   "cell_type": "markdown",
   "id": "a1f7afd5",
   "metadata": {},
   "source": [
    "# funciones"
   ]
  },
  {
   "cell_type": "code",
   "execution_count": 230,
   "id": "900515f5",
   "metadata": {},
   "outputs": [],
   "source": [
    "def nombrefuncion():\n",
    "    print(\"hola soy una función\")\n",
    "    return 5\n",
    "    print(\"esto no se ejecuta\")"
   ]
  },
  {
   "cell_type": "code",
   "execution_count": 235,
   "id": "468061b3",
   "metadata": {},
   "outputs": [
    {
     "name": "stdout",
     "output_type": "stream",
     "text": [
      "hola soy una función\n",
      "hola soy una función\n",
      "10\n"
     ]
    }
   ],
   "source": [
    "a = nombrefuncion() + nombrefuncion()\n",
    "print(a)"
   ]
  },
  {
   "cell_type": "code",
   "execution_count": 244,
   "id": "e3684a4b",
   "metadata": {},
   "outputs": [],
   "source": [
    "def es_bisiesto(año):\n",
    "    return (año % 4 == 0 and año % 100 != 0) or (año % 400 == 0)\n",
    "\n",
    "def dias_mes(año, mes):\n",
    "    dias = {1:31, 3:31, 4:30, 5:31, 6:30,\n",
    "            7:31, 8:31, 9:30, 10:31, 11:30, 12:31}\n",
    "    if mes == 2:\n",
    "        if es_bisiesto(año):\n",
    "            return 29\n",
    "        else:\n",
    "            return 28\n",
    "    else:\n",
    "        return dias[mes]"
   ]
  },
  {
   "cell_type": "code",
   "execution_count": 245,
   "id": "161e9734",
   "metadata": {},
   "outputs": [],
   "source": [
    "def pedir_fecha():\n",
    "    fechaOK = False\n",
    "    while not fechaOK:\n",
    "        fecha = input('Introduce una fecha formato AAAA-MM-DD: ')\n",
    "        año, mes, dia = fecha.split('-')\n",
    "        año, mes, dia = int(año), int(mes), int(dia)\n",
    "        fechaOK = ((1920 <= año <= 2023) and\n",
    "                  (1 <= mes <= 12) and\n",
    "                  (1 <= dia <= dias_mes(año,mes)))\n",
    "        if not fechaOK:\n",
    "            print(\"Fecha incorrecta, la volvemos a pedir\")\n",
    "    return (año,mes,dia)\n",
    "    "
   ]
  },
  {
   "cell_type": "code",
   "execution_count": 247,
   "id": "0f3f661b",
   "metadata": {},
   "outputs": [
    {
     "name": "stdout",
     "output_type": "stream",
     "text": [
      "Introduce una fecha formato AAAA-MM-DD: 2023-06-14\n"
     ]
    },
    {
     "data": {
      "text/plain": [
       "(2023, 6, 14)"
      ]
     },
     "execution_count": 247,
     "metadata": {},
     "output_type": "execute_result"
    }
   ],
   "source": [
    "pedir_fecha()"
   ]
  },
  {
   "cell_type": "code",
   "execution_count": null,
   "id": "c95669db",
   "metadata": {},
   "outputs": [],
   "source": []
  }
 ],
 "metadata": {
  "kernelspec": {
   "display_name": "Python 3 (ipykernel)",
   "language": "python",
   "name": "python3"
  },
  "language_info": {
   "codemirror_mode": {
    "name": "ipython",
    "version": 3
   },
   "file_extension": ".py",
   "mimetype": "text/x-python",
   "name": "python",
   "nbconvert_exporter": "python",
   "pygments_lexer": "ipython3",
   "version": "3.10.11"
  }
 },
 "nbformat": 4,
 "nbformat_minor": 5
}
