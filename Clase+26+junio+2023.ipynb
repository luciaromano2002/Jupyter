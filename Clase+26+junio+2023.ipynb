{
 "cells": [
  {
   "cell_type": "markdown",
   "id": "1dd7923d",
   "metadata": {},
   "source": [
    "### Capítulo 2"
   ]
  },
  {
   "cell_type": "code",
   "execution_count": 2,
   "id": "8151c655",
   "metadata": {},
   "outputs": [],
   "source": [
    "import copy"
   ]
  },
  {
   "cell_type": "code",
   "execution_count": 1,
   "id": "ff5a98f9",
   "metadata": {},
   "outputs": [],
   "source": [
    "lst = [[1,2,3], [4,5,6], [7,8,9]]"
   ]
  },
  {
   "cell_type": "code",
   "execution_count": 3,
   "id": "6f1ad8be",
   "metadata": {},
   "outputs": [],
   "source": [
    "lst2 = lst.copy()"
   ]
  },
  {
   "cell_type": "code",
   "execution_count": 4,
   "id": "c01832f1",
   "metadata": {},
   "outputs": [
    {
     "data": {
      "text/plain": [
       "True"
      ]
     },
     "execution_count": 4,
     "metadata": {},
     "output_type": "execute_result"
    }
   ],
   "source": [
    "lst[0] is lst2[0]"
   ]
  },
  {
   "cell_type": "code",
   "execution_count": 6,
   "id": "f1ac2e05",
   "metadata": {},
   "outputs": [],
   "source": [
    "lst3 = copy.deepcopy(lst)"
   ]
  },
  {
   "cell_type": "code",
   "execution_count": 7,
   "id": "c20ebe80",
   "metadata": {},
   "outputs": [
    {
     "data": {
      "text/plain": [
       "False"
      ]
     },
     "execution_count": 7,
     "metadata": {},
     "output_type": "execute_result"
    }
   ],
   "source": [
    "lst[0] is lst3[0]"
   ]
  },
  {
   "cell_type": "code",
   "execution_count": 8,
   "id": "e269f3eb",
   "metadata": {},
   "outputs": [],
   "source": [
    "a = {\"h\": \"ola\"}"
   ]
  },
  {
   "cell_type": "code",
   "execution_count": 9,
   "id": "92c3474e",
   "metadata": {},
   "outputs": [],
   "source": [
    "a.get(\"b\")"
   ]
  },
  {
   "cell_type": "code",
   "execution_count": 10,
   "id": "73b42580",
   "metadata": {},
   "outputs": [
    {
     "data": {
      "text/plain": [
       "'No existe la clave'"
      ]
     },
     "execution_count": 10,
     "metadata": {},
     "output_type": "execute_result"
    }
   ],
   "source": [
    "a.get(\"b\", 'No existe la clave')"
   ]
  },
  {
   "cell_type": "code",
   "execution_count": 11,
   "id": "cb4931f7",
   "metadata": {},
   "outputs": [
    {
     "ename": "KeyError",
     "evalue": "'b'",
     "output_type": "error",
     "traceback": [
      "\u001b[1;31m---------------------------------------------------------------------------\u001b[0m",
      "\u001b[1;31mKeyError\u001b[0m                                  Traceback (most recent call last)",
      "Cell \u001b[1;32mIn[11], line 1\u001b[0m\n\u001b[1;32m----> 1\u001b[0m \u001b[43ma\u001b[49m\u001b[43m[\u001b[49m\u001b[38;5;124;43m'\u001b[39;49m\u001b[38;5;124;43mb\u001b[39;49m\u001b[38;5;124;43m'\u001b[39;49m\u001b[43m]\u001b[49m\n",
      "\u001b[1;31mKeyError\u001b[0m: 'b'"
     ]
    }
   ],
   "source": [
    "# Acceso de lectura\n",
    "a['b']"
   ]
  },
  {
   "cell_type": "code",
   "execution_count": 12,
   "id": "45ba2fd4",
   "metadata": {},
   "outputs": [],
   "source": [
    "# Acceso de escritura\n",
    "a['b'] = \"ueno\""
   ]
  },
  {
   "cell_type": "code",
   "execution_count": 13,
   "id": "ea3f3dcd",
   "metadata": {},
   "outputs": [
    {
     "data": {
      "text/plain": [
       "'ueno'"
      ]
     },
     "execution_count": 13,
     "metadata": {},
     "output_type": "execute_result"
    }
   ],
   "source": [
    "a['b']"
   ]
  },
  {
   "cell_type": "code",
   "execution_count": 14,
   "id": "852edfe4",
   "metadata": {},
   "outputs": [
    {
     "data": {
      "text/plain": [
       "'ueno'"
      ]
     },
     "execution_count": 14,
     "metadata": {},
     "output_type": "execute_result"
    }
   ],
   "source": [
    "a.get(\"b\", 'No existe la clave')"
   ]
  },
  {
   "cell_type": "markdown",
   "id": "ecb69454",
   "metadata": {},
   "source": [
    "#### Q1 (p378). Estudiantes"
   ]
  },
  {
   "cell_type": "code",
   "execution_count": 15,
   "id": "18b0e4fd",
   "metadata": {},
   "outputs": [],
   "source": [
    "student_tup = (\n",
    "    ('211101', 'David Doe', '010-1234-4500'),\n",
    "    ('211102', 'John Smith', '010-2230-6540'),\n",
    "    ('211103', 'Jane Carter', '010-3232-7788')\n",
    ")"
   ]
  },
  {
   "cell_type": "code",
   "execution_count": 25,
   "id": "c974a55d",
   "metadata": {},
   "outputs": [
    {
     "name": "stdout",
     "output_type": "stream",
     "text": [
      "{'211101': ['David Doe', '010-1234-4500']}\n",
      "{'211102': ['John Smith', '010-2230-6540']}\n",
      "{'211103': ['Jane Carter', '010-3232-7788']}\n"
     ]
    }
   ],
   "source": [
    "for student in student_tup:\n",
    "    print({student[0]: list(student[1:])})"
   ]
  },
  {
   "cell_type": "code",
   "execution_count": 22,
   "id": "ac401462",
   "metadata": {},
   "outputs": [
    {
     "name": "stdout",
     "output_type": "stream",
     "text": [
      "{'211101': ['David Doe', '010-1234-4500']}\n",
      "{'211102': ['John Smith', '010-2230-6540']}\n",
      "{'211103': ['Jane Carter', '010-3232-7788']}\n"
     ]
    }
   ],
   "source": [
    "for student_id, name, phone in student_tup:\n",
    "    print({student_id: [name, phone]})"
   ]
  },
  {
   "cell_type": "code",
   "execution_count": 17,
   "id": "eb2e2d8f",
   "metadata": {},
   "outputs": [
    {
     "name": "stdout",
     "output_type": "stream",
     "text": [
      "{'211101': ['David Doe', '010-1234-4500']}\n",
      "{'211102': ['John Smith', '010-2230-6540']}\n",
      "{'211103': ['Jane Carter', '010-3232-7788']}\n"
     ]
    }
   ],
   "source": [
    "for student_id, *other in student_tup:\n",
    "    print({student_id: other})"
   ]
  },
  {
   "cell_type": "code",
   "execution_count": 29,
   "id": "5278fea3",
   "metadata": {},
   "outputs": [
    {
     "name": "stdout",
     "output_type": "stream",
     "text": [
      "1 2 [3, 4, 5, 6, 7]\n"
     ]
    }
   ],
   "source": [
    "a, b, *c = (1,2,3,4,5,6,7)\n",
    "print(a, b, c)"
   ]
  },
  {
   "cell_type": "code",
   "execution_count": 30,
   "id": "bbca5d48",
   "metadata": {},
   "outputs": [
    {
     "ename": "ValueError",
     "evalue": "too many values to unpack (expected 3)",
     "output_type": "error",
     "traceback": [
      "\u001b[1;31m---------------------------------------------------------------------------\u001b[0m",
      "\u001b[1;31mValueError\u001b[0m                                Traceback (most recent call last)",
      "Cell \u001b[1;32mIn[30], line 1\u001b[0m\n\u001b[1;32m----> 1\u001b[0m a, b, c \u001b[38;5;241m=\u001b[39m (\u001b[38;5;241m1\u001b[39m,\u001b[38;5;241m2\u001b[39m,\u001b[38;5;241m3\u001b[39m,\u001b[38;5;241m4\u001b[39m,\u001b[38;5;241m5\u001b[39m,\u001b[38;5;241m6\u001b[39m,\u001b[38;5;241m7\u001b[39m)\n\u001b[0;32m      2\u001b[0m \u001b[38;5;28mprint\u001b[39m(a, b, c)\n",
      "\u001b[1;31mValueError\u001b[0m: too many values to unpack (expected 3)"
     ]
    }
   ],
   "source": [
    "a, b, c = (1,2,3,4,5,6,7)\n",
    "print(a, b, c)"
   ]
  },
  {
   "cell_type": "code",
   "execution_count": 31,
   "id": "1a46cb22",
   "metadata": {},
   "outputs": [
    {
     "name": "stdout",
     "output_type": "stream",
     "text": [
      "1 2 [3, 4, 5, 6, 7]\n"
     ]
    }
   ],
   "source": [
    "a, b, *c = [1,2,3,4,5,6,7]\n",
    "print(a, b, c)"
   ]
  },
  {
   "cell_type": "code",
   "execution_count": 33,
   "id": "1c3d3f9d",
   "metadata": {},
   "outputs": [
    {
     "data": {
      "text/plain": [
       "{'211101': ['David Doe', '010-1234-4500'],\n",
       " '211102': ['John Smith', '010-2230-6540'],\n",
       " '211103': ['Jane Carter', '010-3232-7788']}"
      ]
     },
     "execution_count": 33,
     "metadata": {},
     "output_type": "execute_result"
    }
   ],
   "source": [
    "student_d = {student_id: other for student_id, *other in student_tup}\n",
    "student_d"
   ]
  },
  {
   "cell_type": "code",
   "execution_count": 35,
   "id": "ab2e38f9",
   "metadata": {},
   "outputs": [
    {
     "name": "stdout",
     "output_type": "stream",
     "text": [
      "Enter student ID number: 211101\n",
      "Name: David Doe\n",
      "Phone number: 010-1234-4500\n"
     ]
    }
   ],
   "source": [
    "student_id = input(\"Enter student ID number: \")\n",
    "\n",
    "if student_id in student_d:\n",
    "    print(\"Name:\", student_d[student_id][0])\n",
    "    print(\"Phone number:\", student_d[student_id][1])\n",
    "    \n",
    "else:\n",
    "    print(f\"Student with ID '{student_id}' does not exist\")"
   ]
  },
  {
   "cell_type": "code",
   "execution_count": 37,
   "id": "e283f697",
   "metadata": {},
   "outputs": [
    {
     "data": {
      "text/plain": [
       "{'211101': {'name': 'David Doe', 'phone': '010-1234-4500'},\n",
       " '211102': {'name': 'John Smith', 'phone': '010-2230-6540'},\n",
       " '211103': {'name': 'Jane Carter', 'phone': '010-3232-7788'}}"
      ]
     },
     "execution_count": 37,
     "metadata": {},
     "output_type": "execute_result"
    }
   ],
   "source": [
    "student_d = {student_id: other for student_id, *other in student_tup}\n",
    "student_d2 = {student_id: {key: value for key, value in zip([\"name\", \"phone\"], other)} for student_id, other in student_d.items()}\n",
    "student_d2"
   ]
  },
  {
   "cell_type": "markdown",
   "id": "78500da7",
   "metadata": {},
   "source": [
    "### Unit 16"
   ]
  },
  {
   "cell_type": "code",
   "execution_count": 39,
   "id": "f6437d6f",
   "metadata": {},
   "outputs": [
    {
     "data": {
      "text/plain": [
       "7"
      ]
     },
     "execution_count": 39,
     "metadata": {},
     "output_type": "execute_result"
    }
   ],
   "source": [
    "elements = [1,2,2,5,6,7,5]\n",
    "len(elements)"
   ]
  },
  {
   "cell_type": "code",
   "execution_count": 42,
   "id": "e68ae160",
   "metadata": {},
   "outputs": [
    {
     "data": {
      "text/plain": [
       "{1, 2, 5, 6, 7}"
      ]
     },
     "execution_count": 42,
     "metadata": {},
     "output_type": "execute_result"
    }
   ],
   "source": [
    "myset = set(elements)\n",
    "myset"
   ]
  },
  {
   "cell_type": "code",
   "execution_count": 43,
   "id": "32cccdbc",
   "metadata": {},
   "outputs": [
    {
     "data": {
      "text/plain": [
       "5"
      ]
     },
     "execution_count": 43,
     "metadata": {},
     "output_type": "execute_result"
    }
   ],
   "source": [
    "len(myset)"
   ]
  },
  {
   "cell_type": "code",
   "execution_count": 44,
   "id": "626e10e5",
   "metadata": {},
   "outputs": [
    {
     "ename": "AttributeError",
     "evalue": "'set' object has no attribute 'sort'",
     "output_type": "error",
     "traceback": [
      "\u001b[1;31m---------------------------------------------------------------------------\u001b[0m",
      "\u001b[1;31mAttributeError\u001b[0m                            Traceback (most recent call last)",
      "Cell \u001b[1;32mIn[44], line 1\u001b[0m\n\u001b[1;32m----> 1\u001b[0m \u001b[43mmyset\u001b[49m\u001b[38;5;241;43m.\u001b[39;49m\u001b[43msort\u001b[49m()\n",
      "\u001b[1;31mAttributeError\u001b[0m: 'set' object has no attribute 'sort'"
     ]
    }
   ],
   "source": [
    "myset.sort()"
   ]
  },
  {
   "cell_type": "code",
   "execution_count": 45,
   "id": "5af4c4f6",
   "metadata": {},
   "outputs": [
    {
     "data": {
      "text/plain": [
       "{1, 2, 3, 4, 7}"
      ]
     },
     "execution_count": 45,
     "metadata": {},
     "output_type": "execute_result"
    }
   ],
   "source": [
    "{1,2,3,4,4,4,7}"
   ]
  },
  {
   "cell_type": "code",
   "execution_count": 46,
   "id": "9d593841",
   "metadata": {},
   "outputs": [
    {
     "data": {
      "text/plain": [
       "{' ', 'H', 'W', 'd', 'e', 'l', 'o', 'r'}"
      ]
     },
     "execution_count": 46,
     "metadata": {},
     "output_type": "execute_result"
    }
   ],
   "source": [
    "set(\"Hello World\")"
   ]
  },
  {
   "cell_type": "code",
   "execution_count": 47,
   "id": "f6f9bbb3",
   "metadata": {},
   "outputs": [
    {
     "data": {
      "text/plain": [
       "{0, 1, 2, 3, 4, 5, 6, 7, 8, 9}"
      ]
     },
     "execution_count": 47,
     "metadata": {},
     "output_type": "execute_result"
    }
   ],
   "source": [
    "{i for i in range(9, -1, -1)}"
   ]
  },
  {
   "cell_type": "code",
   "execution_count": 48,
   "id": "02d97d12",
   "metadata": {},
   "outputs": [
    {
     "data": {
      "text/plain": [
       "[0, 1, 2, 3, 4, 5, 6, 7, 8, 9]"
      ]
     },
     "execution_count": 48,
     "metadata": {},
     "output_type": "execute_result"
    }
   ],
   "source": [
    "list(sorted({i for i in range(9, -1, -1)}))"
   ]
  },
  {
   "cell_type": "code",
   "execution_count": 50,
   "id": "6222dfcf",
   "metadata": {},
   "outputs": [
    {
     "data": {
      "text/plain": [
       "[0, 1, 2, 3, 4, 5, 6, 7, 8, 9]"
      ]
     },
     "execution_count": 50,
     "metadata": {},
     "output_type": "execute_result"
    }
   ],
   "source": [
    "myset = {i for i in range(9, -1, -1)}\n",
    "\n",
    "mylist = list(myset)\n",
    "mylist.sort()\n",
    "\n",
    "mylist"
   ]
  },
  {
   "cell_type": "code",
   "execution_count": 51,
   "id": "4dafe657",
   "metadata": {},
   "outputs": [
    {
     "name": "stdout",
     "output_type": "stream",
     "text": [
      "0 1 2 3 4 5 6 7 8 9 "
     ]
    }
   ],
   "source": [
    "for j in sorted({i for i in range(9, -1, -1)}):\n",
    "    print(j, end=\" \")"
   ]
  },
  {
   "cell_type": "code",
   "execution_count": 52,
   "id": "359a43ec",
   "metadata": {},
   "outputs": [
    {
     "data": {
      "text/plain": [
       "True"
      ]
     },
     "execution_count": 52,
     "metadata": {},
     "output_type": "execute_result"
    }
   ],
   "source": [
    "0 in myset"
   ]
  },
  {
   "cell_type": "code",
   "execution_count": 53,
   "id": "b409a793",
   "metadata": {},
   "outputs": [
    {
     "data": {
      "text/plain": [
       "True"
      ]
     },
     "execution_count": 53,
     "metadata": {},
     "output_type": "execute_result"
    }
   ],
   "source": [
    "-1 not in myset"
   ]
  },
  {
   "cell_type": "code",
   "execution_count": 54,
   "id": "9b9f30f9",
   "metadata": {},
   "outputs": [
    {
     "data": {
      "text/plain": [
       "False"
      ]
     },
     "execution_count": 54,
     "metadata": {},
     "output_type": "execute_result"
    }
   ],
   "source": [
    "0 not in myset"
   ]
  },
  {
   "cell_type": "code",
   "execution_count": 55,
   "id": "749024d1",
   "metadata": {},
   "outputs": [
    {
     "data": {
      "text/plain": [
       "{0, 1, 2, 3, 4, 5, 6, 7, 8, 9}"
      ]
     },
     "execution_count": 55,
     "metadata": {},
     "output_type": "execute_result"
    }
   ],
   "source": [
    "myset"
   ]
  },
  {
   "cell_type": "code",
   "execution_count": 57,
   "id": "87d68535",
   "metadata": {},
   "outputs": [
    {
     "data": {
      "text/plain": [
       "{0, 1, 2, 3, 4, 5, 6, 7, 8, 9, 10}"
      ]
     },
     "execution_count": 57,
     "metadata": {},
     "output_type": "execute_result"
    }
   ],
   "source": [
    "myset.add(10)\n",
    "myset"
   ]
  },
  {
   "cell_type": "code",
   "execution_count": 59,
   "id": "c82a0c9d",
   "metadata": {},
   "outputs": [
    {
     "data": {
      "text/plain": [
       "{0, 1, 2, 3, 4, 5, 6, 7, 8, 9, 10}"
      ]
     },
     "execution_count": 59,
     "metadata": {},
     "output_type": "execute_result"
    }
   ],
   "source": [
    "myset.add(1)\n",
    "myset"
   ]
  },
  {
   "cell_type": "code",
   "execution_count": 60,
   "id": "77eae3bd",
   "metadata": {},
   "outputs": [
    {
     "data": {
      "text/plain": [
       "{0, 2, 3, 4, 5, 6, 7, 8, 9, 10}"
      ]
     },
     "execution_count": 60,
     "metadata": {},
     "output_type": "execute_result"
    }
   ],
   "source": [
    "myset.remove(1)\n",
    "myset"
   ]
  },
  {
   "cell_type": "code",
   "execution_count": 61,
   "id": "3a19f328",
   "metadata": {},
   "outputs": [
    {
     "ename": "KeyError",
     "evalue": "1",
     "output_type": "error",
     "traceback": [
      "\u001b[1;31m---------------------------------------------------------------------------\u001b[0m",
      "\u001b[1;31mKeyError\u001b[0m                                  Traceback (most recent call last)",
      "Cell \u001b[1;32mIn[61], line 1\u001b[0m\n\u001b[1;32m----> 1\u001b[0m \u001b[43mmyset\u001b[49m\u001b[38;5;241;43m.\u001b[39;49m\u001b[43mremove\u001b[49m\u001b[43m(\u001b[49m\u001b[38;5;241;43m1\u001b[39;49m\u001b[43m)\u001b[49m\n\u001b[0;32m      2\u001b[0m myset\n",
      "\u001b[1;31mKeyError\u001b[0m: 1"
     ]
    }
   ],
   "source": [
    "myset.remove(1)\n",
    "myset"
   ]
  },
  {
   "cell_type": "code",
   "execution_count": 64,
   "id": "0c99bd50",
   "metadata": {},
   "outputs": [
    {
     "ename": "KeyError",
     "evalue": "-1",
     "output_type": "error",
     "traceback": [
      "\u001b[1;31m---------------------------------------------------------------------------\u001b[0m",
      "\u001b[1;31mKeyError\u001b[0m                                  Traceback (most recent call last)",
      "Cell \u001b[1;32mIn[64], line 3\u001b[0m\n\u001b[0;32m      1\u001b[0m dic \u001b[38;5;241m=\u001b[39m {\u001b[38;5;241m0\u001b[39m:\u001b[38;5;241m1\u001b[39m, \u001b[38;5;241m1\u001b[39m:\u001b[38;5;241m2\u001b[39m, \u001b[38;5;241m2\u001b[39m:\u001b[38;5;241m3\u001b[39m}\n\u001b[1;32m----> 3\u001b[0m \u001b[38;5;28;01mdel\u001b[39;00m dic[\u001b[38;5;241m-\u001b[39m\u001b[38;5;241m1\u001b[39m]\n",
      "\u001b[1;31mKeyError\u001b[0m: -1"
     ]
    }
   ],
   "source": [
    "dic = {0:1, 1:2, 2:3}\n",
    "\n",
    "del dic[-1]"
   ]
  },
  {
   "cell_type": "code",
   "execution_count": 65,
   "id": "509e3896",
   "metadata": {},
   "outputs": [],
   "source": [
    "del dic[0]"
   ]
  },
  {
   "cell_type": "code",
   "execution_count": 66,
   "id": "821566ad",
   "metadata": {},
   "outputs": [
    {
     "data": {
      "text/plain": [
       "{1: 2, 2: 3}"
      ]
     },
     "execution_count": 66,
     "metadata": {},
     "output_type": "execute_result"
    }
   ],
   "source": [
    "dic"
   ]
  },
  {
   "cell_type": "code",
   "execution_count": 68,
   "id": "442074c1",
   "metadata": {},
   "outputs": [
    {
     "data": {
      "text/plain": [
       "({1, 2, 3, 4, 5, 6}, {4, 5, 6, 7, 8, 9})"
      ]
     },
     "execution_count": 68,
     "metadata": {},
     "output_type": "execute_result"
    }
   ],
   "source": [
    "s1 = {1,2,3,4,5,6}\n",
    "s2 = {4,5,6,7,8,9}\n",
    "\n",
    "s1, s2"
   ]
  },
  {
   "cell_type": "code",
   "execution_count": 69,
   "id": "a0487398",
   "metadata": {},
   "outputs": [
    {
     "data": {
      "text/plain": [
       "({1, 2, 3, 4, 5, 6}, {4, 5, 6, 7, 8, 9})"
      ]
     },
     "execution_count": 69,
     "metadata": {},
     "output_type": "execute_result"
    }
   ],
   "source": [
    "s1 = set(range(1, 7))\n",
    "s2 = set(range(4, 10))\n",
    "\n",
    "s1, s2"
   ]
  },
  {
   "cell_type": "code",
   "execution_count": 70,
   "id": "b172898b",
   "metadata": {},
   "outputs": [
    {
     "data": {
      "text/plain": [
       "{1, 2, 3, 4, 5, 6, 7, 8, 9}"
      ]
     },
     "execution_count": 70,
     "metadata": {},
     "output_type": "execute_result"
    }
   ],
   "source": [
    "s1 | s2"
   ]
  },
  {
   "cell_type": "code",
   "execution_count": 71,
   "id": "3a87a648",
   "metadata": {},
   "outputs": [
    {
     "data": {
      "text/plain": [
       "True"
      ]
     },
     "execution_count": 71,
     "metadata": {},
     "output_type": "execute_result"
    }
   ],
   "source": [
    "s1 | s2 == s1.union(s2)"
   ]
  },
  {
   "cell_type": "code",
   "execution_count": 72,
   "id": "800fb36c",
   "metadata": {},
   "outputs": [
    {
     "data": {
      "text/plain": [
       "{1, 2, 3, 4, 5, 6, 7, 8, 9}"
      ]
     },
     "execution_count": 72,
     "metadata": {},
     "output_type": "execute_result"
    }
   ],
   "source": [
    "s2.union(s1)"
   ]
  },
  {
   "cell_type": "code",
   "execution_count": 73,
   "id": "4c2fb8ec",
   "metadata": {},
   "outputs": [
    {
     "data": {
      "text/plain": [
       "{4, 5, 6}"
      ]
     },
     "execution_count": 73,
     "metadata": {},
     "output_type": "execute_result"
    }
   ],
   "source": [
    "s1 & s2"
   ]
  },
  {
   "cell_type": "code",
   "execution_count": 74,
   "id": "9c222056",
   "metadata": {},
   "outputs": [
    {
     "data": {
      "text/plain": [
       "{4, 5, 6}"
      ]
     },
     "execution_count": 74,
     "metadata": {},
     "output_type": "execute_result"
    }
   ],
   "source": [
    "s1.intersection(s2)"
   ]
  },
  {
   "cell_type": "code",
   "execution_count": 75,
   "id": "304a3804",
   "metadata": {},
   "outputs": [
    {
     "data": {
      "text/plain": [
       "{1, 2, 3}"
      ]
     },
     "execution_count": 75,
     "metadata": {},
     "output_type": "execute_result"
    }
   ],
   "source": [
    "s1 - s2"
   ]
  },
  {
   "cell_type": "code",
   "execution_count": 76,
   "id": "c3e4f986",
   "metadata": {},
   "outputs": [
    {
     "data": {
      "text/plain": [
       "{7, 8, 9}"
      ]
     },
     "execution_count": 76,
     "metadata": {},
     "output_type": "execute_result"
    }
   ],
   "source": [
    "s2 - s1"
   ]
  },
  {
   "cell_type": "code",
   "execution_count": 77,
   "id": "f0c2b6f0",
   "metadata": {},
   "outputs": [
    {
     "data": {
      "text/plain": [
       "{1, 2, 3, 7, 8, 9}"
      ]
     },
     "execution_count": 77,
     "metadata": {},
     "output_type": "execute_result"
    }
   ],
   "source": [
    "s1 ^ s2"
   ]
  },
  {
   "cell_type": "code",
   "execution_count": 78,
   "id": "fb29fe75",
   "metadata": {},
   "outputs": [
    {
     "data": {
      "text/plain": [
       "{1, 2, 3, 7, 8, 9}"
      ]
     },
     "execution_count": 78,
     "metadata": {},
     "output_type": "execute_result"
    }
   ],
   "source": [
    "s2 ^ s1"
   ]
  },
  {
   "cell_type": "code",
   "execution_count": 84,
   "id": "f6bdb95e",
   "metadata": {},
   "outputs": [
    {
     "data": {
      "text/plain": [
       "{1, 2, 3, 4, 5, 6, 7, 8, 9}"
      ]
     },
     "execution_count": 84,
     "metadata": {},
     "output_type": "execute_result"
    }
   ],
   "source": [
    "ss = s1 | s2\n",
    "ss"
   ]
  },
  {
   "cell_type": "code",
   "execution_count": 86,
   "id": "9c127b93",
   "metadata": {},
   "outputs": [
    {
     "ename": "KeyError",
     "evalue": "10",
     "output_type": "error",
     "traceback": [
      "\u001b[1;31m---------------------------------------------------------------------------\u001b[0m",
      "\u001b[1;31mKeyError\u001b[0m                                  Traceback (most recent call last)",
      "Cell \u001b[1;32mIn[86], line 1\u001b[0m\n\u001b[1;32m----> 1\u001b[0m \u001b[43mss\u001b[49m\u001b[38;5;241;43m.\u001b[39;49m\u001b[43mremove\u001b[49m\u001b[43m(\u001b[49m\u001b[38;5;241;43m10\u001b[39;49m\u001b[43m)\u001b[49m\n",
      "\u001b[1;31mKeyError\u001b[0m: 10"
     ]
    }
   ],
   "source": [
    " ss.remove(10)"
   ]
  },
  {
   "cell_type": "code",
   "execution_count": 87,
   "id": "96a0335f",
   "metadata": {},
   "outputs": [],
   "source": [
    " ss.discard(10)"
   ]
  },
  {
   "cell_type": "code",
   "execution_count": 89,
   "id": "6d59d23a",
   "metadata": {},
   "outputs": [
    {
     "data": {
      "text/plain": [
       "False"
      ]
     },
     "execution_count": 89,
     "metadata": {},
     "output_type": "execute_result"
    }
   ],
   "source": [
    "s1 == s2"
   ]
  },
  {
   "cell_type": "code",
   "execution_count": 90,
   "id": "2735b8cd",
   "metadata": {},
   "outputs": [
    {
     "data": {
      "text/plain": [
       "True"
      ]
     },
     "execution_count": 90,
     "metadata": {},
     "output_type": "execute_result"
    }
   ],
   "source": [
    "s1 == s1.copy()"
   ]
  },
  {
   "cell_type": "code",
   "execution_count": 91,
   "id": "754d9ddb",
   "metadata": {},
   "outputs": [
    {
     "data": {
      "text/plain": [
       "False"
      ]
     },
     "execution_count": 91,
     "metadata": {},
     "output_type": "execute_result"
    }
   ],
   "source": [
    "ss < s1"
   ]
  },
  {
   "cell_type": "code",
   "execution_count": 92,
   "id": "9e209c64",
   "metadata": {},
   "outputs": [
    {
     "data": {
      "text/plain": [
       "True"
      ]
     },
     "execution_count": 92,
     "metadata": {},
     "output_type": "execute_result"
    }
   ],
   "source": [
    "s1 < ss"
   ]
  },
  {
   "cell_type": "code",
   "execution_count": 93,
   "id": "af29903f",
   "metadata": {},
   "outputs": [
    {
     "data": {
      "text/plain": [
       "{0, 1, 8, 27, 64, 125, 216, 343, 512, 729}"
      ]
     },
     "execution_count": 93,
     "metadata": {},
     "output_type": "execute_result"
    }
   ],
   "source": [
    "{i**3 for i in range(10)}"
   ]
  },
  {
   "cell_type": "code",
   "execution_count": 94,
   "id": "a215ddca",
   "metadata": {},
   "outputs": [
    {
     "data": {
      "text/plain": [
       "{0: 0, 1: 1, 2: 8, 3: 27, 4: 64, 5: 125, 6: 216, 7: 343, 8: 512, 9: 729}"
      ]
     },
     "execution_count": 94,
     "metadata": {},
     "output_type": "execute_result"
    }
   ],
   "source": [
    "{i:i**3 for i in range(10)}"
   ]
  },
  {
   "cell_type": "code",
   "execution_count": 95,
   "id": "8aef598b",
   "metadata": {},
   "outputs": [
    {
     "data": {
      "text/plain": [
       "{0: 0, 2: 8, 4: 64, 6: 216, 8: 512}"
      ]
     },
     "execution_count": 95,
     "metadata": {},
     "output_type": "execute_result"
    }
   ],
   "source": [
    "{i:i**3 for i in range(10) if i % 2 == 0}"
   ]
  },
  {
   "cell_type": "code",
   "execution_count": 96,
   "id": "8b6320b8",
   "metadata": {},
   "outputs": [
    {
     "data": {
      "text/plain": [
       "{0, 8, 64, 216, 512}"
      ]
     },
     "execution_count": 96,
     "metadata": {},
     "output_type": "execute_result"
    }
   ],
   "source": [
    "{i**3 for i in range(10) if i % 2 == 0}"
   ]
  },
  {
   "cell_type": "code",
   "execution_count": 98,
   "id": "4e85da4c",
   "metadata": {},
   "outputs": [
    {
     "data": {
      "text/plain": [
       "{0, 8, 64, 216, 512}"
      ]
     },
     "execution_count": 98,
     "metadata": {},
     "output_type": "execute_result"
    }
   ],
   "source": [
    "myset = {i**3 for i in range(10) if i % 2 == 0}\n",
    "myset"
   ]
  },
  {
   "cell_type": "code",
   "execution_count": 99,
   "id": "2ed96373",
   "metadata": {},
   "outputs": [
    {
     "data": {
      "text/plain": [
       "False"
      ]
     },
     "execution_count": 99,
     "metadata": {},
     "output_type": "execute_result"
    }
   ],
   "source": [
    "all(myset)"
   ]
  },
  {
   "cell_type": "code",
   "execution_count": 100,
   "id": "9762e70e",
   "metadata": {},
   "outputs": [
    {
     "data": {
      "text/plain": [
       "False"
      ]
     },
     "execution_count": 100,
     "metadata": {},
     "output_type": "execute_result"
    }
   ],
   "source": [
    "bool(0)"
   ]
  },
  {
   "cell_type": "code",
   "execution_count": 101,
   "id": "99bc8b59",
   "metadata": {},
   "outputs": [
    {
     "data": {
      "text/plain": [
       "True"
      ]
     },
     "execution_count": 101,
     "metadata": {},
     "output_type": "execute_result"
    }
   ],
   "source": [
    "bool(1024)"
   ]
  },
  {
   "cell_type": "code",
   "execution_count": 102,
   "id": "a3e97ac9",
   "metadata": {},
   "outputs": [
    {
     "data": {
      "text/plain": [
       "True"
      ]
     },
     "execution_count": 102,
     "metadata": {},
     "output_type": "execute_result"
    }
   ],
   "source": [
    "bool(-1024)"
   ]
  },
  {
   "cell_type": "code",
   "execution_count": 103,
   "id": "56920b49",
   "metadata": {},
   "outputs": [
    {
     "data": {
      "text/plain": [
       "True"
      ]
     },
     "execution_count": 103,
     "metadata": {},
     "output_type": "execute_result"
    }
   ],
   "source": [
    "len({valor for valor in myset if valor % 2 == 0}) == len(myset)"
   ]
  },
  {
   "cell_type": "code",
   "execution_count": 107,
   "id": "dc29d4eb",
   "metadata": {},
   "outputs": [
    {
     "data": {
      "text/plain": [
       "True"
      ]
     },
     "execution_count": 107,
     "metadata": {},
     "output_type": "execute_result"
    }
   ],
   "source": [
    "all([valor%2==0 for valor in myset])"
   ]
  },
  {
   "cell_type": "code",
   "execution_count": null,
   "id": "b3ad9fe1",
   "metadata": {},
   "outputs": [],
   "source": [
    "{valor%2==0 for valor in myset}"
   ]
  },
  {
   "cell_type": "code",
   "execution_count": 108,
   "id": "2a428556",
   "metadata": {},
   "outputs": [
    {
     "data": {
      "text/plain": [
       "True"
      ]
     },
     "execution_count": 108,
     "metadata": {},
     "output_type": "execute_result"
    }
   ],
   "source": [
    "res = set([valor%2==0 for valor in myset])\n",
    "res == {True}"
   ]
  },
  {
   "cell_type": "code",
   "execution_count": 111,
   "id": "fb69522a",
   "metadata": {},
   "outputs": [
    {
     "data": {
      "text/plain": [
       "True"
      ]
     },
     "execution_count": 111,
     "metadata": {},
     "output_type": "execute_result"
    }
   ],
   "source": [
    "any(valor%2==0 for valor in s1)"
   ]
  },
  {
   "cell_type": "code",
   "execution_count": 112,
   "id": "5974ee32",
   "metadata": {},
   "outputs": [
    {
     "data": {
      "text/plain": [
       "False"
      ]
     },
     "execution_count": 112,
     "metadata": {},
     "output_type": "execute_result"
    }
   ],
   "source": [
    "all(valor%2==0 for valor in s1)"
   ]
  },
  {
   "cell_type": "markdown",
   "id": "ea2ec643",
   "metadata": {},
   "source": [
    "### ZIP"
   ]
  },
  {
   "cell_type": "code",
   "execution_count": 114,
   "id": "61e1e2ed",
   "metadata": {},
   "outputs": [
    {
     "data": {
      "text/plain": [
       "([1, 2, 3, 4, 5, 6], [4, 5, 6, 7, 8, 9])"
      ]
     },
     "execution_count": 114,
     "metadata": {},
     "output_type": "execute_result"
    }
   ],
   "source": [
    "l1, l2 = list(s1), list(s2)\n",
    "\n",
    "l1, l2"
   ]
  },
  {
   "cell_type": "code",
   "execution_count": 116,
   "id": "1704c327",
   "metadata": {},
   "outputs": [
    {
     "data": {
      "text/plain": [
       "[5, 7, 9, 11, 13, 15]"
      ]
     },
     "execution_count": 116,
     "metadata": {},
     "output_type": "execute_result"
    }
   ],
   "source": [
    "[l1[i]+l2[i] for i in range(len(l1))]"
   ]
  },
  {
   "cell_type": "code",
   "execution_count": 118,
   "id": "45e5c546",
   "metadata": {},
   "outputs": [
    {
     "data": {
      "text/plain": [
       "[5, 7, 9, 11, 13, 15]"
      ]
     },
     "execution_count": 118,
     "metadata": {},
     "output_type": "execute_result"
    }
   ],
   "source": [
    "[l1[i]+l2[i] for i in range(min(len(l1), len(l2)))]"
   ]
  },
  {
   "cell_type": "code",
   "execution_count": 119,
   "id": "c8ca66cb",
   "metadata": {},
   "outputs": [],
   "source": [
    "l1.append(58)"
   ]
  },
  {
   "cell_type": "code",
   "execution_count": 122,
   "id": "353a88d8",
   "metadata": {},
   "outputs": [
    {
     "data": {
      "text/plain": [
       "([1, 2, 3, 4, 5, 6, 58], [4, 5, 6, 7, 8, 9])"
      ]
     },
     "execution_count": 122,
     "metadata": {},
     "output_type": "execute_result"
    }
   ],
   "source": [
    "l1, l2"
   ]
  },
  {
   "cell_type": "code",
   "execution_count": 120,
   "id": "790dedf1",
   "metadata": {},
   "outputs": [
    {
     "ename": "IndexError",
     "evalue": "list index out of range",
     "output_type": "error",
     "traceback": [
      "\u001b[1;31m---------------------------------------------------------------------------\u001b[0m",
      "\u001b[1;31mIndexError\u001b[0m                                Traceback (most recent call last)",
      "Cell \u001b[1;32mIn[120], line 1\u001b[0m\n\u001b[1;32m----> 1\u001b[0m [l1[i]\u001b[38;5;241m+\u001b[39ml2[i] \u001b[38;5;28;01mfor\u001b[39;00m i \u001b[38;5;129;01min\u001b[39;00m \u001b[38;5;28mrange\u001b[39m(\u001b[38;5;28mlen\u001b[39m(l1))]\n",
      "Cell \u001b[1;32mIn[120], line 1\u001b[0m, in \u001b[0;36m<listcomp>\u001b[1;34m(.0)\u001b[0m\n\u001b[1;32m----> 1\u001b[0m [l1[i]\u001b[38;5;241m+\u001b[39m\u001b[43ml2\u001b[49m\u001b[43m[\u001b[49m\u001b[43mi\u001b[49m\u001b[43m]\u001b[49m \u001b[38;5;28;01mfor\u001b[39;00m i \u001b[38;5;129;01min\u001b[39;00m \u001b[38;5;28mrange\u001b[39m(\u001b[38;5;28mlen\u001b[39m(l1))]\n",
      "\u001b[1;31mIndexError\u001b[0m: list index out of range"
     ]
    }
   ],
   "source": [
    "[l1[i]+l2[i] for i in range(len(l1))]"
   ]
  },
  {
   "cell_type": "code",
   "execution_count": 123,
   "id": "4c4e8777",
   "metadata": {},
   "outputs": [
    {
     "data": {
      "text/plain": [
       "[5, 7, 9, 11, 13, 15]"
      ]
     },
     "execution_count": 123,
     "metadata": {},
     "output_type": "execute_result"
    }
   ],
   "source": [
    "[l1[i]+l2[i] for i in range(min(len(l1), len(l2)))]"
   ]
  },
  {
   "cell_type": "code",
   "execution_count": 124,
   "id": "e0611797",
   "metadata": {},
   "outputs": [
    {
     "data": {
      "text/plain": [
       "([1, 2, 3, 4, 5, 6, 58], [4, 5, 6, 7, 8, 9])"
      ]
     },
     "execution_count": 124,
     "metadata": {},
     "output_type": "execute_result"
    }
   ],
   "source": [
    "l1, l2"
   ]
  },
  {
   "cell_type": "code",
   "execution_count": 125,
   "id": "aa4ff005",
   "metadata": {},
   "outputs": [
    {
     "data": {
      "text/plain": [
       "[5, 7, 9, 11, 13, 15]"
      ]
     },
     "execution_count": 125,
     "metadata": {},
     "output_type": "execute_result"
    }
   ],
   "source": [
    "[a+b for a,b in zip(l1, l2)]"
   ]
  },
  {
   "cell_type": "code",
   "execution_count": 127,
   "id": "d4dda0bc",
   "metadata": {},
   "outputs": [
    {
     "data": {
      "text/plain": [
       "[10, 14, 18, 22, 26, 30]"
      ]
     },
     "execution_count": 127,
     "metadata": {},
     "output_type": "execute_result"
    }
   ],
   "source": [
    "[a+b+c+d for a,b,c,d in zip(l1, l2, l1, l2)]"
   ]
  },
  {
   "cell_type": "code",
   "execution_count": 128,
   "id": "1eb388c1",
   "metadata": {},
   "outputs": [
    {
     "data": {
      "text/plain": [
       "[10, 14, 18, 22, 26, 30]"
      ]
     },
     "execution_count": 128,
     "metadata": {},
     "output_type": "execute_result"
    }
   ],
   "source": [
    "[sum(elementos) for elementos in zip(l1, l2, l1, l2)]"
   ]
  },
  {
   "cell_type": "code",
   "execution_count": 130,
   "id": "a822be08",
   "metadata": {},
   "outputs": [],
   "source": [
    "ll = [l1, l2, l1, l2]"
   ]
  },
  {
   "cell_type": "code",
   "execution_count": 131,
   "id": "6e3273b3",
   "metadata": {},
   "outputs": [
    {
     "data": {
      "text/plain": [
       "[10, 14, 18, 22, 26, 30]"
      ]
     },
     "execution_count": 131,
     "metadata": {},
     "output_type": "execute_result"
    }
   ],
   "source": [
    "[sum(elementos) for elementos in zip(ll[0], ll[1], ll[2], ll[3])]"
   ]
  },
  {
   "cell_type": "code",
   "execution_count": 134,
   "id": "edf4f748",
   "metadata": {},
   "outputs": [
    {
     "data": {
      "text/plain": [
       "[10, 14, 18, 22, 26, 30]"
      ]
     },
     "execution_count": 134,
     "metadata": {},
     "output_type": "execute_result"
    }
   ],
   "source": [
    "[sum(elementos) for elementos in zip(*ll)]"
   ]
  },
  {
   "cell_type": "code",
   "execution_count": 136,
   "id": "2fae3564",
   "metadata": {},
   "outputs": [
    {
     "name": "stdout",
     "output_type": "stream",
     "text": [
      "[1, 2, 3, 4, 5, 6, 58] [4, 5, 6, 7, 8, 9] [1, 2, 3, 4, 5, 6, 58] [4, 5, 6, 7, 8, 9]\n"
     ]
    }
   ],
   "source": [
    "print(*ll)"
   ]
  },
  {
   "cell_type": "code",
   "execution_count": 138,
   "id": "684feea6",
   "metadata": {},
   "outputs": [
    {
     "name": "stdout",
     "output_type": "stream",
     "text": [
      "[[1, 2, 3, 4, 5, 6, 58], [4, 5, 6, 7, 8, 9], [1, 2, 3, 4, 5, 6, 58], [4, 5, 6, 7, 8, 9]]\n"
     ]
    }
   ],
   "source": [
    "print(ll)"
   ]
  },
  {
   "cell_type": "code",
   "execution_count": 137,
   "id": "6dafa4cb",
   "metadata": {},
   "outputs": [
    {
     "name": "stdout",
     "output_type": "stream",
     "text": [
      "1 2 3 4\n"
     ]
    }
   ],
   "source": [
    "print(1,2,3,4)"
   ]
  },
  {
   "cell_type": "code",
   "execution_count": 140,
   "id": "e12a688e",
   "metadata": {},
   "outputs": [
    {
     "data": {
      "text/plain": [
       "[[1, 2, 3, 4, 5, 6, 58],\n",
       " [4, 5, 6, 7, 8, 9],\n",
       " [1, 2, 3, 4, 5, 6, 58],\n",
       " [4, 5, 6, 7, 8, 9]]"
      ]
     },
     "execution_count": 140,
     "metadata": {},
     "output_type": "execute_result"
    }
   ],
   "source": [
    "ll"
   ]
  },
  {
   "cell_type": "code",
   "execution_count": 139,
   "id": "ca5d8588",
   "metadata": {},
   "outputs": [
    {
     "data": {
      "text/plain": [
       "[(1, 4, 1, 4),\n",
       " (2, 5, 2, 5),\n",
       " (3, 6, 3, 6),\n",
       " (4, 7, 4, 7),\n",
       " (5, 8, 5, 8),\n",
       " (6, 9, 6, 9)]"
      ]
     },
     "execution_count": 139,
     "metadata": {},
     "output_type": "execute_result"
    }
   ],
   "source": [
    "[tuple(elementos) for elementos in zip(*ll)]"
   ]
  },
  {
   "cell_type": "code",
   "execution_count": 146,
   "id": "4794c64c",
   "metadata": {},
   "outputs": [
    {
     "data": {
      "text/plain": [
       "7"
      ]
     },
     "execution_count": 146,
     "metadata": {},
     "output_type": "execute_result"
    }
   ],
   "source": [
    "tamanyo_max = max(*[len(x) for x in ll])\n",
    "tamanyo_max"
   ]
  },
  {
   "cell_type": "code",
   "execution_count": 147,
   "id": "496d342a",
   "metadata": {},
   "outputs": [
    {
     "data": {
      "text/plain": [
       "[[1, 2, 3, 4, 5, 6, 58],\n",
       " [4, 5, 6, 7, 8, 9, 0],\n",
       " [1, 2, 3, 4, 5, 6, 58],\n",
       " [4, 5, 6, 7, 8, 9, 0]]"
      ]
     },
     "execution_count": 147,
     "metadata": {},
     "output_type": "execute_result"
    }
   ],
   "source": [
    "ll2 = [x + [0] * (tamanyo_max-len(x)) for x in ll]\n",
    "ll2"
   ]
  },
  {
   "cell_type": "code",
   "execution_count": 148,
   "id": "af3ff007",
   "metadata": {},
   "outputs": [
    {
     "data": {
      "text/plain": [
       "[(1, 4, 1, 4),\n",
       " (2, 5, 2, 5),\n",
       " (3, 6, 3, 6),\n",
       " (4, 7, 4, 7),\n",
       " (5, 8, 5, 8),\n",
       " (6, 9, 6, 9),\n",
       " (58, 0, 58, 0)]"
      ]
     },
     "execution_count": 148,
     "metadata": {},
     "output_type": "execute_result"
    }
   ],
   "source": [
    "[tuple(elementos) for elementos in zip(*ll2)]"
   ]
  },
  {
   "cell_type": "markdown",
   "id": "83505b14",
   "metadata": {},
   "source": [
    "#### Q1 (p465). Pair searching"
   ]
  },
  {
   "cell_type": "code",
   "execution_count": 170,
   "id": "1755b78b",
   "metadata": {},
   "outputs": [
    {
     "name": "stdout",
     "output_type": "stream",
     "text": [
      "Enter two integers:6 4\n",
      "There is no (6, 4) nor (4, 6)\n"
     ]
    }
   ],
   "source": [
    "mylist = [(1,2), (4,5), (4,2), (3,1), (9,4)]\n",
    "\n",
    "a, b = (int(v) for v in input(\"Enter two integers:\").split())\n",
    "\n",
    "t1 = (a, b)\n",
    "t2 = (b, a)\n",
    "\n",
    "position_names = [\"first\", \"second\", \"third\", \"fourth\", \"fifth\"]\n",
    "found = False\n",
    "\n",
    "for val, pos in zip(mylist, position_names):\n",
    "    if t1 == val:\n",
    "        print(f\"There is {t1} at the {pos}.\")\n",
    "        found = True\n",
    "        break\n",
    "\n",
    "    elif t2 == val:\n",
    "        print(f\"There is not {t1} but there is {t2} at the {pos}.\")\n",
    "        found = True\n",
    "        break\n",
    "            \n",
    "if not found:\n",
    "    print(f\"There is no {t1} nor {t2}\")"
   ]
  },
  {
   "cell_type": "code",
   "execution_count": 160,
   "id": "4ea06e72",
   "metadata": {},
   "outputs": [
    {
     "name": "stdout",
     "output_type": "stream",
     "text": [
      "1 2 first\n",
      "4 5 second\n",
      "4 2 third\n",
      "3 1 fourth\n",
      "9 4 fifth\n"
     ]
    }
   ],
   "source": [
    "for (x, y), pos in zip(mylist, position_names):\n",
    "    print(x, y, pos)"
   ]
  },
  {
   "cell_type": "code",
   "execution_count": 165,
   "id": "61a617d0",
   "metadata": {},
   "outputs": [
    {
     "name": "stdout",
     "output_type": "stream",
     "text": [
      "(1, 2) first\n",
      "1 2 first\n"
     ]
    }
   ],
   "source": [
    "a, b = ((1, 2), \"first\")\n",
    "print(a, b)\n",
    "x, y = a\n",
    "print(x, y, b)"
   ]
  },
  {
   "cell_type": "code",
   "execution_count": 166,
   "id": "1599a3e7",
   "metadata": {},
   "outputs": [
    {
     "name": "stdout",
     "output_type": "stream",
     "text": [
      "1 2 first\n"
     ]
    }
   ],
   "source": [
    "(x,y), b = ((1, 2), \"first\")\n",
    "print(x, y, b)"
   ]
  }
 ],
 "metadata": {
  "kernelspec": {
   "display_name": "Python 3 (ipykernel)",
   "language": "python",
   "name": "python3"
  },
  "language_info": {
   "codemirror_mode": {
    "name": "ipython",
    "version": 3
   },
   "file_extension": ".py",
   "mimetype": "text/x-python",
   "name": "python",
   "nbconvert_exporter": "python",
   "pygments_lexer": "ipython3",
   "version": "3.10.11"
  }
 },
 "nbformat": 4,
 "nbformat_minor": 5
}
