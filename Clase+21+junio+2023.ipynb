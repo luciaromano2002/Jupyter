{
 "cells": [
  {
   "cell_type": "markdown",
   "id": "36fcb085",
   "metadata": {},
   "source": [
    "### Unidad 13"
   ]
  },
  {
   "cell_type": "code",
   "execution_count": 1,
   "id": "d9829df7",
   "metadata": {},
   "outputs": [
    {
     "data": {
      "text/plain": [
       "[0, 1, 2, 3, 4, 5, 6, 7, 8, 9]"
      ]
     },
     "execution_count": 1,
     "metadata": {},
     "output_type": "execute_result"
    }
   ],
   "source": [
    "lst0 = []\n",
    "\n",
    "for i in range(10):\n",
    "    lst0.append(i)\n",
    "    \n",
    "lst0"
   ]
  },
  {
   "cell_type": "code",
   "execution_count": 2,
   "id": "255d5125",
   "metadata": {},
   "outputs": [
    {
     "data": {
      "text/plain": [
       "[0, 1, 2, 3, 4, 5, 6, 7, 8, 9]"
      ]
     },
     "execution_count": 2,
     "metadata": {},
     "output_type": "execute_result"
    }
   ],
   "source": [
    "lst1 = [i for i in range(10)]\n",
    "lst1"
   ]
  },
  {
   "cell_type": "code",
   "execution_count": 3,
   "id": "d59cf2df",
   "metadata": {},
   "outputs": [
    {
     "data": {
      "text/plain": [
       "[1, 3, 5, 7, 9]"
      ]
     },
     "execution_count": 3,
     "metadata": {},
     "output_type": "execute_result"
    }
   ],
   "source": [
    "lst2 = [i for i in range(10) if i % 2 != 0]\n",
    "lst2"
   ]
  },
  {
   "cell_type": "code",
   "execution_count": 5,
   "id": "f946768f",
   "metadata": {},
   "outputs": [
    {
     "data": {
      "text/plain": [
       "['a', 'aaa', 'aaaaa', 'aaaaaaa', 'aaaaaaaaa']"
      ]
     },
     "execution_count": 5,
     "metadata": {},
     "output_type": "execute_result"
    }
   ],
   "source": [
    "lst3 = [\"a\"*i for i in range(10) if i % 2 != 0]\n",
    "lst3"
   ]
  },
  {
   "cell_type": "code",
   "execution_count": 6,
   "id": "9a095b9c",
   "metadata": {},
   "outputs": [
    {
     "data": {
      "text/plain": [
       "[[0],\n",
       " [0, 0, 0],\n",
       " [0, 0, 0, 0, 0],\n",
       " [0, 0, 0, 0, 0, 0, 0],\n",
       " [0, 0, 0, 0, 0, 0, 0, 0, 0]]"
      ]
     },
     "execution_count": 6,
     "metadata": {},
     "output_type": "execute_result"
    }
   ],
   "source": [
    "lst4 = [[0]*i for i in range(10) if i % 2 != 0]\n",
    "lst4"
   ]
  },
  {
   "cell_type": "code",
   "execution_count": 7,
   "id": "77975c5c",
   "metadata": {},
   "outputs": [
    {
     "data": {
      "text/plain": [
       "[[0],\n",
       " [0, 1, 2],\n",
       " [0, 1, 2, 3, 4],\n",
       " [0, 1, 2, 3, 4, 5, 6],\n",
       " [0, 1, 2, 3, 4, 5, 6, 7, 8]]"
      ]
     },
     "execution_count": 7,
     "metadata": {},
     "output_type": "execute_result"
    }
   ],
   "source": [
    "lst5 = [[j for j in range(i)] for i in range(10) if i % 2 != 0]\n",
    "lst5"
   ]
  },
  {
   "cell_type": "code",
   "execution_count": 9,
   "id": "5589c669",
   "metadata": {},
   "outputs": [
    {
     "data": {
      "text/plain": [
       "[[0], [0, 2], [0, 2, 4], [0, 2, 4, 6], [0, 2, 4, 6, 8]]"
      ]
     },
     "execution_count": 9,
     "metadata": {},
     "output_type": "execute_result"
    }
   ],
   "source": [
    "lst6 = [[j for j in range(i) if j % 2 == 0] for i in range(10) if i % 2 != 0]\n",
    "lst6"
   ]
  },
  {
   "cell_type": "code",
   "execution_count": 11,
   "id": "bca6649a",
   "metadata": {},
   "outputs": [
    {
     "data": {
      "text/plain": [
       "[(0,), (0, 2), (0, 2, 4), (0, 2, 4, 6), (0, 2, 4, 6, 8)]"
      ]
     },
     "execution_count": 11,
     "metadata": {},
     "output_type": "execute_result"
    }
   ],
   "source": [
    "lst7 = [tuple(j for j in range(i) if j % 2 == 0) for i in range(10) if i % 2 != 0]\n",
    "lst7"
   ]
  },
  {
   "cell_type": "code",
   "execution_count": 12,
   "id": "f47ceea3",
   "metadata": {},
   "outputs": [],
   "source": [
    "# Abrir fichero (modo escritura)\n",
    "fichero_salida = open(\"prueba.txt\", \"w\")\n",
    "# Escribir contenido\n",
    "fichero_salida.write(\"Hello world!\")\n",
    "# Cerrar fichero\n",
    "fichero_salida.close()"
   ]
  },
  {
   "cell_type": "code",
   "execution_count": 22,
   "id": "f172ab91",
   "metadata": {},
   "outputs": [
    {
     "name": "stdout",
     "output_type": "stream",
     "text": [
      "['Hello world!\\n', 'Linea 2']\n"
     ]
    }
   ],
   "source": [
    "# Abrir fichero (modo lectura)\n",
    "fichero_entrada = open(\"prueba.txt\", \"r\")\n",
    "# Leer contenido\n",
    "print(fichero_entrada.readlines())\n",
    "# Cerrar fichero\n",
    "fichero_entrada.close()"
   ]
  },
  {
   "cell_type": "code",
   "execution_count": 23,
   "id": "8e4ff3ab",
   "metadata": {},
   "outputs": [],
   "source": [
    "# Abrir fichero (modo append)\n",
    "fichero_salida = open(\"prueba.txt\", \"a\")\n",
    "# Escribir contenido\n",
    "fichero_salida.write(\"More content\")\n",
    "# Cerrar fichero\n",
    "fichero_salida.close()"
   ]
  },
  {
   "cell_type": "code",
   "execution_count": 24,
   "id": "1f0883c9",
   "metadata": {},
   "outputs": [],
   "source": [
    "# Abrir fichero (modo write)\n",
    "fichero_salida = open(\"prueba2.txt\", \"w\")\n",
    "# Escribir contenido\n",
    "print(\"Hello world!\", file=fichero_salida)\n",
    "print(\"More content\", file=fichero_salida)\n",
    "# Cerrar fichero\n",
    "fichero_salida.close()"
   ]
  },
  {
   "cell_type": "code",
   "execution_count": 25,
   "id": "859847c2",
   "metadata": {},
   "outputs": [],
   "source": [
    "# Abrir fichero (modo append)\n",
    "fichero_salida = open(\"prueba2.txt\", \"a\")\n",
    "# Escribir contenido\n",
    "fichero_salida.write(\"Hello world 2!\\n\")\n",
    "fichero_salida.write(\"More content 2\\n\")\n",
    "# Cerrar fichero\n",
    "fichero_salida.close()"
   ]
  },
  {
   "cell_type": "code",
   "execution_count": 26,
   "id": "ef8270c3",
   "metadata": {},
   "outputs": [
    {
     "name": "stdout",
     "output_type": "stream",
     "text": [
      "Hello world!\n",
      "More content\n",
      "Hello world 2!\n",
      "More content 2\n",
      "\n"
     ]
    }
   ],
   "source": [
    "# Abrir fichero (modo lectura y escritura)\n",
    "fichero_entrada_salida = open(\"prueba2.txt\", \"r+\")\n",
    "print(fichero_entrada_salida.read())\n",
    "fichero_entrada_salida.write(\"More content 3\\n\")\n",
    "# Cerrar fichero\n",
    "fichero_entrada_salida.close()"
   ]
  },
  {
   "cell_type": "code",
   "execution_count": 27,
   "id": "b61da2f1",
   "metadata": {},
   "outputs": [
    {
     "name": "stdout",
     "output_type": "stream",
     "text": [
      "re content\n",
      "Hello world 2!\n",
      "More content 2\n",
      "More content 3\n",
      "\n"
     ]
    }
   ],
   "source": [
    "# Abrir fichero (modo lectura y escritura)\n",
    "fichero_entrada_salida = open(\"prueba2.txt\", \"r+\")\n",
    "fichero_entrada_salida.write(\"More content 4\\n\")\n",
    "print(fichero_entrada_salida.read())\n",
    "# Cerrar fichero\n",
    "fichero_entrada_salida.close()"
   ]
  },
  {
   "cell_type": "code",
   "execution_count": 28,
   "id": "1445abde",
   "metadata": {},
   "outputs": [
    {
     "ename": "TypeError",
     "evalue": "a bytes-like object is required, not 'str'",
     "output_type": "error",
     "traceback": [
      "\u001b[1;31m---------------------------------------------------------------------------\u001b[0m",
      "\u001b[1;31mTypeError\u001b[0m                                 Traceback (most recent call last)",
      "Cell \u001b[1;32mIn[28], line 3\u001b[0m\n\u001b[0;32m      1\u001b[0m \u001b[38;5;66;03m# Abrir fichero (modo escritura binaria)\u001b[39;00m\n\u001b[0;32m      2\u001b[0m fichero_salida \u001b[38;5;241m=\u001b[39m \u001b[38;5;28mopen\u001b[39m(\u001b[38;5;124m\"\u001b[39m\u001b[38;5;124mprueba_binaria.txt\u001b[39m\u001b[38;5;124m\"\u001b[39m, \u001b[38;5;124m\"\u001b[39m\u001b[38;5;124mwb\u001b[39m\u001b[38;5;124m\"\u001b[39m)\n\u001b[1;32m----> 3\u001b[0m \u001b[43mfichero_salida\u001b[49m\u001b[38;5;241;43m.\u001b[39;49m\u001b[43mwrite\u001b[49m\u001b[43m(\u001b[49m\u001b[38;5;124;43m\"\u001b[39;49m\u001b[38;5;124;43mHello world!\u001b[39;49m\u001b[38;5;124;43m\"\u001b[39;49m\u001b[43m)\u001b[49m\n\u001b[0;32m      4\u001b[0m \u001b[38;5;66;03m# Cerrar fichero\u001b[39;00m\n\u001b[0;32m      5\u001b[0m fichero_salida\u001b[38;5;241m.\u001b[39mclose()\n",
      "\u001b[1;31mTypeError\u001b[0m: a bytes-like object is required, not 'str'"
     ]
    }
   ],
   "source": [
    "# Abrir fichero (modo escritura binaria)\n",
    "fichero_salida = open(\"prueba_binaria.txt\", \"wb\")\n",
    "fichero_salida.write(\"Hello world!\")\n",
    "# Cerrar fichero\n",
    "fichero_salida.close()"
   ]
  },
  {
   "cell_type": "code",
   "execution_count": 30,
   "id": "7ad2aa01",
   "metadata": {},
   "outputs": [
    {
     "ename": "SyntaxError",
     "evalue": "bytes can only contain ASCII literal characters (4160060263.py, line 3)",
     "output_type": "error",
     "traceback": [
      "\u001b[1;36m  Cell \u001b[1;32mIn[30], line 3\u001b[1;36m\u001b[0m\n\u001b[1;33m    fichero_salida.write(b\"Hello world!á\")\u001b[0m\n\u001b[1;37m                                         ^\u001b[0m\n\u001b[1;31mSyntaxError\u001b[0m\u001b[1;31m:\u001b[0m bytes can only contain ASCII literal characters\n"
     ]
    }
   ],
   "source": [
    "# Abrir fichero (modo escritura binaria)\n",
    "fichero_salida = open(\"prueba_binaria.txt\", \"wb\")\n",
    "fichero_salida.write(b\"Hello world!á\")\n",
    "# Cerrar fichero\n",
    "fichero_salida.close()"
   ]
  },
  {
   "cell_type": "code",
   "execution_count": 35,
   "id": "9fb270df",
   "metadata": {},
   "outputs": [
    {
     "name": "stdout",
     "output_type": "stream",
     "text": [
      "n1\n",
      "n2\n",
      "nNo\n"
     ]
    },
    {
     "ename": "ValueError",
     "evalue": "invalid literal for int() with base 10: 'No'",
     "output_type": "error",
     "traceback": [
      "\u001b[1;31m---------------------------------------------------------------------------\u001b[0m",
      "\u001b[1;31mValueError\u001b[0m                                Traceback (most recent call last)",
      "Cell \u001b[1;32mIn[35], line 5\u001b[0m\n\u001b[0;32m      2\u001b[0m count \u001b[38;5;241m=\u001b[39m \u001b[38;5;241m0\u001b[39m\n\u001b[0;32m      4\u001b[0m \u001b[38;5;28;01mwhile\u001b[39;00m count \u001b[38;5;241m<\u001b[39m \u001b[38;5;241m5\u001b[39m:\n\u001b[1;32m----> 5\u001b[0m     n \u001b[38;5;241m=\u001b[39m \u001b[38;5;28;43mint\u001b[39;49m\u001b[43m(\u001b[49m\u001b[38;5;28;43minput\u001b[39;49m\u001b[43m(\u001b[49m\u001b[38;5;124;43m\"\u001b[39;49m\u001b[38;5;124;43mn\u001b[39;49m\u001b[38;5;124;43m\"\u001b[39;49m\u001b[43m)\u001b[49m\u001b[43m)\u001b[49m\n\u001b[0;32m      6\u001b[0m     fichero\u001b[38;5;241m.\u001b[39mwrite(\u001b[38;5;124mf\u001b[39m\u001b[38;5;124m\"\u001b[39m\u001b[38;5;132;01m{\u001b[39;00mn\u001b[38;5;132;01m}\u001b[39;00m\u001b[38;5;130;01m\\n\u001b[39;00m\u001b[38;5;124m\"\u001b[39m)\n\u001b[0;32m      7\u001b[0m     count \u001b[38;5;241m+\u001b[39m\u001b[38;5;241m=\u001b[39m \u001b[38;5;241m1\u001b[39m\n",
      "\u001b[1;31mValueError\u001b[0m: invalid literal for int() with base 10: 'No'"
     ]
    }
   ],
   "source": [
    "fichero = open(\"lista_numeros.txt\", \"w\")\n",
    "count = 0\n",
    "\n",
    "while count < 5:\n",
    "    n = int(input(\"n\"))\n",
    "    fichero.write(f\"{n}\\n\")\n",
    "    count += 1\n",
    "\n",
    "fichero.close()"
   ]
  },
  {
   "cell_type": "code",
   "execution_count": 36,
   "id": "76b9e599",
   "metadata": {},
   "outputs": [
    {
     "name": "stdout",
     "output_type": "stream",
     "text": [
      "n1\n",
      "n2\n",
      "nNo\n"
     ]
    },
    {
     "ename": "ValueError",
     "evalue": "invalid literal for int() with base 10: 'No'",
     "output_type": "error",
     "traceback": [
      "\u001b[1;31m---------------------------------------------------------------------------\u001b[0m",
      "\u001b[1;31mValueError\u001b[0m                                Traceback (most recent call last)",
      "Cell \u001b[1;32mIn[36], line 5\u001b[0m\n\u001b[0;32m      3\u001b[0m \u001b[38;5;28;01mwith\u001b[39;00m \u001b[38;5;28mopen\u001b[39m(\u001b[38;5;124m\"\u001b[39m\u001b[38;5;124mlista_numeros.txt\u001b[39m\u001b[38;5;124m\"\u001b[39m, \u001b[38;5;124m\"\u001b[39m\u001b[38;5;124mw\u001b[39m\u001b[38;5;124m\"\u001b[39m) \u001b[38;5;28;01mas\u001b[39;00m fichero:\n\u001b[0;32m      4\u001b[0m     \u001b[38;5;28;01mwhile\u001b[39;00m count \u001b[38;5;241m<\u001b[39m \u001b[38;5;241m5\u001b[39m:\n\u001b[1;32m----> 5\u001b[0m         n \u001b[38;5;241m=\u001b[39m \u001b[38;5;28;43mint\u001b[39;49m\u001b[43m(\u001b[49m\u001b[38;5;28;43minput\u001b[39;49m\u001b[43m(\u001b[49m\u001b[38;5;124;43m\"\u001b[39;49m\u001b[38;5;124;43mn\u001b[39;49m\u001b[38;5;124;43m\"\u001b[39;49m\u001b[43m)\u001b[49m\u001b[43m)\u001b[49m\n\u001b[0;32m      6\u001b[0m         fichero\u001b[38;5;241m.\u001b[39mwrite(\u001b[38;5;124mf\u001b[39m\u001b[38;5;124m\"\u001b[39m\u001b[38;5;132;01m{\u001b[39;00mn\u001b[38;5;132;01m}\u001b[39;00m\u001b[38;5;130;01m\\n\u001b[39;00m\u001b[38;5;124m\"\u001b[39m)\n\u001b[0;32m      7\u001b[0m         count \u001b[38;5;241m+\u001b[39m\u001b[38;5;241m=\u001b[39m \u001b[38;5;241m1\u001b[39m\n",
      "\u001b[1;31mValueError\u001b[0m: invalid literal for int() with base 10: 'No'"
     ]
    }
   ],
   "source": [
    "count = 0\n",
    "\n",
    "with open(\"lista_numeros.txt\", \"w\") as fichero:\n",
    "    while count < 5:\n",
    "        n = int(input(\"n\"))\n",
    "        fichero.write(f\"{n}\\n\")\n",
    "        count += 1"
   ]
  },
  {
   "cell_type": "code",
   "execution_count": 39,
   "id": "62dc6b0f",
   "metadata": {},
   "outputs": [
    {
     "name": "stdout",
     "output_type": "stream",
     "text": [
      "Hello World!\n",
      "nNo\n",
      "It was not a number\n",
      "Ciao!\n"
     ]
    }
   ],
   "source": [
    "try:\n",
    "    print(\"Hello World!\")\n",
    "    n = int(input(\"n\"))\n",
    "    print(n)\n",
    "    \n",
    "except:\n",
    "    print(\"It was not a number\")\n",
    "    \n",
    "finally:\n",
    "    print(\"Ciao!\")"
   ]
  },
  {
   "cell_type": "markdown",
   "id": "365f9485",
   "metadata": {},
   "source": [
    "#### Q1 (p281). Checkered pattern"
   ]
  },
  {
   "cell_type": "code",
   "execution_count": 49,
   "id": "6f68e779",
   "metadata": {},
   "outputs": [
    {
     "name": "stdout",
     "output_type": "stream",
     "text": [
      "n=3\n",
      "1 0 1 \n",
      "0 1 0 \n",
      "1 0 1 \n"
     ]
    }
   ],
   "source": [
    "n = int(input(\"n=\"))\n",
    "\n",
    "checkered = []\n",
    "\n",
    "for i in range(n):\n",
    "    lista = []\n",
    "    \n",
    "    for j in range(n):\n",
    "        if j%2==i%2:\n",
    "            lista.append(1)\n",
    "        else:\n",
    "            lista.append(0)\n",
    "            \n",
    "    checkered.append(lista)\n",
    "\n",
    "for row in checkered:\n",
    "    for v in row:\n",
    "        print(v, end=\" \")\n",
    "    print(\"\")\n",
    "    "
   ]
  },
  {
   "cell_type": "code",
   "execution_count": 43,
   "id": "a01c551a",
   "metadata": {},
   "outputs": [
    {
     "data": {
      "text/plain": [
       "0"
      ]
     },
     "execution_count": 43,
     "metadata": {},
     "output_type": "execute_result"
    }
   ],
   "source": [
    "int(1 == 0)"
   ]
  },
  {
   "cell_type": "code",
   "execution_count": 44,
   "id": "0fe5d964",
   "metadata": {},
   "outputs": [
    {
     "data": {
      "text/plain": [
       "1"
      ]
     },
     "execution_count": 44,
     "metadata": {},
     "output_type": "execute_result"
    }
   ],
   "source": [
    "int(1 == 1)"
   ]
  },
  {
   "cell_type": "code",
   "execution_count": 50,
   "id": "a4c019e4",
   "metadata": {},
   "outputs": [
    {
     "name": "stdout",
     "output_type": "stream",
     "text": [
      "n=3\n",
      "1 0 1 \n",
      "0 1 0 \n",
      "1 0 1 \n"
     ]
    }
   ],
   "source": [
    "n = int(input(\"n=\"))\n",
    "\n",
    "checkered = [[int(j%2==i%2) for j in range(n)] for i in range(n)]\n",
    "\n",
    "for row in checkered:\n",
    "    for v in row:\n",
    "        print(v, end=\" \")\n",
    "    print(\"\")"
   ]
  },
  {
   "cell_type": "markdown",
   "id": "568b3200",
   "metadata": {},
   "source": [
    "### Unidad 14"
   ]
  },
  {
   "cell_type": "code",
   "execution_count": 51,
   "id": "0380cfce",
   "metadata": {},
   "outputs": [
    {
     "name": "stdout",
     "output_type": "stream",
     "text": [
      "{'H': 1, 'e': 1, 'l': 3, 'o': 2, ' ': 1, 'W': 1, 'r': 1, 'd': 1}\n"
     ]
    }
   ],
   "source": [
    "texto = \"Hello World\"\n",
    "\n",
    "count = {}\n",
    "\n",
    "for c in texto:\n",
    "    if c not in count:\n",
    "        count[c] = 0\n",
    "        \n",
    "    count[c] += 1\n",
    "    \n",
    "print(count)"
   ]
  },
  {
   "cell_type": "code",
   "execution_count": 52,
   "id": "06434fbf",
   "metadata": {},
   "outputs": [
    {
     "ename": "KeyError",
     "evalue": "'A'",
     "output_type": "error",
     "traceback": [
      "\u001b[1;31m---------------------------------------------------------------------------\u001b[0m",
      "\u001b[1;31mKeyError\u001b[0m                                  Traceback (most recent call last)",
      "Cell \u001b[1;32mIn[52], line 1\u001b[0m\n\u001b[1;32m----> 1\u001b[0m \u001b[43mcount\u001b[49m\u001b[43m[\u001b[49m\u001b[38;5;124;43m\"\u001b[39;49m\u001b[38;5;124;43mA\u001b[39;49m\u001b[38;5;124;43m\"\u001b[39;49m\u001b[43m]\u001b[49m\n",
      "\u001b[1;31mKeyError\u001b[0m: 'A'"
     ]
    }
   ],
   "source": [
    "count[\"A\"]"
   ]
  },
  {
   "cell_type": "code",
   "execution_count": 54,
   "id": "523d8ff2",
   "metadata": {},
   "outputs": [
    {
     "data": {
      "text/plain": [
       "0"
      ]
     },
     "execution_count": 54,
     "metadata": {},
     "output_type": "execute_result"
    }
   ],
   "source": [
    "count.get(\"A\", 0)"
   ]
  },
  {
   "cell_type": "code",
   "execution_count": 55,
   "id": "ddf30b68",
   "metadata": {},
   "outputs": [
    {
     "data": {
      "text/plain": [
       "{'H': 1, 'e': 1, 'l': 3, 'o': 2, ' ': 1, 'W': 1, 'r': 1, 'd': 1}"
      ]
     },
     "execution_count": 55,
     "metadata": {},
     "output_type": "execute_result"
    }
   ],
   "source": [
    "count"
   ]
  },
  {
   "cell_type": "code",
   "execution_count": 56,
   "id": "93a33968",
   "metadata": {},
   "outputs": [
    {
     "name": "stdout",
     "output_type": "stream",
     "text": [
      "{'H': 1, 'e': 1, 'l': 3, 'o': 2, ' ': 1, 'W': 1, 'r': 1, 'd': 1}\n"
     ]
    }
   ],
   "source": [
    "texto = \"Hello World\"\n",
    "\n",
    "count = {}\n",
    "\n",
    "for c in texto:\n",
    "    count.setdefault(c, 0)\n",
    "    count[c] = count[c] + 1\n",
    "    \n",
    "print(count)"
   ]
  },
  {
   "cell_type": "code",
   "execution_count": 57,
   "id": "8d1e66f2",
   "metadata": {},
   "outputs": [
    {
     "name": "stdout",
     "output_type": "stream",
     "text": [
      "{'H': 1, 'e': 1, 'l': 3, 'o': 2, ' ': 1, 'W': 1, 'r': 1, 'd': 1}\n"
     ]
    }
   ],
   "source": [
    "texto = \"Hello World\"\n",
    "\n",
    "count = {}\n",
    "\n",
    "for c in texto:\n",
    "    count[c] = count.get(c, 0) + 1\n",
    "    \n",
    "print(count)"
   ]
  },
  {
   "cell_type": "code",
   "execution_count": 59,
   "id": "2f457e67",
   "metadata": {},
   "outputs": [
    {
     "data": {
      "text/plain": [
       "{'H': 1, 'e': 1, 'l': 3, 'o': 2, ' ': 1, 'W': 1, 'r': 1, 'd': 1}"
      ]
     },
     "execution_count": 59,
     "metadata": {},
     "output_type": "execute_result"
    }
   ],
   "source": [
    "dic = count.copy()\n",
    "dic"
   ]
  },
  {
   "cell_type": "code",
   "execution_count": 60,
   "id": "54749c22",
   "metadata": {},
   "outputs": [],
   "source": [
    "dic.update(H=2)"
   ]
  },
  {
   "cell_type": "code",
   "execution_count": 62,
   "id": "a76fdf21",
   "metadata": {},
   "outputs": [],
   "source": [
    "dic.update(p=2)"
   ]
  },
  {
   "cell_type": "code",
   "execution_count": 63,
   "id": "a8fa8490",
   "metadata": {},
   "outputs": [
    {
     "data": {
      "text/plain": [
       "{'H': 2, 'e': 1, 'l': 3, 'o': 2, ' ': 1, 'W': 1, 'r': 1, 'd': 1, 'p': 2}"
      ]
     },
     "execution_count": 63,
     "metadata": {},
     "output_type": "execute_result"
    }
   ],
   "source": [
    "dic"
   ]
  },
  {
   "cell_type": "code",
   "execution_count": 65,
   "id": "b8248d1c",
   "metadata": {},
   "outputs": [
    {
     "data": {
      "text/plain": [
       "{'H': 3, 'e': 1, 'l': 3, 'o': 2, ' ': 1, 'W': 1, 'r': 1, 'd': 1, 'p': 5}"
      ]
     },
     "execution_count": 65,
     "metadata": {},
     "output_type": "execute_result"
    }
   ],
   "source": [
    "dic.update({\"H\":3, \"p\": 5})\n",
    "dic"
   ]
  },
  {
   "cell_type": "code",
   "execution_count": 67,
   "id": "1dabc6d5",
   "metadata": {},
   "outputs": [
    {
     "data": {
      "text/plain": [
       "{'H': 3, 'e': 1, 'l': 3, 'o': 2, ' ': 1, 'W': 1, 'r': 1, 'd': 1, 'p': 5, 1: 3}"
      ]
     },
     "execution_count": 67,
     "metadata": {},
     "output_type": "execute_result"
    }
   ],
   "source": [
    "dic2 = {1:3, \"p\": 5}\n",
    "dic.update(dic2)\n",
    "dic"
   ]
  },
  {
   "cell_type": "code",
   "execution_count": 68,
   "id": "78d48574",
   "metadata": {},
   "outputs": [
    {
     "data": {
      "text/plain": [
       "{'H': 3, 'e': 1, 'l': 3, 'o': 8, ' ': 1, 'W': 1, 'r': 1, 'd': 1, 'p': 5, 1: 6}"
      ]
     },
     "execution_count": 68,
     "metadata": {},
     "output_type": "execute_result"
    }
   ],
   "source": [
    "lst = [(1, 6), (\"o\", 8)]\n",
    "dic.update(lst)\n",
    "dic"
   ]
  },
  {
   "cell_type": "code",
   "execution_count": 70,
   "id": "83972a05",
   "metadata": {},
   "outputs": [
    {
     "ename": "KeyError",
     "evalue": "3",
     "output_type": "error",
     "traceback": [
      "\u001b[1;31m---------------------------------------------------------------------------\u001b[0m",
      "\u001b[1;31mKeyError\u001b[0m                                  Traceback (most recent call last)",
      "Cell \u001b[1;32mIn[70], line 1\u001b[0m\n\u001b[1;32m----> 1\u001b[0m \u001b[43mdic\u001b[49m\u001b[38;5;241;43m.\u001b[39;49m\u001b[43mpop\u001b[49m\u001b[43m(\u001b[49m\u001b[38;5;241;43m3\u001b[39;49m\u001b[43m)\u001b[49m\n",
      "\u001b[1;31mKeyError\u001b[0m: 3"
     ]
    }
   ],
   "source": [
    "dic.pop(3)"
   ]
  },
  {
   "cell_type": "code",
   "execution_count": 71,
   "id": "1a913907",
   "metadata": {},
   "outputs": [
    {
     "data": {
      "text/plain": [
       "-1"
      ]
     },
     "execution_count": 71,
     "metadata": {},
     "output_type": "execute_result"
    }
   ],
   "source": [
    "dic.pop(3, -1)"
   ]
  },
  {
   "cell_type": "code",
   "execution_count": 72,
   "id": "da380e93",
   "metadata": {},
   "outputs": [
    {
     "data": {
      "text/plain": [
       "(1, 6)"
      ]
     },
     "execution_count": 72,
     "metadata": {},
     "output_type": "execute_result"
    }
   ],
   "source": [
    "dic.popitem()"
   ]
  },
  {
   "cell_type": "code",
   "execution_count": 73,
   "id": "1f4f60ba",
   "metadata": {},
   "outputs": [
    {
     "data": {
      "text/plain": [
       "{'H': 3, 'e': 1, 'l': 3, 'o': 8, ' ': 1, 'W': 1, 'r': 1, 'd': 1, 'p': 5}"
      ]
     },
     "execution_count": 73,
     "metadata": {},
     "output_type": "execute_result"
    }
   ],
   "source": [
    "dic"
   ]
  },
  {
   "cell_type": "code",
   "execution_count": 75,
   "id": "04a56c5e",
   "metadata": {},
   "outputs": [
    {
     "data": {
      "text/plain": [
       "dict_keys(['H', 'e', 'l', 'o', ' ', 'W', 'r', 'd', 'p'])"
      ]
     },
     "execution_count": 75,
     "metadata": {},
     "output_type": "execute_result"
    }
   ],
   "source": [
    "dic.keys()"
   ]
  },
  {
   "cell_type": "code",
   "execution_count": 76,
   "id": "9f7ccca7",
   "metadata": {},
   "outputs": [
    {
     "data": {
      "text/plain": [
       "dict_values([3, 1, 3, 8, 1, 1, 1, 1, 5])"
      ]
     },
     "execution_count": 76,
     "metadata": {},
     "output_type": "execute_result"
    }
   ],
   "source": [
    "dic.values()"
   ]
  },
  {
   "cell_type": "code",
   "execution_count": 77,
   "id": "ae0dcfcd",
   "metadata": {},
   "outputs": [
    {
     "name": "stdout",
     "output_type": "stream",
     "text": [
      "H 3\n",
      "e 1\n",
      "l 3\n",
      "o 8\n",
      "  1\n",
      "W 1\n",
      "r 1\n",
      "d 1\n",
      "p 5\n"
     ]
    }
   ],
   "source": [
    "for k, v in dic.items():\n",
    "    print(k, v)"
   ]
  },
  {
   "cell_type": "markdown",
   "id": "a12adf8c",
   "metadata": {},
   "source": [
    "#### Q1 (p319). Print person information"
   ]
  },
  {
   "cell_type": "code",
   "execution_count": 79,
   "id": "f836c9bb",
   "metadata": {},
   "outputs": [
    {
     "name": "stdout",
     "output_type": "stream",
     "text": [
      "Last Name : Doe\n",
      "First Name : David\n",
      "Company : Samsung\n"
     ]
    }
   ],
   "source": [
    "person = {\"Last Name\": \"Doe\", \"First Name\": \"David\", \"Company\": \"Samsung\"}\n",
    "\n",
    "for field, value in person.items():\n",
    "    print(f\"{field} : {value}\")"
   ]
  },
  {
   "cell_type": "markdown",
   "id": "7f79916c",
   "metadata": {},
   "source": [
    "#### Q2 (p320). Stock"
   ]
  },
  {
   "cell_type": "code",
   "execution_count": 84,
   "id": "d41c11b0",
   "metadata": {},
   "outputs": [
    {
     "name": "stdout",
     "output_type": "stream",
     "text": [
      "Enter name of the item: Coffee\n",
      "7\n",
      "Enter name of the item: Water\n",
      "No such item in stock\n"
     ]
    }
   ],
   "source": [
    "items = {\"Coffee\": 7, \"Pen\":3, \"Paper cup\": 2, \"Milk\": 1, \"Coke\": 4, \"Book\":5}\n",
    "\n",
    "name = input(\"Enter name of the item: \")\n",
    "print(items.get(name, \"No such item in stock\"))\n",
    "\n",
    "name = input(\"Enter name of the item: \")\n",
    "print(items.get(name, \"No such item in stock\"))"
   ]
  },
  {
   "cell_type": "code",
   "execution_count": 86,
   "id": "9674514d",
   "metadata": {},
   "outputs": [
    {
     "data": {
      "text/plain": [
       "['Hello', 'World!']"
      ]
     },
     "execution_count": 86,
     "metadata": {},
     "output_type": "execute_result"
    }
   ],
   "source": [
    "\"Hello World!\".split()"
   ]
  },
  {
   "cell_type": "code",
   "execution_count": 87,
   "id": "21ca7e8e",
   "metadata": {},
   "outputs": [
    {
     "data": {
      "text/plain": [
       "['Hell', ' W', 'rld!']"
      ]
     },
     "execution_count": 87,
     "metadata": {},
     "output_type": "execute_result"
    }
   ],
   "source": [
    "\"Hello World!\".split(\"o\")"
   ]
  },
  {
   "cell_type": "code",
   "execution_count": 89,
   "id": "4a97badc",
   "metadata": {},
   "outputs": [
    {
     "data": {
      "text/plain": [
       "['Hello', 'World!']"
      ]
     },
     "execution_count": 89,
     "metadata": {},
     "output_type": "execute_result"
    }
   ],
   "source": [
    "\"Hello ,  World!\".split(\" ,  \")"
   ]
  },
  {
   "cell_type": "code",
   "execution_count": 90,
   "id": "4702a334",
   "metadata": {},
   "outputs": [
    {
     "data": {
      "text/plain": [
       "[['En', 'esta', 'clase', 'hace', 'un', 'frio', 'que', 'pela'],\n",
       " ['Apaga', 'el', 'aire!!']]"
      ]
     },
     "execution_count": 90,
     "metadata": {},
     "output_type": "execute_result"
    }
   ],
   "source": [
    "texto = \"En esta clase hace un frio que pela. Apaga el aire!!\"\n",
    "\n",
    "words = [[palabra for palabra in frase.split()] for frase in texto.split(\".\")]\n",
    "words"
   ]
  },
  {
   "cell_type": "code",
   "execution_count": 91,
   "id": "cc99f3da",
   "metadata": {},
   "outputs": [
    {
     "data": {
      "text/plain": [
       "[['En', 'esta', 'clase', 'hace', 'un', 'frio', 'que', 'pela'],\n",
       " ['Apaga', 'el', 'aire!!']]"
      ]
     },
     "execution_count": 91,
     "metadata": {},
     "output_type": "execute_result"
    }
   ],
   "source": [
    "words = [frase.split() for frase in texto.split(\".\")]\n",
    "words"
   ]
  },
  {
   "cell_type": "code",
   "execution_count": 92,
   "id": "ed2f9f35",
   "metadata": {},
   "outputs": [
    {
     "data": {
      "text/plain": [
       "'Hola qué tal'"
      ]
     },
     "execution_count": 92,
     "metadata": {},
     "output_type": "execute_result"
    }
   ],
   "source": [
    "\"Hola qué tal     \".strip()"
   ]
  },
  {
   "cell_type": "code",
   "execution_count": 93,
   "id": "cc057ba6",
   "metadata": {},
   "outputs": [
    {
     "data": {
      "text/plain": [
       "'Hola qué tal'"
      ]
     },
     "execution_count": 93,
     "metadata": {},
     "output_type": "execute_result"
    }
   ],
   "source": [
    "\"    Hola qué tal     \".strip()"
   ]
  },
  {
   "cell_type": "code",
   "execution_count": 94,
   "id": "8277f2d3",
   "metadata": {},
   "outputs": [
    {
     "data": {
      "text/plain": [
       "'Hola qué tal     '"
      ]
     },
     "execution_count": 94,
     "metadata": {},
     "output_type": "execute_result"
    }
   ],
   "source": [
    "\"    Hola qué tal     \".lstrip()"
   ]
  },
  {
   "cell_type": "code",
   "execution_count": 95,
   "id": "e8aea908",
   "metadata": {},
   "outputs": [
    {
     "data": {
      "text/plain": [
       "'    Hola qué tal'"
      ]
     },
     "execution_count": 95,
     "metadata": {},
     "output_type": "execute_result"
    }
   ],
   "source": [
    "\"    Hola qué tal     \".rstrip()"
   ]
  },
  {
   "cell_type": "code",
   "execution_count": 98,
   "id": "db762af4",
   "metadata": {},
   "outputs": [
    {
     "name": "stdout",
     "output_type": "stream",
     "text": [
      "    Hola qué tal     \n",
      "."
     ]
    }
   ],
   "source": [
    "print(\"    Hola qué tal     \\n\", end=\".\")"
   ]
  },
  {
   "cell_type": "code",
   "execution_count": 100,
   "id": "c7f2538b",
   "metadata": {},
   "outputs": [
    {
     "name": "stdout",
     "output_type": "stream",
     "text": [
      "Hola \tqué tal."
     ]
    }
   ],
   "source": [
    "print(\"Hola \\tqué tal     \\t\\n\".strip(), end=\".\")"
   ]
  },
  {
   "cell_type": "code",
   "execution_count": 102,
   "id": "76ad0a5c",
   "metadata": {},
   "outputs": [
    {
     "data": {
      "text/plain": [
       "'Hola'"
      ]
     },
     "execution_count": 102,
     "metadata": {},
     "output_type": "execute_result"
    }
   ],
   "source": [
    "\"....Hola.....\".strip(\".\")"
   ]
  },
  {
   "cell_type": "code",
   "execution_count": 103,
   "id": "9d9131b0",
   "metadata": {},
   "outputs": [
    {
     "data": {
      "text/plain": [
       "[['En', 'esta', 'clase', 'hace', 'un', 'frio', 'que', 'pela'],\n",
       " ['Apaga', 'el', 'aire!!']]"
      ]
     },
     "execution_count": 103,
     "metadata": {},
     "output_type": "execute_result"
    }
   ],
   "source": [
    "words"
   ]
  },
  {
   "cell_type": "code",
   "execution_count": 104,
   "id": "b5da00ce",
   "metadata": {},
   "outputs": [
    {
     "data": {
      "text/plain": [
       "['En esta clase hace un frio que pela', 'Apaga el aire!!']"
      ]
     },
     "execution_count": 104,
     "metadata": {},
     "output_type": "execute_result"
    }
   ],
   "source": [
    "[\" \".join(ws) for ws in words]"
   ]
  },
  {
   "cell_type": "code",
   "execution_count": 105,
   "id": "e83146a1",
   "metadata": {},
   "outputs": [
    {
     "data": {
      "text/plain": [
       "['En|esta|clase|hace|un|frio|que|pela', 'Apaga|el|aire!!']"
      ]
     },
     "execution_count": 105,
     "metadata": {},
     "output_type": "execute_result"
    }
   ],
   "source": [
    "[\"|\".join(ws) for ws in words]"
   ]
  },
  {
   "cell_type": "code",
   "execution_count": 107,
   "id": "f5c6a082",
   "metadata": {},
   "outputs": [
    {
     "data": {
      "text/plain": [
       "'En esta clase hace un frio que pela. Apaga el aire!!'"
      ]
     },
     "execution_count": 107,
     "metadata": {},
     "output_type": "execute_result"
    }
   ],
   "source": [
    "\". \".join([\" \".join(ws) for ws in words])"
   ]
  },
  {
   "cell_type": "code",
   "execution_count": 109,
   "id": "c8622d9a",
   "metadata": {},
   "outputs": [
    {
     "data": {
      "text/plain": [
       "'hello'"
      ]
     },
     "execution_count": 109,
     "metadata": {},
     "output_type": "execute_result"
    }
   ],
   "source": [
    "\"HellO\".lower()"
   ]
  },
  {
   "cell_type": "code",
   "execution_count": 110,
   "id": "edd5862f",
   "metadata": {},
   "outputs": [
    {
     "data": {
      "text/plain": [
       "'HELLO'"
      ]
     },
     "execution_count": 110,
     "metadata": {},
     "output_type": "execute_result"
    }
   ],
   "source": [
    "\"HellO\".upper()"
   ]
  },
  {
   "cell_type": "code",
   "execution_count": 111,
   "id": "a3909b14",
   "metadata": {},
   "outputs": [
    {
     "data": {
      "text/plain": [
       "'Hello'"
      ]
     },
     "execution_count": 111,
     "metadata": {},
     "output_type": "execute_result"
    }
   ],
   "source": [
    "\"HellO\".capitalize()"
   ]
  },
  {
   "cell_type": "code",
   "execution_count": 112,
   "id": "72c276de",
   "metadata": {},
   "outputs": [
    {
     "data": {
      "text/plain": [
       "True"
      ]
     },
     "execution_count": 112,
     "metadata": {},
     "output_type": "execute_result"
    }
   ],
   "source": [
    "\"Hello\".startswith(\"He\")"
   ]
  },
  {
   "cell_type": "code",
   "execution_count": 113,
   "id": "8104d6b8",
   "metadata": {},
   "outputs": [
    {
     "data": {
      "text/plain": [
       "False"
      ]
     },
     "execution_count": 113,
     "metadata": {},
     "output_type": "execute_result"
    }
   ],
   "source": [
    "\"Hello\".startswith(\"he\")"
   ]
  },
  {
   "cell_type": "code",
   "execution_count": 114,
   "id": "dcabec1e",
   "metadata": {},
   "outputs": [
    {
     "data": {
      "text/plain": [
       "False"
      ]
     },
     "execution_count": 114,
     "metadata": {},
     "output_type": "execute_result"
    }
   ],
   "source": [
    "\"Hello\".endswith(\"he\")"
   ]
  },
  {
   "cell_type": "code",
   "execution_count": 116,
   "id": "76e7558e",
   "metadata": {},
   "outputs": [
    {
     "data": {
      "text/plain": [
       "True"
      ]
     },
     "execution_count": 116,
     "metadata": {},
     "output_type": "execute_result"
    }
   ],
   "source": [
    "\"Hello\".endswith(\"llo\")"
   ]
  }
 ],
 "metadata": {
  "kernelspec": {
   "display_name": "Python 3 (ipykernel)",
   "language": "python",
   "name": "python3"
  },
  "language_info": {
   "codemirror_mode": {
    "name": "ipython",
    "version": 3
   },
   "file_extension": ".py",
   "mimetype": "text/x-python",
   "name": "python",
   "nbconvert_exporter": "python",
   "pygments_lexer": "ipython3",
   "version": "3.10.11"
  }
 },
 "nbformat": 4,
 "nbformat_minor": 5
}
