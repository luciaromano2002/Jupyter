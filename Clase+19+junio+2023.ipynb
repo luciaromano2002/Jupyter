{
 "cells": [
  {
   "cell_type": "markdown",
   "id": "3b71d926",
   "metadata": {},
   "source": [
    "# Capítulo 2"
   ]
  },
  {
   "cell_type": "code",
   "execution_count": 4,
   "id": "1736d9ec",
   "metadata": {},
   "outputs": [
    {
     "data": {
      "text/plain": [
       "list"
      ]
     },
     "execution_count": 4,
     "metadata": {},
     "output_type": "execute_result"
    }
   ],
   "source": [
    "a = [1,2,3]\n",
    "type(a)"
   ]
  },
  {
   "cell_type": "code",
   "execution_count": 5,
   "id": "ae041cb6",
   "metadata": {},
   "outputs": [
    {
     "data": {
      "text/plain": [
       "[]"
      ]
     },
     "execution_count": 5,
     "metadata": {},
     "output_type": "execute_result"
    }
   ],
   "source": [
    "list()"
   ]
  },
  {
   "cell_type": "code",
   "execution_count": 6,
   "id": "2085ba4d",
   "metadata": {},
   "outputs": [
    {
     "ename": "TypeError",
     "evalue": "'int' object is not iterable",
     "output_type": "error",
     "traceback": [
      "\u001b[1;31m---------------------------------------------------------------------------\u001b[0m",
      "\u001b[1;31mTypeError\u001b[0m                                 Traceback (most recent call last)",
      "Cell \u001b[1;32mIn[6], line 1\u001b[0m\n\u001b[1;32m----> 1\u001b[0m \u001b[38;5;28;43mlist\u001b[39;49m\u001b[43m(\u001b[49m\u001b[38;5;241;43m5\u001b[39;49m\u001b[43m)\u001b[49m\n",
      "\u001b[1;31mTypeError\u001b[0m: 'int' object is not iterable"
     ]
    }
   ],
   "source": [
    "list(5) # list espera algo 'iterable'"
   ]
  },
  {
   "cell_type": "code",
   "execution_count": 9,
   "id": "4d6af934",
   "metadata": {},
   "outputs": [
    {
     "data": {
      "text/plain": [
       "[range(0, 10)]"
      ]
     },
     "execution_count": 9,
     "metadata": {},
     "output_type": "execute_result"
    }
   ],
   "source": [
    "[range(10)]"
   ]
  },
  {
   "cell_type": "code",
   "execution_count": 10,
   "id": "97e565ec",
   "metadata": {},
   "outputs": [
    {
     "data": {
      "text/plain": [
       "[0, 1, 2, 3, 4, 5, 6, 7, 8, 9]"
      ]
     },
     "execution_count": 10,
     "metadata": {},
     "output_type": "execute_result"
    }
   ],
   "source": [
    "list(range(10))"
   ]
  },
  {
   "cell_type": "code",
   "execution_count": 14,
   "id": "f6c3f633",
   "metadata": {},
   "outputs": [
    {
     "data": {
      "text/plain": [
       "['hola', 'adios', 'hola', 'adios', 'hola', 'adios']"
      ]
     },
     "execution_count": 14,
     "metadata": {},
     "output_type": "execute_result"
    }
   ],
   "source": [
    "['hola','adios']*3"
   ]
  },
  {
   "cell_type": "code",
   "execution_count": 15,
   "id": "6ce7bdd7",
   "metadata": {},
   "outputs": [
    {
     "data": {
      "text/plain": [
       "'holaholahola'"
      ]
     },
     "execution_count": 15,
     "metadata": {},
     "output_type": "execute_result"
    }
   ],
   "source": [
    "\"hola\"*3"
   ]
  },
  {
   "cell_type": "code",
   "execution_count": 16,
   "id": "5d7c3b19",
   "metadata": {},
   "outputs": [
    {
     "data": {
      "text/plain": [
       "[1, 2, 3]"
      ]
     },
     "execution_count": 16,
     "metadata": {},
     "output_type": "execute_result"
    }
   ],
   "source": [
    "a"
   ]
  },
  {
   "cell_type": "code",
   "execution_count": 17,
   "id": "2e73af97",
   "metadata": {},
   "outputs": [
    {
     "data": {
      "text/plain": [
       "1"
      ]
     },
     "execution_count": 17,
     "metadata": {},
     "output_type": "execute_result"
    }
   ],
   "source": [
    "a[-3]"
   ]
  },
  {
   "cell_type": "markdown",
   "id": "5ae9220d",
   "metadata": {},
   "source": [
    "### Diferencia append y extend"
   ]
  },
  {
   "cell_type": "code",
   "execution_count": 26,
   "id": "75487a84",
   "metadata": {},
   "outputs": [],
   "source": [
    "lista = ['a','b','c']"
   ]
  },
  {
   "cell_type": "code",
   "execution_count": 27,
   "id": "4dedec34",
   "metadata": {},
   "outputs": [],
   "source": [
    "lista.append('hola')"
   ]
  },
  {
   "cell_type": "code",
   "execution_count": 28,
   "id": "87b33edf",
   "metadata": {},
   "outputs": [
    {
     "data": {
      "text/plain": [
       "['a', 'b', 'c', 'hola']"
      ]
     },
     "execution_count": 28,
     "metadata": {},
     "output_type": "execute_result"
    }
   ],
   "source": [
    "lista"
   ]
  },
  {
   "cell_type": "code",
   "execution_count": 29,
   "id": "38527e14",
   "metadata": {},
   "outputs": [],
   "source": [
    "lista.extend('hola')"
   ]
  },
  {
   "cell_type": "code",
   "execution_count": 30,
   "id": "0b4a1c3c",
   "metadata": {},
   "outputs": [
    {
     "data": {
      "text/plain": [
       "['a', 'b', 'c', 'hola', 'h', 'o', 'l', 'a']"
      ]
     },
     "execution_count": 30,
     "metadata": {},
     "output_type": "execute_result"
    }
   ],
   "source": [
    "lista"
   ]
  },
  {
   "cell_type": "code",
   "execution_count": 31,
   "id": "ae20a272",
   "metadata": {},
   "outputs": [
    {
     "data": {
      "text/plain": [
       "['a', 'b', 'c', 'hola', 'h', 'o', 'l', 'a', [1, 2, 3]]"
      ]
     },
     "execution_count": 31,
     "metadata": {},
     "output_type": "execute_result"
    }
   ],
   "source": [
    "lista.append([1,2,3])\n",
    "lista"
   ]
  },
  {
   "cell_type": "code",
   "execution_count": 32,
   "id": "1dc91033",
   "metadata": {},
   "outputs": [
    {
     "ename": "TypeError",
     "evalue": "'int' object is not iterable",
     "output_type": "error",
     "traceback": [
      "\u001b[1;31m---------------------------------------------------------------------------\u001b[0m",
      "\u001b[1;31mTypeError\u001b[0m                                 Traceback (most recent call last)",
      "Cell \u001b[1;32mIn[32], line 1\u001b[0m\n\u001b[1;32m----> 1\u001b[0m \u001b[43mlista\u001b[49m\u001b[38;5;241;43m.\u001b[39;49m\u001b[43mextend\u001b[49m\u001b[43m(\u001b[49m\u001b[38;5;241;43m5\u001b[39;49m\u001b[43m)\u001b[49m\n",
      "\u001b[1;31mTypeError\u001b[0m: 'int' object is not iterable"
     ]
    }
   ],
   "source": [
    "lista.extend(5)"
   ]
  },
  {
   "cell_type": "code",
   "execution_count": 33,
   "id": "1733169b",
   "metadata": {},
   "outputs": [
    {
     "data": {
      "text/plain": [
       "[1, 2, 3]"
      ]
     },
     "execution_count": 33,
     "metadata": {},
     "output_type": "execute_result"
    }
   ],
   "source": [
    "a"
   ]
  },
  {
   "cell_type": "code",
   "execution_count": 34,
   "id": "e79b18e4",
   "metadata": {},
   "outputs": [],
   "source": [
    "del a"
   ]
  },
  {
   "cell_type": "code",
   "execution_count": 35,
   "id": "4a0862e3",
   "metadata": {},
   "outputs": [
    {
     "ename": "NameError",
     "evalue": "name 'a' is not defined",
     "output_type": "error",
     "traceback": [
      "\u001b[1;31m---------------------------------------------------------------------------\u001b[0m",
      "\u001b[1;31mNameError\u001b[0m                                 Traceback (most recent call last)",
      "Cell \u001b[1;32mIn[35], line 1\u001b[0m\n\u001b[1;32m----> 1\u001b[0m \u001b[43ma\u001b[49m\n",
      "\u001b[1;31mNameError\u001b[0m: name 'a' is not defined"
     ]
    }
   ],
   "source": [
    "a"
   ]
  },
  {
   "cell_type": "code",
   "execution_count": 39,
   "id": "bc8371f7",
   "metadata": {},
   "outputs": [],
   "source": [
    "lista = [10,20,30]"
   ]
  },
  {
   "cell_type": "code",
   "execution_count": 40,
   "id": "9ab25fd7",
   "metadata": {},
   "outputs": [
    {
     "data": {
      "text/plain": [
       "10"
      ]
     },
     "execution_count": 40,
     "metadata": {},
     "output_type": "execute_result"
    }
   ],
   "source": [
    "lista.pop(0)"
   ]
  },
  {
   "cell_type": "code",
   "execution_count": 41,
   "id": "f9db5851",
   "metadata": {},
   "outputs": [
    {
     "data": {
      "text/plain": [
       "[20, 30]"
      ]
     },
     "execution_count": 41,
     "metadata": {},
     "output_type": "execute_result"
    }
   ],
   "source": [
    "lista"
   ]
  },
  {
   "cell_type": "code",
   "execution_count": 42,
   "id": "0013cda5",
   "metadata": {},
   "outputs": [],
   "source": [
    "lista = [10,20,30]\n",
    "del lista[0]"
   ]
  },
  {
   "cell_type": "code",
   "execution_count": 43,
   "id": "b28d352e",
   "metadata": {},
   "outputs": [
    {
     "data": {
      "text/plain": [
       "[20, 30]"
      ]
     },
     "execution_count": 43,
     "metadata": {},
     "output_type": "execute_result"
    }
   ],
   "source": [
    "lista"
   ]
  },
  {
   "cell_type": "code",
   "execution_count": 44,
   "id": "7f3c0b91",
   "metadata": {},
   "outputs": [],
   "source": [
    "lista = [10,20,30,20]\n",
    "lista.remove(20)"
   ]
  },
  {
   "cell_type": "code",
   "execution_count": 45,
   "id": "99b2973b",
   "metadata": {},
   "outputs": [
    {
     "data": {
      "text/plain": [
       "[10, 30, 20]"
      ]
     },
     "execution_count": 45,
     "metadata": {},
     "output_type": "execute_result"
    }
   ],
   "source": [
    "lista"
   ]
  },
  {
   "cell_type": "code",
   "execution_count": 46,
   "id": "0911936a",
   "metadata": {},
   "outputs": [
    {
     "ename": "ValueError",
     "evalue": "list.remove(x): x not in list",
     "output_type": "error",
     "traceback": [
      "\u001b[1;31m---------------------------------------------------------------------------\u001b[0m",
      "\u001b[1;31mValueError\u001b[0m                                Traceback (most recent call last)",
      "Cell \u001b[1;32mIn[46], line 1\u001b[0m\n\u001b[1;32m----> 1\u001b[0m \u001b[43mlista\u001b[49m\u001b[38;5;241;43m.\u001b[39;49m\u001b[43mremove\u001b[49m\u001b[43m(\u001b[49m\u001b[38;5;241;43m50\u001b[39;49m\u001b[43m)\u001b[49m\n",
      "\u001b[1;31mValueError\u001b[0m: list.remove(x): x not in list"
     ]
    }
   ],
   "source": [
    "lista.remove(50)"
   ]
  },
  {
   "cell_type": "code",
   "execution_count": 49,
   "id": "317ab6e4",
   "metadata": {},
   "outputs": [
    {
     "data": {
      "text/plain": [
       "[0, 1, 2, 3, 4, 5, 6, 7, 8, 9, 10, 11, 12, 13, 14, 15, 16, 17, 18, 19]"
      ]
     },
     "execution_count": 49,
     "metadata": {},
     "output_type": "execute_result"
    }
   ],
   "source": [
    "lista = list(range(20))\n",
    "lista"
   ]
  },
  {
   "cell_type": "code",
   "execution_count": 51,
   "id": "0bd1eece",
   "metadata": {},
   "outputs": [],
   "source": [
    "del lista[7:12]"
   ]
  },
  {
   "cell_type": "code",
   "execution_count": 52,
   "id": "0b902e1f",
   "metadata": {},
   "outputs": [
    {
     "data": {
      "text/plain": [
       "[0, 1, 2, 3, 4, 5, 6, 12, 13, 14, 15, 16, 17, 18, 19]"
      ]
     },
     "execution_count": 52,
     "metadata": {},
     "output_type": "execute_result"
    }
   ],
   "source": [
    "lista"
   ]
  },
  {
   "cell_type": "code",
   "execution_count": 53,
   "id": "fa0fd26a",
   "metadata": {},
   "outputs": [
    {
     "data": {
      "text/plain": [
       "['esto', 'es', 'una', 'forma', 'de', 'crear', 'una', 'lista']"
      ]
     },
     "execution_count": 53,
     "metadata": {},
     "output_type": "execute_result"
    }
   ],
   "source": [
    "lista = \"esto es una forma de crear una lista\".split()\n",
    "lista"
   ]
  },
  {
   "cell_type": "code",
   "execution_count": 54,
   "id": "b483df72",
   "metadata": {},
   "outputs": [
    {
     "name": "stdout",
     "output_type": "stream",
     "text": [
      "['esto', 'es', 'una', 'forma'] ['de', 'crear', 'una', 'lista']\n"
     ]
    }
   ],
   "source": [
    "print(lista[:4],lista[4:])"
   ]
  },
  {
   "cell_type": "code",
   "execution_count": 58,
   "id": "4eef21b1",
   "metadata": {},
   "outputs": [
    {
     "data": {
      "text/plain": [
       "['lista', 'una', 'crear', 'de', 'forma', 'una', 'es', 'esto']"
      ]
     },
     "execution_count": 58,
     "metadata": {},
     "output_type": "execute_result"
    }
   ],
   "source": [
    "lista[::-1] # devuelve una lista nueva, la original no cambia"
   ]
  },
  {
   "cell_type": "code",
   "execution_count": 59,
   "id": "7f3c56c0",
   "metadata": {},
   "outputs": [
    {
     "data": {
      "text/plain": [
       "['esto', 'es', 'una', 'forma', 'de', 'crear', 'una', 'lista']"
      ]
     },
     "execution_count": 59,
     "metadata": {},
     "output_type": "execute_result"
    }
   ],
   "source": [
    "lista"
   ]
  },
  {
   "cell_type": "code",
   "execution_count": 63,
   "id": "520938df",
   "metadata": {},
   "outputs": [],
   "source": [
    "lista.reverse()"
   ]
  },
  {
   "cell_type": "code",
   "execution_count": 64,
   "id": "c0548e57",
   "metadata": {},
   "outputs": [
    {
     "data": {
      "text/plain": [
       "['esto', 'es', 'una', 'forma', 'de', 'crear', 'una', 'lista']"
      ]
     },
     "execution_count": 64,
     "metadata": {},
     "output_type": "execute_result"
    }
   ],
   "source": [
    "lista"
   ]
  },
  {
   "cell_type": "code",
   "execution_count": 66,
   "id": "9866d05f",
   "metadata": {},
   "outputs": [],
   "source": [
    "lista[:2] = [1,2,3]"
   ]
  },
  {
   "cell_type": "code",
   "execution_count": 67,
   "id": "13ac1030",
   "metadata": {},
   "outputs": [
    {
     "data": {
      "text/plain": [
       "[1, 2, 3, 'una', 'forma', 'de', 'crear', 'una', 'lista']"
      ]
     },
     "execution_count": 67,
     "metadata": {},
     "output_type": "execute_result"
    }
   ],
   "source": [
    "lista"
   ]
  },
  {
   "cell_type": "code",
   "execution_count": 71,
   "id": "2e7ce37a",
   "metadata": {},
   "outputs": [],
   "source": [
    "lista[::2] = [1,2,3,4,5]"
   ]
  },
  {
   "cell_type": "code",
   "execution_count": 72,
   "id": "771a407c",
   "metadata": {},
   "outputs": [
    {
     "data": {
      "text/plain": [
       "[1, 2, 2, 'una', 3, 'de', 4, 'una', 5]"
      ]
     },
     "execution_count": 72,
     "metadata": {},
     "output_type": "execute_result"
    }
   ],
   "source": [
    "lista"
   ]
  },
  {
   "cell_type": "code",
   "execution_count": 74,
   "id": "36053634",
   "metadata": {},
   "outputs": [],
   "source": [
    "lista[1] = 5"
   ]
  },
  {
   "cell_type": "code",
   "execution_count": 75,
   "id": "cb0ed616",
   "metadata": {},
   "outputs": [
    {
     "data": {
      "text/plain": [
       "True"
      ]
     },
     "execution_count": 75,
     "metadata": {},
     "output_type": "execute_result"
    }
   ],
   "source": [
    "\"casa\" in \"casada\""
   ]
  },
  {
   "cell_type": "code",
   "execution_count": 76,
   "id": "2727d38b",
   "metadata": {},
   "outputs": [
    {
     "data": {
      "text/plain": [
       "False"
      ]
     },
     "execution_count": 76,
     "metadata": {},
     "output_type": "execute_result"
    }
   ],
   "source": [
    "\"casa\" in [\"casada\"]"
   ]
  },
  {
   "cell_type": "code",
   "execution_count": 77,
   "id": "03369429",
   "metadata": {},
   "outputs": [
    {
     "data": {
      "text/plain": [
       "True"
      ]
     },
     "execution_count": 77,
     "metadata": {},
     "output_type": "execute_result"
    }
   ],
   "source": [
    "\"mente\" in \"muy probablemente iremos al cine\""
   ]
  },
  {
   "cell_type": "code",
   "execution_count": 78,
   "id": "98d14488",
   "metadata": {},
   "outputs": [
    {
     "data": {
      "text/plain": [
       "False"
      ]
     },
     "execution_count": 78,
     "metadata": {},
     "output_type": "execute_result"
    }
   ],
   "source": [
    "\"mente\" in \"muy probablemente iremos al cine\".split()"
   ]
  },
  {
   "cell_type": "code",
   "execution_count": 81,
   "id": "ed358a0f",
   "metadata": {},
   "outputs": [
    {
     "data": {
      "text/plain": [
       "True"
      ]
     },
     "execution_count": 81,
     "metadata": {},
     "output_type": "execute_result"
    }
   ],
   "source": [
    "\"mente\" in \"El cerebro y la MENTE\".lower().split()"
   ]
  },
  {
   "cell_type": "code",
   "execution_count": 82,
   "id": "05a671f6",
   "metadata": {},
   "outputs": [
    {
     "data": {
      "text/plain": [
       "False"
      ]
     },
     "execution_count": 82,
     "metadata": {},
     "output_type": "execute_result"
    }
   ],
   "source": [
    "5 in ['5']"
   ]
  },
  {
   "cell_type": "code",
   "execution_count": 83,
   "id": "299d1ccd",
   "metadata": {},
   "outputs": [
    {
     "data": {
      "text/plain": [
       "5"
      ]
     },
     "execution_count": 83,
     "metadata": {},
     "output_type": "execute_result"
    }
   ],
   "source": [
    "int('5')"
   ]
  },
  {
   "cell_type": "code",
   "execution_count": 86,
   "id": "1d3b2559",
   "metadata": {},
   "outputs": [],
   "source": [
    "lista = [10,20,10,30,10,50,12,10,10,34]"
   ]
  },
  {
   "cell_type": "code",
   "execution_count": 87,
   "id": "945a21dc",
   "metadata": {},
   "outputs": [
    {
     "name": "stdout",
     "output_type": "stream",
     "text": [
      "[10, 20, 10, 30, 10, 50, 12, 10, 10, 34]\n",
      "[20, 10, 30, 10, 50, 12, 10, 10, 34]\n",
      "[20, 30, 10, 50, 12, 10, 10, 34]\n",
      "[20, 30, 50, 12, 10, 10, 34]\n",
      "[20, 30, 50, 12, 10, 34]\n"
     ]
    },
    {
     "data": {
      "text/plain": [
       "[20, 30, 50, 12, 34]"
      ]
     },
     "execution_count": 87,
     "metadata": {},
     "output_type": "execute_result"
    }
   ],
   "source": [
    "while 10 in lista:\n",
    "    print(lista)\n",
    "    lista.remove(10)\n",
    "lista"
   ]
  },
  {
   "cell_type": "markdown",
   "id": "b2a08f91",
   "metadata": {},
   "source": [
    "## Mutable e inmutable, identidad"
   ]
  },
  {
   "cell_type": "code",
   "execution_count": 88,
   "id": "4a50bb6c",
   "metadata": {},
   "outputs": [],
   "source": [
    "a = [1,2,3]"
   ]
  },
  {
   "cell_type": "code",
   "execution_count": 89,
   "id": "fc6294ac",
   "metadata": {},
   "outputs": [],
   "source": [
    "b = a"
   ]
  },
  {
   "cell_type": "code",
   "execution_count": 90,
   "id": "b18517d4",
   "metadata": {},
   "outputs": [
    {
     "data": {
      "text/plain": [
       "[1, 2, 3]"
      ]
     },
     "execution_count": 90,
     "metadata": {},
     "output_type": "execute_result"
    }
   ],
   "source": [
    "b"
   ]
  },
  {
   "cell_type": "code",
   "execution_count": 91,
   "id": "8c728af2",
   "metadata": {},
   "outputs": [],
   "source": [
    "a.append(4)"
   ]
  },
  {
   "cell_type": "code",
   "execution_count": 92,
   "id": "cf261ef8",
   "metadata": {},
   "outputs": [
    {
     "data": {
      "text/plain": [
       "[1, 2, 3, 4]"
      ]
     },
     "execution_count": 92,
     "metadata": {},
     "output_type": "execute_result"
    }
   ],
   "source": [
    "a"
   ]
  },
  {
   "cell_type": "code",
   "execution_count": 93,
   "id": "a6121859",
   "metadata": {},
   "outputs": [
    {
     "data": {
      "text/plain": [
       "[1, 2, 3, 4]"
      ]
     },
     "execution_count": 93,
     "metadata": {},
     "output_type": "execute_result"
    }
   ],
   "source": [
    "b"
   ]
  },
  {
   "cell_type": "code",
   "execution_count": 94,
   "id": "6271ea7c",
   "metadata": {},
   "outputs": [],
   "source": [
    "c = [1,2,3,4]"
   ]
  },
  {
   "cell_type": "code",
   "execution_count": 97,
   "id": "3c2e90eb",
   "metadata": {},
   "outputs": [
    {
     "data": {
      "text/plain": [
       "True"
      ]
     },
     "execution_count": 97,
     "metadata": {},
     "output_type": "execute_result"
    }
   ],
   "source": [
    "a == c"
   ]
  },
  {
   "cell_type": "code",
   "execution_count": 98,
   "id": "e4092123",
   "metadata": {},
   "outputs": [
    {
     "data": {
      "text/plain": [
       "False"
      ]
     },
     "execution_count": 98,
     "metadata": {},
     "output_type": "execute_result"
    }
   ],
   "source": [
    "a is c"
   ]
  },
  {
   "cell_type": "code",
   "execution_count": 99,
   "id": "fd643e9f",
   "metadata": {},
   "outputs": [
    {
     "data": {
      "text/plain": [
       "True"
      ]
     },
     "execution_count": 99,
     "metadata": {},
     "output_type": "execute_result"
    }
   ],
   "source": [
    "a is b"
   ]
  },
  {
   "cell_type": "code",
   "execution_count": 100,
   "id": "46b63efd",
   "metadata": {},
   "outputs": [],
   "source": [
    "a.append(5)"
   ]
  },
  {
   "cell_type": "code",
   "execution_count": 101,
   "id": "ffa355cf",
   "metadata": {},
   "outputs": [
    {
     "data": {
      "text/plain": [
       "[1, 2, 3, 4, 5]"
      ]
     },
     "execution_count": 101,
     "metadata": {},
     "output_type": "execute_result"
    }
   ],
   "source": [
    "b"
   ]
  },
  {
   "cell_type": "code",
   "execution_count": 102,
   "id": "87e294a8",
   "metadata": {},
   "outputs": [
    {
     "data": {
      "text/plain": [
       "[1, 2, 3, 4]"
      ]
     },
     "execution_count": 102,
     "metadata": {},
     "output_type": "execute_result"
    }
   ],
   "source": [
    "c"
   ]
  },
  {
   "cell_type": "code",
   "execution_count": 103,
   "id": "e3d8c999",
   "metadata": {},
   "outputs": [],
   "source": [
    "d = a.copy()"
   ]
  },
  {
   "cell_type": "code",
   "execution_count": 104,
   "id": "38e97f7f",
   "metadata": {},
   "outputs": [
    {
     "data": {
      "text/plain": [
       "False"
      ]
     },
     "execution_count": 104,
     "metadata": {},
     "output_type": "execute_result"
    }
   ],
   "source": [
    "d is a"
   ]
  },
  {
   "cell_type": "code",
   "execution_count": 105,
   "id": "1041cc1b",
   "metadata": {},
   "outputs": [
    {
     "data": {
      "text/plain": [
       "[1, 2, 3, 4, 5]"
      ]
     },
     "execution_count": 105,
     "metadata": {},
     "output_type": "execute_result"
    }
   ],
   "source": [
    "a"
   ]
  },
  {
   "cell_type": "code",
   "execution_count": 106,
   "id": "ccf5451a",
   "metadata": {},
   "outputs": [],
   "source": [
    "d = a[:] # crea una copia, como llamar a .copy()"
   ]
  },
  {
   "cell_type": "code",
   "execution_count": 107,
   "id": "4350f4ba",
   "metadata": {},
   "outputs": [
    {
     "data": {
      "text/plain": [
       "[1, 2, 3, 4, 5]"
      ]
     },
     "execution_count": 107,
     "metadata": {},
     "output_type": "execute_result"
    }
   ],
   "source": [
    "d"
   ]
  },
  {
   "cell_type": "code",
   "execution_count": 108,
   "id": "5294ca96",
   "metadata": {},
   "outputs": [
    {
     "data": {
      "text/plain": [
       "True"
      ]
     },
     "execution_count": 108,
     "metadata": {},
     "output_type": "execute_result"
    }
   ],
   "source": [
    "a == d"
   ]
  },
  {
   "cell_type": "markdown",
   "id": "8dba2e14",
   "metadata": {},
   "source": [
    "## Las tupla son inmutables"
   ]
  },
  {
   "cell_type": "code",
   "execution_count": 109,
   "id": "d5c72585",
   "metadata": {},
   "outputs": [],
   "source": [
    "t1 = (1,2,3)"
   ]
  },
  {
   "cell_type": "code",
   "execution_count": 110,
   "id": "474f529e",
   "metadata": {},
   "outputs": [
    {
     "data": {
      "text/plain": [
       "tuple"
      ]
     },
     "execution_count": 110,
     "metadata": {},
     "output_type": "execute_result"
    }
   ],
   "source": [
    "type(t1)"
   ]
  },
  {
   "cell_type": "code",
   "execution_count": 111,
   "id": "3a90b375",
   "metadata": {},
   "outputs": [],
   "source": [
    "t2 = t1"
   ]
  },
  {
   "cell_type": "code",
   "execution_count": 112,
   "id": "a7742169",
   "metadata": {},
   "outputs": [
    {
     "data": {
      "text/plain": [
       "(1, 2, 3)"
      ]
     },
     "execution_count": 112,
     "metadata": {},
     "output_type": "execute_result"
    }
   ],
   "source": [
    "t2"
   ]
  },
  {
   "cell_type": "code",
   "execution_count": 115,
   "id": "bd1706ff",
   "metadata": {},
   "outputs": [],
   "source": [
    "t1 = (1,2,3,4)"
   ]
  },
  {
   "cell_type": "code",
   "execution_count": 116,
   "id": "ffd247be",
   "metadata": {},
   "outputs": [
    {
     "data": {
      "text/plain": [
       "(1, 2, 3)"
      ]
     },
     "execution_count": 116,
     "metadata": {},
     "output_type": "execute_result"
    }
   ],
   "source": [
    "t2"
   ]
  },
  {
   "cell_type": "code",
   "execution_count": 123,
   "id": "48de310a",
   "metadata": {},
   "outputs": [],
   "source": [
    "a,b,c = 1,2,3"
   ]
  },
  {
   "cell_type": "code",
   "execution_count": 124,
   "id": "42c21027",
   "metadata": {},
   "outputs": [],
   "source": [
    "d = {}"
   ]
  },
  {
   "cell_type": "code",
   "execution_count": 125,
   "id": "07d204a9",
   "metadata": {},
   "outputs": [
    {
     "data": {
      "text/plain": [
       "dict"
      ]
     },
     "execution_count": 125,
     "metadata": {},
     "output_type": "execute_result"
    }
   ],
   "source": [
    "type(d)"
   ]
  },
  {
   "cell_type": "code",
   "execution_count": 126,
   "id": "59e41fe1",
   "metadata": {},
   "outputs": [],
   "source": [
    "d['manzanas'] = 2.5"
   ]
  },
  {
   "cell_type": "code",
   "execution_count": 127,
   "id": "214229de",
   "metadata": {},
   "outputs": [
    {
     "data": {
      "text/plain": [
       "{'manzanas': 2.5}"
      ]
     },
     "execution_count": 127,
     "metadata": {},
     "output_type": "execute_result"
    }
   ],
   "source": [
    "d"
   ]
  },
  {
   "cell_type": "code",
   "execution_count": 128,
   "id": "53fbf5ee",
   "metadata": {},
   "outputs": [],
   "source": [
    "d[(1,2)] = 3"
   ]
  },
  {
   "cell_type": "code",
   "execution_count": 129,
   "id": "b01b7eb3",
   "metadata": {},
   "outputs": [
    {
     "data": {
      "text/plain": [
       "{'manzanas': 2.5, (1, 2): 3}"
      ]
     },
     "execution_count": 129,
     "metadata": {},
     "output_type": "execute_result"
    }
   ],
   "source": [
    "d"
   ]
  },
  {
   "cell_type": "code",
   "execution_count": 130,
   "id": "9207e216",
   "metadata": {},
   "outputs": [],
   "source": [
    "tupla = (1,2)"
   ]
  },
  {
   "cell_type": "code",
   "execution_count": 131,
   "id": "a718be46",
   "metadata": {},
   "outputs": [
    {
     "data": {
      "text/plain": [
       "3"
      ]
     },
     "execution_count": 131,
     "metadata": {},
     "output_type": "execute_result"
    }
   ],
   "source": [
    "d[tupla]"
   ]
  },
  {
   "cell_type": "code",
   "execution_count": 132,
   "id": "e4f071b0",
   "metadata": {},
   "outputs": [],
   "source": [
    "lista = [1,2]"
   ]
  },
  {
   "cell_type": "code",
   "execution_count": 133,
   "id": "8c2348e1",
   "metadata": {},
   "outputs": [
    {
     "ename": "TypeError",
     "evalue": "unhashable type: 'list'",
     "output_type": "error",
     "traceback": [
      "\u001b[1;31m---------------------------------------------------------------------------\u001b[0m",
      "\u001b[1;31mTypeError\u001b[0m                                 Traceback (most recent call last)",
      "Cell \u001b[1;32mIn[133], line 1\u001b[0m\n\u001b[1;32m----> 1\u001b[0m d[lista] \u001b[38;5;241m=\u001b[39m \u001b[38;5;241m4\u001b[39m\n",
      "\u001b[1;31mTypeError\u001b[0m: unhashable type: 'list'"
     ]
    }
   ],
   "source": [
    "d[lista] = 4"
   ]
  },
  {
   "cell_type": "code",
   "execution_count": 134,
   "id": "52df1d63",
   "metadata": {},
   "outputs": [],
   "source": [
    "a = 5\n",
    "b = a"
   ]
  },
  {
   "cell_type": "code",
   "execution_count": 135,
   "id": "d7a7551a",
   "metadata": {},
   "outputs": [
    {
     "data": {
      "text/plain": [
       "5"
      ]
     },
     "execution_count": 135,
     "metadata": {},
     "output_type": "execute_result"
    }
   ],
   "source": [
    "b"
   ]
  },
  {
   "cell_type": "code",
   "execution_count": 136,
   "id": "87f34881",
   "metadata": {},
   "outputs": [],
   "source": [
    "a += 3"
   ]
  },
  {
   "cell_type": "code",
   "execution_count": 137,
   "id": "f822c914",
   "metadata": {},
   "outputs": [
    {
     "data": {
      "text/plain": [
       "5"
      ]
     },
     "execution_count": 137,
     "metadata": {},
     "output_type": "execute_result"
    }
   ],
   "source": [
    "b"
   ]
  },
  {
   "cell_type": "code",
   "execution_count": 139,
   "id": "472cbee8",
   "metadata": {},
   "outputs": [],
   "source": [
    "a = [1]"
   ]
  },
  {
   "cell_type": "code",
   "execution_count": 140,
   "id": "18a6cdd8",
   "metadata": {},
   "outputs": [
    {
     "data": {
      "text/plain": [
       "1"
      ]
     },
     "execution_count": 140,
     "metadata": {},
     "output_type": "execute_result"
    }
   ],
   "source": [
    "len(a)"
   ]
  },
  {
   "cell_type": "code",
   "execution_count": 146,
   "id": "989cefa6",
   "metadata": {},
   "outputs": [],
   "source": [
    "b = (1,) # las tuplas de longitud 1 necesitan una \",\""
   ]
  },
  {
   "cell_type": "code",
   "execution_count": 147,
   "id": "d5859d8c",
   "metadata": {},
   "outputs": [
    {
     "data": {
      "text/plain": [
       "(1,)"
      ]
     },
     "execution_count": 147,
     "metadata": {},
     "output_type": "execute_result"
    }
   ],
   "source": [
    "b"
   ]
  },
  {
   "cell_type": "code",
   "execution_count": 148,
   "id": "637d7a5f",
   "metadata": {},
   "outputs": [
    {
     "data": {
      "text/plain": [
       "tuple"
      ]
     },
     "execution_count": 148,
     "metadata": {},
     "output_type": "execute_result"
    }
   ],
   "source": [
    "type(b)"
   ]
  },
  {
   "cell_type": "markdown",
   "id": "3d6f87f9",
   "metadata": {},
   "source": [
    "## Funciones any y all"
   ]
  },
  {
   "cell_type": "code",
   "execution_count": 151,
   "id": "58d510fe",
   "metadata": {},
   "outputs": [
    {
     "data": {
      "text/plain": [
       "False"
      ]
     },
     "execution_count": 151,
     "metadata": {},
     "output_type": "execute_result"
    }
   ],
   "source": [
    "any([False, False, False])"
   ]
  },
  {
   "cell_type": "code",
   "execution_count": 152,
   "id": "96f9d35d",
   "metadata": {},
   "outputs": [
    {
     "data": {
      "text/plain": [
       "True"
      ]
     },
     "execution_count": 152,
     "metadata": {},
     "output_type": "execute_result"
    }
   ],
   "source": [
    "any([False, False, True, False])"
   ]
  },
  {
   "cell_type": "code",
   "execution_count": 153,
   "id": "b93ca189",
   "metadata": {},
   "outputs": [
    {
     "data": {
      "text/plain": [
       "True"
      ]
     },
     "execution_count": 153,
     "metadata": {},
     "output_type": "execute_result"
    }
   ],
   "source": [
    "all([True, True, True, True])"
   ]
  },
  {
   "cell_type": "code",
   "execution_count": 154,
   "id": "dc93a163",
   "metadata": {},
   "outputs": [
    {
     "data": {
      "text/plain": [
       "False"
      ]
     },
     "execution_count": 154,
     "metadata": {},
     "output_type": "execute_result"
    }
   ],
   "source": [
    "all([False, True, True, True, True])"
   ]
  },
  {
   "cell_type": "code",
   "execution_count": 155,
   "id": "f72b14d5",
   "metadata": {},
   "outputs": [
    {
     "data": {
      "text/plain": [
       "False"
      ]
     },
     "execution_count": 155,
     "metadata": {},
     "output_type": "execute_result"
    }
   ],
   "source": [
    "bool([])"
   ]
  },
  {
   "cell_type": "code",
   "execution_count": 156,
   "id": "7bcbc170",
   "metadata": {},
   "outputs": [
    {
     "data": {
      "text/plain": [
       "False"
      ]
     },
     "execution_count": 156,
     "metadata": {},
     "output_type": "execute_result"
    }
   ],
   "source": [
    "bool('')"
   ]
  },
  {
   "cell_type": "code",
   "execution_count": 157,
   "id": "5c23767f",
   "metadata": {},
   "outputs": [
    {
     "data": {
      "text/plain": [
       "False"
      ]
     },
     "execution_count": 157,
     "metadata": {},
     "output_type": "execute_result"
    }
   ],
   "source": [
    "bool(0)"
   ]
  },
  {
   "cell_type": "code",
   "execution_count": 158,
   "id": "5ab1a3d4",
   "metadata": {},
   "outputs": [
    {
     "data": {
      "text/plain": [
       "True"
      ]
     },
     "execution_count": 158,
     "metadata": {},
     "output_type": "execute_result"
    }
   ],
   "source": [
    "bool(2)"
   ]
  },
  {
   "cell_type": "code",
   "execution_count": 161,
   "id": "bd8905ce",
   "metadata": {},
   "outputs": [
    {
     "data": {
      "text/plain": [
       "False"
      ]
     },
     "execution_count": 161,
     "metadata": {},
     "output_type": "execute_result"
    }
   ],
   "source": [
    "all([1,2,3,0])"
   ]
  },
  {
   "cell_type": "code",
   "execution_count": 162,
   "id": "355d2d41",
   "metadata": {},
   "outputs": [],
   "source": [
    "lista = \"una cadena de texto\".split()"
   ]
  },
  {
   "cell_type": "code",
   "execution_count": 163,
   "id": "fb68417a",
   "metadata": {},
   "outputs": [
    {
     "data": {
      "text/plain": [
       "['una', 'cadena', 'de', 'texto']"
      ]
     },
     "execution_count": 163,
     "metadata": {},
     "output_type": "execute_result"
    }
   ],
   "source": [
    "lista"
   ]
  },
  {
   "cell_type": "code",
   "execution_count": 164,
   "id": "76e8acab",
   "metadata": {},
   "outputs": [
    {
     "data": {
      "text/plain": [
       "['cadena', 'de', 'texto', 'una']"
      ]
     },
     "execution_count": 164,
     "metadata": {},
     "output_type": "execute_result"
    }
   ],
   "source": [
    "lista.sort()\n",
    "lista"
   ]
  },
  {
   "cell_type": "code",
   "execution_count": 165,
   "id": "87dbcffe",
   "metadata": {},
   "outputs": [
    {
     "data": {
      "text/plain": [
       "['una', 'texto', 'de', 'cadena']"
      ]
     },
     "execution_count": 165,
     "metadata": {},
     "output_type": "execute_result"
    }
   ],
   "source": [
    "lista.sort(reverse=True)\n",
    "lista"
   ]
  },
  {
   "cell_type": "code",
   "execution_count": 166,
   "id": "761f15db",
   "metadata": {},
   "outputs": [
    {
     "data": {
      "text/plain": [
       "['de', 'una', 'texto', 'cadena']"
      ]
     },
     "execution_count": 166,
     "metadata": {},
     "output_type": "execute_result"
    }
   ],
   "source": [
    "lista.sort(key=len)\n",
    "lista"
   ]
  },
  {
   "cell_type": "code",
   "execution_count": 168,
   "id": "75e8e678",
   "metadata": {},
   "outputs": [
    {
     "data": {
      "text/plain": [
       "True"
      ]
     },
     "execution_count": 168,
     "metadata": {},
     "output_type": "execute_result"
    }
   ],
   "source": [
    "'texto' < 'una'"
   ]
  },
  {
   "cell_type": "code",
   "execution_count": 169,
   "id": "4e423b8c",
   "metadata": {},
   "outputs": [
    {
     "data": {
      "text/plain": [
       "False"
      ]
     },
     "execution_count": 169,
     "metadata": {},
     "output_type": "execute_result"
    }
   ],
   "source": [
    "len('texto') < len('una')"
   ]
  },
  {
   "cell_type": "code",
   "execution_count": 172,
   "id": "c630dfe5",
   "metadata": {},
   "outputs": [
    {
     "name": "stdout",
     "output_type": "stream",
     "text": [
      "['de', 'una', 'texto', 'cadena']\n"
     ]
    },
    {
     "data": {
      "text/plain": [
       "2"
      ]
     },
     "execution_count": 172,
     "metadata": {},
     "output_type": "execute_result"
    }
   ],
   "source": [
    "print(lista)\n",
    "lista.index('texto')"
   ]
  },
  {
   "cell_type": "code",
   "execution_count": 173,
   "id": "21e032dd",
   "metadata": {},
   "outputs": [
    {
     "ename": "ValueError",
     "evalue": "'casa' is not in list",
     "output_type": "error",
     "traceback": [
      "\u001b[1;31m---------------------------------------------------------------------------\u001b[0m",
      "\u001b[1;31mValueError\u001b[0m                                Traceback (most recent call last)",
      "Cell \u001b[1;32mIn[173], line 1\u001b[0m\n\u001b[1;32m----> 1\u001b[0m \u001b[43mlista\u001b[49m\u001b[38;5;241;43m.\u001b[39;49m\u001b[43mindex\u001b[49m\u001b[43m(\u001b[49m\u001b[38;5;124;43m'\u001b[39;49m\u001b[38;5;124;43mcasa\u001b[39;49m\u001b[38;5;124;43m'\u001b[39;49m\u001b[43m)\u001b[49m\n",
      "\u001b[1;31mValueError\u001b[0m: 'casa' is not in list"
     ]
    }
   ],
   "source": [
    "lista.index('casa')"
   ]
  },
  {
   "cell_type": "code",
   "execution_count": 174,
   "id": "ad6a9a0b",
   "metadata": {},
   "outputs": [
    {
     "data": {
      "text/plain": [
       "4"
      ]
     },
     "execution_count": 174,
     "metadata": {},
     "output_type": "execute_result"
    }
   ],
   "source": [
    "a = [1,3,3,2,1,2,2,5,2]\n",
    "a.count(2)"
   ]
  },
  {
   "cell_type": "markdown",
   "id": "cabf684c",
   "metadata": {},
   "source": [
    "### Pair programming Q1"
   ]
  },
  {
   "cell_type": "code",
   "execution_count": 178,
   "id": "5ccd363b",
   "metadata": {},
   "outputs": [
    {
     "name": "stdout",
     "output_type": "stream",
     "text": [
      "abc\n"
     ]
    }
   ],
   "source": [
    "s_list = ['abc','bcd','bcdefg','abba','cddc','opq']\n",
    "\n",
    "shortest = s_list[0]\n",
    "for palabra in s_list:\n",
    "    if len(palabra) < len(shortest):\n",
    "        shortest = palabra\n",
    "print(shortest)"
   ]
  },
  {
   "cell_type": "code",
   "execution_count": 195,
   "id": "03e6229a",
   "metadata": {},
   "outputs": [
    {
     "name": "stdout",
     "output_type": "stream",
     "text": [
      "The shortest strings: abc bcd opq\n"
     ]
    }
   ],
   "source": [
    "# Q3\n",
    "\n",
    "s_list.sort(key=len)\n",
    "print(\"The shortest strings:\",end='')\n",
    "for palabra in s_list:\n",
    "    if len(palabra) == len(s_list[0]):\n",
    "        print(' '+palabra,end='')\n",
    "print()"
   ]
  },
  {
   "cell_type": "code",
   "execution_count": 197,
   "id": "24d84a89",
   "metadata": {},
   "outputs": [
    {
     "name": "stdout",
     "output_type": "stream",
     "text": [
      "The shortest strings: 'abc', 'bcd', 'opq'\n"
     ]
    }
   ],
   "source": [
    "# Q3\n",
    "s_list = ['abc','bcd','bcdefg','abba','cddc','opq']\n",
    "ordenada = sorted(s_list, key=len) # sorted devuelve OTRA lista, no modifica s_list\n",
    "mas_cortas = []\n",
    "for palabra in ordenada:\n",
    "    if len(palabra) == len(ordenada[0]):\n",
    "        mas_cortas.append(palabra)\n",
    "    else:\n",
    "        break\n",
    "print('The shortest strings:', str(mas_cortas)[1:-1])"
   ]
  },
  {
   "cell_type": "code",
   "execution_count": 198,
   "id": "f56b2b47",
   "metadata": {},
   "outputs": [
    {
     "name": "stdout",
     "output_type": "stream",
     "text": [
      "The shortest strings: 'abc', 'bcd', 'opq'\n"
     ]
    }
   ],
   "source": [
    "# Q3\n",
    "s_list = ['abc','bcd','bcdefg','abba','cddc','opq']\n",
    "ordenada = sorted(s_list, key=len) # sorted devuelve OTRA lista, no modifica s_list\n",
    "mas_cortas = []\n",
    "for palabra in ordenada:\n",
    "    if len(palabra) == len(ordenada[0]):\n",
    "        mas_cortas.append(repr(palabra))\n",
    "    else:\n",
    "        break\n",
    "print('The shortest strings:', ', '.join(mas_cortas))"
   ]
  },
  {
   "cell_type": "code",
   "execution_count": 184,
   "id": "8e48fe42",
   "metadata": {},
   "outputs": [
    {
     "data": {
      "text/plain": [
       "['abc', 'bcd', 'opq', 'abba', 'cddc', 'bcdefg']"
      ]
     },
     "execution_count": 184,
     "metadata": {},
     "output_type": "execute_result"
    }
   ],
   "source": [
    "ordenada"
   ]
  },
  {
   "cell_type": "code",
   "execution_count": 190,
   "id": "561da6ad",
   "metadata": {},
   "outputs": [],
   "source": [
    "c = 'hola'"
   ]
  },
  {
   "cell_type": "code",
   "execution_count": 191,
   "id": "84d16734",
   "metadata": {},
   "outputs": [
    {
     "name": "stdout",
     "output_type": "stream",
     "text": [
      "hola\n"
     ]
    }
   ],
   "source": [
    "print(c)"
   ]
  },
  {
   "cell_type": "code",
   "execution_count": 192,
   "id": "147b1f78",
   "metadata": {},
   "outputs": [
    {
     "name": "stdout",
     "output_type": "stream",
     "text": [
      "'hola'\n"
     ]
    }
   ],
   "source": [
    "print(repr(c))"
   ]
  },
  {
   "cell_type": "markdown",
   "id": "99080cf6",
   "metadata": {},
   "source": [
    "## Diccionarios"
   ]
  },
  {
   "cell_type": "code",
   "execution_count": 233,
   "id": "5978cf51",
   "metadata": {},
   "outputs": [
    {
     "data": {
      "text/plain": [
       "{'a': 5, 'b': 5}"
      ]
     },
     "execution_count": 233,
     "metadata": {},
     "output_type": "execute_result"
    }
   ],
   "source": [
    "# podemos tener valores repetidos\n",
    "d = { 'a':5, 'b':5 }\n",
    "d"
   ]
  },
  {
   "cell_type": "code",
   "execution_count": 234,
   "id": "86507ece",
   "metadata": {},
   "outputs": [],
   "source": [
    "d['c'] = 4"
   ]
  },
  {
   "cell_type": "code",
   "execution_count": 235,
   "id": "4f5c91da",
   "metadata": {},
   "outputs": [
    {
     "data": {
      "text/plain": [
       "{'a': 5, 'b': 5, 'c': 4}"
      ]
     },
     "execution_count": 235,
     "metadata": {},
     "output_type": "execute_result"
    }
   ],
   "source": [
    "d"
   ]
  },
  {
   "cell_type": "code",
   "execution_count": 236,
   "id": "1065e84a",
   "metadata": {},
   "outputs": [
    {
     "data": {
      "text/plain": [
       "{'a': 10000, 'b': 5, 'c': 4}"
      ]
     },
     "execution_count": 236,
     "metadata": {},
     "output_type": "execute_result"
    }
   ],
   "source": [
    "d['a'] = 10000\n",
    "d"
   ]
  },
  {
   "cell_type": "code",
   "execution_count": 237,
   "id": "f2aa9130",
   "metadata": {},
   "outputs": [
    {
     "data": {
      "text/plain": [
       "5"
      ]
     },
     "execution_count": 237,
     "metadata": {},
     "output_type": "execute_result"
    }
   ],
   "source": [
    "d['b']"
   ]
  },
  {
   "cell_type": "code",
   "execution_count": 238,
   "id": "dc0b6c23",
   "metadata": {},
   "outputs": [
    {
     "data": {
      "text/plain": [
       "3"
      ]
     },
     "execution_count": 238,
     "metadata": {},
     "output_type": "execute_result"
    }
   ],
   "source": [
    "len(d)"
   ]
  },
  {
   "cell_type": "code",
   "execution_count": 239,
   "id": "b25db63a",
   "metadata": {},
   "outputs": [
    {
     "name": "stdout",
     "output_type": "stream",
     "text": [
      "a\n",
      "b\n",
      "c\n"
     ]
    }
   ],
   "source": [
    "for clave in d:\n",
    "    print(clave)"
   ]
  },
  {
   "cell_type": "code",
   "execution_count": 241,
   "id": "a75caf30",
   "metadata": {},
   "outputs": [
    {
     "name": "stdout",
     "output_type": "stream",
     "text": [
      "a 10000\n",
      "b 5\n",
      "c 4\n"
     ]
    }
   ],
   "source": [
    "for clave in d:\n",
    "    print(clave, d[clave])"
   ]
  },
  {
   "cell_type": "code",
   "execution_count": 240,
   "id": "8b8e9d3e",
   "metadata": {},
   "outputs": [
    {
     "name": "stdout",
     "output_type": "stream",
     "text": [
      "a 10000\n",
      "b 5\n",
      "c 4\n"
     ]
    }
   ],
   "source": [
    "for clave, valor in d.items():\n",
    "    print(clave, valor)"
   ]
  },
  {
   "cell_type": "code",
   "execution_count": 242,
   "id": "cd74490f",
   "metadata": {},
   "outputs": [
    {
     "name": "stdout",
     "output_type": "stream",
     "text": [
      "The price of a apple is 5000 KRW.\n",
      "The price of a banana is 4000 KRW.\n",
      "The price of a grape is 5300 KRW.\n",
      "The price of a melon is 6500 KRW.\n"
     ]
    }
   ],
   "source": [
    "# Q2 slide 129\n",
    "\n",
    "prices = {'apple':5000, 'banana':4000, 'grape':5300, 'melon':6500}\n",
    "for fruit in prices:\n",
    "    print('The price of a',fruit,'is',prices[fruit],'KRW.')"
   ]
  },
  {
   "cell_type": "code",
   "execution_count": 243,
   "id": "58452930",
   "metadata": {},
   "outputs": [
    {
     "name": "stdout",
     "output_type": "stream",
     "text": [
      "The price of a apple is 5000 KRW.\n",
      "The price of a banana is 4000 KRW.\n",
      "The price of a grape is 5300 KRW.\n",
      "The price of a melon is 6500 KRW.\n"
     ]
    }
   ],
   "source": [
    "# Q2 slide 129\n",
    "\n",
    "prices = {'apple':5000, 'banana':4000, 'grape':5300, 'melon':6500}\n",
    "for fruit,price in prices.items():\n",
    "    print('The price of a',fruit,'is',price,'KRW.')"
   ]
  },
  {
   "cell_type": "code",
   "execution_count": 259,
   "id": "0b6451af",
   "metadata": {},
   "outputs": [
    {
     "name": "stdout",
     "output_type": "stream",
     "text": [
      " 2.00 x 5000 = 10000.00 KRW\n",
      " 5.00 x 5300 = 26500.00 KRW\n",
      " 1.40 x 6500 =  9100.00 KRW\n",
      "------------------------------\n",
      "Total          45600.00 KRW\n"
     ]
    }
   ],
   "source": [
    "# ejercicio inspirado como continuación anterior\n",
    "prices = {'apple':5000, 'banana':4000, 'grape':5300, 'melon':6500}\n",
    "shopping_list = [(2,'apple'),(5, 'grape'),(1.4,'melon')]\n",
    "total = 0\n",
    "for kgs,item in shopping_list:\n",
    "        total += kgs * prices[item]\n",
    "        print(f'{kgs:5.2f} x {prices[item]} = {kgs * prices[item]:8.2f} KRW')\n",
    "print('-'*30)       \n",
    "print(f\"Total          {total:8.2f} KRW\")"
   ]
  },
  {
   "cell_type": "code",
   "execution_count": 208,
   "id": "f7c93b00",
   "metadata": {},
   "outputs": [
    {
     "data": {
      "text/plain": [
       "{'b': 5, 'c': 4}"
      ]
     },
     "execution_count": 208,
     "metadata": {},
     "output_type": "execute_result"
    }
   ],
   "source": [
    "del d['a']\n",
    "d"
   ]
  },
  {
   "cell_type": "code",
   "execution_count": 209,
   "id": "4eb524dc",
   "metadata": {},
   "outputs": [
    {
     "ename": "KeyError",
     "evalue": "'casa'",
     "output_type": "error",
     "traceback": [
      "\u001b[1;31m---------------------------------------------------------------------------\u001b[0m",
      "\u001b[1;31mKeyError\u001b[0m                                  Traceback (most recent call last)",
      "Cell \u001b[1;32mIn[209], line 1\u001b[0m\n\u001b[1;32m----> 1\u001b[0m \u001b[38;5;28;01mdel\u001b[39;00m d[\u001b[38;5;124m'\u001b[39m\u001b[38;5;124mcasa\u001b[39m\u001b[38;5;124m'\u001b[39m]\n",
      "\u001b[1;31mKeyError\u001b[0m: 'casa'"
     ]
    }
   ],
   "source": [
    "del d['casa']"
   ]
  },
  {
   "cell_type": "code",
   "execution_count": 210,
   "id": "4c8aeff6",
   "metadata": {},
   "outputs": [
    {
     "data": {
      "text/plain": [
       "{'b': 5, 'c': 4}"
      ]
     },
     "execution_count": 210,
     "metadata": {},
     "output_type": "execute_result"
    }
   ],
   "source": [
    "d"
   ]
  },
  {
   "cell_type": "code",
   "execution_count": 211,
   "id": "59f89363",
   "metadata": {},
   "outputs": [
    {
     "data": {
      "text/plain": [
       "False"
      ]
     },
     "execution_count": 211,
     "metadata": {},
     "output_type": "execute_result"
    }
   ],
   "source": [
    "'a' in d"
   ]
  },
  {
   "cell_type": "code",
   "execution_count": 212,
   "id": "f4c514e8",
   "metadata": {},
   "outputs": [
    {
     "data": {
      "text/plain": [
       "False"
      ]
     },
     "execution_count": 212,
     "metadata": {},
     "output_type": "execute_result"
    }
   ],
   "source": [
    "5 in d"
   ]
  },
  {
   "cell_type": "code",
   "execution_count": 213,
   "id": "2eabf38a",
   "metadata": {},
   "outputs": [
    {
     "data": {
      "text/plain": [
       "True"
      ]
     },
     "execution_count": 213,
     "metadata": {},
     "output_type": "execute_result"
    }
   ],
   "source": [
    "'b' in d"
   ]
  },
  {
   "cell_type": "code",
   "execution_count": 215,
   "id": "1077d343",
   "metadata": {},
   "outputs": [
    {
     "data": {
      "text/plain": [
       "True"
      ]
     },
     "execution_count": 215,
     "metadata": {},
     "output_type": "execute_result"
    }
   ],
   "source": [
    "{1:2, 3:4} == {3:4, 1:2}"
   ]
  },
  {
   "cell_type": "code",
   "execution_count": 216,
   "id": "1a0c0505",
   "metadata": {},
   "outputs": [
    {
     "data": {
      "text/plain": [
       "{'b': 5, 'c': 4}"
      ]
     },
     "execution_count": 216,
     "metadata": {},
     "output_type": "execute_result"
    }
   ],
   "source": [
    "d"
   ]
  },
  {
   "cell_type": "markdown",
   "id": "8eaf4e94",
   "metadata": {},
   "source": [
    "## Ejemplos ejercicios con diccionarios"
   ]
  },
  {
   "cell_type": "code",
   "execution_count": 223,
   "id": "0439cee9",
   "metadata": {},
   "outputs": [],
   "source": [
    "lista = \"casa gato perro casa coche boli lapiz coche casa casa gato\".split()"
   ]
  },
  {
   "cell_type": "code",
   "execution_count": 226,
   "id": "04d35b50",
   "metadata": {},
   "outputs": [
    {
     "data": {
      "text/plain": [
       "['casa',\n",
       " 'gato',\n",
       " 'perro',\n",
       " 'casa',\n",
       " 'coche',\n",
       " 'boli',\n",
       " 'lapiz',\n",
       " 'coche',\n",
       " 'casa',\n",
       " 'casa',\n",
       " 'gato']"
      ]
     },
     "execution_count": 226,
     "metadata": {},
     "output_type": "execute_result"
    }
   ],
   "source": [
    "lista"
   ]
  },
  {
   "cell_type": "code",
   "execution_count": 225,
   "id": "ce0784f8",
   "metadata": {},
   "outputs": [
    {
     "data": {
      "text/plain": [
       "4"
      ]
     },
     "execution_count": 225,
     "metadata": {},
     "output_type": "execute_result"
    }
   ],
   "source": [
    "lista.count('casa')"
   ]
  },
  {
   "cell_type": "code",
   "execution_count": 229,
   "id": "364528e5",
   "metadata": {},
   "outputs": [
    {
     "data": {
      "text/plain": [
       "{'casa': 4, 'gato': 2, 'perro': 1, 'coche': 2, 'boli': 1, 'lapiz': 1}"
      ]
     },
     "execution_count": 229,
     "metadata": {},
     "output_type": "execute_result"
    }
   ],
   "source": [
    "d = {}\n",
    "for palabra in lista:\n",
    "    if palabra in d:\n",
    "        d[palabra] = d[palabra]+1\n",
    "    else:\n",
    "        d[palabra] = 1\n",
    "d"
   ]
  },
  {
   "cell_type": "code",
   "execution_count": 232,
   "id": "c612caf8",
   "metadata": {},
   "outputs": [
    {
     "name": "stdout",
     "output_type": "stream",
     "text": [
      "Escribe algo: el gato está encima de la mesa\n",
      "el cat está encima de la table\n"
     ]
    }
   ],
   "source": [
    "español_ingles = {'hola':'hello', 'gato':'cat', 'perro':'dog', 'mesa':'table'}\n",
    "frase = input('Escribe algo: ')\n",
    "palabras = frase.split()\n",
    "\n",
    "for indice,palabra in enumerate(palabras):\n",
    "    if palabra in español_ingles:\n",
    "        palabras[indice] = español_ingles[palabra]\n",
    "\n",
    "traducida = ' '.join(palabras)\n",
    "print(traducida)"
   ]
  },
  {
   "cell_type": "code",
   "execution_count": null,
   "id": "273681f5",
   "metadata": {},
   "outputs": [],
   "source": []
  },
  {
   "cell_type": "markdown",
   "id": "7d666a99",
   "metadata": {},
   "source": [
    "### JSON"
   ]
  },
  {
   "cell_type": "code",
   "execution_count": 217,
   "id": "eb59b288",
   "metadata": {},
   "outputs": [],
   "source": [
    "import json"
   ]
  },
  {
   "cell_type": "code",
   "execution_count": 219,
   "id": "b2eacddf",
   "metadata": {},
   "outputs": [
    {
     "name": "stdout",
     "output_type": "stream",
     "text": [
      "{\"b\": 5, \"c\": 4}\n"
     ]
    }
   ],
   "source": [
    "print(json.dumps(d))"
   ]
  },
  {
   "cell_type": "code",
   "execution_count": 220,
   "id": "88b166aa",
   "metadata": {},
   "outputs": [],
   "source": [
    "jsontxt = \"\"\"\n",
    "{\"menu\": {\n",
    "  \"id\": \"file\",\n",
    "  \"value\": \"File\",\n",
    "  \"popup\": {\n",
    "    \"menuitem\": [\n",
    "      {\"value\": \"New\", \"onclick\": \"CreateNewDoc()\"},\n",
    "      {\"value\": \"Open\", \"onclick\": \"OpenDoc()\"},\n",
    "      {\"value\": \"Close\", \"onclick\": \"CloseDoc()\"}\n",
    "    ]\n",
    "  }\n",
    "}}\n",
    "\"\"\""
   ]
  },
  {
   "cell_type": "code",
   "execution_count": 221,
   "id": "20b2ff1b",
   "metadata": {},
   "outputs": [
    {
     "data": {
      "text/plain": [
       "'\\n{\"menu\": {\\n  \"id\": \"file\",\\n  \"value\": \"File\",\\n  \"popup\": {\\n    \"menuitem\": [\\n      {\"value\": \"New\", \"onclick\": \"CreateNewDoc()\"},\\n      {\"value\": \"Open\", \"onclick\": \"OpenDoc()\"},\\n      {\"value\": \"Close\", \"onclick\": \"CloseDoc()\"}\\n    ]\\n  }\\n}}\\n'"
      ]
     },
     "execution_count": 221,
     "metadata": {},
     "output_type": "execute_result"
    }
   ],
   "source": [
    "jsontxt"
   ]
  },
  {
   "cell_type": "code",
   "execution_count": 222,
   "id": "05c44c36",
   "metadata": {},
   "outputs": [
    {
     "data": {
      "text/plain": [
       "{'menu': {'id': 'file',\n",
       "  'value': 'File',\n",
       "  'popup': {'menuitem': [{'value': 'New', 'onclick': 'CreateNewDoc()'},\n",
       "    {'value': 'Open', 'onclick': 'OpenDoc()'},\n",
       "    {'value': 'Close', 'onclick': 'CloseDoc()'}]}}}"
      ]
     },
     "execution_count": 222,
     "metadata": {},
     "output_type": "execute_result"
    }
   ],
   "source": [
    "json.loads(jsontxt)"
   ]
  },
  {
   "cell_type": "code",
   "execution_count": null,
   "id": "c46da506",
   "metadata": {},
   "outputs": [],
   "source": []
  }
 ],
 "metadata": {
  "kernelspec": {
   "display_name": "Python 3 (ipykernel)",
   "language": "python",
   "name": "python3"
  },
  "language_info": {
   "codemirror_mode": {
    "name": "ipython",
    "version": 3
   },
   "file_extension": ".py",
   "mimetype": "text/x-python",
   "name": "python",
   "nbconvert_exporter": "python",
   "pygments_lexer": "ipython3",
   "version": "3.10.11"
  }
 },
 "nbformat": 4,
 "nbformat_minor": 5
}
