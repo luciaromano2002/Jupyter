{
 "cells": [
  {
   "cell_type": "markdown",
   "id": "38507348",
   "metadata": {},
   "source": [
    "# Clase 28 junio 2023"
   ]
  },
  {
   "cell_type": "code",
   "execution_count": 1,
   "id": "fade7d8d",
   "metadata": {},
   "outputs": [],
   "source": [
    "import math"
   ]
  },
  {
   "cell_type": "code",
   "execution_count": 2,
   "id": "ed528ce7",
   "metadata": {},
   "outputs": [
    {
     "data": {
      "text/plain": [
       "120"
      ]
     },
     "execution_count": 2,
     "metadata": {},
     "output_type": "execute_result"
    }
   ],
   "source": [
    "math.factorial(5)"
   ]
  },
  {
   "cell_type": "code",
   "execution_count": 3,
   "id": "e279e4e9",
   "metadata": {},
   "outputs": [],
   "source": [
    "def factorial(n):\n",
    "    f = 1\n",
    "    for i in range(2,n+1):\n",
    "        f = f*i\n",
    "    return f"
   ]
  },
  {
   "cell_type": "code",
   "execution_count": 4,
   "id": "ce5b51fa",
   "metadata": {},
   "outputs": [
    {
     "data": {
      "text/plain": [
       "120"
      ]
     },
     "execution_count": 4,
     "metadata": {},
     "output_type": "execute_result"
    }
   ],
   "source": [
    "factorial(5)"
   ]
  },
  {
   "cell_type": "markdown",
   "id": "dd788ad9",
   "metadata": {},
   "source": [
    "```\n",
    "factorial(n) = 1 si n=0\n",
    "factorial(n) = n * factorial(n-1) si n>1\n",
    "```"
   ]
  },
  {
   "cell_type": "code",
   "execution_count": 1,
   "id": "28dca3e5",
   "metadata": {},
   "outputs": [],
   "source": [
    "def fibonacci(n):\n",
    "    if n<=1:\n",
    "        return n\n",
    "    else:\n",
    "        return fibonacci(n-1)+fibonacci(n-2)"
   ]
  },
  {
   "cell_type": "code",
   "execution_count": 4,
   "id": "be76ba53",
   "metadata": {},
   "outputs": [
    {
     "name": "stdout",
     "output_type": "stream",
     "text": [
      "0 1 1 2 3 5 8 13 21 34 55 89 144 233 377 610 987 1597 2584 4181 6765 10946 17711 28657 46368 75025 121393 196418 317811 514229 832040 1346269 2178309 3524578 5702887 9227465 14930352 24157817 39088169 63245986 102334155 165580141 "
     ]
    },
    {
     "ename": "KeyboardInterrupt",
     "evalue": "",
     "output_type": "error",
     "traceback": [
      "\u001b[1;31m---------------------------------------------------------------------------\u001b[0m",
      "\u001b[1;31mKeyboardInterrupt\u001b[0m                         Traceback (most recent call last)",
      "Cell \u001b[1;32mIn[4], line 2\u001b[0m\n\u001b[0;32m      1\u001b[0m \u001b[38;5;28;01mfor\u001b[39;00m n \u001b[38;5;129;01min\u001b[39;00m \u001b[38;5;28mrange\u001b[39m(\u001b[38;5;241m100\u001b[39m):\n\u001b[1;32m----> 2\u001b[0m     \u001b[38;5;28mprint\u001b[39m(\u001b[43mfibonacci\u001b[49m\u001b[43m(\u001b[49m\u001b[43mn\u001b[49m\u001b[43m)\u001b[49m,end\u001b[38;5;241m=\u001b[39m\u001b[38;5;124m'\u001b[39m\u001b[38;5;124m \u001b[39m\u001b[38;5;124m'\u001b[39m)\n",
      "Cell \u001b[1;32mIn[1], line 5\u001b[0m, in \u001b[0;36mfibonacci\u001b[1;34m(n)\u001b[0m\n\u001b[0;32m      3\u001b[0m     \u001b[38;5;28;01mreturn\u001b[39;00m n\n\u001b[0;32m      4\u001b[0m \u001b[38;5;28;01melse\u001b[39;00m:\n\u001b[1;32m----> 5\u001b[0m     \u001b[38;5;28;01mreturn\u001b[39;00m \u001b[43mfibonacci\u001b[49m\u001b[43m(\u001b[49m\u001b[43mn\u001b[49m\u001b[38;5;241;43m-\u001b[39;49m\u001b[38;5;241;43m1\u001b[39;49m\u001b[43m)\u001b[49m\u001b[38;5;241m+\u001b[39mfibonacci(n\u001b[38;5;241m-\u001b[39m\u001b[38;5;241m2\u001b[39m)\n",
      "Cell \u001b[1;32mIn[1], line 5\u001b[0m, in \u001b[0;36mfibonacci\u001b[1;34m(n)\u001b[0m\n\u001b[0;32m      3\u001b[0m     \u001b[38;5;28;01mreturn\u001b[39;00m n\n\u001b[0;32m      4\u001b[0m \u001b[38;5;28;01melse\u001b[39;00m:\n\u001b[1;32m----> 5\u001b[0m     \u001b[38;5;28;01mreturn\u001b[39;00m \u001b[43mfibonacci\u001b[49m\u001b[43m(\u001b[49m\u001b[43mn\u001b[49m\u001b[38;5;241;43m-\u001b[39;49m\u001b[38;5;241;43m1\u001b[39;49m\u001b[43m)\u001b[49m\u001b[38;5;241m+\u001b[39mfibonacci(n\u001b[38;5;241m-\u001b[39m\u001b[38;5;241m2\u001b[39m)\n",
      "    \u001b[1;31m[... skipping similar frames: fibonacci at line 5 (27 times)]\u001b[0m\n",
      "Cell \u001b[1;32mIn[1], line 5\u001b[0m, in \u001b[0;36mfibonacci\u001b[1;34m(n)\u001b[0m\n\u001b[0;32m      3\u001b[0m     \u001b[38;5;28;01mreturn\u001b[39;00m n\n\u001b[0;32m      4\u001b[0m \u001b[38;5;28;01melse\u001b[39;00m:\n\u001b[1;32m----> 5\u001b[0m     \u001b[38;5;28;01mreturn\u001b[39;00m \u001b[43mfibonacci\u001b[49m\u001b[43m(\u001b[49m\u001b[43mn\u001b[49m\u001b[38;5;241;43m-\u001b[39;49m\u001b[38;5;241;43m1\u001b[39;49m\u001b[43m)\u001b[49m\u001b[38;5;241m+\u001b[39mfibonacci(n\u001b[38;5;241m-\u001b[39m\u001b[38;5;241m2\u001b[39m)\n",
      "Cell \u001b[1;32mIn[1], line 1\u001b[0m, in \u001b[0;36mfibonacci\u001b[1;34m(n)\u001b[0m\n\u001b[1;32m----> 1\u001b[0m \u001b[38;5;28;01mdef\u001b[39;00m \u001b[38;5;21mfibonacci\u001b[39m(n):\n\u001b[0;32m      2\u001b[0m     \u001b[38;5;28;01mif\u001b[39;00m n\u001b[38;5;241m<\u001b[39m\u001b[38;5;241m=\u001b[39m\u001b[38;5;241m1\u001b[39m:\n\u001b[0;32m      3\u001b[0m         \u001b[38;5;28;01mreturn\u001b[39;00m n\n",
      "\u001b[1;31mKeyboardInterrupt\u001b[0m: "
     ]
    }
   ],
   "source": [
    "for n in range(100):\n",
    "    print(fibonacci(n),end=' ')"
   ]
  },
  {
   "cell_type": "code",
   "execution_count": 5,
   "id": "e028e94f",
   "metadata": {},
   "outputs": [],
   "source": [
    "dic = {0:0, 1:1} # inicializo el diccionario con los casos base\n",
    "def fibonacci_mem(n):\n",
    "    if n not in dic:\n",
    "        dic[n] = fibonacci_mem(n-1) + fibonacci_mem(n-2)\n",
    "    return dic[n]"
   ]
  },
  {
   "cell_type": "code",
   "execution_count": 8,
   "id": "24ff752b",
   "metadata": {},
   "outputs": [
    {
     "name": "stdout",
     "output_type": "stream",
     "text": [
      "0 1 1 2 3 5 8 13 21 34 55 89 144 233 377 610 987 1597 2584 4181 6765 10946 17711 28657 46368 75025 121393 196418 317811 514229 832040 1346269 2178309 3524578 5702887 9227465 14930352 24157817 39088169 63245986 102334155 165580141 267914296 433494437 701408733 1134903170 1836311903 2971215073 4807526976 7778742049 12586269025 20365011074 32951280099 53316291173 86267571272 139583862445 225851433717 365435296162 591286729879 956722026041 1548008755920 2504730781961 4052739537881 6557470319842 10610209857723 17167680177565 27777890035288 44945570212853 72723460248141 117669030460994 190392490709135 308061521170129 498454011879264 806515533049393 1304969544928657 2111485077978050 3416454622906707 5527939700884757 8944394323791464 14472334024676221 23416728348467685 37889062373143906 61305790721611591 99194853094755497 160500643816367088 259695496911122585 420196140727489673 679891637638612258 1100087778366101931 1779979416004714189 2880067194370816120 4660046610375530309 7540113804746346429 12200160415121876738 19740274219868223167 31940434634990099905 51680708854858323072 83621143489848422977 135301852344706746049 218922995834555169026 "
     ]
    }
   ],
   "source": [
    "for n in range(100):\n",
    "    print(fibonacci_mem(n),end=' ')"
   ]
  },
  {
   "cell_type": "markdown",
   "id": "f42f7d1e",
   "metadata": {},
   "source": [
    "### Q2 slide 121"
   ]
  },
  {
   "cell_type": "code",
   "execution_count": 10,
   "id": "83dad81b",
   "metadata": {},
   "outputs": [],
   "source": [
    "def elevar(base, exponente):\n",
    "    \"\"\"\n",
    "    devuelve base elevado a exponente\n",
    "    exponente es entero positivo\n",
    "    \"\"\"\n",
    "    if exponente==0:\n",
    "        return 1\n",
    "    else:\n",
    "        return base * elevar(base, exponente-1)"
   ]
  },
  {
   "cell_type": "code",
   "execution_count": 11,
   "id": "a456efb3",
   "metadata": {},
   "outputs": [
    {
     "data": {
      "text/plain": [
       "32"
      ]
     },
     "execution_count": 11,
     "metadata": {},
     "output_type": "execute_result"
    }
   ],
   "source": [
    "elevar(2,5)"
   ]
  },
  {
   "cell_type": "code",
   "execution_count": 12,
   "id": "ccd117a5",
   "metadata": {},
   "outputs": [
    {
     "data": {
      "text/plain": [
       "32"
      ]
     },
     "execution_count": 12,
     "metadata": {},
     "output_type": "execute_result"
    }
   ],
   "source": [
    "2**5"
   ]
  },
  {
   "cell_type": "code",
   "execution_count": 16,
   "id": "e6a3fd26",
   "metadata": {},
   "outputs": [],
   "source": [
    "def sumupto(n):\n",
    "    '''\n",
    "    n >= 1\n",
    "    devuelve la suma 1+2+....+n\n",
    "    '''\n",
    "    if n == 1:\n",
    "        return 1\n",
    "    else:\n",
    "        return sumupto(n-1) + n"
   ]
  },
  {
   "cell_type": "code",
   "execution_count": 17,
   "id": "0dd70d85",
   "metadata": {},
   "outputs": [
    {
     "data": {
      "text/plain": [
       "5050"
      ]
     },
     "execution_count": 17,
     "metadata": {},
     "output_type": "execute_result"
    }
   ],
   "source": [
    "sumupto(100)"
   ]
  },
  {
   "cell_type": "code",
   "execution_count": 14,
   "id": "60f55349",
   "metadata": {},
   "outputs": [],
   "source": [
    "def sumupton_fmla(n):\n",
    "    return ((1+n)*n)//2"
   ]
  },
  {
   "cell_type": "code",
   "execution_count": 15,
   "id": "41258753",
   "metadata": {},
   "outputs": [
    {
     "data": {
      "text/plain": [
       "5050"
      ]
     },
     "execution_count": 15,
     "metadata": {},
     "output_type": "execute_result"
    }
   ],
   "source": [
    "sumupton_fmla(100)"
   ]
  },
  {
   "cell_type": "code",
   "execution_count": null,
   "id": "e4cd5b23",
   "metadata": {},
   "outputs": [],
   "source": [
    "def buscar(elem, lista): # ITERATIVO\n",
    "    for indice,valor in enumerate(lista):\n",
    "        if elem == valor:\n",
    "            return indice\n",
    "    return -1"
   ]
  },
  {
   "cell_type": "code",
   "execution_count": 29,
   "id": "a75fa38e",
   "metadata": {},
   "outputs": [],
   "source": [
    "# ejercicio resolverlo de forma RECURSIVA\n",
    "\n",
    "def buscar(elem, lista):\n",
    "    \"\"\"\n",
    "    devuelve el índice donde el elemento está en la lista\n",
    "    devuelve -1 si no lo encuentra\n",
    "    \"\"\"\n",
    "    # version son slicing, MENOS BUENA QUE SIN SLICING\n",
    "    if len(lista) == 0:\n",
    "        return -1\n",
    "    # la lista tiene al menos 1 elemento\n",
    "    if lista[0] == elem:\n",
    "        return 0\n",
    "    # la lista tiene >=1 elemento y el primero no es\n",
    "    pos = buscar(elem,lista[1:]) # busco elem en el resto de la lista\n",
    "    if pos == -1:\n",
    "        return -1\n",
    "    return 1+pos\n",
    "    \n",
    "    "
   ]
  },
  {
   "cell_type": "code",
   "execution_count": 30,
   "id": "91ac8f7c",
   "metadata": {},
   "outputs": [],
   "source": [
    "lista = ['esto','es','una','prueba']"
   ]
  },
  {
   "cell_type": "code",
   "execution_count": 31,
   "id": "9f8b7c51",
   "metadata": {},
   "outputs": [
    {
     "data": {
      "text/plain": [
       "-1"
      ]
     },
     "execution_count": 31,
     "metadata": {},
     "output_type": "execute_result"
    }
   ],
   "source": [
    "buscar('gato', lista)"
   ]
  },
  {
   "cell_type": "code",
   "execution_count": 32,
   "id": "2c2e937f",
   "metadata": {},
   "outputs": [
    {
     "data": {
      "text/plain": [
       "3"
      ]
     },
     "execution_count": 32,
     "metadata": {},
     "output_type": "execute_result"
    }
   ],
   "source": [
    "buscar('prueba', lista)"
   ]
  },
  {
   "cell_type": "code",
   "execution_count": 33,
   "id": "f5d487b2",
   "metadata": {},
   "outputs": [],
   "source": [
    "def buscar(elem, lista, pos=0): # SIN SLICING (parámetro posicional)\n",
    "    '''\n",
    "    busco elem en la lista desde el índice pos\n",
    "    si lo encuentro devuelvo el índice donde está\n",
    "    si no lo encuentro devuelvo -1\n",
    "    '''\n",
    "    if pos >= len(lista): # he agotado la lista sin encontrar elem\n",
    "        return -1\n",
    "    elif lista[pos] == elem:\n",
    "        return pos\n",
    "    else:\n",
    "        return buscar(elem, lista, pos+1)"
   ]
  },
  {
   "cell_type": "code",
   "execution_count": 34,
   "id": "74f3a84c",
   "metadata": {},
   "outputs": [
    {
     "data": {
      "text/plain": [
       "-1"
      ]
     },
     "execution_count": 34,
     "metadata": {},
     "output_type": "execute_result"
    }
   ],
   "source": [
    "buscar('gato', lista)"
   ]
  },
  {
   "cell_type": "code",
   "execution_count": 35,
   "id": "481d70a5",
   "metadata": {},
   "outputs": [
    {
     "data": {
      "text/plain": [
       "3"
      ]
     },
     "execution_count": 35,
     "metadata": {},
     "output_type": "execute_result"
    }
   ],
   "source": [
    "buscar('prueba', lista)"
   ]
  },
  {
   "cell_type": "code",
   "execution_count": 36,
   "id": "a4014160",
   "metadata": {},
   "outputs": [],
   "source": [
    "t = 'radar'"
   ]
  },
  {
   "cell_type": "code",
   "execution_count": 38,
   "id": "a00d8b2a",
   "metadata": {},
   "outputs": [
    {
     "data": {
      "text/plain": [
       "'ada'"
      ]
     },
     "execution_count": 38,
     "metadata": {},
     "output_type": "execute_result"
    }
   ],
   "source": [
    "t[1:-1]"
   ]
  },
  {
   "cell_type": "code",
   "execution_count": 39,
   "id": "b60ff49c",
   "metadata": {},
   "outputs": [],
   "source": [
    "def palindromo(cadena):\n",
    "    '''\n",
    "    devuelve True si cadena es un palíndromo y False si no lo es\n",
    "    '''\n",
    "    if len(cadena) <= 1:\n",
    "        return True\n",
    "    else:\n",
    "        return cadena[0]==cadena[-1] and palindromo(cadena[1:-1])"
   ]
  },
  {
   "cell_type": "code",
   "execution_count": 40,
   "id": "866bd65c",
   "metadata": {},
   "outputs": [
    {
     "data": {
      "text/plain": [
       "True"
      ]
     },
     "execution_count": 40,
     "metadata": {},
     "output_type": "execute_result"
    }
   ],
   "source": [
    "palindromo('radar')"
   ]
  },
  {
   "cell_type": "code",
   "execution_count": 41,
   "id": "5ba4207f",
   "metadata": {},
   "outputs": [
    {
     "data": {
      "text/plain": [
       "False"
      ]
     },
     "execution_count": 41,
     "metadata": {},
     "output_type": "execute_result"
    }
   ],
   "source": [
    "palindromo('casa')"
   ]
  },
  {
   "cell_type": "code",
   "execution_count": 42,
   "id": "b98c53b9",
   "metadata": {},
   "outputs": [
    {
     "data": {
      "text/plain": [
       "True"
      ]
     },
     "execution_count": 42,
     "metadata": {},
     "output_type": "execute_result"
    }
   ],
   "source": [
    "palindromo('')"
   ]
  },
  {
   "cell_type": "code",
   "execution_count": null,
   "id": "a8a79839",
   "metadata": {},
   "outputs": [],
   "source": [
    "def palindromo(cadena):\n",
    "    '''\n",
    "    devuelve True si cadena es un palíndromo y False si no lo es\n",
    "    '''\n",
    "    return len(cadena)<=1 or (cadena[0]==cadena[-1] and palindromo(cadena[1:-1]))"
   ]
  },
  {
   "cell_type": "code",
   "execution_count": 44,
   "id": "7d7f8018",
   "metadata": {},
   "outputs": [
    {
     "data": {
      "text/plain": [
       "True"
      ]
     },
     "execution_count": 44,
     "metadata": {},
     "output_type": "execute_result"
    }
   ],
   "source": [
    "palindromo('Dabale arroz a la zorra el Abad'.lower().replace(' ',''))"
   ]
  },
  {
   "cell_type": "code",
   "execution_count": 45,
   "id": "4090827d",
   "metadata": {},
   "outputs": [
    {
     "data": {
      "text/plain": [
       "'asac'"
      ]
     },
     "execution_count": 45,
     "metadata": {},
     "output_type": "execute_result"
    }
   ],
   "source": [
    "'casa'[::-1]"
   ]
  },
  {
   "cell_type": "code",
   "execution_count": 46,
   "id": "c220606b",
   "metadata": {},
   "outputs": [],
   "source": [
    "def palindromo(cadena):\n",
    "    return cadena == cadena[::-1]"
   ]
  },
  {
   "cell_type": "markdown",
   "id": "62c83bff",
   "metadata": {},
   "source": [
    "## \"orden superior\" (las funciones son valores etc.)"
   ]
  },
  {
   "cell_type": "code",
   "execution_count": 48,
   "id": "098ac7c5",
   "metadata": {},
   "outputs": [],
   "source": [
    "def lista_cuadrado( lista ):\n",
    "    resul = []\n",
    "    for x in lista:\n",
    "        resul.append( x**2 )\n",
    "    return resul"
   ]
  },
  {
   "cell_type": "code",
   "execution_count": 49,
   "id": "d33e90bc",
   "metadata": {},
   "outputs": [
    {
     "data": {
      "text/plain": [
       "[4, 25, 49]"
      ]
     },
     "execution_count": 49,
     "metadata": {},
     "output_type": "execute_result"
    }
   ],
   "source": [
    "lista_cuadrado( [2,5,7] )"
   ]
  },
  {
   "cell_type": "code",
   "execution_count": 52,
   "id": "47145751",
   "metadata": {},
   "outputs": [],
   "source": [
    "def cuadrado(x):\n",
    "    return x*x"
   ]
  },
  {
   "cell_type": "code",
   "execution_count": 53,
   "id": "d8fe0853",
   "metadata": {},
   "outputs": [],
   "source": [
    "def mapear( funcion, lista ):\n",
    "    resul = []\n",
    "    for x in lista:\n",
    "        resul.append( funcion(x) )\n",
    "    return resul"
   ]
  },
  {
   "cell_type": "code",
   "execution_count": 54,
   "id": "2b473c89",
   "metadata": {},
   "outputs": [
    {
     "data": {
      "text/plain": [
       "25"
      ]
     },
     "execution_count": 54,
     "metadata": {},
     "output_type": "execute_result"
    }
   ],
   "source": [
    "cuadrado(5)"
   ]
  },
  {
   "cell_type": "code",
   "execution_count": 57,
   "id": "737d5524",
   "metadata": {},
   "outputs": [
    {
     "data": {
      "text/plain": [
       "[100, 400, 900]"
      ]
     },
     "execution_count": 57,
     "metadata": {},
     "output_type": "execute_result"
    }
   ],
   "source": [
    "mapear( cuadrado, [10,20,30])"
   ]
  },
  {
   "cell_type": "code",
   "execution_count": 58,
   "id": "137fdca3",
   "metadata": {},
   "outputs": [],
   "source": [
    "def triplicar(x):\n",
    "    return 3*x"
   ]
  },
  {
   "cell_type": "code",
   "execution_count": 59,
   "id": "a5b42479",
   "metadata": {},
   "outputs": [
    {
     "data": {
      "text/plain": [
       "[30, 60, 90]"
      ]
     },
     "execution_count": 59,
     "metadata": {},
     "output_type": "execute_result"
    }
   ],
   "source": [
    "mapear( triplicar, [10,20,30])"
   ]
  },
  {
   "cell_type": "code",
   "execution_count": 60,
   "id": "54baa68e",
   "metadata": {},
   "outputs": [
    {
     "data": {
      "text/plain": [
       "[11, 21, 31]"
      ]
     },
     "execution_count": 60,
     "metadata": {},
     "output_type": "execute_result"
    }
   ],
   "source": [
    "mapear( lambda x:x+1, [10,20,30])"
   ]
  },
  {
   "cell_type": "code",
   "execution_count": 62,
   "id": "ba699815",
   "metadata": {},
   "outputs": [],
   "source": [
    "f = lambda x,y,z:(x+y)*z"
   ]
  },
  {
   "cell_type": "code",
   "execution_count": 63,
   "id": "2ae5af8b",
   "metadata": {},
   "outputs": [
    {
     "data": {
      "text/plain": [
       "35"
      ]
     },
     "execution_count": 63,
     "metadata": {},
     "output_type": "execute_result"
    }
   ],
   "source": [
    "f(3,4,5)"
   ]
  },
  {
   "cell_type": "code",
   "execution_count": 64,
   "id": "1d1d760d",
   "metadata": {},
   "outputs": [
    {
     "data": {
      "text/plain": [
       "4"
      ]
     },
     "execution_count": 64,
     "metadata": {},
     "output_type": "execute_result"
    }
   ],
   "source": [
    "(lambda x,y: (x+2)//y) (10,3)"
   ]
  },
  {
   "cell_type": "code",
   "execution_count": 76,
   "id": "3241e059",
   "metadata": {},
   "outputs": [],
   "source": [
    "# ejemplo\n",
    "lista = [('manzana', 2.7, 5), # nombre, precio/kg, peso\n",
    "         ('naranja', 1.7, 8),\n",
    "         ('melon', 1.4, 4),\n",
    "         ('cerezas', 7.5, 12)]"
   ]
  },
  {
   "cell_type": "code",
   "execution_count": 77,
   "id": "b4c853ba",
   "metadata": {},
   "outputs": [
    {
     "data": {
      "text/plain": [
       "[('cerezas', 7.5, 12),\n",
       " ('naranja', 1.7, 8),\n",
       " ('manzana', 2.7, 5),\n",
       " ('melon', 1.4, 4)]"
      ]
     },
     "execution_count": 77,
     "metadata": {},
     "output_type": "execute_result"
    }
   ],
   "source": [
    "sorted(lista, key=lambda t:t[1]*t[2], reverse=True)"
   ]
  },
  {
   "cell_type": "code",
   "execution_count": 78,
   "id": "bad34585",
   "metadata": {},
   "outputs": [
    {
     "data": {
      "text/plain": [
       "[('cerezas', 7.5, 12),\n",
       " ('naranja', 1.7, 8),\n",
       " ('manzana', 2.7, 5),\n",
       " ('melon', 1.4, 4)]"
      ]
     },
     "execution_count": 78,
     "metadata": {},
     "output_type": "execute_result"
    }
   ],
   "source": [
    "sorted(lista, key=lambda t:t[2], reverse=True)"
   ]
  },
  {
   "cell_type": "code",
   "execution_count": 69,
   "id": "5cf65177",
   "metadata": {},
   "outputs": [
    {
     "data": {
      "text/plain": [
       "90.0"
      ]
     },
     "execution_count": 69,
     "metadata": {},
     "output_type": "execute_result"
    }
   ],
   "source": [
    "def aux(t):\n",
    "    return t[2]\n",
    "sorted(lista, key=aux, reverse=True)"
   ]
  },
  {
   "cell_type": "code",
   "execution_count": 80,
   "id": "6ac1635c",
   "metadata": {},
   "outputs": [],
   "source": [
    "v = map(len, ['uno','dos','tres'])"
   ]
  },
  {
   "cell_type": "code",
   "execution_count": 81,
   "id": "5813450e",
   "metadata": {},
   "outputs": [
    {
     "data": {
      "text/plain": [
       "<map at 0x2217e750ca0>"
      ]
     },
     "execution_count": 81,
     "metadata": {},
     "output_type": "execute_result"
    }
   ],
   "source": [
    "v"
   ]
  },
  {
   "cell_type": "code",
   "execution_count": 82,
   "id": "ccaaa0d7",
   "metadata": {},
   "outputs": [
    {
     "data": {
      "text/plain": [
       "2342878776480"
      ]
     },
     "execution_count": 82,
     "metadata": {},
     "output_type": "execute_result"
    }
   ],
   "source": [
    "id(v)"
   ]
  },
  {
   "cell_type": "code",
   "execution_count": 83,
   "id": "4a103141",
   "metadata": {},
   "outputs": [
    {
     "data": {
      "text/plain": [
       "'0xff'"
      ]
     },
     "execution_count": 83,
     "metadata": {},
     "output_type": "execute_result"
    }
   ],
   "source": [
    "hex(255)"
   ]
  },
  {
   "cell_type": "code",
   "execution_count": 84,
   "id": "55658f34",
   "metadata": {},
   "outputs": [
    {
     "data": {
      "text/plain": [
       "'0x2217e750ca0'"
      ]
     },
     "execution_count": 84,
     "metadata": {},
     "output_type": "execute_result"
    }
   ],
   "source": [
    "hex(id(v))"
   ]
  },
  {
   "cell_type": "code",
   "execution_count": 88,
   "id": "8288a208",
   "metadata": {},
   "outputs": [
    {
     "name": "stdout",
     "output_type": "stream",
     "text": [
      "3\n",
      "3\n",
      "4\n"
     ]
    }
   ],
   "source": [
    "for x in map(len, \"uno dos tres\".split()):\n",
    "    print(x)"
   ]
  },
  {
   "cell_type": "code",
   "execution_count": 90,
   "id": "c35aaa06",
   "metadata": {},
   "outputs": [
    {
     "data": {
      "text/plain": [
       "(4, 4, 5)"
      ]
     },
     "execution_count": 90,
     "metadata": {},
     "output_type": "execute_result"
    }
   ],
   "source": [
    "tuple(map(len,[\"gato\",'casa','lapiz']))"
   ]
  },
  {
   "cell_type": "code",
   "execution_count": 91,
   "id": "6e04910f",
   "metadata": {},
   "outputs": [
    {
     "data": {
      "text/plain": [
       "(25, 36, 49, 64, 81, 100)"
      ]
     },
     "execution_count": 91,
     "metadata": {},
     "output_type": "execute_result"
    }
   ],
   "source": [
    "tuple(map(lambda x:x**2, range(5,11)))"
   ]
  },
  {
   "cell_type": "code",
   "execution_count": 93,
   "id": "c6cfeaea",
   "metadata": {},
   "outputs": [
    {
     "data": {
      "text/plain": [
       "['12:31', '05:45', '21:03']"
      ]
     },
     "execution_count": 93,
     "metadata": {},
     "output_type": "execute_result"
    }
   ],
   "source": [
    "list( map( lambda x,y:f'{x:02d}:{y:02d}', [12,5,21], [31,45,3,5] ))"
   ]
  },
  {
   "cell_type": "code",
   "execution_count": 98,
   "id": "6ec5c262",
   "metadata": {},
   "outputs": [
    {
     "data": {
      "text/plain": [
       "(20.5, 30.4, 12.7, 21.1)"
      ]
     },
     "execution_count": 98,
     "metadata": {},
     "output_type": "execute_result"
    }
   ],
   "source": [
    "tuple(map(float, '20.5, 30.4,12.7,    21.1'.split(',')))"
   ]
  },
  {
   "cell_type": "code",
   "execution_count": 108,
   "id": "15c0ab23",
   "metadata": {},
   "outputs": [],
   "source": [
    "cadena = 'esto son dos ejemplos de una cadena de texto'"
   ]
  },
  {
   "cell_type": "code",
   "execution_count": 109,
   "id": "e716b3b4",
   "metadata": {},
   "outputs": [
    {
     "data": {
      "text/plain": [
       "['esto', 'son', 'dos', 'ejemplos', 'de', 'una', 'cadena', 'de', 'texto']"
      ]
     },
     "execution_count": 109,
     "metadata": {},
     "output_type": "execute_result"
    }
   ],
   "source": [
    "cadena.split()"
   ]
  },
  {
   "cell_type": "code",
   "execution_count": 110,
   "id": "e556ec1f",
   "metadata": {},
   "outputs": [
    {
     "data": {
      "text/plain": [
       "False"
      ]
     },
     "execution_count": 110,
     "metadata": {},
     "output_type": "execute_result"
    }
   ],
   "source": [
    "(lambda x:x[-1] in 'aeiou')('hol')"
   ]
  },
  {
   "cell_type": "code",
   "execution_count": 111,
   "id": "f30f7a5e",
   "metadata": {},
   "outputs": [],
   "source": [
    "def termina_en_vocal(x):\n",
    "    return x[-1] in 'aeiou'"
   ]
  },
  {
   "cell_type": "code",
   "execution_count": 112,
   "id": "a91ed263",
   "metadata": {},
   "outputs": [
    {
     "data": {
      "text/plain": [
       "'esto de una cadena de texto'"
      ]
     },
     "execution_count": 112,
     "metadata": {},
     "output_type": "execute_result"
    }
   ],
   "source": [
    "' '.join(filter(termina_en_vocal, cadena.split()))"
   ]
  },
  {
   "cell_type": "code",
   "execution_count": 113,
   "id": "874a6dda",
   "metadata": {},
   "outputs": [
    {
     "data": {
      "text/plain": [
       "'esto de una cadena de texto'"
      ]
     },
     "execution_count": 113,
     "metadata": {},
     "output_type": "execute_result"
    }
   ],
   "source": [
    "' '.join(filter(lambda x:x[-1] in 'aeiou', cadena.split()))"
   ]
  },
  {
   "cell_type": "code",
   "execution_count": 114,
   "id": "b2775c65",
   "metadata": {},
   "outputs": [
    {
     "data": {
      "text/plain": [
       "[144, 16, 400]"
      ]
     },
     "execution_count": 114,
     "metadata": {},
     "output_type": "execute_result"
    }
   ],
   "source": [
    "# dada una lista de enteros, dejar los cuadrado de los números pares, descartar los impares\n",
    "\n",
    "lista = [12,5,21,4,33,20]\n",
    "\n",
    "list(map(lambda n:n**2,filter(lambda n:n%2==0,lista)))"
   ]
  },
  {
   "cell_type": "code",
   "execution_count": 115,
   "id": "38986685",
   "metadata": {},
   "outputs": [
    {
     "data": {
      "text/plain": [
       "[144, 16, 400]"
      ]
     },
     "execution_count": 115,
     "metadata": {},
     "output_type": "execute_result"
    }
   ],
   "source": [
    "[x**2 for x in lista if x%2==0]"
   ]
  },
  {
   "cell_type": "code",
   "execution_count": 116,
   "id": "f523b85c",
   "metadata": {},
   "outputs": [
    {
     "data": {
      "text/plain": [
       "[144, 16, 400]"
      ]
     },
     "execution_count": 116,
     "metadata": {},
     "output_type": "execute_result"
    }
   ],
   "source": [
    "aux = []\n",
    "for x in lista:\n",
    "    if x % 2 == 0:\n",
    "        aux.append( x**2 )\n",
    "aux"
   ]
  },
  {
   "cell_type": "code",
   "execution_count": 120,
   "id": "f45ddfc3",
   "metadata": {},
   "outputs": [],
   "source": [
    "from functools import reduce"
   ]
  },
  {
   "cell_type": "code",
   "execution_count": 121,
   "id": "1ede6506",
   "metadata": {},
   "outputs": [
    {
     "data": {
      "text/plain": [
       "60"
      ]
     },
     "execution_count": 121,
     "metadata": {},
     "output_type": "execute_result"
    }
   ],
   "source": [
    "reduce(lambda x,y:x+y, [10,20,30])"
   ]
  },
  {
   "cell_type": "code",
   "execution_count": 122,
   "id": "78df027a",
   "metadata": {},
   "outputs": [
    {
     "data": {
      "text/plain": [
       "[1, 2, 3, 4, 5, 6, 7, 8, 9, 10]"
      ]
     },
     "execution_count": 122,
     "metadata": {},
     "output_type": "execute_result"
    }
   ],
   "source": [
    "list(range(1,11))"
   ]
  },
  {
   "cell_type": "code",
   "execution_count": 123,
   "id": "5b86df63",
   "metadata": {},
   "outputs": [
    {
     "data": {
      "text/plain": [
       "[2, 4, 6, 8, 10]"
      ]
     },
     "execution_count": 123,
     "metadata": {},
     "output_type": "execute_result"
    }
   ],
   "source": [
    "# Q1 slide 178\n",
    "n_list = list(range(1,11))\n",
    "\n",
    "even_list = []\n",
    "for n in filter(lambda x:x%2==0 ,n_list):\n",
    "    even_list.append(n)\n",
    "\n",
    "even_list"
   ]
  },
  {
   "cell_type": "code",
   "execution_count": 124,
   "id": "60ba9df1",
   "metadata": {},
   "outputs": [
    {
     "data": {
      "text/plain": [
       "[2, 4, 6, 8, 10]"
      ]
     },
     "execution_count": 124,
     "metadata": {},
     "output_type": "execute_result"
    }
   ],
   "source": [
    "# Q2\n",
    "even_list = list(filter(lambda x:x%2==0 ,n_list))\n",
    "even_list"
   ]
  },
  {
   "cell_type": "code",
   "execution_count": 125,
   "id": "be8f9034",
   "metadata": {},
   "outputs": [
    {
     "data": {
      "text/plain": [
       "5050"
      ]
     },
     "execution_count": 125,
     "metadata": {},
     "output_type": "execute_result"
    }
   ],
   "source": [
    "# Q4\n",
    "\n",
    "reduce(lambda x,y:x+y, range(1,101))"
   ]
  },
  {
   "cell_type": "code",
   "execution_count": 126,
   "id": "934f71f2",
   "metadata": {},
   "outputs": [
    {
     "data": {
      "text/plain": [
       "3452"
      ]
     },
     "execution_count": 126,
     "metadata": {},
     "output_type": "execute_result"
    }
   ],
   "source": [
    "reduce(lambda x,y:x*10+y, [3,4,5,2])"
   ]
  },
  {
   "cell_type": "code",
   "execution_count": 144,
   "id": "bf507e77",
   "metadata": {},
   "outputs": [
    {
     "name": "stdout",
     "output_type": "stream",
     "text": [
      "Introduce 2 números: doce 5\n",
      "Un número no es correcto\n",
      "Esto sale siempre\n"
     ]
    }
   ],
   "source": [
    "try:\n",
    "    a,b = map(int,input('Introduce 2 números: ').split())\n",
    "    c = a//b\n",
    "    print(f'{a} entre {b} da {c}')\n",
    "except ZeroDivisionError:\n",
    "    print(\"El segundo número no puede ser cero\")\n",
    "except ValueError:\n",
    "    print(\"Un número no es correcto\")\n",
    "finally:\n",
    "    print(\"Esto sale siempre\")"
   ]
  },
  {
   "cell_type": "code",
   "execution_count": 132,
   "id": "e8681529",
   "metadata": {},
   "outputs": [],
   "source": [
    "a,b = map(int,[\"12\",\"25\"])"
   ]
  },
  {
   "cell_type": "code",
   "execution_count": 138,
   "id": "7c4e3ce2",
   "metadata": {},
   "outputs": [
    {
     "ename": "ValueError",
     "evalue": "invalid literal for int() with base 10: 'hola'",
     "output_type": "error",
     "traceback": [
      "\u001b[1;31m---------------------------------------------------------------------------\u001b[0m",
      "\u001b[1;31mValueError\u001b[0m                                Traceback (most recent call last)",
      "Cell \u001b[1;32mIn[138], line 1\u001b[0m\n\u001b[1;32m----> 1\u001b[0m \u001b[38;5;28;43mint\u001b[39;49m\u001b[43m(\u001b[49m\u001b[38;5;124;43m\"\u001b[39;49m\u001b[38;5;124;43mhola\u001b[39;49m\u001b[38;5;124;43m\"\u001b[39;49m\u001b[43m)\u001b[49m\n",
      "\u001b[1;31mValueError\u001b[0m: invalid literal for int() with base 10: 'hola'"
     ]
    }
   ],
   "source": [
    "int(\"hola\")"
   ]
  },
  {
   "cell_type": "code",
   "execution_count": 145,
   "id": "9d8f6255",
   "metadata": {},
   "outputs": [
    {
     "data": {
      "text/plain": [
       "[0, 4, 16, 36, 64]"
      ]
     },
     "execution_count": 145,
     "metadata": {},
     "output_type": "execute_result"
    }
   ],
   "source": [
    "[x**2 for x in range(10) if x%2==0] # comprehension list / lista intensional"
   ]
  },
  {
   "cell_type": "code",
   "execution_count": 146,
   "id": "be7e32cf",
   "metadata": {},
   "outputs": [
    {
     "data": {
      "text/plain": [
       "{0, 4, 16, 36, 64}"
      ]
     },
     "execution_count": 146,
     "metadata": {},
     "output_type": "execute_result"
    }
   ],
   "source": [
    "{x**2 for x in range(10) if x%2==0} # conjunto"
   ]
  },
  {
   "cell_type": "code",
   "execution_count": 147,
   "id": "859658fe",
   "metadata": {},
   "outputs": [
    {
     "data": {
      "text/plain": [
       "{0: 0, 2: 4, 4: 16, 6: 36, 8: 64}"
      ]
     },
     "execution_count": 147,
     "metadata": {},
     "output_type": "execute_result"
    }
   ],
   "source": [
    "{x:x**2 for x in range(10) if x%2==0} # diccionario"
   ]
  },
  {
   "cell_type": "code",
   "execution_count": 148,
   "id": "a827066c",
   "metadata": {},
   "outputs": [
    {
     "data": {
      "text/plain": [
       "<generator object <genexpr> at 0x000002217F773CA0>"
      ]
     },
     "execution_count": 148,
     "metadata": {},
     "output_type": "execute_result"
    }
   ],
   "source": [
    "(x**2 for x in range(10) if x%2==0)"
   ]
  },
  {
   "cell_type": "code",
   "execution_count": 149,
   "id": "5f8d6221",
   "metadata": {},
   "outputs": [
    {
     "data": {
      "text/plain": [
       "(0, 4, 16, 36, 64)"
      ]
     },
     "execution_count": 149,
     "metadata": {},
     "output_type": "execute_result"
    }
   ],
   "source": [
    "tuple(x**2 for x in range(10) if x%2==0)"
   ]
  },
  {
   "cell_type": "code",
   "execution_count": 150,
   "id": "a3578d7e",
   "metadata": {},
   "outputs": [
    {
     "data": {
      "text/plain": [
       "120"
      ]
     },
     "execution_count": 150,
     "metadata": {},
     "output_type": "execute_result"
    }
   ],
   "source": [
    "sum(x**2 for x in range(10) if x%2==0) # sin corchetes"
   ]
  },
  {
   "cell_type": "code",
   "execution_count": 151,
   "id": "d2ad1936",
   "metadata": {},
   "outputs": [
    {
     "data": {
      "text/plain": [
       "120"
      ]
     },
     "execution_count": 151,
     "metadata": {},
     "output_type": "execute_result"
    }
   ],
   "source": [
    "sum([x**2 for x in range(10) if x%2==0]) # con corchetes"
   ]
  },
  {
   "cell_type": "code",
   "execution_count": 154,
   "id": "1dba2e1a",
   "metadata": {},
   "outputs": [
    {
     "data": {
      "text/plain": [
       "['00:00',\n",
       " '00:01',\n",
       " '00:02',\n",
       " '00:03',\n",
       " '00:04',\n",
       " '00:05',\n",
       " '00:06',\n",
       " '00:07',\n",
       " '00:08',\n",
       " '00:09',\n",
       " '00:10',\n",
       " '00:11',\n",
       " '00:12',\n",
       " '00:13',\n",
       " '00:14',\n",
       " '00:15',\n",
       " '00:16',\n",
       " '00:17',\n",
       " '00:18',\n",
       " '00:19',\n",
       " '00:20',\n",
       " '00:21',\n",
       " '00:22',\n",
       " '00:23',\n",
       " '00:24',\n",
       " '00:25',\n",
       " '00:26',\n",
       " '00:27',\n",
       " '00:28',\n",
       " '00:29',\n",
       " '00:30',\n",
       " '00:31',\n",
       " '00:32',\n",
       " '00:33',\n",
       " '00:34',\n",
       " '00:35',\n",
       " '00:36',\n",
       " '00:37',\n",
       " '00:38',\n",
       " '00:39',\n",
       " '00:40',\n",
       " '00:41',\n",
       " '00:42',\n",
       " '00:43',\n",
       " '00:44',\n",
       " '00:45',\n",
       " '00:46',\n",
       " '00:47',\n",
       " '00:48',\n",
       " '00:49',\n",
       " '00:50',\n",
       " '00:51',\n",
       " '00:52',\n",
       " '00:53',\n",
       " '00:54',\n",
       " '00:55',\n",
       " '00:56',\n",
       " '00:57',\n",
       " '00:58',\n",
       " '00:59',\n",
       " '01:00',\n",
       " '01:01',\n",
       " '01:02',\n",
       " '01:03',\n",
       " '01:04',\n",
       " '01:05',\n",
       " '01:06',\n",
       " '01:07',\n",
       " '01:08',\n",
       " '01:09',\n",
       " '01:10',\n",
       " '01:11',\n",
       " '01:12',\n",
       " '01:13',\n",
       " '01:14',\n",
       " '01:15',\n",
       " '01:16',\n",
       " '01:17',\n",
       " '01:18',\n",
       " '01:19',\n",
       " '01:20',\n",
       " '01:21',\n",
       " '01:22',\n",
       " '01:23',\n",
       " '01:24',\n",
       " '01:25',\n",
       " '01:26',\n",
       " '01:27',\n",
       " '01:28',\n",
       " '01:29',\n",
       " '01:30',\n",
       " '01:31',\n",
       " '01:32',\n",
       " '01:33',\n",
       " '01:34',\n",
       " '01:35',\n",
       " '01:36',\n",
       " '01:37',\n",
       " '01:38',\n",
       " '01:39',\n",
       " '01:40',\n",
       " '01:41',\n",
       " '01:42',\n",
       " '01:43',\n",
       " '01:44',\n",
       " '01:45',\n",
       " '01:46',\n",
       " '01:47',\n",
       " '01:48',\n",
       " '01:49',\n",
       " '01:50',\n",
       " '01:51',\n",
       " '01:52',\n",
       " '01:53',\n",
       " '01:54',\n",
       " '01:55',\n",
       " '01:56',\n",
       " '01:57',\n",
       " '01:58',\n",
       " '01:59',\n",
       " '02:00',\n",
       " '02:01',\n",
       " '02:02',\n",
       " '02:03',\n",
       " '02:04',\n",
       " '02:05',\n",
       " '02:06',\n",
       " '02:07',\n",
       " '02:08',\n",
       " '02:09',\n",
       " '02:10',\n",
       " '02:11',\n",
       " '02:12',\n",
       " '02:13',\n",
       " '02:14',\n",
       " '02:15',\n",
       " '02:16',\n",
       " '02:17',\n",
       " '02:18',\n",
       " '02:19',\n",
       " '02:20',\n",
       " '02:21',\n",
       " '02:22',\n",
       " '02:23',\n",
       " '02:24',\n",
       " '02:25',\n",
       " '02:26',\n",
       " '02:27',\n",
       " '02:28',\n",
       " '02:29',\n",
       " '02:30',\n",
       " '02:31',\n",
       " '02:32',\n",
       " '02:33',\n",
       " '02:34',\n",
       " '02:35',\n",
       " '02:36',\n",
       " '02:37',\n",
       " '02:38',\n",
       " '02:39',\n",
       " '02:40',\n",
       " '02:41',\n",
       " '02:42',\n",
       " '02:43',\n",
       " '02:44',\n",
       " '02:45',\n",
       " '02:46',\n",
       " '02:47',\n",
       " '02:48',\n",
       " '02:49',\n",
       " '02:50',\n",
       " '02:51',\n",
       " '02:52',\n",
       " '02:53',\n",
       " '02:54',\n",
       " '02:55',\n",
       " '02:56',\n",
       " '02:57',\n",
       " '02:58',\n",
       " '02:59',\n",
       " '03:00',\n",
       " '03:01',\n",
       " '03:02',\n",
       " '03:03',\n",
       " '03:04',\n",
       " '03:05',\n",
       " '03:06',\n",
       " '03:07',\n",
       " '03:08',\n",
       " '03:09',\n",
       " '03:10',\n",
       " '03:11',\n",
       " '03:12',\n",
       " '03:13',\n",
       " '03:14',\n",
       " '03:15',\n",
       " '03:16',\n",
       " '03:17',\n",
       " '03:18',\n",
       " '03:19',\n",
       " '03:20',\n",
       " '03:21',\n",
       " '03:22',\n",
       " '03:23',\n",
       " '03:24',\n",
       " '03:25',\n",
       " '03:26',\n",
       " '03:27',\n",
       " '03:28',\n",
       " '03:29',\n",
       " '03:30',\n",
       " '03:31',\n",
       " '03:32',\n",
       " '03:33',\n",
       " '03:34',\n",
       " '03:35',\n",
       " '03:36',\n",
       " '03:37',\n",
       " '03:38',\n",
       " '03:39',\n",
       " '03:40',\n",
       " '03:41',\n",
       " '03:42',\n",
       " '03:43',\n",
       " '03:44',\n",
       " '03:45',\n",
       " '03:46',\n",
       " '03:47',\n",
       " '03:48',\n",
       " '03:49',\n",
       " '03:50',\n",
       " '03:51',\n",
       " '03:52',\n",
       " '03:53',\n",
       " '03:54',\n",
       " '03:55',\n",
       " '03:56',\n",
       " '03:57',\n",
       " '03:58',\n",
       " '03:59',\n",
       " '04:00',\n",
       " '04:01',\n",
       " '04:02',\n",
       " '04:03',\n",
       " '04:04',\n",
       " '04:05',\n",
       " '04:06',\n",
       " '04:07',\n",
       " '04:08',\n",
       " '04:09',\n",
       " '04:10',\n",
       " '04:11',\n",
       " '04:12',\n",
       " '04:13',\n",
       " '04:14',\n",
       " '04:15',\n",
       " '04:16',\n",
       " '04:17',\n",
       " '04:18',\n",
       " '04:19',\n",
       " '04:20',\n",
       " '04:21',\n",
       " '04:22',\n",
       " '04:23',\n",
       " '04:24',\n",
       " '04:25',\n",
       " '04:26',\n",
       " '04:27',\n",
       " '04:28',\n",
       " '04:29',\n",
       " '04:30',\n",
       " '04:31',\n",
       " '04:32',\n",
       " '04:33',\n",
       " '04:34',\n",
       " '04:35',\n",
       " '04:36',\n",
       " '04:37',\n",
       " '04:38',\n",
       " '04:39',\n",
       " '04:40',\n",
       " '04:41',\n",
       " '04:42',\n",
       " '04:43',\n",
       " '04:44',\n",
       " '04:45',\n",
       " '04:46',\n",
       " '04:47',\n",
       " '04:48',\n",
       " '04:49',\n",
       " '04:50',\n",
       " '04:51',\n",
       " '04:52',\n",
       " '04:53',\n",
       " '04:54',\n",
       " '04:55',\n",
       " '04:56',\n",
       " '04:57',\n",
       " '04:58',\n",
       " '04:59',\n",
       " '05:00',\n",
       " '05:01',\n",
       " '05:02',\n",
       " '05:03',\n",
       " '05:04',\n",
       " '05:05',\n",
       " '05:06',\n",
       " '05:07',\n",
       " '05:08',\n",
       " '05:09',\n",
       " '05:10',\n",
       " '05:11',\n",
       " '05:12',\n",
       " '05:13',\n",
       " '05:14',\n",
       " '05:15',\n",
       " '05:16',\n",
       " '05:17',\n",
       " '05:18',\n",
       " '05:19',\n",
       " '05:20',\n",
       " '05:21',\n",
       " '05:22',\n",
       " '05:23',\n",
       " '05:24',\n",
       " '05:25',\n",
       " '05:26',\n",
       " '05:27',\n",
       " '05:28',\n",
       " '05:29',\n",
       " '05:30',\n",
       " '05:31',\n",
       " '05:32',\n",
       " '05:33',\n",
       " '05:34',\n",
       " '05:35',\n",
       " '05:36',\n",
       " '05:37',\n",
       " '05:38',\n",
       " '05:39',\n",
       " '05:40',\n",
       " '05:41',\n",
       " '05:42',\n",
       " '05:43',\n",
       " '05:44',\n",
       " '05:45',\n",
       " '05:46',\n",
       " '05:47',\n",
       " '05:48',\n",
       " '05:49',\n",
       " '05:50',\n",
       " '05:51',\n",
       " '05:52',\n",
       " '05:53',\n",
       " '05:54',\n",
       " '05:55',\n",
       " '05:56',\n",
       " '05:57',\n",
       " '05:58',\n",
       " '05:59',\n",
       " '06:00',\n",
       " '06:01',\n",
       " '06:02',\n",
       " '06:03',\n",
       " '06:04',\n",
       " '06:05',\n",
       " '06:06',\n",
       " '06:07',\n",
       " '06:08',\n",
       " '06:09',\n",
       " '06:10',\n",
       " '06:11',\n",
       " '06:12',\n",
       " '06:13',\n",
       " '06:14',\n",
       " '06:15',\n",
       " '06:16',\n",
       " '06:17',\n",
       " '06:18',\n",
       " '06:19',\n",
       " '06:20',\n",
       " '06:21',\n",
       " '06:22',\n",
       " '06:23',\n",
       " '06:24',\n",
       " '06:25',\n",
       " '06:26',\n",
       " '06:27',\n",
       " '06:28',\n",
       " '06:29',\n",
       " '06:30',\n",
       " '06:31',\n",
       " '06:32',\n",
       " '06:33',\n",
       " '06:34',\n",
       " '06:35',\n",
       " '06:36',\n",
       " '06:37',\n",
       " '06:38',\n",
       " '06:39',\n",
       " '06:40',\n",
       " '06:41',\n",
       " '06:42',\n",
       " '06:43',\n",
       " '06:44',\n",
       " '06:45',\n",
       " '06:46',\n",
       " '06:47',\n",
       " '06:48',\n",
       " '06:49',\n",
       " '06:50',\n",
       " '06:51',\n",
       " '06:52',\n",
       " '06:53',\n",
       " '06:54',\n",
       " '06:55',\n",
       " '06:56',\n",
       " '06:57',\n",
       " '06:58',\n",
       " '06:59',\n",
       " '07:00',\n",
       " '07:01',\n",
       " '07:02',\n",
       " '07:03',\n",
       " '07:04',\n",
       " '07:05',\n",
       " '07:06',\n",
       " '07:07',\n",
       " '07:08',\n",
       " '07:09',\n",
       " '07:10',\n",
       " '07:11',\n",
       " '07:12',\n",
       " '07:13',\n",
       " '07:14',\n",
       " '07:15',\n",
       " '07:16',\n",
       " '07:17',\n",
       " '07:18',\n",
       " '07:19',\n",
       " '07:20',\n",
       " '07:21',\n",
       " '07:22',\n",
       " '07:23',\n",
       " '07:24',\n",
       " '07:25',\n",
       " '07:26',\n",
       " '07:27',\n",
       " '07:28',\n",
       " '07:29',\n",
       " '07:30',\n",
       " '07:31',\n",
       " '07:32',\n",
       " '07:33',\n",
       " '07:34',\n",
       " '07:35',\n",
       " '07:36',\n",
       " '07:37',\n",
       " '07:38',\n",
       " '07:39',\n",
       " '07:40',\n",
       " '07:41',\n",
       " '07:42',\n",
       " '07:43',\n",
       " '07:44',\n",
       " '07:45',\n",
       " '07:46',\n",
       " '07:47',\n",
       " '07:48',\n",
       " '07:49',\n",
       " '07:50',\n",
       " '07:51',\n",
       " '07:52',\n",
       " '07:53',\n",
       " '07:54',\n",
       " '07:55',\n",
       " '07:56',\n",
       " '07:57',\n",
       " '07:58',\n",
       " '07:59',\n",
       " '08:00',\n",
       " '08:01',\n",
       " '08:02',\n",
       " '08:03',\n",
       " '08:04',\n",
       " '08:05',\n",
       " '08:06',\n",
       " '08:07',\n",
       " '08:08',\n",
       " '08:09',\n",
       " '08:10',\n",
       " '08:11',\n",
       " '08:12',\n",
       " '08:13',\n",
       " '08:14',\n",
       " '08:15',\n",
       " '08:16',\n",
       " '08:17',\n",
       " '08:18',\n",
       " '08:19',\n",
       " '08:20',\n",
       " '08:21',\n",
       " '08:22',\n",
       " '08:23',\n",
       " '08:24',\n",
       " '08:25',\n",
       " '08:26',\n",
       " '08:27',\n",
       " '08:28',\n",
       " '08:29',\n",
       " '08:30',\n",
       " '08:31',\n",
       " '08:32',\n",
       " '08:33',\n",
       " '08:34',\n",
       " '08:35',\n",
       " '08:36',\n",
       " '08:37',\n",
       " '08:38',\n",
       " '08:39',\n",
       " '08:40',\n",
       " '08:41',\n",
       " '08:42',\n",
       " '08:43',\n",
       " '08:44',\n",
       " '08:45',\n",
       " '08:46',\n",
       " '08:47',\n",
       " '08:48',\n",
       " '08:49',\n",
       " '08:50',\n",
       " '08:51',\n",
       " '08:52',\n",
       " '08:53',\n",
       " '08:54',\n",
       " '08:55',\n",
       " '08:56',\n",
       " '08:57',\n",
       " '08:58',\n",
       " '08:59',\n",
       " '09:00',\n",
       " '09:01',\n",
       " '09:02',\n",
       " '09:03',\n",
       " '09:04',\n",
       " '09:05',\n",
       " '09:06',\n",
       " '09:07',\n",
       " '09:08',\n",
       " '09:09',\n",
       " '09:10',\n",
       " '09:11',\n",
       " '09:12',\n",
       " '09:13',\n",
       " '09:14',\n",
       " '09:15',\n",
       " '09:16',\n",
       " '09:17',\n",
       " '09:18',\n",
       " '09:19',\n",
       " '09:20',\n",
       " '09:21',\n",
       " '09:22',\n",
       " '09:23',\n",
       " '09:24',\n",
       " '09:25',\n",
       " '09:26',\n",
       " '09:27',\n",
       " '09:28',\n",
       " '09:29',\n",
       " '09:30',\n",
       " '09:31',\n",
       " '09:32',\n",
       " '09:33',\n",
       " '09:34',\n",
       " '09:35',\n",
       " '09:36',\n",
       " '09:37',\n",
       " '09:38',\n",
       " '09:39',\n",
       " '09:40',\n",
       " '09:41',\n",
       " '09:42',\n",
       " '09:43',\n",
       " '09:44',\n",
       " '09:45',\n",
       " '09:46',\n",
       " '09:47',\n",
       " '09:48',\n",
       " '09:49',\n",
       " '09:50',\n",
       " '09:51',\n",
       " '09:52',\n",
       " '09:53',\n",
       " '09:54',\n",
       " '09:55',\n",
       " '09:56',\n",
       " '09:57',\n",
       " '09:58',\n",
       " '09:59',\n",
       " '10:00',\n",
       " '10:01',\n",
       " '10:02',\n",
       " '10:03',\n",
       " '10:04',\n",
       " '10:05',\n",
       " '10:06',\n",
       " '10:07',\n",
       " '10:08',\n",
       " '10:09',\n",
       " '10:10',\n",
       " '10:11',\n",
       " '10:12',\n",
       " '10:13',\n",
       " '10:14',\n",
       " '10:15',\n",
       " '10:16',\n",
       " '10:17',\n",
       " '10:18',\n",
       " '10:19',\n",
       " '10:20',\n",
       " '10:21',\n",
       " '10:22',\n",
       " '10:23',\n",
       " '10:24',\n",
       " '10:25',\n",
       " '10:26',\n",
       " '10:27',\n",
       " '10:28',\n",
       " '10:29',\n",
       " '10:30',\n",
       " '10:31',\n",
       " '10:32',\n",
       " '10:33',\n",
       " '10:34',\n",
       " '10:35',\n",
       " '10:36',\n",
       " '10:37',\n",
       " '10:38',\n",
       " '10:39',\n",
       " '10:40',\n",
       " '10:41',\n",
       " '10:42',\n",
       " '10:43',\n",
       " '10:44',\n",
       " '10:45',\n",
       " '10:46',\n",
       " '10:47',\n",
       " '10:48',\n",
       " '10:49',\n",
       " '10:50',\n",
       " '10:51',\n",
       " '10:52',\n",
       " '10:53',\n",
       " '10:54',\n",
       " '10:55',\n",
       " '10:56',\n",
       " '10:57',\n",
       " '10:58',\n",
       " '10:59',\n",
       " '11:00',\n",
       " '11:01',\n",
       " '11:02',\n",
       " '11:03',\n",
       " '11:04',\n",
       " '11:05',\n",
       " '11:06',\n",
       " '11:07',\n",
       " '11:08',\n",
       " '11:09',\n",
       " '11:10',\n",
       " '11:11',\n",
       " '11:12',\n",
       " '11:13',\n",
       " '11:14',\n",
       " '11:15',\n",
       " '11:16',\n",
       " '11:17',\n",
       " '11:18',\n",
       " '11:19',\n",
       " '11:20',\n",
       " '11:21',\n",
       " '11:22',\n",
       " '11:23',\n",
       " '11:24',\n",
       " '11:25',\n",
       " '11:26',\n",
       " '11:27',\n",
       " '11:28',\n",
       " '11:29',\n",
       " '11:30',\n",
       " '11:31',\n",
       " '11:32',\n",
       " '11:33',\n",
       " '11:34',\n",
       " '11:35',\n",
       " '11:36',\n",
       " '11:37',\n",
       " '11:38',\n",
       " '11:39',\n",
       " '11:40',\n",
       " '11:41',\n",
       " '11:42',\n",
       " '11:43',\n",
       " '11:44',\n",
       " '11:45',\n",
       " '11:46',\n",
       " '11:47',\n",
       " '11:48',\n",
       " '11:49',\n",
       " '11:50',\n",
       " '11:51',\n",
       " '11:52',\n",
       " '11:53',\n",
       " '11:54',\n",
       " '11:55',\n",
       " '11:56',\n",
       " '11:57',\n",
       " '11:58',\n",
       " '11:59',\n",
       " '12:00',\n",
       " '12:01',\n",
       " '12:02',\n",
       " '12:03',\n",
       " '12:04',\n",
       " '12:05',\n",
       " '12:06',\n",
       " '12:07',\n",
       " '12:08',\n",
       " '12:09',\n",
       " '12:10',\n",
       " '12:11',\n",
       " '12:12',\n",
       " '12:13',\n",
       " '12:14',\n",
       " '12:15',\n",
       " '12:16',\n",
       " '12:17',\n",
       " '12:18',\n",
       " '12:19',\n",
       " '12:20',\n",
       " '12:21',\n",
       " '12:22',\n",
       " '12:23',\n",
       " '12:24',\n",
       " '12:25',\n",
       " '12:26',\n",
       " '12:27',\n",
       " '12:28',\n",
       " '12:29',\n",
       " '12:30',\n",
       " '12:31',\n",
       " '12:32',\n",
       " '12:33',\n",
       " '12:34',\n",
       " '12:35',\n",
       " '12:36',\n",
       " '12:37',\n",
       " '12:38',\n",
       " '12:39',\n",
       " '12:40',\n",
       " '12:41',\n",
       " '12:42',\n",
       " '12:43',\n",
       " '12:44',\n",
       " '12:45',\n",
       " '12:46',\n",
       " '12:47',\n",
       " '12:48',\n",
       " '12:49',\n",
       " '12:50',\n",
       " '12:51',\n",
       " '12:52',\n",
       " '12:53',\n",
       " '12:54',\n",
       " '12:55',\n",
       " '12:56',\n",
       " '12:57',\n",
       " '12:58',\n",
       " '12:59',\n",
       " '13:00',\n",
       " '13:01',\n",
       " '13:02',\n",
       " '13:03',\n",
       " '13:04',\n",
       " '13:05',\n",
       " '13:06',\n",
       " '13:07',\n",
       " '13:08',\n",
       " '13:09',\n",
       " '13:10',\n",
       " '13:11',\n",
       " '13:12',\n",
       " '13:13',\n",
       " '13:14',\n",
       " '13:15',\n",
       " '13:16',\n",
       " '13:17',\n",
       " '13:18',\n",
       " '13:19',\n",
       " '13:20',\n",
       " '13:21',\n",
       " '13:22',\n",
       " '13:23',\n",
       " '13:24',\n",
       " '13:25',\n",
       " '13:26',\n",
       " '13:27',\n",
       " '13:28',\n",
       " '13:29',\n",
       " '13:30',\n",
       " '13:31',\n",
       " '13:32',\n",
       " '13:33',\n",
       " '13:34',\n",
       " '13:35',\n",
       " '13:36',\n",
       " '13:37',\n",
       " '13:38',\n",
       " '13:39',\n",
       " '13:40',\n",
       " '13:41',\n",
       " '13:42',\n",
       " '13:43',\n",
       " '13:44',\n",
       " '13:45',\n",
       " '13:46',\n",
       " '13:47',\n",
       " '13:48',\n",
       " '13:49',\n",
       " '13:50',\n",
       " '13:51',\n",
       " '13:52',\n",
       " '13:53',\n",
       " '13:54',\n",
       " '13:55',\n",
       " '13:56',\n",
       " '13:57',\n",
       " '13:58',\n",
       " '13:59',\n",
       " '14:00',\n",
       " '14:01',\n",
       " '14:02',\n",
       " '14:03',\n",
       " '14:04',\n",
       " '14:05',\n",
       " '14:06',\n",
       " '14:07',\n",
       " '14:08',\n",
       " '14:09',\n",
       " '14:10',\n",
       " '14:11',\n",
       " '14:12',\n",
       " '14:13',\n",
       " '14:14',\n",
       " '14:15',\n",
       " '14:16',\n",
       " '14:17',\n",
       " '14:18',\n",
       " '14:19',\n",
       " '14:20',\n",
       " '14:21',\n",
       " '14:22',\n",
       " '14:23',\n",
       " '14:24',\n",
       " '14:25',\n",
       " '14:26',\n",
       " '14:27',\n",
       " '14:28',\n",
       " '14:29',\n",
       " '14:30',\n",
       " '14:31',\n",
       " '14:32',\n",
       " '14:33',\n",
       " '14:34',\n",
       " '14:35',\n",
       " '14:36',\n",
       " '14:37',\n",
       " '14:38',\n",
       " '14:39',\n",
       " '14:40',\n",
       " '14:41',\n",
       " '14:42',\n",
       " '14:43',\n",
       " '14:44',\n",
       " '14:45',\n",
       " '14:46',\n",
       " '14:47',\n",
       " '14:48',\n",
       " '14:49',\n",
       " '14:50',\n",
       " '14:51',\n",
       " '14:52',\n",
       " '14:53',\n",
       " '14:54',\n",
       " '14:55',\n",
       " '14:56',\n",
       " '14:57',\n",
       " '14:58',\n",
       " '14:59',\n",
       " '15:00',\n",
       " '15:01',\n",
       " '15:02',\n",
       " '15:03',\n",
       " '15:04',\n",
       " '15:05',\n",
       " '15:06',\n",
       " '15:07',\n",
       " '15:08',\n",
       " '15:09',\n",
       " '15:10',\n",
       " '15:11',\n",
       " '15:12',\n",
       " '15:13',\n",
       " '15:14',\n",
       " '15:15',\n",
       " '15:16',\n",
       " '15:17',\n",
       " '15:18',\n",
       " '15:19',\n",
       " '15:20',\n",
       " '15:21',\n",
       " '15:22',\n",
       " '15:23',\n",
       " '15:24',\n",
       " '15:25',\n",
       " '15:26',\n",
       " '15:27',\n",
       " '15:28',\n",
       " '15:29',\n",
       " '15:30',\n",
       " '15:31',\n",
       " '15:32',\n",
       " '15:33',\n",
       " '15:34',\n",
       " '15:35',\n",
       " '15:36',\n",
       " '15:37',\n",
       " '15:38',\n",
       " '15:39',\n",
       " '15:40',\n",
       " '15:41',\n",
       " '15:42',\n",
       " '15:43',\n",
       " '15:44',\n",
       " '15:45',\n",
       " '15:46',\n",
       " '15:47',\n",
       " '15:48',\n",
       " '15:49',\n",
       " '15:50',\n",
       " '15:51',\n",
       " '15:52',\n",
       " '15:53',\n",
       " '15:54',\n",
       " '15:55',\n",
       " '15:56',\n",
       " '15:57',\n",
       " '15:58',\n",
       " '15:59',\n",
       " '16:00',\n",
       " '16:01',\n",
       " '16:02',\n",
       " '16:03',\n",
       " '16:04',\n",
       " '16:05',\n",
       " '16:06',\n",
       " '16:07',\n",
       " '16:08',\n",
       " '16:09',\n",
       " '16:10',\n",
       " '16:11',\n",
       " '16:12',\n",
       " '16:13',\n",
       " '16:14',\n",
       " '16:15',\n",
       " '16:16',\n",
       " '16:17',\n",
       " '16:18',\n",
       " '16:19',\n",
       " '16:20',\n",
       " '16:21',\n",
       " '16:22',\n",
       " '16:23',\n",
       " '16:24',\n",
       " '16:25',\n",
       " '16:26',\n",
       " '16:27',\n",
       " '16:28',\n",
       " '16:29',\n",
       " '16:30',\n",
       " '16:31',\n",
       " '16:32',\n",
       " '16:33',\n",
       " '16:34',\n",
       " '16:35',\n",
       " '16:36',\n",
       " '16:37',\n",
       " '16:38',\n",
       " '16:39',\n",
       " ...]"
      ]
     },
     "execution_count": 154,
     "metadata": {},
     "output_type": "execute_result"
    }
   ],
   "source": [
    "# las listas intensionales pueden admitir bucles anidados\n",
    "\n",
    "[f'{h:02}:{m:02}' for h in range(24) for m in range(60)]\n",
    "\n"
   ]
  },
  {
   "cell_type": "code",
   "execution_count": 155,
   "id": "75111a57",
   "metadata": {},
   "outputs": [],
   "source": [
    "# ejercicio: dado el siguiente texto:\n",
    "\n",
    "texto = \"\"\"nombre color peso\n",
    "           manzana rojo 0.4\"\"\""
   ]
  },
  {
   "cell_type": "code",
   "execution_count": 156,
   "id": "08b6fbcc",
   "metadata": {},
   "outputs": [
    {
     "data": {
      "text/plain": [
       "'nombre color peso\\n           manzana rojo 0.4'"
      ]
     },
     "execution_count": 156,
     "metadata": {},
     "output_type": "execute_result"
    }
   ],
   "source": [
    "texto"
   ]
  },
  {
   "cell_type": "code",
   "execution_count": 167,
   "id": "8bf2eebb",
   "metadata": {},
   "outputs": [
    {
     "name": "stdout",
     "output_type": "stream",
     "text": [
      "['nombre', 'color', 'peso']\n",
      "['manzana', 'rojo', '0.4']\n"
     ]
    }
   ],
   "source": [
    "#  pide agrupar ('nombre','manzana'), etc\n",
    "\n",
    "for frase in texto.split('\\n'):\n",
    "    print(frase.strip().split(' '))"
   ]
  },
  {
   "cell_type": "code",
   "execution_count": 176,
   "id": "3de80f1d",
   "metadata": {},
   "outputs": [
    {
     "data": {
      "text/plain": [
       "(('nombre', 'manzana'), ('color', 'rojo'), ('peso', '0.4'))"
      ]
     },
     "execution_count": 176,
     "metadata": {},
     "output_type": "execute_result"
    }
   ],
   "source": [
    "tuple(zip(*[frase.strip().split(' ') for frase in texto.split('\\n')]))"
   ]
  },
  {
   "cell_type": "code",
   "execution_count": null,
   "id": "2c367071",
   "metadata": {},
   "outputs": [],
   "source": []
  }
 ],
 "metadata": {
  "kernelspec": {
   "display_name": "Python 3 (ipykernel)",
   "language": "python",
   "name": "python3"
  },
  "language_info": {
   "codemirror_mode": {
    "name": "ipython",
    "version": 3
   },
   "file_extension": ".py",
   "mimetype": "text/x-python",
   "name": "python",
   "nbconvert_exporter": "python",
   "pygments_lexer": "ipython3",
   "version": "3.10.11"
  }
 },
 "nbformat": 4,
 "nbformat_minor": 5
}
