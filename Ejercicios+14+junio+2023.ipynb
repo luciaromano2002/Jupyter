{
 "cells": [
  {
   "cell_type": "markdown",
   "id": "36c95416",
   "metadata": {},
   "source": [
    "# Ejercicios (14 junio 2023)"
   ]
  },
  {
   "cell_type": "markdown",
   "id": "09deda9f",
   "metadata": {},
   "source": [
    "### Ejercicio 1\n",
    "\n",
    "Haz un programa que pida el nombre y a continuación salude subrayando el nombre:\n",
    "\n",
    "```\n",
    "¿Cómo te llamas? María\n",
    "Hola María\n",
    "     *****\n",
    "```"
   ]
  },
  {
   "cell_type": "code",
   "execution_count": 2,
   "id": "a6a1d1d4",
   "metadata": {},
   "outputs": [
    {
     "name": "stdout",
     "output_type": "stream",
     "text": [
      "¿Cómo te llamas? María\n",
      "Hola María\n",
      "     *****\n"
     ]
    }
   ],
   "source": []
  },
  {
   "cell_type": "markdown",
   "id": "fdeeeaa8",
   "metadata": {},
   "source": [
    "### Ejercicio 2\n",
    "\n",
    "Haz un programa que pregunta la fecha de nacimiento de una persona y diga si será mayor de edad para votar el 23 de julio de 2023.\n",
    "\n",
    "La fecha de nacimiento se dará en formato AAAA-MM-DD.\n",
    "\n",
    "Ejemplos:\n",
    "\n",
    "```\n",
    "Indroduce la fecha de nacimiento AAAA-MM-DD: 2010-01-01\n",
    "Demasiado joven para votar\n",
    "```\n",
    "\n",
    "```\n",
    "Indroduce la fecha de nacimiento AAAA-MM-DD: 2005-06-30\n",
    "Puede votar\n",
    "```\n",
    "\n",
    "Pistas:\n",
    "\n",
    "- se puede utilizar `cadena.split(separador)`\n",
    "- se puede crear una tupla con las cifras y al comparar tuplas se comparan en orden *lexicográfico*, ejemplos:"
   ]
  },
  {
   "cell_type": "code",
   "execution_count": 12,
   "id": "20620298",
   "metadata": {},
   "outputs": [
    {
     "data": {
      "text/plain": [
       "True"
      ]
     },
     "execution_count": 12,
     "metadata": {},
     "output_type": "execute_result"
    }
   ],
   "source": [
    "(2,2,1) <= (2,2,3)"
   ]
  },
  {
   "cell_type": "code",
   "execution_count": 13,
   "id": "46dbfb90",
   "metadata": {},
   "outputs": [
    {
     "data": {
      "text/plain": [
       "False"
      ]
     },
     "execution_count": 13,
     "metadata": {},
     "output_type": "execute_result"
    }
   ],
   "source": [
    "(2,2,1) <= (2,2,0)"
   ]
  },
  {
   "cell_type": "code",
   "execution_count": 14,
   "id": "6a3d6c85",
   "metadata": {},
   "outputs": [
    {
     "data": {
      "text/plain": [
       "False"
      ]
     },
     "execution_count": 14,
     "metadata": {},
     "output_type": "execute_result"
    }
   ],
   "source": [
    "(3,0,0) <= (2,10,10)"
   ]
  },
  {
   "cell_type": "code",
   "execution_count": 10,
   "id": "83b1f8fe",
   "metadata": {},
   "outputs": [
    {
     "name": "stdout",
     "output_type": "stream",
     "text": [
      "Indroduce la fecha de nacimiento AAAA-MM-DD: 2005-06-30\n",
      "Puede votar\n"
     ]
    }
   ],
   "source": []
  },
  {
   "cell_type": "code",
   "execution_count": null,
   "id": "9822bcd2",
   "metadata": {},
   "outputs": [],
   "source": []
  },
  {
   "cell_type": "markdown",
   "id": "1811bb3b",
   "metadata": {},
   "source": [
    "### Ejercicio 3\n",
    "\n",
    "Haz un programa que pida la hora de entrada en un parking (HH:MM) y la hora de salida (HH:MM) suponiendo que son en el mismo día. Debe calcular el número de minutos transcurridos y el precio a pagar sabiendo que:\n",
    "\n",
    "- Si la hora de salida es anterior debe imprimir ERROR.\n",
    "- Una estancia de menos de 30 minutos es gratuita.\n",
    "- A partir de 30 minutos cuesta 0.50 la primera hora transcurrida y 0.02 el minuto lo que pase de esa hora."
   ]
  },
  {
   "cell_type": "code",
   "execution_count": null,
   "id": "0905320d",
   "metadata": {},
   "outputs": [],
   "source": []
  }
 ],
 "metadata": {
  "kernelspec": {
   "display_name": "Python 3 (ipykernel)",
   "language": "python",
   "name": "python3"
  },
  "language_info": {
   "codemirror_mode": {
    "name": "ipython",
    "version": 3
   },
   "file_extension": ".py",
   "mimetype": "text/x-python",
   "name": "python",
   "nbconvert_exporter": "python",
   "pygments_lexer": "ipython3",
   "version": "3.10.6"
  }
 },
 "nbformat": 4,
 "nbformat_minor": 5
}
